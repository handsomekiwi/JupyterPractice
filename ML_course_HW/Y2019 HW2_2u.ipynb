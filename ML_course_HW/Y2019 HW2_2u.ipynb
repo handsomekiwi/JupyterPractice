{
  "nbformat": 4,
  "nbformat_minor": 0,
  "metadata": {
    "colab": {
      "name": "Untitled4.ipynb",
      "version": "0.3.2",
      "provenance": [],
      "include_colab_link": true
    },
    "kernelspec": {
      "name": "python3",
      "display_name": "Python 3"
    }
  },
  "cells": [
    {
      "cell_type": "markdown",
      "metadata": {
        "id": "view-in-github",
        "colab_type": "text"
      },
      "source": [
        "<a href=\"https://colab.research.google.com/github/handsomekiwi/JupyterPractice/blob/master/ML_course_HW/Y2019%20HW2_2u.ipynb\" target=\"_parent\"><img src=\"https://colab.research.google.com/assets/colab-badge.svg\" alt=\"Open In Colab\"/></a>"
      ]
    },
    {
      "cell_type": "code",
      "metadata": {
        "id": "vokkp0Z8sAcV",
        "colab_type": "code",
        "outputId": "64d5f72a-b14b-46ae-d8e7-11cc4b87de24",
        "colab": {
          "base_uri": "https://localhost:8080/",
          "height": 313
        }
      },
      "source": [
        "import matplotlib.pyplot as plt\n",
        "import numpy as np  \n",
        "times = 1000\n",
        "positive_p = 0.7\n",
        "negative_p = 1-positive_p\n",
        "front_count = 1000*positive_p\n",
        "back_count = 1000*negative_p \n",
        "X1 = ['Front', 'Back']\n",
        "Y1 = [front_count, back_count]\n",
        "plt.ylabel('count',)\n",
        "plt.xlabel('which side')\n",
        "plt.bar(X1, Y1)\n",
        "plt.title('Bernoulli distribution')\n"
      ],
      "execution_count": 36,
      "outputs": [
        {
          "output_type": "execute_result",
          "data": {
            "text/plain": [
              "Text(0.5, 1.0, 'Bernoulli distribution')"
            ]
          },
          "metadata": {
            "tags": []
          },
          "execution_count": 36
        },
        {
          "output_type": "display_data",
          "data": {
            "image/png": "[encoded data removed]",
            "text/plain": [
              "<Figure size 432x288 with 1 Axes>"
            ]
          },
          "metadata": {
            "tags": []
          }
        }
      ]
    },
    {
      "cell_type": "code",
      "metadata": {
        "colab_type": "code",
        "outputId": "7819971d-2ca2-4d92-ef50-fafae648f758",
        "id": "r4DrL4cNpHOp",
        "colab": {
          "base_uri": "https://localhost:8080/",
          "height": 531
        }
      },
      "source": [
        "from scipy.special import comb, perm\n",
        "import math\n",
        "\n",
        "con_1=comb(5, 5)*round(times*math.pow(negative_p,5),2)\n",
        "con_2=comb(5, 4)*round(times*math.pow(negative_p,4)*math.pow(positive_p,1),2)\n",
        "con_3=comb(5, 3)*round(times*math.pow(negative_p,3)*math.pow(positive_p,2),2)\n",
        "con_4=comb(5, 2)*round(times*math.pow(negative_p,2)*math.pow(positive_p,3),2)\n",
        "con_5=comb(5, 1)*round(times*math.pow(negative_p,1)*math.pow(positive_p,4),2)\n",
        "con_6=comb(5, 0)*round(times*math.pow(positive_p,5),2)\n",
        "#print(con_5+con_4+con_3+con_2+con_1+con_6)\n",
        "X2 = ['5Back','4Back1Front','3Back2Front','2Back3Front','1Back4Front','5Front']\n",
        "Y2 = [con_1,con_2,con_3,con_4,con_5,con_6]\n",
        "plt.figure(figsize=(12,8))#調整大小\n",
        "plt.ylabel('count',)\n",
        "plt.xlabel('condition')\n",
        "plt.bar(X2, Y2)\n",
        "\n",
        "plt.title('binomial distribution')"
      ],
      "execution_count": 46,
      "outputs": [
        {
          "output_type": "execute_result",
          "data": {
            "text/plain": [
              "Text(0.5, 1.0, 'binomial distribution')"
            ]
          },
          "metadata": {
            "tags": []
          },
          "execution_count": 46
        },
        {
          "output_type": "display_data",
          "data": {
            "image/png": "[encoded data removed]",
            "text/plain": [
              "<Figure size 864x576 with 1 Axes>"
            ]
          },
          "metadata": {
            "tags": []
          }
        }
      ]
    }
  ]
}