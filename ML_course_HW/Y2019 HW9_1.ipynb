{
  "nbformat": 4,
  "nbformat_minor": 0,
  "metadata": {
    "colab": {
      "name": "Untitled8.ipynb",
      "version": "0.3.2",
      "provenance": [],
      "include_colab_link": true
    },
    "kernelspec": {
      "name": "python3",
      "display_name": "Python 3"
    },
    "accelerator": "GPU"
  },
  "cells": [
    {
      "cell_type": "markdown",
      "metadata": {
        "id": "view-in-github",
        "colab_type": "text"
      },
      "source": [
        "<a href=\"https://colab.research.google.com/github/handsomekiwi/JupyterPractice/blob/master/ML_course_HW/Y2019%20HW9_1.ipynb\" target=\"_parent\"><img src=\"https://colab.research.google.com/assets/colab-badge.svg\" alt=\"Open In Colab\"/></a>"
      ]
    },
    {
      "cell_type": "code",
      "metadata": {
        "id": "WxsXZgP2hqbP",
        "colab_type": "code",
        "colab": {
          "base_uri": "https://localhost:8080/",
          "height": 35
        },
        "outputId": "c08a6e5d-ae45-4531-dd7e-92bb4ebe60a2"
      },
      "source": [
        "from keras.datasets import mnist  \n",
        "from keras.utils import np_utils  \n",
        "import numpy as np  \n",
        "import matplotlib.pyplot as plt \n",
        "from keras.models import Sequential  \n",
        "from keras.layers import Dense,Dropout,Flatten,Conv2D,MaxPooling2D\n",
        "import os  "
      ],
      "execution_count": 1,
      "outputs": [
        {
          "output_type": "stream",
          "text": [
            "Using TensorFlow backend.\n"
          ],
          "name": "stderr"
        }
      ]
    },
    {
      "cell_type": "code",
      "metadata": {
        "id": "cknA8IfZh9of",
        "colab_type": "code",
        "colab": {}
      },
      "source": [
        "def isDisplayAvl():  \n",
        "    return 'DISPLAY' in os.environ.keys()  "
      ],
      "execution_count": 0,
      "outputs": []
    },
    {
      "cell_type": "code",
      "metadata": {
        "id": "HpLI78qaiDg2",
        "colab_type": "code",
        "colab": {}
      },
      "source": [
        "def plot_images_labels_predict(images, labels, prediction, idx, num=10):  \n",
        "    fig = plt.gcf()  \n",
        "    fig.set_size_inches(12, 14)  \n",
        "    if num > 25: num = 25  \n",
        "    for i in range(0, num):  \n",
        "        ax=plt.subplot(5,5, 1+i)  \n",
        "        ax.imshow(images[idx], cmap='binary')  \n",
        "        title = \"l=\" + str(labels[idx])  \n",
        "        if len(prediction) > 0:  \n",
        "            title = \"l={},p={}\".format(str(labels[idx]), str(prediction[idx]))  \n",
        "        else:  \n",
        "            title = \"l={}\".format(str(labels[idx]))  \n",
        "        ax.set_title(title, fontsize=10)  \n",
        "        ax.set_xticks([]); ax.set_yticks([])  \n",
        "        idx+=1  \n",
        "    plt.show()  \n",
        "  "
      ],
      "execution_count": 0,
      "outputs": []
    },
    {
      "cell_type": "code",
      "metadata": {
        "id": "w2PugzB1iE4x",
        "colab_type": "code",
        "colab": {}
      },
      "source": [
        "def show_train_history(train_history, train, validation):  \n",
        "    plt.plot(train_history.history[train])  \n",
        "    plt.plot(train_history.history[validation])  \n",
        "    plt.title('Train History')  \n",
        "    plt.ylabel(train)  \n",
        "    plt.xlabel('Epoch')  \n",
        "    plt.legend(['train', 'validation'], loc='upper left')  \n",
        "    plt.show()  "
      ],
      "execution_count": 0,
      "outputs": []
    },
    {
      "cell_type": "code",
      "metadata": {
        "id": "JJc7ZlKniHqV",
        "colab_type": "code",
        "colab": {}
      },
      "source": [
        "np.random.seed(10)  "
      ],
      "execution_count": 0,
      "outputs": []
    },
    {
      "cell_type": "code",
      "metadata": {
        "id": "rW6YZEzaiM0k",
        "colab_type": "code",
        "colab": {
          "base_uri": "https://localhost:8080/",
          "height": 52
        },
        "outputId": "5c5154ae-e980-424b-ee72-03a20702dc13"
      },
      "source": [
        "# Read MNIST data  \n",
        "(X_Train, y_Train), (X_Test, y_Test) = mnist.load_data()  "
      ],
      "execution_count": 6,
      "outputs": [
        {
          "output_type": "stream",
          "text": [
            "Downloading data from https://s3.amazonaws.com/img-datasets/mnist.npz\n",
            "11493376/11490434 [==============================] - 2s 0us/step\n"
          ],
          "name": "stdout"
        }
      ]
    },
    {
      "cell_type": "code",
      "metadata": {
        "id": "v4PjB0aAiPfw",
        "colab_type": "code",
        "colab": {}
      },
      "source": [
        "# Translation of data  \n",
        "X_Train40 = X_Train.reshape(X_Train.shape[0], 28, 28, 1).astype('float32')  \n",
        "X_Test40 = X_Test.reshape(X_Test.shape[0], 28, 28, 1).astype('float32') "
      ],
      "execution_count": 0,
      "outputs": []
    },
    {
      "cell_type": "code",
      "metadata": {
        "id": "oCeARVZdiUv5",
        "colab_type": "code",
        "colab": {}
      },
      "source": [
        "# Standardize feature data  \n",
        "X_Train40_norm = X_Train40 / 255  \n",
        "X_Test40_norm = X_Test40 /255  "
      ],
      "execution_count": 0,
      "outputs": []
    },
    {
      "cell_type": "code",
      "metadata": {
        "id": "Uijoce1liY6Q",
        "colab_type": "code",
        "colab": {}
      },
      "source": [
        "# Label Onehot-encoding  \n",
        "y_TrainOneHot = np_utils.to_categorical(y_Train)  \n",
        "y_TestOneHot = np_utils.to_categorical(y_Test)  "
      ],
      "execution_count": 0,
      "outputs": []
    },
    {
      "cell_type": "code",
      "metadata": {
        "id": "2zxJYCwiibXC",
        "colab_type": "code",
        "colab": {}
      },
      "source": [
        "#create the model\n",
        "model = Sequential()  \n",
        "# Create CN layer 1  \n",
        "model.add(Conv2D(filters=16,\n",
        "                 kernel_size=(3,3),\n",
        "                 padding='same',  \n",
        "                 input_shape=(28,28,1),  \n",
        "                 activation='relu')) \n",
        "\n",
        "# Create Max-Pool 1  \n",
        "model.add(MaxPooling2D(pool_size=(2,2)))  \n",
        "  \n",
        "# Create CN layer 2\n",
        "model.add(Conv2D(filters=36,  \n",
        "                 kernel_size=(3,3),  \n",
        "                 padding='same',  \n",
        "                 input_shape=(14,14,16),\n",
        "                 activation='relu')) \n",
        "  \n",
        "# Create Max-Pool 2  \n",
        "model.add(MaxPooling2D(pool_size=(2,2)))  \n",
        "\n",
        "# Add Dropout layer  \n",
        "model.add(Dropout(0.25)) \n",
        "\n",
        "model.add(Flatten())  \n",
        "\n",
        "model.add(Dense(128, activation='relu'))  \n",
        "model.add(Dropout(0.25))  \n",
        "\n",
        "model.add(Dense(10, activation='softmax'))  "
      ],
      "execution_count": 0,
      "outputs": []
    },
    {
      "cell_type": "code",
      "metadata": {
        "id": "meHevme_i6da",
        "colab_type": "code",
        "colab": {
          "base_uri": "https://localhost:8080/",
          "height": 479
        },
        "outputId": "18258a9f-713a-4a78-c101-9ed5704397b5"
      },
      "source": [
        "#show the model\n",
        "model.summary()  \n",
        "print(\"\")  "
      ],
      "execution_count": 25,
      "outputs": [
        {
          "output_type": "stream",
          "text": [
            "_________________________________________________________________\n",
            "Layer (type)                 Output Shape              Param #   \n",
            "=================================================================\n",
            "conv2d_6 (Conv2D)            (None, 28, 28, 16)        160       \n",
            "_________________________________________________________________\n",
            "max_pooling2d_5 (MaxPooling2 (None, 14, 14, 16)        0         \n",
            "_________________________________________________________________\n",
            "conv2d_7 (Conv2D)            (None, 14, 14, 36)        5220      \n",
            "_________________________________________________________________\n",
            "max_pooling2d_6 (MaxPooling2 (None, 7, 7, 36)          0         \n",
            "_________________________________________________________________\n",
            "dropout_5 (Dropout)          (None, 7, 7, 36)          0         \n",
            "_________________________________________________________________\n",
            "flatten_3 (Flatten)          (None, 1764)              0         \n",
            "_________________________________________________________________\n",
            "dense_5 (Dense)              (None, 128)               225920    \n",
            "_________________________________________________________________\n",
            "dropout_6 (Dropout)          (None, 128)               0         \n",
            "_________________________________________________________________\n",
            "dense_6 (Dense)              (None, 10)                1290      \n",
            "=================================================================\n",
            "Total params: 232,590\n",
            "Trainable params: 232,590\n",
            "Non-trainable params: 0\n",
            "_________________________________________________________________\n",
            "\n"
          ],
          "name": "stdout"
        }
      ]
    },
    {
      "cell_type": "code",
      "metadata": {
        "id": "PoqjpsYbi-wO",
        "colab_type": "code",
        "colab": {}
      },
      "source": [
        "# define training method  \n",
        "model.compile(loss='categorical_crossentropy', optimizer='adam', metrics=['accuracy'])  "
      ],
      "execution_count": 0,
      "outputs": []
    },
    {
      "cell_type": "code",
      "metadata": {
        "id": "LvRQ3is_jDoH",
        "colab_type": "code",
        "colab": {
          "base_uri": "https://localhost:8080/",
          "height": 390
        },
        "outputId": "0b8c3dec-b187-4cc8-c93f-1a02e9514328"
      },
      "source": [
        "# start training\n",
        "train_history = model.fit(x=X_Train40_norm,  \n",
        "                          y=y_TrainOneHot, validation_split=0.2,  \n",
        "                          epochs=10, batch_size=300, verbose=2) "
      ],
      "execution_count": 27,
      "outputs": [
        {
          "output_type": "stream",
          "text": [
            "Train on 48000 samples, validate on 12000 samples\n",
            "Epoch 1/10\n",
            " - 3s - loss: 0.5072 - acc: 0.8466 - val_loss: 0.1221 - val_acc: 0.9657\n",
            "Epoch 2/10\n",
            " - 2s - loss: 0.1334 - acc: 0.9591 - val_loss: 0.0728 - val_acc: 0.9788\n",
            "Epoch 3/10\n",
            " - 2s - loss: 0.0913 - acc: 0.9721 - val_loss: 0.0581 - val_acc: 0.9835\n",
            "Epoch 4/10\n",
            " - 2s - loss: 0.0733 - acc: 0.9777 - val_loss: 0.0482 - val_acc: 0.9869\n",
            "Epoch 5/10\n",
            " - 2s - loss: 0.0627 - acc: 0.9808 - val_loss: 0.0441 - val_acc: 0.9859\n",
            "Epoch 6/10\n",
            " - 2s - loss: 0.0538 - acc: 0.9830 - val_loss: 0.0411 - val_acc: 0.9880\n",
            "Epoch 7/10\n",
            " - 2s - loss: 0.0475 - acc: 0.9851 - val_loss: 0.0389 - val_acc: 0.9883\n",
            "Epoch 8/10\n",
            " - 2s - loss: 0.0421 - acc: 0.9862 - val_loss: 0.0374 - val_acc: 0.9878\n",
            "Epoch 9/10\n",
            " - 2s - loss: 0.0396 - acc: 0.9876 - val_loss: 0.0338 - val_acc: 0.9903\n",
            "Epoch 10/10\n",
            " - 2s - loss: 0.0367 - acc: 0.9884 - val_loss: 0.0325 - val_acc: 0.9898\n"
          ],
          "name": "stdout"
        }
      ]
    },
    {
      "cell_type": "code",
      "metadata": {
        "id": "kIlbPT62jIlK",
        "colab_type": "code",
        "colab": {
          "base_uri": "https://localhost:8080/",
          "height": 295
        },
        "outputId": "3981136e-10a6-4032-e312-7ce098ea420a"
      },
      "source": [
        "show_train_history(train_history, 'acc', 'val_acc')  "
      ],
      "execution_count": 28,
      "outputs": [
        {
          "output_type": "display_data",
          "data": {
            "image/png": "[encoded data removed]",
            "text/plain": [
              "<Figure size 432x288 with 1 Axes>"
            ]
          },
          "metadata": {
            "tags": []
          }
        }
      ]
    },
    {
      "cell_type": "code",
      "metadata": {
        "id": "ymTz3ObVkN_5",
        "colab_type": "code",
        "colab": {
          "base_uri": "https://localhost:8080/",
          "height": 295
        },
        "outputId": "1447c605-56d9-400a-942c-0d7b813f3f0d"
      },
      "source": [
        "show_train_history(train_history, 'loss', 'val_loss')"
      ],
      "execution_count": 29,
      "outputs": [
        {
          "output_type": "display_data",
          "data": {
            "image/png": "[encoded data removed]",
            "text/plain": [
              "<Figure size 432x288 with 1 Axes>"
            ]
          },
          "metadata": {
            "tags": []
          }
        }
      ]
    },
    {
      "cell_type": "code",
      "metadata": {
        "id": "yZFBBDjWkUXJ",
        "colab_type": "code",
        "colab": {
          "base_uri": "https://localhost:8080/",
          "height": 70
        },
        "outputId": "ea38fcf2-79d1-4fe4-e05f-8a67b0ae6144"
      },
      "source": [
        "scores = model.evaluate(X_Test40_norm, y_TestOneHot)  \n",
        "print()  \n",
        "print(\"\\t[Info] Accuracy of testing data = {:2.1f}%\".format(scores[1]*100.0))  "
      ],
      "execution_count": 30,
      "outputs": [
        {
          "output_type": "stream",
          "text": [
            "10000/10000 [==============================] - 1s 77us/step\n",
            "\n",
            "\t[Info] Accuracy of testing data = 99.1%\n"
          ],
          "name": "stdout"
        }
      ]
    },
    {
      "cell_type": "code",
      "metadata": {
        "id": "gNmkTYTVonVI",
        "colab_type": "code",
        "colab": {
          "base_uri": "https://localhost:8080/",
          "height": 408
        },
        "outputId": "e6be0580-edf7-484c-9e0d-1dcaeb790a96"
      },
      "source": [
        "#create the model\n",
        "model = Sequential()  \n",
        "# Create CN layer 1  \n",
        "model.add(Conv2D(filters=16,\n",
        "                 kernel_size=(3,3),\n",
        "                 padding='same',  \n",
        "                 input_shape=(28,28,1),  \n",
        "                 activation='relu')) \n",
        "\n",
        "# Create Max-Pool 1  \n",
        "model.add(MaxPooling2D(pool_size=(2,2)))  \n",
        "  \n",
        "\n",
        "# Create Max-Pool 2  \n",
        "model.add(MaxPooling2D(pool_size=(2,2)))  \n",
        "\n",
        "# Add Dropout layer  \n",
        "model.add(Dropout(0.25)) \n",
        "\n",
        "model.add(Flatten())  \n",
        "\n",
        "model.add(Dropout(0.25))  \n",
        "\n",
        "model.add(Dense(10, activation='softmax'))  \n",
        "#show the model\n",
        "model.summary()  \n",
        "print(\"\")  "
      ],
      "execution_count": 32,
      "outputs": [
        {
          "output_type": "stream",
          "text": [
            "_________________________________________________________________\n",
            "Layer (type)                 Output Shape              Param #   \n",
            "=================================================================\n",
            "conv2d_10 (Conv2D)           (None, 28, 28, 16)        160       \n",
            "_________________________________________________________________\n",
            "max_pooling2d_9 (MaxPooling2 (None, 14, 14, 16)        0         \n",
            "_________________________________________________________________\n",
            "max_pooling2d_10 (MaxPooling (None, 7, 7, 16)          0         \n",
            "_________________________________________________________________\n",
            "dropout_9 (Dropout)          (None, 7, 7, 16)          0         \n",
            "_________________________________________________________________\n",
            "flatten_5 (Flatten)          (None, 784)               0         \n",
            "_________________________________________________________________\n",
            "dropout_10 (Dropout)         (None, 784)               0         \n",
            "_________________________________________________________________\n",
            "dense_9 (Dense)              (None, 10)                7850      \n",
            "=================================================================\n",
            "Total params: 8,010\n",
            "Trainable params: 8,010\n",
            "Non-trainable params: 0\n",
            "_________________________________________________________________\n",
            "\n"
          ],
          "name": "stdout"
        }
      ]
    },
    {
      "cell_type": "code",
      "metadata": {
        "id": "ucaLdoGTotMc",
        "colab_type": "code",
        "colab": {
          "base_uri": "https://localhost:8080/",
          "height": 390
        },
        "outputId": "89a41fc2-6868-445b-bf07-73e34585ce60"
      },
      "source": [
        "# define training method  \n",
        "model.compile(loss='categorical_crossentropy', optimizer='adam', metrics=['accuracy'])  \n",
        "# start training\n",
        "train_history = model.fit(x=X_Train40_norm,  \n",
        "                          y=y_TrainOneHot, validation_split=0.2,  \n",
        "                          epochs=10, batch_size=300, verbose=2) "
      ],
      "execution_count": 34,
      "outputs": [
        {
          "output_type": "stream",
          "text": [
            "Train on 48000 samples, validate on 12000 samples\n",
            "Epoch 1/10\n",
            " - 2s - loss: 0.1858 - acc: 0.9424 - val_loss: 0.1127 - val_acc: 0.9687\n",
            "Epoch 2/10\n",
            " - 2s - loss: 0.1766 - acc: 0.9459 - val_loss: 0.1088 - val_acc: 0.9703\n",
            "Epoch 3/10\n",
            " - 2s - loss: 0.1758 - acc: 0.9463 - val_loss: 0.1046 - val_acc: 0.9711\n",
            "Epoch 4/10\n",
            " - 2s - loss: 0.1663 - acc: 0.9474 - val_loss: 0.1013 - val_acc: 0.9714\n",
            "Epoch 5/10\n",
            " - 2s - loss: 0.1642 - acc: 0.9493 - val_loss: 0.0986 - val_acc: 0.9732\n",
            "Epoch 6/10\n",
            " - 2s - loss: 0.1599 - acc: 0.9510 - val_loss: 0.0959 - val_acc: 0.9734\n",
            "Epoch 7/10\n",
            " - 2s - loss: 0.1554 - acc: 0.9526 - val_loss: 0.0940 - val_acc: 0.9733\n",
            "Epoch 8/10\n",
            " - 2s - loss: 0.1516 - acc: 0.9536 - val_loss: 0.0913 - val_acc: 0.9751\n",
            "Epoch 9/10\n",
            " - 2s - loss: 0.1494 - acc: 0.9537 - val_loss: 0.0894 - val_acc: 0.9744\n",
            "Epoch 10/10\n",
            " - 2s - loss: 0.1460 - acc: 0.9547 - val_loss: 0.0896 - val_acc: 0.9751\n"
          ],
          "name": "stdout"
        }
      ]
    },
    {
      "cell_type": "code",
      "metadata": {
        "id": "AMGYPiXHpyHm",
        "colab_type": "code",
        "colab": {
          "base_uri": "https://localhost:8080/",
          "height": 70
        },
        "outputId": "7b298a8e-12b0-436f-af8d-4e2d7729e0db"
      },
      "source": [
        "scores = model.evaluate(X_Test40_norm, y_TestOneHot)  \n",
        "print()  \n",
        "print(\"\\t[Info] Accuracy of testing data = {:2.1f}%\".format(scores[1]*100.0))  "
      ],
      "execution_count": 35,
      "outputs": [
        {
          "output_type": "stream",
          "text": [
            "10000/10000 [==============================] - 1s 65us/step\n",
            "\n",
            "\t[Info] Accuracy of testing data = 97.6%\n"
          ],
          "name": "stdout"
        }
      ]
    }
  ]
}