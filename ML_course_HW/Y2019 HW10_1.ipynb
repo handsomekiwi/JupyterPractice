{
  "nbformat": 4,
  "nbformat_minor": 0,
  "metadata": {
    "colab": {
      "name": "Untitled8.ipynb",
      "version": "0.3.2",
      "provenance": [],
      "include_colab_link": true
    },
    "kernelspec": {
      "name": "python3",
      "display_name": "Python 3"
    },
    "accelerator": "GPU"
  },
  "cells": [
    {
      "cell_type": "markdown",
      "metadata": {
        "id": "view-in-github",
        "colab_type": "text"
      },
      "source": [
        "<a href=\"https://colab.research.google.com/github/handsomekiwi/JupyterPractice/blob/master/ML_course_HW/Y2019%20HW10_1.ipynb\" target=\"_parent\"><img src=\"https://colab.research.google.com/assets/colab-badge.svg\" alt=\"Open In Colab\"/></a>"
      ]
    },
    {
      "cell_type": "code",
      "metadata": {
        "id": "kIlbPT62jIlK",
        "colab_type": "code",
        "colab": {}
      },
      "source": [
        "import numpy as np\n",
        "from keras.datasets import cifar10\n",
        "from keras.utils import np_utils\n",
        "from keras.models import Sequential\n",
        "import matplotlib.pyplot as plt \n",
        "from keras.layers import Dense, Dropout, Activation, Flatten\n",
        "from keras.layers import Conv2D, MaxPooling2D, ZeroPadding2D, GlobalMaxPooling2D,BatchNormalization\n",
        "import os  "
      ],
      "execution_count": 0,
      "outputs": []
    },
    {
      "cell_type": "code",
      "metadata": {
        "id": "1sZ4rVBUrMlW",
        "colab_type": "code",
        "colab": {}
      },
      "source": [
        "def isDisplayAvl():  \n",
        "    return 'DISPLAY' in os.environ.keys()  "
      ],
      "execution_count": 0,
      "outputs": []
    },
    {
      "cell_type": "code",
      "metadata": {
        "id": "IiJb9cAdrWTr",
        "colab_type": "code",
        "colab": {}
      },
      "source": [
        "def plot_image(image):  \n",
        "    fig = plt.gcf()  \n",
        "    fig.set_size_inches(2,2)  \n",
        "    plt.imshow(image, cmap='binary')  \n",
        "    plt.show()  "
      ],
      "execution_count": 0,
      "outputs": []
    },
    {
      "cell_type": "code",
      "metadata": {
        "id": "EJrijvD-rbgf",
        "colab_type": "code",
        "colab": {}
      },
      "source": [
        "def plot_images_labels_predict(images, labels, prediction, idx, num=10):  \n",
        "    fig = plt.gcf()  \n",
        "    fig.set_size_inches(12, 14)  \n",
        "    if num > 25: num = 25  \n",
        "    for i in range(0, num):  \n",
        "        ax=plt.subplot(5,5, 1+i)  \n",
        "        ax.imshow(images[idx], cmap='binary')  \n",
        "        title = \"l=\" + str(labels[idx])  \n",
        "        if len(prediction) > 0:  \n",
        "            title = \"l={},p={}\".format(str(labels[idx]), str(prediction[idx]))  \n",
        "        else:  \n",
        "            title = \"l={}\".format(str(labels[idx]))  \n",
        "        ax.set_title(title, fontsize=10)  \n",
        "        ax.set_xticks([]); ax.set_yticks([])  \n",
        "        idx+=1  \n",
        "    plt.show()  "
      ],
      "execution_count": 0,
      "outputs": []
    },
    {
      "cell_type": "code",
      "metadata": {
        "id": "XT6bb5lzreCf",
        "colab_type": "code",
        "colab": {}
      },
      "source": [
        "def show_train_history(train_history, train, validation):  \n",
        "    plt.plot(train_history.history[train])  \n",
        "    plt.plot(train_history.history[validation])  \n",
        "    plt.title('Train History')  \n",
        "    plt.ylabel(train)  \n",
        "    plt.xlabel('Epoch')  \n",
        "    plt.legend(['train', 'validation'], loc='upper left')  \n",
        "    plt.show() "
      ],
      "execution_count": 0,
      "outputs": []
    },
    {
      "cell_type": "code",
      "metadata": {
        "id": "_Cu1erU2rgi7",
        "colab_type": "code",
        "colab": {}
      },
      "source": [
        "np.random.seed(10)"
      ],
      "execution_count": 0,
      "outputs": []
    },
    {
      "cell_type": "code",
      "metadata": {
        "id": "HBW_8cDnripl",
        "colab_type": "code",
        "colab": {}
      },
      "source": [
        "#Cifra-10 有50000筆training data 10000筆testing data 32*32的彩色圖片 共10類\n",
        "(x_train_image, y_train_label), (x_test_image, y_test_label)=cifar10.load_data()\n"
      ],
      "execution_count": 0,
      "outputs": []
    },
    {
      "cell_type": "code",
      "metadata": {
        "id": "DgvDfl1xrmlo",
        "colab_type": "code",
        "colab": {}
      },
      "source": [
        "# normalize and onehot\n",
        "x_train_normalize=x_train_image.astype('float32')/255.0\n",
        "x_test_normalize=x_test_image.astype('float32')/255.0  \n",
        "\n",
        "\n",
        "y_train_onehot=np_utils.to_categorical(y_train_label)\n",
        "y_test_onehot=np_utils.to_categorical(y_test_label)"
      ],
      "execution_count": 0,
      "outputs": []
    },
    {
      "cell_type": "code",
      "metadata": {
        "id": "QRs8f2ogrw7b",
        "colab_type": "code",
        "colab": {}
      },
      "source": [
        "\n",
        "#create model\n",
        "model=Sequential()\n",
        "\n",
        "model.add(Conv2D(filters=32,\n",
        "                 kernel_size=(3,3),\n",
        "                 padding='same',\n",
        "                 input_shape=(32,32,3),\n",
        "                 activation='relu'))\n",
        "\n",
        "model.add(MaxPooling2D(pool_size=(2,2)))\n",
        "\n",
        "model.add(Dropout(0.25))\n",
        "\n",
        "model.add(Conv2D(filters=64,\n",
        "                 kernel_size=(3,3),\n",
        "                 padding='same', \n",
        "                 input_shape=(16,16,3),\n",
        "                 activation='relu'))\n",
        "\n",
        "model.add(MaxPooling2D(pool_size=(2,2)))\n",
        "\n",
        "model.add(Dropout(0.25))\n",
        "\n",
        "\n",
        "model.add(Flatten())\n",
        "\n",
        "model.add(Dense(1024, activation='relu'))\n",
        "\n",
        "model.add(Dropout(0.25))\n",
        "\n",
        "model.add(Dense(1024, activation='relu'))\n",
        "\n",
        "model.add(Dropout(0.25))\n",
        "\n",
        "model.add(Dense(10,activation='softmax'))"
      ],
      "execution_count": 0,
      "outputs": []
    },
    {
      "cell_type": "code",
      "metadata": {
        "id": "NqvldxGCr_ME",
        "colab_type": "code",
        "outputId": "ea38455b-9cbb-4b12-b310-9df1fa9f6792",
        "colab": {
          "base_uri": "https://localhost:8080/",
          "height": 586
        }
      },
      "source": [
        "#show the model\n",
        "model.summary()  \n",
        "print(\"\") "
      ],
      "execution_count": 143,
      "outputs": [
        {
          "output_type": "stream",
          "text": [
            "_________________________________________________________________\n",
            "Layer (type)                 Output Shape              Param #   \n",
            "=================================================================\n",
            "conv2d_80 (Conv2D)           (None, 32, 32, 32)        896       \n",
            "_________________________________________________________________\n",
            "max_pooling2d_77 (MaxPooling (None, 16, 16, 32)        0         \n",
            "_________________________________________________________________\n",
            "dropout_136 (Dropout)        (None, 16, 16, 32)        0         \n",
            "_________________________________________________________________\n",
            "conv2d_81 (Conv2D)           (None, 16, 16, 64)        18496     \n",
            "_________________________________________________________________\n",
            "max_pooling2d_78 (MaxPooling (None, 8, 8, 64)          0         \n",
            "_________________________________________________________________\n",
            "dropout_137 (Dropout)        (None, 8, 8, 64)          0         \n",
            "_________________________________________________________________\n",
            "flatten_29 (Flatten)         (None, 4096)              0         \n",
            "_________________________________________________________________\n",
            "dense_95 (Dense)             (None, 1024)              4195328   \n",
            "_________________________________________________________________\n",
            "dropout_138 (Dropout)        (None, 1024)              0         \n",
            "_________________________________________________________________\n",
            "dense_96 (Dense)             (None, 1024)              1049600   \n",
            "_________________________________________________________________\n",
            "dropout_139 (Dropout)        (None, 1024)              0         \n",
            "_________________________________________________________________\n",
            "dense_97 (Dense)             (None, 10)                10250     \n",
            "=================================================================\n",
            "Total params: 5,274,570\n",
            "Trainable params: 5,274,570\n",
            "Non-trainable params: 0\n",
            "_________________________________________________________________\n",
            "\n"
          ],
          "name": "stdout"
        }
      ]
    },
    {
      "cell_type": "code",
      "metadata": {
        "id": "3_2UkNuHKrX0",
        "colab_type": "code",
        "colab": {
          "base_uri": "https://localhost:8080/",
          "height": 870
        },
        "outputId": "9fd59a46-212d-42cf-8e17-f7d42f3fbe23"
      },
      "source": [
        "#create model\n",
        "model=Sequential()\n",
        "\n",
        "model.add(Conv2D(filters=32,\n",
        "                 kernel_size=(3,3),\n",
        "                 padding='same',\n",
        "                 input_shape=(32,32,3)))\n",
        "                \n",
        "model.add(BatchNormalization())\n",
        "model.add(Activation('relu'))\n",
        "model.add(MaxPooling2D(pool_size=(2,2)))\n",
        "\n",
        "model.add(Dropout(0.25))\n",
        "\n",
        "model.add(Conv2D(filters=64,\n",
        "                 kernel_size=(3,3),\n",
        "                 padding='same', \n",
        "                 input_shape=(16,16,3)))\n",
        "model.add(BatchNormalization())\n",
        "model.add(Activation('relu'))\n",
        "model.add(MaxPooling2D(pool_size=(2,2)))\n",
        "\n",
        "model.add(Dropout(0.25))\n",
        "\n",
        "model.add(Flatten())\n",
        "model.add(Dense(1024))\n",
        "model.add(BatchNormalization())\n",
        "model.add(Activation('relu'))\n",
        "\n",
        "model.add(Dropout(0.25))\n",
        "\n",
        "model.add(Dense(1024))\n",
        "model.add(BatchNormalization())\n",
        "model.add(Activation('relu'))\n",
        "\n",
        "model.add(Dropout(0.25))\n",
        "\n",
        "model.add(Dense(10,activation='softmax'))\n",
        "\n",
        "model.summary()  \n",
        "print(\"\") "
      ],
      "execution_count": 160,
      "outputs": [
        {
          "output_type": "stream",
          "text": [
            "_________________________________________________________________\n",
            "Layer (type)                 Output Shape              Param #   \n",
            "=================================================================\n",
            "conv2d_94 (Conv2D)           (None, 32, 32, 32)        896       \n",
            "_________________________________________________________________\n",
            "batch_normalization_10 (Batc (None, 32, 32, 32)        128       \n",
            "_________________________________________________________________\n",
            "activation_51 (Activation)   (None, 32, 32, 32)        0         \n",
            "_________________________________________________________________\n",
            "max_pooling2d_91 (MaxPooling (None, 16, 16, 32)        0         \n",
            "_________________________________________________________________\n",
            "dropout_164 (Dropout)        (None, 16, 16, 32)        0         \n",
            "_________________________________________________________________\n",
            "conv2d_95 (Conv2D)           (None, 16, 16, 64)        18496     \n",
            "_________________________________________________________________\n",
            "batch_normalization_11 (Batc (None, 16, 16, 64)        256       \n",
            "_________________________________________________________________\n",
            "activation_52 (Activation)   (None, 16, 16, 64)        0         \n",
            "_________________________________________________________________\n",
            "max_pooling2d_92 (MaxPooling (None, 8, 8, 64)          0         \n",
            "_________________________________________________________________\n",
            "dropout_165 (Dropout)        (None, 8, 8, 64)          0         \n",
            "_________________________________________________________________\n",
            "flatten_31 (Flatten)         (None, 4096)              0         \n",
            "_________________________________________________________________\n",
            "dense_116 (Dense)            (None, 1024)              4195328   \n",
            "_________________________________________________________________\n",
            "batch_normalization_12 (Batc (None, 1024)              4096      \n",
            "_________________________________________________________________\n",
            "activation_53 (Activation)   (None, 1024)              0         \n",
            "_________________________________________________________________\n",
            "dropout_166 (Dropout)        (None, 1024)              0         \n",
            "_________________________________________________________________\n",
            "dense_117 (Dense)            (None, 1024)              1049600   \n",
            "_________________________________________________________________\n",
            "batch_normalization_13 (Batc (None, 1024)              4096      \n",
            "_________________________________________________________________\n",
            "activation_54 (Activation)   (None, 1024)              0         \n",
            "_________________________________________________________________\n",
            "dropout_167 (Dropout)        (None, 1024)              0         \n",
            "_________________________________________________________________\n",
            "dense_118 (Dense)            (None, 10)                10250     \n",
            "=================================================================\n",
            "Total params: 5,283,146\n",
            "Trainable params: 5,278,858\n",
            "Non-trainable params: 4,288\n",
            "_________________________________________________________________\n",
            "\n"
          ],
          "name": "stdout"
        }
      ]
    },
    {
      "cell_type": "code",
      "metadata": {
        "id": "Gue1kBbmK2zJ",
        "colab_type": "code",
        "colab": {
          "base_uri": "https://localhost:8080/",
          "height": 1000
        },
        "outputId": "f21b3f73-4622-4dd8-e261-a5e9a6454287"
      },
      "source": [
        "model.compile(loss='categorical_crossentropy',optimizer='adam',metrics=['accuracy'])\n",
        "\n",
        "train_history=model.fit(x=x_train_normalize, y=y_train_onehot, validation_split=0.2, epochs=10, batch_size=128,verbose=2)\n",
        "show_train_history(train_history, 'acc', 'val_acc')\n",
        "show_train_history(train_history, 'loss', 'val_loss')\n",
        "scores = model.evaluate(x_test_normalize, y_test_onehot)  \n",
        "print()  \n",
        "print(\"\\t[Info] Accuracy of testing data = {:2.1f}%\".format(scores[1]*100.0)) "
      ],
      "execution_count": 162,
      "outputs": [
        {
          "output_type": "stream",
          "text": [
            "Train on 40000 samples, validate on 10000 samples\n",
            "Epoch 1/20\n",
            " - 16s - loss: 0.4330 - acc: 0.8448 - val_loss: 0.7821 - val_acc: 0.7524\n",
            "Epoch 2/20\n",
            " - 11s - loss: 0.3723 - acc: 0.8677 - val_loss: 0.9702 - val_acc: 0.7102\n",
            "Epoch 3/20\n",
            " - 11s - loss: 0.3340 - acc: 0.8812 - val_loss: 1.0680 - val_acc: 0.6949\n",
            "Epoch 4/20\n",
            " - 11s - loss: 0.2941 - acc: 0.8950 - val_loss: 1.0290 - val_acc: 0.7178\n",
            "Epoch 5/20\n",
            " - 11s - loss: 0.2644 - acc: 0.9062 - val_loss: 0.8080 - val_acc: 0.7658\n",
            "Epoch 6/20\n",
            " - 11s - loss: 0.2389 - acc: 0.9143 - val_loss: 1.7369 - val_acc: 0.6133\n",
            "Epoch 7/20\n",
            " - 11s - loss: 0.2207 - acc: 0.9219 - val_loss: 0.9343 - val_acc: 0.7500\n",
            "Epoch 8/20\n",
            " - 11s - loss: 0.2016 - acc: 0.9289 - val_loss: 1.5276 - val_acc: 0.6436\n",
            "Epoch 9/20\n",
            " - 11s - loss: 0.1913 - acc: 0.9315 - val_loss: 1.1007 - val_acc: 0.7343\n",
            "Epoch 10/20\n",
            " - 11s - loss: 0.1801 - acc: 0.9357 - val_loss: 1.0805 - val_acc: 0.7358\n",
            "Epoch 11/20\n",
            " - 11s - loss: 0.1620 - acc: 0.9423 - val_loss: 1.1555 - val_acc: 0.7211\n",
            "Epoch 12/20\n",
            " - 11s - loss: 0.1573 - acc: 0.9444 - val_loss: 0.9260 - val_acc: 0.7636\n",
            "Epoch 13/20\n",
            " - 11s - loss: 0.1487 - acc: 0.9456 - val_loss: 0.9972 - val_acc: 0.7535\n",
            "Epoch 14/20\n",
            " - 11s - loss: 0.1375 - acc: 0.9519 - val_loss: 1.1375 - val_acc: 0.7291\n",
            "Epoch 15/20\n",
            " - 11s - loss: 0.1300 - acc: 0.9546 - val_loss: 1.0943 - val_acc: 0.7485\n",
            "Epoch 16/20\n",
            " - 11s - loss: 0.1225 - acc: 0.9578 - val_loss: 1.0726 - val_acc: 0.7537\n",
            "Epoch 17/20\n",
            " - 11s - loss: 0.1247 - acc: 0.9571 - val_loss: 1.0775 - val_acc: 0.7439\n",
            "Epoch 18/20\n",
            " - 11s - loss: 0.1173 - acc: 0.9584 - val_loss: 0.9459 - val_acc: 0.7741\n",
            "Epoch 19/20\n",
            " - 11s - loss: 0.1140 - acc: 0.9601 - val_loss: 1.2949 - val_acc: 0.7235\n",
            "Epoch 20/20\n",
            " - 11s - loss: 0.1083 - acc: 0.9627 - val_loss: 1.0455 - val_acc: 0.7563\n"
          ],
          "name": "stdout"
        },
        {
          "output_type": "display_data",
          "data": {
            "image/png": "[encoded data removed]",
            "text/plain": [
              "<Figure size 432x288 with 1 Axes>"
            ]
          },
          "metadata": {
            "tags": []
          }
        },
        {
          "output_type": "display_data",
          "data": {
            "image/png": "[encoded data removed]",
            "text/plain": [
              "<Figure size 432x288 with 1 Axes>"
            ]
          },
          "metadata": {
            "tags": []
          }
        },
        {
          "output_type": "stream",
          "text": [
            "10000/10000 [==============================] - 2s 152us/step\n",
            "\n",
            "\t[Info] Accuracy of testing data = 74.7%\n"
          ],
          "name": "stdout"
        }
      ]
    },
    {
      "cell_type": "code",
      "metadata": {
        "id": "pAhy130fLLhH",
        "colab_type": "code",
        "colab": {}
      },
      "source": [
        "# 原始71.8\n",
        "#Dropout增減有影響 \n",
        "# 後面filter數沒增加，準確率越小 epoch 訓練多有機會找到好 73%-74.7%\n",
        "#多增加convolution 有助於model解析特徵\n",
        "#對每個neuron到激勵函數間 做正規化(batch normalizaton有助於正確率提升 73%"
      ],
      "execution_count": 0,
      "outputs": []
    }
  ]
}