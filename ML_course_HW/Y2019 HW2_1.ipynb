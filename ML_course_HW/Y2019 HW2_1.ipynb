{
  "nbformat": 4,
  "nbformat_minor": 0,
  "metadata": {
    "colab": {
      "name": "“Untitled4.ipynb”的副本",
      "version": "0.3.2",
      "provenance": [],
      "toc_visible": true,
      "include_colab_link": true
    },
    "kernelspec": {
      "name": "python3",
      "display_name": "Python 3"
    }
  },
  "cells": [
    {
      "cell_type": "markdown",
      "metadata": {
        "id": "view-in-github",
        "colab_type": "text"
      },
      "source": [
        "<a href=\"https://colab.research.google.com/github/handsomekiwi/JupyterPractice/blob/master/ML_course_HW/Y2019%20HW2_1u.ipynb\" target=\"_parent\"><img src=\"https://colab.research.google.com/assets/colab-badge.svg\" alt=\"Open In Colab\"/></a>"
      ]
    },
    {
      "cell_type": "code",
      "metadata": {
        "id": "ai_LhrCFsmes",
        "colab_type": "code",
        "outputId": "dfd0ac51-09ad-4272-afe9-a6b32c95f0db",
        "colab": {
          "base_uri": "https://localhost:8080/",
          "height": 641
        }
      },
      "source": [
        "import requests\n",
        "from bs4 import BeautifulSoup\n",
        "from urllib.request import urlopen\n",
        "html=requests.get(\"https://tw.appledaily.com/new/realtime\")\n",
        "sp = BeautifulSoup(html.text,'html.parser')\n",
        "for i in sp.find_all(\"img\"):\n",
        "    print(i)"
      ],
      "execution_count": 1,
      "outputs": [
        {
          "output_type": "stream",
          "text": [
            "<img src=\"http://b.scorecardresearch.com/p?c1=2&amp;c2=8028476&amp;cv=2.0&amp;cj=1\"/>\n",
            "<img src=\"//img.appledaily.com.tw/pay/img/nextdigital_logo.svg\"/>\n",
            "<img src=\"//img.appledaily.com.tw/pay/img/button_hamburger.svg\"/>\n",
            "<img height=\"100%\" src=\"//img.appledaily.com.tw/pay/img/login_white.svg\" width=\"100%\"/>\n",
            "<img alt=\"《蘋果》月費120元、年費8折1152元　即起可付費\" class=\"owl-lazy\" data-src=\"//img.appledaily.com.tw/images/thumbnail/other/b7c95e6649a54cc51972d5145681c504.jpg\" src=\"data:image/gif;base64,R0lGODlhAQABAIAAAAAAAP///yH5BAEAAAAALAAAAAABAAEAAAIBRAA7\" tcode=\"《蘋果》月費120元、年費8折1152元　即起可付費\"/>\n",
            "<img alt=\"【內幕】劉宥彤被郭台銘發配邊疆　原因不只一個\" class=\"owl-lazy\" data-src=\"//img.appledaily.com.tw/images/thumbnail/other/047be10409de83e5c44df7d31088f7c3.jpg\" src=\"data:image/gif;base64,R0lGODlhAQABAIAAAAAAAP///yH5BAEAAAAALAAAAAABAAEAAAIBRAA7\" tcode=\"【內幕】劉宥彤被郭台銘發配邊疆　原因不只一個\"/>\n",
            "<img alt=\"【獨家踢爆】兒少協會理事長竟是狼　淫劈3少女！下流對話曝光\" class=\"owl-lazy\" data-src=\"//img.appledaily.com.tw/images/thumbnail/other/28bbd6d0ebc40b496c64b2f06f3e8e04.jpg\" src=\"data:image/gif;base64,R0lGODlhAQABAIAAAAAAAP///yH5BAEAAAAALAAAAAABAAEAAAIBRAA7\" tcode=\"【獨家踢爆】兒少協會理事長竟是狼　淫劈3少女！下流對話曝光\"/>\n",
            "<img alt=\"爺孫騎車外出墜溝　 4歲女童水中伴爺屍啜泣到天明\" class=\"owl-lazy\" data-src=\"//img.appledaily.com.tw/images/thumbnail/other/d5c220cd43734b1f329f6b75cfe52650.jpg\" src=\"data:image/gif;base64,R0lGODlhAQABAIAAAAAAAP///yH5BAEAAAAALAAAAAABAAEAAAIBRAA7\" tcode=\"爺孫騎車外出墜溝　 4歲女童水中伴爺屍啜泣到天明\"/>\n",
            "<img alt=\"壓不下來！非洲豬瘟防堵擬再升級　全亞洲均納手提行李百分百檢查\" class=\"owl-lazy\" data-src=\"//img.appledaily.com.tw/images/thumbnail/other/7ca3456ce1272842f928aac4721a5241.jpg\" src=\"data:image/gif;base64,R0lGODlhAQABAIAAAAAAAP///yH5BAEAAAAALAAAAAABAAEAAAIBRAA7\" tcode=\"壓不下來！非洲豬瘟防堵擬再升級　全亞洲均納手提行李百分百檢查\"/>\n",
            "<img alt=\"換尿布失控重摔幼童害癱引公憤　台中惡保母認罪了\" class=\"owl-lazy\" data-src=\"//img.appledaily.com.tw/images/thumbnail/other/a56a9a064d52b349bbe10d98e5a71819.jpg\" src=\"data:image/gif;base64,R0lGODlhAQABAIAAAAAAAP///yH5BAEAAAAALAAAAAABAAEAAAIBRAA7\" tcode=\"換尿布失控重摔幼童害癱引公憤　台中惡保母認罪了\"/>\n",
            "<img alt=\"台南畜牧場驚悚工安意外　女工墜攪拌機肢解慘死\" class=\"owl-lazy\" data-src=\"//img.appledaily.com.tw/images/thumbnail/other/9165832ff3098ca1c85664bc0381e99e.jpg\" src=\"data:image/gif;base64,R0lGODlhAQABAIAAAAAAAP///yH5BAEAAAAALAAAAAABAAEAAAIBRAA7\" tcode=\"台南畜牧場驚悚工安意外　女工墜攪拌機肢解慘死\"/>\n",
            "<img alt=\"《蘋果新聞網》即點即看即分享　全民可看　天天一條免費新聞\" class=\"owl-lazy\" data-src=\"//img.appledaily.com.tw/images/thumbnail/other/ced73d68ec2d50250906c3a1f800b82a.jpg\" src=\"data:image/gif;base64,R0lGODlhAQABAIAAAAAAAP///yH5BAEAAAAALAAAAAABAAEAAAIBRAA7\" tcode=\"《蘋果新聞網》即點即看即分享　全民可看　天天一條免費新聞\"/>\n",
            "<img alt=\"遺憾消息！烏來6歲男童落水身亡　失蹤10天尋獲遺體\" class=\"owl-lazy\" data-src=\"//img.appledaily.com.tw/images/thumbnail/other/79fd6cd48de4b6fe4ae00b11f8934d9e.jpg\" src=\"data:image/gif;base64,R0lGODlhAQABAIAAAAAAAP///yH5BAEAAAAALAAAAAABAAEAAAIBRAA7\" tcode=\"遺憾消息！烏來6歲男童落水身亡　失蹤10天尋獲遺體\"/>\n",
            "<img alt=\"民眾黨第一號女刺客！　「學姊」黃?瑩證實角逐立委：選哪區還未定\" class=\"owl-lazy\" data-src=\"//img.appledaily.com.tw/images/thumbnail/other/eaf4d0627f926aaedc5bc04e78509486.jpg\" src=\"data:image/gif;base64,R0lGODlhAQABAIAAAAAAAP///yH5BAEAAAAALAAAAAABAAEAAAIBRAA7\" tcode=\"民眾黨第一號女刺客！　「學姊」黃?瑩證實角逐立委：選哪區還未定\"/>\n",
            "<img alt=\"【獨家專訪】林煒分居龔慈恩2年　認愛女總裁「給我安全感」\" class=\"owl-lazy\" data-src=\"//img.appledaily.com.tw/images/thumbnail/other/de67bb507102c4b44dec44fa76d034bf.jpg\" src=\"data:image/gif;base64,R0lGODlhAQABAIAAAAAAAP///yH5BAEAAAAALAAAAAABAAEAAAIBRAA7\" tcode=\"【獨家專訪】林煒分居龔慈恩2年　認愛女總裁「給我安全感」\"/>\n",
            "<img alt=\"【獨家】無視150萬金錢誘惑　富豪房東踢掉藏壽司\" class=\"owl-lazy\" data-src=\"//img.appledaily.com.tw/images/thumbnail/other/5de4934c3ae85ea8ecd9d3fa293c8165.jpg\" src=\"data:image/gif;base64,R0lGODlhAQABAIAAAAAAAP///yH5BAEAAAAALAAAAAABAAEAAAIBRAA7\" tcode=\"【獨家】無視150萬金錢誘惑　富豪房東踢掉藏壽司\"/>\n",
            "<img alt=\"【獨家】旺旺集團拿下純網銀再傳震撼彈　助攻國票金！350億吃安泰銀\" class=\"owl-lazy\" data-src=\"//img.appledaily.com.tw/images/thumbnail/other/5b10f31e3f3f4aede63d2c3d3d1a9aa7.jpg\" src=\"data:image/gif;base64,R0lGODlhAQABAIAAAAAAAP///yH5BAEAAAAALAAAAAABAAEAAAIBRAA7\" tcode=\"【獨家】旺旺集團拿下純網銀再傳震撼彈　助攻國票金！350億吃安泰銀\"/>\n",
            "<img alt=\"【獨家】才剛宣布與裕隆簽MOU　淳紳遭爆放無薪假還欠薪\" class=\"owl-lazy\" data-src=\"//img.appledaily.com.tw/images/thumbnail/other/efa9355acf46c753e5eb7e9c0bde224a.jpg\" src=\"data:image/gif;base64,R0lGODlhAQABAIAAAAAAAP///yH5BAEAAAAALAAAAAABAAEAAAIBRAA7\" tcode=\"【獨家】才剛宣布與裕隆簽MOU　淳紳遭爆放無薪假還欠薪\"/>\n",
            "<img alt=\"【狗仔直擊】余祥銓嗑鍋也要打光！女友貼身陪吃恩愛餐\" class=\"owl-lazy\" data-src=\"//img.appledaily.com.tw/images/thumbnail/other/e5991f4603559a7c4a45a389271fe394.jpg\" src=\"data:image/gif;base64,R0lGODlhAQABAIAAAAAAAP///yH5BAEAAAAALAAAAAABAAEAAAIBRAA7\" tcode=\"【狗仔直擊】余祥銓嗑鍋也要打光！女友貼身陪吃恩愛餐\"/>\n",
            "<img alt=\"冰妻變辣妻色誘夫「一次就中」　竟是小王的種\" class=\"owl-lazy\" data-src=\"//img.appledaily.com.tw/images/thumbnail/other/b2c736b29a11aab66d2ce32a157d4eac.jpg\" src=\"data:image/gif;base64,R0lGODlhAQABAIAAAAAAAP///yH5BAEAAAAALAAAAAABAAEAAAIBRAA7\" tcode=\"冰妻變辣妻色誘夫「一次就中」　竟是小王的種\"/>\n",
            "<img alt=\"【Live Talk】12:00想加入健身房卻步？　14:00展場女模如何防狼　\" class=\"owl-lazy\" data-src=\"//img.appledaily.com.tw/images/thumbnail/other/1aed5e56ca91b71fd91ef629bc631edf.jpg\" src=\"data:image/gif;base64,R0lGODlhAQABAIAAAAAAAP///yH5BAEAAAAALAAAAAABAAEAAAIBRAA7\" tcode=\"【Live Talk】12:00想加入健身房卻步？　14:00展場女模如何防狼　\"/>\n",
            "<img alt=\"9個Q&amp;A　為您解答《蘋果》訂閱問題\" class=\"owl-lazy\" data-src=\"//img.appledaily.com.tw/images/thumbnail/other/86346c5d1473ac4a51024e13c90f2b3f.jpg\" src=\"data:image/gif;base64,R0lGODlhAQABAIAAAAAAAP///yH5BAEAAAAALAAAAAABAAEAAAIBRAA7\" tcode=\"9個Q&amp;A　為您解答《蘋果》訂閱問題\"/>\n",
            "<img src=\"//img.appledaily.com.tw/aws/tw/compone/c0452c51eebcdba0989d03553889604f.jpg\" style=\"width: 650px;height: 100px;object-fit: contain;\"/>\n",
            "<img src=\"//img.appledaily.com.tw/aws/tw/compone/a0c34c5b1d16dbf2de188ea7cdc8ad9e.jpg\" style=\"width: 650px;height: 100px;object-fit: contain;\"/>\n",
            "<img src=\"//img.appledaily.com.tw/aws/tw/compone/aafc98b095444c2459582eecd8202390.jpg\" style=\"width: 650px;height: 100px;object-fit: contain;\"/>\n",
            "<img src=\"//img.appledaily.com.tw/aws/tw/compone/22cb9c076fc4db05bd7ec918032c3335.jpg\" style=\"width: 650px;height: 100px;object-fit: contain;\"/>\n",
            "<img src=\"//img.appledaily.com.tw/images/NextDigital/logo_NextMedia_m.png\"/>\n",
            "<img alt=\"蘋果新聞網 AppleDaily\" src=\"//img.appledaily.com.tw/appledaily/images/core/ft_AppleDaily_news.png\"/>\n",
            "<img alt=\"動新聞\" src=\"//img.appledaily.com.tw/appledaily/images/core/ft_AnimatedNews.png\"/>\n",
            "<img alt=\"蘋果Live\" src=\"//img.appledaily.com.tw/appledaily/images/core/applelive.gif\"/>\n",
            "<img alt=\" 蘋果VR\" height=\"30\" src=\"//img.appledaily.com.tw/appledaily/images/core/VRlogo87x40.png\" width=\"83\"/>\n",
            "<img alt=\"壹週刊\" src=\"//img.appledaily.com.tw/appledaily/images/core/ft_NextMag.png\"/>\n",
            "<img alt=\"蘋果時尚\" src=\"//img.appledaily.com.tw/appledaily/images/core/applefashion_website_head_39x30.png\"/>\n",
            "<img alt=\"Tomonews\" src=\"//img.appledaily.com.tw/appledaily/images/core/tomonews_blue.png\" style=\"margin-top:9px\"/>\n"
          ],
          "name": "stdout"
        }
      ]
    },
    {
      "cell_type": "code",
      "metadata": {
        "id": "UzdFWZLqtKJE",
        "colab_type": "code",
        "outputId": "6696282f-11f7-4481-deb3-28d8e0fde03c",
        "colab": {
          "base_uri": "https://localhost:8080/",
          "height": 337
        }
      },
      "source": [
        "for i in sp.find_all(\"img\"):\n",
        "  if(i.get(\"data-src\")):\n",
        "    print(i.get(\"data-src\"))"
      ],
      "execution_count": 2,
      "outputs": [
        {
          "output_type": "stream",
          "text": [
            "//img.appledaily.com.tw/images/thumbnail/other/b7c95e6649a54cc51972d5145681c504.jpg\n",
            "//img.appledaily.com.tw/images/thumbnail/other/047be10409de83e5c44df7d31088f7c3.jpg\n",
            "//img.appledaily.com.tw/images/thumbnail/other/28bbd6d0ebc40b496c64b2f06f3e8e04.jpg\n",
            "//img.appledaily.com.tw/images/thumbnail/other/d5c220cd43734b1f329f6b75cfe52650.jpg\n",
            "//img.appledaily.com.tw/images/thumbnail/other/7ca3456ce1272842f928aac4721a5241.jpg\n",
            "//img.appledaily.com.tw/images/thumbnail/other/a56a9a064d52b349bbe10d98e5a71819.jpg\n",
            "//img.appledaily.com.tw/images/thumbnail/other/9165832ff3098ca1c85664bc0381e99e.jpg\n",
            "//img.appledaily.com.tw/images/thumbnail/other/ced73d68ec2d50250906c3a1f800b82a.jpg\n",
            "//img.appledaily.com.tw/images/thumbnail/other/79fd6cd48de4b6fe4ae00b11f8934d9e.jpg\n",
            "//img.appledaily.com.tw/images/thumbnail/other/eaf4d0627f926aaedc5bc04e78509486.jpg\n",
            "//img.appledaily.com.tw/images/thumbnail/other/de67bb507102c4b44dec44fa76d034bf.jpg\n",
            "//img.appledaily.com.tw/images/thumbnail/other/5de4934c3ae85ea8ecd9d3fa293c8165.jpg\n",
            "//img.appledaily.com.tw/images/thumbnail/other/5b10f31e3f3f4aede63d2c3d3d1a9aa7.jpg\n",
            "//img.appledaily.com.tw/images/thumbnail/other/efa9355acf46c753e5eb7e9c0bde224a.jpg\n",
            "//img.appledaily.com.tw/images/thumbnail/other/e5991f4603559a7c4a45a389271fe394.jpg\n",
            "//img.appledaily.com.tw/images/thumbnail/other/b2c736b29a11aab66d2ce32a157d4eac.jpg\n",
            "//img.appledaily.com.tw/images/thumbnail/other/1aed5e56ca91b71fd91ef629bc631edf.jpg\n",
            "//img.appledaily.com.tw/images/thumbnail/other/86346c5d1473ac4a51024e13c90f2b3f.jpg\n"
          ],
          "name": "stdout"
        }
      ]
    },
    {
      "cell_type": "code",
      "metadata": {
        "id": "7gObilXVtn08",
        "colab_type": "code",
        "colab": {}
      },
      "source": [
        "for i in sp.find_all(\"img\"):\n",
        "  if(i.get(\"data-src\")):\n",
        "    temp=i.get(\"data-src\")\n",
        "    filename=i.get(\"alt\")\n",
        "    with open(\"/content/\"+filename+\".jpg\",\"wb\") as f:\n",
        "      f.write(urlopen(\"http:\"+temp).read())"
      ],
      "execution_count": 0,
      "outputs": []
    },
    {
      "cell_type": "code",
      "metadata": {
        "id": "Ns5oket0gPxY",
        "colab_type": "code",
        "colab": {}
      },
      "source": [
        "import requests\n",
        "from bs4 import BeautifulSoup\n",
        "from urllib.request import urlopen\n"
      ],
      "execution_count": 0,
      "outputs": []
    },
    {
      "cell_type": "code",
      "metadata": {
        "id": "D9yZjH8Eg8b1",
        "colab_type": "code",
        "colab": {}
      },
      "source": [
        "import requests\n",
        "html = requests.get('https://tw.appledaily.com/home')\n",
        "#print(html.text)"
      ],
      "execution_count": 0,
      "outputs": []
    },
    {
      "cell_type": "markdown",
      "metadata": {
        "id": "Lp20Xj2oGWAD",
        "colab_type": "text"
      },
      "source": [
        ""
      ]
    },
    {
      "cell_type": "code",
      "metadata": {
        "id": "FpixPhihhWhs",
        "colab_type": "code",
        "colab": {}
      },
      "source": [
        "sp = BeautifulSoup(html.text, 'html.parser')"
      ],
      "execution_count": 0,
      "outputs": []
    },
    {
      "cell_type": "code",
      "metadata": {
        "id": "GsS_PcoJEjU6",
        "colab_type": "code",
        "colab": {
          "base_uri": "https://localhost:8080/",
          "height": 159
        },
        "outputId": "a5c793fe-0c14-40b0-90bf-6b86fa34e9ee"
      },
      "source": [
        "time_list = list()\n",
        "jan = sp.find(\"aside\")\n",
        "time = jan.find_all(\"time\")              # use jan as a parent\n",
        "for d in time:    \n",
        "    print(d.get_text())\n",
        "    time_list.append(d.get_text())"
      ],
      "execution_count": 77,
      "outputs": [
        {
          "output_type": "stream",
          "text": [
            "15:09\n",
            "15:07\n",
            "15:05\n",
            "15:05\n",
            "15:03\n",
            "15:02\n",
            "15:02\n",
            "14:59\n"
          ],
          "name": "stdout"
        }
      ]
    },
    {
      "cell_type": "code",
      "metadata": {
        "id": "S-mddIWaZ1V9",
        "colab_type": "code",
        "colab": {
          "base_uri": "https://localhost:8080/",
          "height": 35
        },
        "outputId": "e7158614-7e55-4f47-cd8c-1f3089263939"
      },
      "source": [
        "time_list[0]"
      ],
      "execution_count": 78,
      "outputs": [
        {
          "output_type": "execute_result",
          "data": {
            "text/plain": [
              "'15:09'"
            ]
          },
          "metadata": {
            "tags": []
          },
          "execution_count": 78
        }
      ]
    },
    {
      "cell_type": "code",
      "metadata": {
        "id": "QKyS5TUFH-mn",
        "colab_type": "code",
        "colab": {
          "base_uri": "https://localhost:8080/",
          "height": 159
        },
        "outputId": "7bf6c9be-d0a8-4221-aad2-e8034ebec792"
      },
      "source": [
        "news_list = list()\n",
        "a = jan.find_all(\"a\")              # use jan as a parent\n",
        "for d in a:\n",
        "    print(d.get_text())\n",
        "    news_list.append(d.get_text())"
      ],
      "execution_count": 79,
      "outputs": [
        {
          "output_type": "stream",
          "text": [
            "小兄妹異位性皮膚炎多年　醫師三管齊...\n",
            "黃之鋒拜會北市議會！求聲援10/1...\n",
            "賓士車撞翻貨車　滿車鳳梨滾落國道\n",
            "民進黨最新立委徵召名單　吳怡農挑戰...\n",
            "今年整體業績成長2%　新光三越總座...\n",
            "陳明文高鐵遺失300萬　綠營前議員...\n",
            "瑞信論壇登場台股多元有撐　今年上市...\n",
            "陸客瘋買法國豪宅　成巴黎最大外來購...\n"
          ],
          "name": "stdout"
        }
      ]
    },
    {
      "cell_type": "code",
      "metadata": {
        "id": "kTeUGxnMamAs",
        "colab_type": "code",
        "colab": {
          "base_uri": "https://localhost:8080/",
          "height": 159
        },
        "outputId": "f3ca2fbb-8fa1-45e8-c503-93173b6253f9"
      },
      "source": [
        "number_list = list()\t\n",
        "for i in range(len(news_list)):\n",
        "  S = news_list[i]\n",
        "  print (len(S))\n",
        "  number_list.append(len(S))"
      ],
      "execution_count": 88,
      "outputs": [
        {
          "output_type": "stream",
          "text": [
            "20\n",
            "20\n",
            "16\n",
            "20\n",
            "20\n",
            "20\n",
            "20\n",
            "20\n"
          ],
          "name": "stdout"
        }
      ]
    },
    {
      "cell_type": "code",
      "metadata": {
        "id": "QuoEmwdzNIDa",
        "colab_type": "code",
        "colab": {}
      },
      "source": [
        "import numpy as np\n",
        "import pandas as pd\n",
        "from pandas import Series, DataFrame"
      ],
      "execution_count": 0,
      "outputs": []
    },
    {
      "cell_type": "code",
      "metadata": {
        "id": "2bZdayVCNMZz",
        "colab_type": "code",
        "colab": {
          "base_uri": "https://localhost:8080/",
          "height": 282
        },
        "outputId": "c652bb18-13f2-4877-c7dc-d9200c2502a2"
      },
      "source": [
        "\n",
        "df2 = pd.DataFrame({'Time': time_list,\n",
        "'News Title': news_list,\n",
        "'Number': number_list\n",
        "})\n",
        "df2"
      ],
      "execution_count": 94,
      "outputs": [
        {
          "output_type": "execute_result",
          "data": {
            "text/html": [
              "<div>\n",
              "<style scoped>\n",
              "    .dataframe tbody tr th:only-of-type {\n",
              "        vertical-align: middle;\n",
              "    }\n",
              "\n",
              "    .dataframe tbody tr th {\n",
              "        vertical-align: top;\n",
              "    }\n",
              "\n",
              "    .dataframe thead th {\n",
              "        text-align: right;\n",
              "    }\n",
              "</style>\n",
              "<table border=\"1\" class=\"dataframe\">\n",
              "  <thead>\n",
              "    <tr style=\"text-align: right;\">\n",
              "      <th></th>\n",
              "      <th>Time</th>\n",
              "      <th>News Title</th>\n",
              "      <th>Number</th>\n",
              "    </tr>\n",
              "  </thead>\n",
              "  <tbody>\n",
              "    <tr>\n",
              "      <th>0</th>\n",
              "      <td>15:09</td>\n",
              "      <td>小兄妹異位性皮膚炎多年　醫師三管齊...</td>\n",
              "      <td>20</td>\n",
              "    </tr>\n",
              "    <tr>\n",
              "      <th>1</th>\n",
              "      <td>15:07</td>\n",
              "      <td>黃之鋒拜會北市議會！求聲援10/1...</td>\n",
              "      <td>20</td>\n",
              "    </tr>\n",
              "    <tr>\n",
              "      <th>2</th>\n",
              "      <td>15:05</td>\n",
              "      <td>賓士車撞翻貨車　滿車鳳梨滾落國道</td>\n",
              "      <td>16</td>\n",
              "    </tr>\n",
              "    <tr>\n",
              "      <th>3</th>\n",
              "      <td>15:05</td>\n",
              "      <td>民進黨最新立委徵召名單　吳怡農挑戰...</td>\n",
              "      <td>20</td>\n",
              "    </tr>\n",
              "    <tr>\n",
              "      <th>4</th>\n",
              "      <td>15:03</td>\n",
              "      <td>今年整體業績成長2%　新光三越總座...</td>\n",
              "      <td>20</td>\n",
              "    </tr>\n",
              "    <tr>\n",
              "      <th>5</th>\n",
              "      <td>15:02</td>\n",
              "      <td>陳明文高鐵遺失300萬　綠營前議員...</td>\n",
              "      <td>20</td>\n",
              "    </tr>\n",
              "    <tr>\n",
              "      <th>6</th>\n",
              "      <td>15:02</td>\n",
              "      <td>瑞信論壇登場台股多元有撐　今年上市...</td>\n",
              "      <td>20</td>\n",
              "    </tr>\n",
              "    <tr>\n",
              "      <th>7</th>\n",
              "      <td>14:59</td>\n",
              "      <td>陸客瘋買法國豪宅　成巴黎最大外來購...</td>\n",
              "      <td>20</td>\n",
              "    </tr>\n",
              "  </tbody>\n",
              "</table>\n",
              "</div>"
            ],
            "text/plain": [
              "    Time            News Title  Number\n",
              "0  15:09  小兄妹異位性皮膚炎多年　醫師三管齊...      20\n",
              "1  15:07  黃之鋒拜會北市議會！求聲援10/1...      20\n",
              "2  15:05      賓士車撞翻貨車　滿車鳳梨滾落國道      16\n",
              "3  15:05  民進黨最新立委徵召名單　吳怡農挑戰...      20\n",
              "4  15:03  今年整體業績成長2%　新光三越總座...      20\n",
              "5  15:02  陳明文高鐵遺失300萬　綠營前議員...      20\n",
              "6  15:02  瑞信論壇登場台股多元有撐　今年上市...      20\n",
              "7  14:59  陸客瘋買法國豪宅　成巴黎最大外來購...      20"
            ]
          },
          "metadata": {
            "tags": []
          },
          "execution_count": 94
        }
      ]
    },
    {
      "cell_type": "code",
      "metadata": {
        "id": "4H8n931RdqGc",
        "colab_type": "code",
        "colab": {}
      },
      "source": [
        "df2.to_excel('headline.xlsx', sheet_name='Sheet1')"
      ],
      "execution_count": 0,
      "outputs": []
    }
  ]
}