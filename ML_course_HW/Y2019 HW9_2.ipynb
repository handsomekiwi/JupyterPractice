{
  "nbformat": 4,
  "nbformat_minor": 0,
  "metadata": {
    "colab": {
      "name": "Untitled8.ipynb",
      "version": "0.3.2",
      "provenance": [],
      "include_colab_link": true
    },
    "kernelspec": {
      "name": "python3",
      "display_name": "Python 3"
    },
    "accelerator": "GPU"
  },
  "cells": [
    {
      "cell_type": "markdown",
      "metadata": {
        "id": "view-in-github",
        "colab_type": "text"
      },
      "source": [
        "<a href=\"https://colab.research.google.com/github/handsomekiwi/JupyterPractice/blob/master/ML_course_HW/Y2019%20HW9_2.ipynb\" target=\"_parent\"><img src=\"https://colab.research.google.com/assets/colab-badge.svg\" alt=\"Open In Colab\"/></a>"
      ]
    },
    {
      "cell_type": "code",
      "metadata": {
        "id": "WxsXZgP2hqbP",
        "colab_type": "code",
        "outputId": "c0e7f5da-2eb6-4e8a-953c-ea2644bf3611",
        "colab": {
          "base_uri": "https://localhost:8080/",
          "height": 35
        }
      },
      "source": [
        "from keras.datasets import mnist  \n",
        "from keras.utils import np_utils  \n",
        "import numpy as np  \n",
        "import matplotlib.pyplot as plt \n",
        "from keras.models import Sequential  \n",
        "from keras.layers import Dense,Dropout,Flatten,Conv2D,MaxPooling2D\n",
        "import os  "
      ],
      "execution_count": 0,
      "outputs": [
        {
          "output_type": "stream",
          "text": [
            "Using TensorFlow backend.\n"
          ],
          "name": "stderr"
        }
      ]
    },
    {
      "cell_type": "code",
      "metadata": {
        "id": "cknA8IfZh9of",
        "colab_type": "code",
        "colab": {}
      },
      "source": [
        "def isDisplayAvl():  \n",
        "    return 'DISPLAY' in os.environ.keys()  "
      ],
      "execution_count": 0,
      "outputs": []
    },
    {
      "cell_type": "code",
      "metadata": {
        "id": "HpLI78qaiDg2",
        "colab_type": "code",
        "colab": {}
      },
      "source": [
        "def plot_images_labels_predict(images, labels, prediction, idx, num=10):  \n",
        "    fig = plt.gcf()  \n",
        "    fig.set_size_inches(12, 14)  \n",
        "    if num > 25: num = 25  \n",
        "    for i in range(0, num):  \n",
        "        ax=plt.subplot(5,5, 1+i)  \n",
        "        ax.imshow(images[idx], cmap='binary')  \n",
        "        title = \"l=\" + str(labels[idx])  \n",
        "        if len(prediction) > 0:  \n",
        "            title = \"l={},p={}\".format(str(labels[idx]), str(prediction[idx]))  \n",
        "        else:  \n",
        "            title = \"l={}\".format(str(labels[idx]))  \n",
        "        ax.set_title(title, fontsize=10)  \n",
        "        ax.set_xticks([]); ax.set_yticks([])  \n",
        "        idx+=1  \n",
        "    plt.show()  \n",
        "  "
      ],
      "execution_count": 0,
      "outputs": []
    },
    {
      "cell_type": "code",
      "metadata": {
        "id": "w2PugzB1iE4x",
        "colab_type": "code",
        "colab": {}
      },
      "source": [
        "def show_train_history(train_history, train, validation):  \n",
        "    plt.plot(train_history.history[train])  \n",
        "    plt.plot(train_history.history[validation])  \n",
        "    plt.title('Train History')  \n",
        "    plt.ylabel(train)  \n",
        "    plt.xlabel('Epoch')  \n",
        "    plt.legend(['train', 'validation'], loc='upper left')  \n",
        "    plt.show()  "
      ],
      "execution_count": 0,
      "outputs": []
    },
    {
      "cell_type": "code",
      "metadata": {
        "id": "JJc7ZlKniHqV",
        "colab_type": "code",
        "colab": {}
      },
      "source": [
        "np.random.seed(10)  "
      ],
      "execution_count": 0,
      "outputs": []
    },
    {
      "cell_type": "code",
      "metadata": {
        "id": "rW6YZEzaiM0k",
        "colab_type": "code",
        "outputId": "b72da60a-533d-40db-f424-00b520c9e77d",
        "colab": {
          "base_uri": "https://localhost:8080/",
          "height": 52
        }
      },
      "source": [
        "# Read MNIST data  \n",
        "(X_Train, y_Train), (X_Test, y_Test) = mnist.load_data()  "
      ],
      "execution_count": 0,
      "outputs": [
        {
          "output_type": "stream",
          "text": [
            "Downloading data from https://s3.amazonaws.com/img-datasets/mnist.npz\n",
            "11493376/11490434 [==============================] - 1s 0us/step\n"
          ],
          "name": "stdout"
        }
      ]
    },
    {
      "cell_type": "code",
      "metadata": {
        "id": "v4PjB0aAiPfw",
        "colab_type": "code",
        "colab": {}
      },
      "source": [
        "# Translation of data  \n",
        "X_Train40 = X_Train.reshape(X_Train.shape[0], 28, 28, 1).astype('float32')  \n",
        "X_Test40 = X_Test.reshape(X_Test.shape[0], 28, 28, 1).astype('float32') "
      ],
      "execution_count": 0,
      "outputs": []
    },
    {
      "cell_type": "code",
      "metadata": {
        "id": "oCeARVZdiUv5",
        "colab_type": "code",
        "colab": {}
      },
      "source": [
        "# Standardize feature data  \n",
        "X_Train40_norm = X_Train40 / 255  \n",
        "X_Test40_norm = X_Test40 /255  "
      ],
      "execution_count": 0,
      "outputs": []
    },
    {
      "cell_type": "code",
      "metadata": {
        "id": "Uijoce1liY6Q",
        "colab_type": "code",
        "colab": {}
      },
      "source": [
        "# Label Onehot-encoding  \n",
        "y_TrainOneHot = np_utils.to_categorical(y_Train)  \n",
        "y_TestOneHot = np_utils.to_categorical(y_Test)  "
      ],
      "execution_count": 0,
      "outputs": []
    },
    {
      "cell_type": "code",
      "metadata": {
        "id": "2zxJYCwiibXC",
        "colab_type": "code",
        "outputId": "32728319-4018-4df2-c907-330a87d71af3",
        "colab": {
          "base_uri": "https://localhost:8080/",
          "height": 90
        }
      },
      "source": [
        "#create the model\n",
        "model = Sequential()  "
      ],
      "execution_count": 0,
      "outputs": [
        {
          "output_type": "stream",
          "text": [
            "WARNING: Logging before flag parsing goes to stderr.\n",
            "W0826 06:08:42.774438 139731851474816 deprecation_wrapper.py:119] From /usr/local/lib/python3.6/dist-packages/keras/backend/tensorflow_backend.py:74: The name tf.get_default_graph is deprecated. Please use tf.compat.v1.get_default_graph instead.\n",
            "\n"
          ],
          "name": "stderr"
        }
      ]
    },
    {
      "cell_type": "code",
      "metadata": {
        "id": "rGQYGnssine3",
        "colab_type": "code",
        "outputId": "93f7c642-cb60-4c15-941b-f0c7b5f23692",
        "colab": {
          "base_uri": "https://localhost:8080/",
          "height": 108
        }
      },
      "source": [
        "# Create CN layer 1  \n",
        "model.add(Conv2D(filters=16,\n",
        "                 kernel_size=(5,5),\n",
        "                 padding='same',  \n",
        "                 input_shape=(28,28,1),  \n",
        "                 activation='relu')) "
      ],
      "execution_count": 0,
      "outputs": [
        {
          "output_type": "stream",
          "text": [
            "W0826 06:09:17.272296 139731851474816 deprecation_wrapper.py:119] From /usr/local/lib/python3.6/dist-packages/keras/backend/tensorflow_backend.py:517: The name tf.placeholder is deprecated. Please use tf.compat.v1.placeholder instead.\n",
            "\n",
            "W0826 06:09:17.297616 139731851474816 deprecation_wrapper.py:119] From /usr/local/lib/python3.6/dist-packages/keras/backend/tensorflow_backend.py:4138: The name tf.random_uniform is deprecated. Please use tf.random.uniform instead.\n",
            "\n"
          ],
          "name": "stderr"
        }
      ]
    },
    {
      "cell_type": "code",
      "metadata": {
        "id": "_afxDB7Piv5w",
        "colab_type": "code",
        "outputId": "f8f86fe0-dc62-4c66-9cd8-36742b8c844b",
        "colab": {
          "base_uri": "https://localhost:8080/",
          "height": 72
        }
      },
      "source": [
        "# Create Max-Pool 1  \n",
        "model.add(MaxPooling2D(pool_size=(2,2)))  "
      ],
      "execution_count": 0,
      "outputs": [
        {
          "output_type": "stream",
          "text": [
            "W0826 06:09:33.915678 139731851474816 deprecation_wrapper.py:119] From /usr/local/lib/python3.6/dist-packages/keras/backend/tensorflow_backend.py:3976: The name tf.nn.max_pool is deprecated. Please use tf.nn.max_pool2d instead.\n",
            "\n"
          ],
          "name": "stderr"
        }
      ]
    },
    {
      "cell_type": "code",
      "metadata": {
        "id": "GwxiWISciz-E",
        "colab_type": "code",
        "outputId": "c9241678-526b-4f08-bb2c-23040a914bac",
        "colab": {
          "base_uri": "https://localhost:8080/",
          "height": 126
        }
      },
      "source": [
        "# Create CN layer 2\n",
        "model.add(Conv2D(filters=16,  \n",
        "                 kernel_size=(5,5),  \n",
        "                 padding='same',  \n",
        "                 input_shape=(14,14,16),\n",
        "                 activation='relu')) \n",
        "  \n",
        "# Create Max-Pool 2  \n",
        "model.add(MaxPooling2D(pool_size=(2,2)))  \n",
        "\n",
        "# Add Dropout layer  \n",
        "model.add(Dropout(0.25)) \n",
        "\n",
        "model.add(Flatten())  \n",
        "\n",
        "model.add(Dense(128, activation='relu'))  \n",
        "model.add(Dropout(0.5))  \n",
        "\n",
        "model.add(Dense(10, activation='softmax'))  "
      ],
      "execution_count": 0,
      "outputs": [
        {
          "output_type": "stream",
          "text": [
            "W0826 06:10:00.533251 139731851474816 deprecation_wrapper.py:119] From /usr/local/lib/python3.6/dist-packages/keras/backend/tensorflow_backend.py:133: The name tf.placeholder_with_default is deprecated. Please use tf.compat.v1.placeholder_with_default instead.\n",
            "\n",
            "W0826 06:10:00.543861 139731851474816 deprecation.py:506] From /usr/local/lib/python3.6/dist-packages/keras/backend/tensorflow_backend.py:3445: calling dropout (from tensorflow.python.ops.nn_ops) with keep_prob is deprecated and will be removed in a future version.\n",
            "Instructions for updating:\n",
            "Please use `rate` instead of `keep_prob`. Rate should be set to `rate = 1 - keep_prob`.\n"
          ],
          "name": "stderr"
        }
      ]
    },
    {
      "cell_type": "code",
      "metadata": {
        "id": "meHevme_i6da",
        "colab_type": "code",
        "outputId": "40acc6a6-2051-45cd-922f-bd69bae95db5",
        "colab": {
          "base_uri": "https://localhost:8080/",
          "height": 479
        }
      },
      "source": [
        "#show the model\n",
        "model.summary()  \n",
        "print(\"\")  "
      ],
      "execution_count": 0,
      "outputs": [
        {
          "output_type": "stream",
          "text": [
            "_________________________________________________________________\n",
            "Layer (type)                 Output Shape              Param #   \n",
            "=================================================================\n",
            "conv2d_1 (Conv2D)            (None, 28, 28, 16)        416       \n",
            "_________________________________________________________________\n",
            "max_pooling2d_1 (MaxPooling2 (None, 14, 14, 16)        0         \n",
            "_________________________________________________________________\n",
            "conv2d_2 (Conv2D)            (None, 14, 14, 16)        6416      \n",
            "_________________________________________________________________\n",
            "max_pooling2d_2 (MaxPooling2 (None, 7, 7, 16)          0         \n",
            "_________________________________________________________________\n",
            "dropout_1 (Dropout)          (None, 7, 7, 16)          0         \n",
            "_________________________________________________________________\n",
            "flatten_1 (Flatten)          (None, 784)               0         \n",
            "_________________________________________________________________\n",
            "dense_1 (Dense)              (None, 128)               100480    \n",
            "_________________________________________________________________\n",
            "dropout_2 (Dropout)          (None, 128)               0         \n",
            "_________________________________________________________________\n",
            "dense_2 (Dense)              (None, 10)                1290      \n",
            "=================================================================\n",
            "Total params: 108,602\n",
            "Trainable params: 108,602\n",
            "Non-trainable params: 0\n",
            "_________________________________________________________________\n",
            "\n"
          ],
          "name": "stdout"
        }
      ]
    },
    {
      "cell_type": "code",
      "metadata": {
        "id": "PoqjpsYbi-wO",
        "colab_type": "code",
        "outputId": "5c9fc28a-8421-41c7-b2ad-4e2975d9336c",
        "colab": {
          "base_uri": "https://localhost:8080/",
          "height": 108
        }
      },
      "source": [
        "# define training method  \n",
        "model.compile(loss='categorical_crossentropy', optimizer='adam', metrics=['accuracy'])  "
      ],
      "execution_count": 0,
      "outputs": [
        {
          "output_type": "stream",
          "text": [
            "W0826 06:10:38.041834 139731851474816 deprecation_wrapper.py:119] From /usr/local/lib/python3.6/dist-packages/keras/optimizers.py:790: The name tf.train.Optimizer is deprecated. Please use tf.compat.v1.train.Optimizer instead.\n",
            "\n",
            "W0826 06:10:38.076094 139731851474816 deprecation_wrapper.py:119] From /usr/local/lib/python3.6/dist-packages/keras/backend/tensorflow_backend.py:3295: The name tf.log is deprecated. Please use tf.math.log instead.\n",
            "\n"
          ],
          "name": "stderr"
        }
      ]
    },
    {
      "cell_type": "code",
      "metadata": {
        "id": "LvRQ3is_jDoH",
        "colab_type": "code",
        "outputId": "a8a7b0ba-b2fd-42f1-870a-04d0d6cb4dc3",
        "colab": {
          "base_uri": "https://localhost:8080/",
          "height": 126
        }
      },
      "source": [
        "# start training\n",
        "train_history = model.fit(x=X_Train40_norm,  \n",
        "                          y=y_TrainOneHot, validation_split=0.2,  \n",
        "                          epochs=10, batch_size=300, verbose=2) "
      ],
      "execution_count": 0,
      "outputs": [
        {
          "output_type": "stream",
          "text": [
            "W0826 06:10:58.482905 139731851474816 deprecation.py:323] From /usr/local/lib/python3.6/dist-packages/tensorflow/python/ops/math_grad.py:1250: add_dispatch_support.<locals>.wrapper (from tensorflow.python.ops.array_ops) is deprecated and will be removed in a future version.\n",
            "Instructions for updating:\n",
            "Use tf.where in 2.0, which has the same broadcast rule as np.where\n"
          ],
          "name": "stderr"
        },
        {
          "output_type": "stream",
          "text": [
            "Train on 48000 samples, validate on 12000 samples\n",
            "Epoch 1/10\n"
          ],
          "name": "stdout"
        }
      ]
    },
    {
      "cell_type": "code",
      "metadata": {
        "id": "kIlbPT62jIlK",
        "colab_type": "code",
        "colab": {}
      },
      "source": [
        ""
      ],
      "execution_count": 0,
      "outputs": []
    }
  ]
}