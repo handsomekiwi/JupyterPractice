{
  "nbformat": 4,
  "nbformat_minor": 0,
  "metadata": {
    "colab": {
      "name": "Untitled8.ipynb",
      "version": "0.3.2",
      "provenance": [],
      "include_colab_link": true
    },
    "kernelspec": {
      "name": "python3",
      "display_name": "Python 3"
    },
    "accelerator": "GPU"
  },
  "cells": [
    {
      "cell_type": "markdown",
      "metadata": {
        "id": "view-in-github",
        "colab_type": "text"
      },
      "source": [
        "<a href=\"https://colab.research.google.com/github/handsomekiwi/JupyterPractice/blob/master/ML_course_HW/Y2019%20HW9_2.ipynb\" target=\"_parent\"><img src=\"https://colab.research.google.com/assets/colab-badge.svg\" alt=\"Open In Colab\"/></a>"
      ]
    },
    {
      "cell_type": "code",
      "metadata": {
        "id": "kIlbPT62jIlK",
        "colab_type": "code",
        "colab": {}
      },
      "source": [
        "import numpy as np\n",
        "from keras.datasets import cifar10\n",
        "from keras.utils import np_utils\n",
        "from keras.models import Sequential\n",
        "import matplotlib.pyplot as plt \n",
        "from keras.layers import Dense, Dropout, Activation, Flatten\n",
        "from keras.layers import Conv2D, MaxPooling2D, ZeroPadding2D, GlobalMaxPooling2D\n",
        "import os  "
      ],
      "execution_count": 0,
      "outputs": []
    },
    {
      "cell_type": "code",
      "metadata": {
        "id": "1sZ4rVBUrMlW",
        "colab_type": "code",
        "colab": {}
      },
      "source": [
        "def isDisplayAvl():  \n",
        "    return 'DISPLAY' in os.environ.keys()  "
      ],
      "execution_count": 0,
      "outputs": []
    },
    {
      "cell_type": "code",
      "metadata": {
        "id": "IiJb9cAdrWTr",
        "colab_type": "code",
        "colab": {}
      },
      "source": [
        "def plot_image(image):  \n",
        "    fig = plt.gcf()  \n",
        "    fig.set_size_inches(2,2)  \n",
        "    plt.imshow(image, cmap='binary')  \n",
        "    plt.show()  "
      ],
      "execution_count": 0,
      "outputs": []
    },
    {
      "cell_type": "code",
      "metadata": {
        "id": "EJrijvD-rbgf",
        "colab_type": "code",
        "colab": {}
      },
      "source": [
        "def plot_images_labels_predict(images, labels, prediction, idx, num=10):  \n",
        "    fig = plt.gcf()  \n",
        "    fig.set_size_inches(12, 14)  \n",
        "    if num > 25: num = 25  \n",
        "    for i in range(0, num):  \n",
        "        ax=plt.subplot(5,5, 1+i)  \n",
        "        ax.imshow(images[idx], cmap='binary')  \n",
        "        title = \"l=\" + str(labels[idx])  \n",
        "        if len(prediction) > 0:  \n",
        "            title = \"l={},p={}\".format(str(labels[idx]), str(prediction[idx]))  \n",
        "        else:  \n",
        "            title = \"l={}\".format(str(labels[idx]))  \n",
        "        ax.set_title(title, fontsize=10)  \n",
        "        ax.set_xticks([]); ax.set_yticks([])  \n",
        "        idx+=1  \n",
        "    plt.show()  "
      ],
      "execution_count": 0,
      "outputs": []
    },
    {
      "cell_type": "code",
      "metadata": {
        "id": "XT6bb5lzreCf",
        "colab_type": "code",
        "colab": {}
      },
      "source": [
        "def show_train_history(train_history, train, validation):  \n",
        "    plt.plot(train_history.history[train])  \n",
        "    plt.plot(train_history.history[validation])  \n",
        "    plt.title('Train History')  \n",
        "    plt.ylabel(train)  \n",
        "    plt.xlabel('Epoch')  \n",
        "    plt.legend(['train', 'validation'], loc='upper left')  \n",
        "    plt.show() "
      ],
      "execution_count": 0,
      "outputs": []
    },
    {
      "cell_type": "code",
      "metadata": {
        "id": "_Cu1erU2rgi7",
        "colab_type": "code",
        "colab": {}
      },
      "source": [
        "np.random.seed(10)"
      ],
      "execution_count": 0,
      "outputs": []
    },
    {
      "cell_type": "code",
      "metadata": {
        "id": "HBW_8cDnripl",
        "colab_type": "code",
        "colab": {}
      },
      "source": [
        "#Cifra-10 有50000筆training data 10000筆testing data 32*32的彩色圖片 共10類\n",
        "(x_train_image, y_train_label), (x_test_image, y_test_label)=cifar10.load_data()\n"
      ],
      "execution_count": 0,
      "outputs": []
    },
    {
      "cell_type": "code",
      "metadata": {
        "id": "DgvDfl1xrmlo",
        "colab_type": "code",
        "colab": {}
      },
      "source": [
        "# normalize and onehot\n",
        "x_train_normalize=x_train_image.astype('float32')/255.0\n",
        "x_test_normalize=x_test_image.astype('float32')/255.0  \n",
        "\n",
        "\n",
        "y_train_onehot=np_utils.to_categorical(y_train_label)\n",
        "y_test_onehot=np_utils.to_categorical(y_test_label)"
      ],
      "execution_count": 0,
      "outputs": []
    },
    {
      "cell_type": "code",
      "metadata": {
        "id": "QRs8f2ogrw7b",
        "colab_type": "code",
        "colab": {}
      },
      "source": [
        "\n",
        "#create model\n",
        "model=Sequential()\n",
        "\n",
        "model.add(Conv2D(filters=32,\n",
        "                 kernel_size=(3,3),\n",
        "                 padding='same',\n",
        "                 input_shape=(32,32,3),\n",
        "                 activation='relu'))\n",
        "\n",
        "model.add(MaxPooling2D(pool_size=(2,2)))\n",
        "\n",
        "model.add(Dropout(0.25))\n",
        "\n",
        "model.add(Conv2D(filters=64,\n",
        "                 kernel_size=(3,3),\n",
        "                 padding='same', \n",
        "                 input_shape=(16,16,3),\n",
        "                 activation='relu'))\n",
        "\n",
        "model.add(MaxPooling2D(pool_size=(2,2)))\n",
        "\n",
        "model.add(Dropout(0.25))\n",
        "\n",
        "\n",
        "model.add(Flatten())\n",
        "\n",
        "model.add(Dense(1024, activation='relu'))\n",
        "\n",
        "model.add(Dropout(0.25))\n",
        "\n",
        "model.add(Dense(1024, activation='relu'))\n",
        "\n",
        "model.add(Dropout(0.25))\n",
        "\n",
        "model.add(Dense(10,activation='softmax'))"
      ],
      "execution_count": 0,
      "outputs": []
    },
    {
      "cell_type": "code",
      "metadata": {
        "id": "NqvldxGCr_ME",
        "colab_type": "code",
        "outputId": "bc740377-96c6-4632-d9f5-8620aebff85b",
        "colab": {
          "base_uri": "https://localhost:8080/",
          "height": 586
        }
      },
      "source": [
        "#show the model\n",
        "model.summary()  \n",
        "print(\"\") "
      ],
      "execution_count": 47,
      "outputs": [
        {
          "output_type": "stream",
          "text": [
            "_________________________________________________________________\n",
            "Layer (type)                 Output Shape              Param #   \n",
            "=================================================================\n",
            "conv2d_17 (Conv2D)           (None, 32, 32, 32)        896       \n",
            "_________________________________________________________________\n",
            "max_pooling2d_14 (MaxPooling (None, 16, 16, 32)        0         \n",
            "_________________________________________________________________\n",
            "dropout_23 (Dropout)         (None, 16, 16, 32)        0         \n",
            "_________________________________________________________________\n",
            "conv2d_18 (Conv2D)           (None, 16, 16, 64)        18496     \n",
            "_________________________________________________________________\n",
            "max_pooling2d_15 (MaxPooling (None, 8, 8, 64)          0         \n",
            "_________________________________________________________________\n",
            "dropout_24 (Dropout)         (None, 8, 8, 64)          0         \n",
            "_________________________________________________________________\n",
            "flatten_7 (Flatten)          (None, 4096)              0         \n",
            "_________________________________________________________________\n",
            "dense_18 (Dense)             (None, 1024)              4195328   \n",
            "_________________________________________________________________\n",
            "dropout_25 (Dropout)         (None, 1024)              0         \n",
            "_________________________________________________________________\n",
            "dense_19 (Dense)             (None, 1024)              1049600   \n",
            "_________________________________________________________________\n",
            "dropout_26 (Dropout)         (None, 1024)              0         \n",
            "_________________________________________________________________\n",
            "dense_20 (Dense)             (None, 10)                10250     \n",
            "=================================================================\n",
            "Total params: 5,274,570\n",
            "Trainable params: 5,274,570\n",
            "Non-trainable params: 0\n",
            "_________________________________________________________________\n",
            "\n"
          ],
          "name": "stdout"
        }
      ]
    },
    {
      "cell_type": "code",
      "metadata": {
        "id": "qKeLHOzVAEZK",
        "colab_type": "code",
        "colab": {}
      },
      "source": [
        "#dense 4096*1024+1024 \n",
        "#dense 1024*1024+1024 \n",
        "#dense 1024*10+10"
      ],
      "execution_count": 0,
      "outputs": []
    },
    {
      "cell_type": "code",
      "metadata": {
        "id": "mVYY_mRmsCWR",
        "colab_type": "code",
        "outputId": "96ba58a9-d317-452a-d870-7fb25ef45955",
        "colab": {
          "base_uri": "https://localhost:8080/",
          "height": 390
        }
      },
      "source": [
        "model.compile(loss='categorical_crossentropy',optimizer='adam',metrics=['accuracy'])\n",
        "\n",
        "train_history=model.fit(x=x_train_normalize, y=y_train_onehot, validation_split=0.2, epochs=10, batch_size=128,verbose=2)"
      ],
      "execution_count": 49,
      "outputs": [
        {
          "output_type": "stream",
          "text": [
            "Train on 40000 samples, validate on 10000 samples\n",
            "Epoch 1/10\n",
            " - 9s - loss: 1.6193 - acc: 0.4069 - val_loss: 1.2495 - val_acc: 0.5566\n",
            "Epoch 2/10\n",
            " - 8s - loss: 1.1891 - acc: 0.5729 - val_loss: 1.0723 - val_acc: 0.6215\n",
            "Epoch 3/10\n",
            " - 8s - loss: 1.0510 - acc: 0.6288 - val_loss: 0.9822 - val_acc: 0.6564\n",
            "Epoch 4/10\n",
            " - 8s - loss: 0.9326 - acc: 0.6721 - val_loss: 0.8882 - val_acc: 0.6956\n",
            "Epoch 5/10\n",
            " - 8s - loss: 0.8450 - acc: 0.7007 - val_loss: 0.8382 - val_acc: 0.7030\n",
            "Epoch 6/10\n",
            " - 8s - loss: 0.7697 - acc: 0.7276 - val_loss: 0.8361 - val_acc: 0.7136\n",
            "Epoch 7/10\n",
            " - 8s - loss: 0.6889 - acc: 0.7570 - val_loss: 0.8263 - val_acc: 0.7155\n",
            "Epoch 8/10\n",
            " - 8s - loss: 0.6298 - acc: 0.7751 - val_loss: 0.8035 - val_acc: 0.7314\n",
            "Epoch 9/10\n",
            " - 8s - loss: 0.5663 - acc: 0.7981 - val_loss: 0.7975 - val_acc: 0.7362\n",
            "Epoch 10/10\n",
            " - 8s - loss: 0.5046 - acc: 0.8165 - val_loss: 0.8216 - val_acc: 0.7339\n"
          ],
          "name": "stdout"
        }
      ]
    },
    {
      "cell_type": "code",
      "metadata": {
        "id": "TspsjPXzsI8H",
        "colab_type": "code",
        "outputId": "1d652462-d06d-464a-9d11-2919bc9b7f2b",
        "colab": {
          "base_uri": "https://localhost:8080/",
          "height": 295
        }
      },
      "source": [
        "show_train_history(train_history, 'acc', 'val_acc')"
      ],
      "execution_count": 50,
      "outputs": [
        {
          "output_type": "display_data",
          "data": {
            "image/png": "[encoded data removed]",
            "text/plain": [
              "<Figure size 432x288 with 1 Axes>"
            ]
          },
          "metadata": {
            "tags": []
          }
        }
      ]
    },
    {
      "cell_type": "code",
      "metadata": {
        "id": "nRYH-HtwsPKw",
        "colab_type": "code",
        "outputId": "bd943cc7-cf73-4408-9a67-55ceb23b9b9b",
        "colab": {
          "base_uri": "https://localhost:8080/",
          "height": 295
        }
      },
      "source": [
        "show_train_history(train_history, 'loss', 'val_loss')"
      ],
      "execution_count": 51,
      "outputs": [
        {
          "output_type": "display_data",
          "data": {
            "image/png": "[encoded data removed]",
            "text/plain": [
              "<Figure size 432x288 with 1 Axes>"
            ]
          },
          "metadata": {
            "tags": []
          }
        }
      ]
    },
    {
      "cell_type": "code",
      "metadata": {
        "id": "EhJ2Hm2ysRdl",
        "colab_type": "code",
        "outputId": "3e8b0614-fc39-4c5b-9723-b38adb2cfe63",
        "colab": {
          "base_uri": "https://localhost:8080/",
          "height": 70
        }
      },
      "source": [
        "scores = model.evaluate(x_test_normalize, y_test_onehot)  \n",
        "print()  \n",
        "print(\"\\t[Info] Accuracy of testing data = {:2.1f}%\".format(scores[1]*100.0)) "
      ],
      "execution_count": 52,
      "outputs": [
        {
          "output_type": "stream",
          "text": [
            "10000/10000 [==============================] - 1s 127us/step\n",
            "\n",
            "\t[Info] Accuracy of testing data = 72.5%\n"
          ],
          "name": "stdout"
        }
      ]
    },
    {
      "cell_type": "code",
      "metadata": {
        "id": "V6o5bIUZI95s",
        "colab_type": "code",
        "colab": {}
      },
      "source": [
        "#create model\n",
        "model=Sequential()\n",
        "\n",
        "model.add(Conv2D(filters=32,\n",
        "                 kernel_size=(3,3),\n",
        "                 padding='same',\n",
        "                 input_shape=(32,32,3),\n",
        "                 activation='relu'))\n",
        "\n",
        "model.add(MaxPooling2D(pool_size=(2,2)))\n",
        "\n",
        "model.add(Dropout(0.25))\n",
        "\n",
        "model.add(Conv2D(filters=32,\n",
        "                 kernel_size=(3,3),\n",
        "                 padding='same', \n",
        "                 input_shape=(16,16,3),\n",
        "                 activation='relu'))\n",
        "\n",
        "model.add(MaxPooling2D(pool_size=(2,2)))\n",
        "\n",
        "model.add(Dropout(0.25))\n",
        "\n",
        "\n",
        "model.add(Flatten())\n",
        "\n",
        "model.add(Dense(1024, activation='relu'))\n",
        "\n",
        "model.add(Dropout(0.25))\n",
        "\n",
        "model.add(Dense(1024, activation='relu'))\n",
        "\n",
        "model.add(Dropout(0.25))\n",
        "\n",
        "model.add(Dense(10,activation='softmax'))"
      ],
      "execution_count": 0,
      "outputs": []
    },
    {
      "cell_type": "code",
      "metadata": {
        "id": "-DvYa3S8JtY6",
        "colab_type": "code",
        "colab": {
          "base_uri": "https://localhost:8080/",
          "height": 390
        },
        "outputId": "2db1c90e-32ba-4c98-8fbc-14524593d29f"
      },
      "source": [
        "model.compile(loss='categorical_crossentropy',optimizer='adam',metrics=['accuracy'])\n",
        "\n",
        "train_history=model.fit(x=x_train_normalize, y=y_train_onehot, validation_split=0.2, epochs=10, batch_size=128,verbose=2)"
      ],
      "execution_count": 57,
      "outputs": [
        {
          "output_type": "stream",
          "text": [
            "Train on 40000 samples, validate on 10000 samples\n",
            "Epoch 1/10\n",
            " - 7s - loss: 1.6651 - acc: 0.3881 - val_loss: 1.3655 - val_acc: 0.5020\n",
            "Epoch 2/10\n",
            " - 5s - loss: 1.2665 - acc: 0.5478 - val_loss: 1.1447 - val_acc: 0.5981\n",
            "Epoch 3/10\n",
            " - 5s - loss: 1.1148 - acc: 0.6026 - val_loss: 1.0130 - val_acc: 0.6438\n",
            "Epoch 4/10\n",
            " - 6s - loss: 1.0066 - acc: 0.6421 - val_loss: 0.9721 - val_acc: 0.6687\n",
            "Epoch 5/10\n",
            " - 5s - loss: 0.9195 - acc: 0.6782 - val_loss: 0.9212 - val_acc: 0.6788\n",
            "Epoch 6/10\n",
            " - 5s - loss: 0.8360 - acc: 0.7051 - val_loss: 0.8549 - val_acc: 0.7049\n",
            "Epoch 7/10\n",
            " - 5s - loss: 0.7701 - acc: 0.7283 - val_loss: 0.8364 - val_acc: 0.7072\n",
            "Epoch 8/10\n",
            " - 5s - loss: 0.7003 - acc: 0.7530 - val_loss: 0.8047 - val_acc: 0.7246\n",
            "Epoch 9/10\n",
            " - 6s - loss: 0.6479 - acc: 0.7688 - val_loss: 0.7943 - val_acc: 0.7273\n",
            "Epoch 10/10\n",
            " - 5s - loss: 0.6033 - acc: 0.7849 - val_loss: 0.8128 - val_acc: 0.7182\n"
          ],
          "name": "stdout"
        }
      ]
    },
    {
      "cell_type": "code",
      "metadata": {
        "id": "3ajYcxArJzQa",
        "colab_type": "code",
        "colab": {
          "base_uri": "https://localhost:8080/",
          "height": 70
        },
        "outputId": "e61407f4-f6c7-4257-b560-356fbc2be5d8"
      },
      "source": [
        "scores = model.evaluate(x_test_normalize, y_test_onehot)  \n",
        "print()  \n",
        "print(\"\\t[Info] Accuracy of testing data = {:2.1f}%\".format(scores[1]*100.0))# 後面filter樹沒增加，準確率越小 "
      ],
      "execution_count": 59,
      "outputs": [
        {
          "output_type": "stream",
          "text": [
            "10000/10000 [==============================] - 1s 114us/step\n",
            "\n",
            "\t[Info] Accuracy of testing data = 71.1%\n"
          ],
          "name": "stdout"
        }
      ]
    },
    {
      "cell_type": "code",
      "metadata": {
        "id": "3_2UkNuHKrX0",
        "colab_type": "code",
        "colab": {}
      },
      "source": [
        "#create model\n",
        "model=Sequential()\n",
        "\n",
        "model.add(Conv2D(filters=32,\n",
        "                 kernel_size=(3,3),\n",
        "                 padding='same',\n",
        "                 input_shape=(32,32,3),\n",
        "                 activation='relu'))\n",
        "\n",
        "model.add(MaxPooling2D(pool_size=(2,2)))\n",
        "\n",
        "model.add(Dropout(0.25))\n",
        "\n",
        "model.add(Conv2D(filters=64,\n",
        "                 kernel_size=(3,3),\n",
        "                 padding='same', \n",
        "                 input_shape=(16,16,3),\n",
        "                 activation='relu'))\n",
        "\n",
        "model.add(MaxPooling2D(pool_size=(2,2)))\n",
        "\n",
        "model.add(Dropout(0.25))\n",
        "\n",
        "\n",
        "model.add(Conv2D(filters=128,\n",
        "                 kernel_size=(3,3),\n",
        "                 padding='same',                \n",
        "                 activation='relu'))\n",
        "\n",
        "model.add(MaxPooling2D(pool_size=(2,2)))\n",
        "\n",
        "model.add(Dropout(0.25))\n",
        "model.add(Flatten())\n",
        "\n",
        "model.add(Dense(1024, activation='relu'))\n",
        "\n",
        "model.add(Dropout(0.25))\n",
        "\n",
        "model.add(Dense(1024, activation='relu'))\n",
        "\n",
        "model.add(Dropout(0.25))\n",
        "\n",
        "model.add(Dense(10,activation='softmax'))"
      ],
      "execution_count": 0,
      "outputs": []
    },
    {
      "cell_type": "code",
      "metadata": {
        "id": "Gue1kBbmK2zJ",
        "colab_type": "code",
        "colab": {
          "base_uri": "https://localhost:8080/",
          "height": 1000
        },
        "outputId": "3c29e10e-227d-47b3-d866-05a6f2da6352"
      },
      "source": [
        "model.compile(loss='categorical_crossentropy',optimizer='adam',metrics=['accuracy'])\n",
        "\n",
        "train_history=model.fit(x=x_train_normalize, y=y_train_onehot, validation_split=0.2, epochs=15, batch_size=128,verbose=2)\n",
        "show_train_history(train_history, 'acc', 'val_acc')\n",
        "show_train_history(train_history, 'loss', 'val_loss')\n",
        "scores = model.evaluate(x_test_normalize, y_test_onehot)  \n",
        "print()  \n",
        "print(\"\\t[Info] Accuracy of testing data = {:2.1f}%\".format(scores[1]*100.0)) "
      ],
      "execution_count": 81,
      "outputs": [
        {
          "output_type": "stream",
          "text": [
            "Train on 40000 samples, validate on 10000 samples\n",
            "Epoch 1/15\n",
            " - 11s - loss: 1.7261 - acc: 0.3617 - val_loss: 1.4059 - val_acc: 0.5006\n",
            "Epoch 2/15\n",
            " - 9s - loss: 1.3227 - acc: 0.5228 - val_loss: 1.1390 - val_acc: 0.5990\n",
            "Epoch 3/15\n",
            " - 9s - loss: 1.1438 - acc: 0.5883 - val_loss: 1.0238 - val_acc: 0.6374\n",
            "Epoch 4/15\n",
            " - 9s - loss: 1.0366 - acc: 0.6313 - val_loss: 0.9824 - val_acc: 0.6455\n",
            "Epoch 5/15\n",
            " - 9s - loss: 0.9453 - acc: 0.6624 - val_loss: 0.8533 - val_acc: 0.7031\n",
            "Epoch 6/15\n",
            " - 9s - loss: 0.8664 - acc: 0.6923 - val_loss: 0.8654 - val_acc: 0.6938\n",
            "Epoch 7/15\n",
            " - 9s - loss: 0.8159 - acc: 0.7100 - val_loss: 0.8090 - val_acc: 0.7174\n",
            "Epoch 8/15\n",
            " - 9s - loss: 0.7711 - acc: 0.7244 - val_loss: 0.7453 - val_acc: 0.7390\n",
            "Epoch 9/15\n",
            " - 9s - loss: 0.7159 - acc: 0.7471 - val_loss: 0.7713 - val_acc: 0.7298\n",
            "Epoch 10/15\n",
            " - 9s - loss: 0.6788 - acc: 0.7586 - val_loss: 0.7373 - val_acc: 0.7452\n",
            "Epoch 11/15\n",
            " - 9s - loss: 0.6392 - acc: 0.7718 - val_loss: 0.7074 - val_acc: 0.7535\n",
            "Epoch 12/15\n",
            " - 9s - loss: 0.6048 - acc: 0.7845 - val_loss: 0.7316 - val_acc: 0.7517\n",
            "Epoch 13/15\n",
            " - 9s - loss: 0.5637 - acc: 0.7972 - val_loss: 0.6972 - val_acc: 0.7614\n",
            "Epoch 14/15\n",
            " - 9s - loss: 0.5366 - acc: 0.8080 - val_loss: 0.7036 - val_acc: 0.7622\n",
            "Epoch 15/15\n",
            " - 9s - loss: 0.5170 - acc: 0.8154 - val_loss: 0.6955 - val_acc: 0.7664\n"
          ],
          "name": "stdout"
        },
        {
          "output_type": "display_data",
          "data": {
            "image/png": "[encoded data removed]",
            "text/plain": [
              "<Figure size 432x288 with 1 Axes>"
            ]
          },
          "metadata": {
            "tags": []
          }
        },
        {
          "output_type": "display_data",
          "data": {
            "image/png": "[encoded data removed]",
            "text/plain": [
              "<Figure size 432x288 with 1 Axes>"
            ]
          },
          "metadata": {
            "tags": []
          }
        },
        {
          "output_type": "stream",
          "text": [
            "10000/10000 [==============================] - 1s 125us/step\n",
            "\n",
            "\t[Info] Accuracy of testing data = 75.9%\n"
          ],
          "name": "stdout"
        }
      ]
    },
    {
      "cell_type": "code",
      "metadata": {
        "id": "pAhy130fLLhH",
        "colab_type": "code",
        "colab": {}
      },
      "source": [
        "# 原始72.5\n",
        "#Dropout增減有影響 epoch 不是越多越好\n",
        "# 後面filter數沒增加，準確率越小\n",
        "#多增加convolution 有助於model解析特徵"
      ],
      "execution_count": 0,
      "outputs": []
    }
  ]
}