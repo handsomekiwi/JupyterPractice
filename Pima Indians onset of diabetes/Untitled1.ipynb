{
  "nbformat": 4,
  "nbformat_minor": 0,
  "metadata": {
    "colab": {
      "name": "Untitled1.ipynb",
      "version": "0.3.2",
      "provenance": [],
      "include_colab_link": true
    },
    "kernelspec": {
      "name": "python3",
      "display_name": "Python 3"
    },
    "accelerator": "GPU"
  },
  "cells": [
    {
      "cell_type": "markdown",
      "metadata": {
        "id": "view-in-github",
        "colab_type": "text"
      },
      "source": [
        "<a href=\"https://colab.research.google.com/github/handsomekiwi/JupyterPractice/blob/master/Pima%20Indians%20onset%20of%20diabetes/Untitled1.ipynb\" target=\"_parent\"><img src=\"https://colab.research.google.com/assets/colab-badge.svg\" alt=\"Open In Colab\"/></a>"
      ]
    },
    {
      "cell_type": "code",
      "metadata": {
        "id": "UnsdIw8wkL5c",
        "colab_type": "code",
        "colab": {}
      },
      "source": [
        "import numpy as np\n",
        "import matplotlib.pyplot as plt"
      ],
      "execution_count": 0,
      "outputs": []
    },
    {
      "cell_type": "code",
      "metadata": {
        "id": "EsBcWEo7lLez",
        "colab_type": "code",
        "colab": {}
      },
      "source": [
        "%matplotlib inline  \n",
        "#內嵌繪圖\n"
      ],
      "execution_count": 0,
      "outputs": []
    },
    {
      "cell_type": "code",
      "metadata": {
        "id": "vazDxJv4lqph",
        "colab_type": "code",
        "colab": {}
      },
      "source": [
        "# load pima indians dataset\n",
        "dataset = np.loadtxt(\"https://raw.githubusercontent.com/handsomekiwi/JupyterPractice/master/Pima%20Indians%20onset%20of%20diabetes/pima-indians-diabetes.csv\", delimiter=\",\")"
      ],
      "execution_count": 0,
      "outputs": []
    },
    {
      "cell_type": "code",
      "metadata": {
        "id": "UCnwUGYKSEJc",
        "colab_type": "code",
        "colab": {}
      },
      "source": [
        "# split into input (X) and output (Y) variables\n",
        "X = dataset[:,0:8]\n",
        "Y = dataset[:,8]"
      ],
      "execution_count": 0,
      "outputs": []
    },
    {
      "cell_type": "code",
      "metadata": {
        "id": "fEpUFYClSF6A",
        "colab_type": "code",
        "colab": {
          "base_uri": "https://localhost:8080/",
          "height": 134
        },
        "outputId": "cbd05039-ec9c-4377-ad66-975e878caa37"
      },
      "source": [
        "print(X)"
      ],
      "execution_count": 5,
      "outputs": [
        {
          "output_type": "stream",
          "text": [
            "[[  6.    148.     72.    ...  33.6     0.627  50.   ]\n",
            " [  1.     85.     66.    ...  26.6     0.351  31.   ]\n",
            " [  8.    183.     64.    ...  23.3     0.672  32.   ]\n",
            " ...\n",
            " [  5.    121.     72.    ...  26.2     0.245  30.   ]\n",
            " [  1.    126.     60.    ...  30.1     0.349  47.   ]\n",
            " [  1.     93.     70.    ...  30.4     0.315  23.   ]]\n"
          ],
          "name": "stdout"
        }
      ]
    },
    {
      "cell_type": "code",
      "metadata": {
        "id": "LR85Lk0TSIdi",
        "colab_type": "code",
        "colab": {
          "base_uri": "https://localhost:8080/",
          "height": 554
        },
        "outputId": "06d2bfae-2fb1-4787-d347-2b54eb480843"
      },
      "source": [
        "print(Y)"
      ],
      "execution_count": 6,
      "outputs": [
        {
          "output_type": "stream",
          "text": [
            "[1. 0. 1. 0. 1. 0. 1. 0. 1. 1. 0. 1. 0. 1. 1. 1. 1. 1. 0. 1. 0. 0. 1. 1.\n",
            " 1. 1. 1. 0. 0. 0. 0. 1. 0. 0. 0. 0. 0. 1. 1. 1. 0. 0. 0. 1. 0. 1. 0. 0.\n",
            " 1. 0. 0. 0. 0. 1. 0. 0. 1. 0. 0. 0. 0. 1. 0. 0. 1. 0. 1. 0. 0. 0. 1. 0.\n",
            " 1. 0. 0. 0. 0. 0. 1. 0. 0. 0. 0. 0. 1. 0. 0. 0. 1. 0. 0. 0. 0. 1. 0. 0.\n",
            " 0. 0. 0. 1. 1. 0. 0. 0. 0. 0. 0. 0. 0. 1. 1. 1. 0. 0. 1. 1. 1. 0. 0. 0.\n",
            " 1. 0. 0. 0. 1. 1. 0. 0. 1. 1. 1. 1. 1. 0. 0. 0. 0. 0. 0. 0. 0. 0. 0. 1.\n",
            " 0. 0. 0. 0. 0. 0. 0. 0. 1. 0. 1. 1. 0. 0. 0. 1. 0. 0. 0. 0. 1. 1. 0. 0.\n",
            " 0. 0. 1. 1. 0. 0. 0. 1. 0. 1. 0. 1. 0. 0. 0. 0. 0. 1. 1. 1. 1. 1. 0. 0.\n",
            " 1. 1. 0. 1. 0. 1. 1. 1. 0. 0. 0. 0. 0. 0. 1. 1. 0. 1. 0. 0. 0. 1. 1. 1.\n",
            " 1. 0. 1. 1. 1. 1. 0. 0. 0. 0. 0. 1. 0. 0. 1. 1. 0. 0. 0. 1. 1. 1. 1. 0.\n",
            " 0. 0. 1. 1. 0. 1. 0. 0. 0. 0. 0. 0. 0. 0. 1. 1. 0. 0. 0. 1. 0. 1. 0. 0.\n",
            " 1. 0. 1. 0. 0. 1. 1. 0. 0. 0. 0. 0. 1. 0. 0. 0. 1. 0. 0. 1. 1. 0. 0. 1.\n",
            " 0. 0. 0. 1. 1. 1. 0. 0. 1. 0. 1. 0. 1. 1. 0. 1. 0. 0. 1. 0. 1. 1. 0. 0.\n",
            " 1. 0. 1. 0. 0. 1. 0. 1. 0. 1. 1. 1. 0. 0. 1. 0. 1. 0. 0. 0. 1. 0. 0. 0.\n",
            " 0. 1. 1. 1. 0. 0. 0. 0. 0. 0. 0. 0. 0. 1. 0. 0. 0. 0. 0. 1. 1. 1. 0. 1.\n",
            " 1. 0. 0. 1. 0. 0. 1. 0. 0. 1. 1. 0. 0. 0. 0. 1. 0. 0. 1. 0. 0. 0. 0. 0.\n",
            " 0. 0. 1. 1. 1. 0. 0. 1. 0. 0. 1. 0. 0. 1. 0. 1. 1. 0. 1. 0. 1. 0. 1. 0.\n",
            " 1. 1. 0. 0. 0. 0. 1. 1. 0. 1. 0. 1. 0. 0. 0. 0. 1. 1. 0. 1. 0. 1. 0. 0.\n",
            " 0. 0. 0. 1. 0. 0. 0. 0. 1. 0. 0. 1. 1. 1. 0. 0. 1. 0. 0. 1. 0. 0. 0. 1.\n",
            " 0. 0. 1. 0. 0. 0. 0. 0. 0. 0. 0. 0. 1. 0. 0. 0. 0. 0. 0. 0. 1. 0. 0. 0.\n",
            " 1. 0. 0. 0. 1. 1. 0. 0. 0. 0. 0. 0. 0. 1. 0. 0. 0. 0. 1. 0. 0. 0. 1. 0.\n",
            " 0. 0. 1. 0. 0. 0. 1. 0. 0. 0. 0. 1. 1. 0. 0. 0. 0. 0. 0. 1. 0. 0. 0. 0.\n",
            " 0. 0. 0. 0. 0. 0. 0. 1. 0. 0. 0. 1. 1. 1. 1. 0. 0. 1. 1. 0. 0. 0. 0. 0.\n",
            " 0. 0. 0. 0. 0. 0. 0. 0. 1. 1. 0. 0. 0. 0. 0. 0. 0. 1. 0. 0. 0. 0. 0. 0.\n",
            " 0. 1. 0. 1. 1. 0. 0. 0. 1. 0. 1. 0. 1. 0. 1. 0. 1. 0. 0. 1. 0. 0. 1. 0.\n",
            " 0. 0. 0. 1. 1. 0. 1. 0. 0. 0. 0. 1. 1. 0. 1. 0. 0. 0. 1. 1. 0. 0. 0. 0.\n",
            " 0. 0. 0. 0. 0. 0. 1. 0. 0. 0. 0. 1. 0. 0. 1. 0. 0. 0. 1. 0. 0. 0. 1. 1.\n",
            " 1. 0. 0. 0. 0. 0. 0. 1. 0. 0. 0. 1. 0. 1. 1. 1. 1. 0. 1. 1. 0. 0. 0. 0.\n",
            " 0. 0. 0. 1. 1. 0. 1. 0. 0. 1. 0. 1. 0. 0. 0. 0. 0. 1. 0. 1. 0. 1. 0. 1.\n",
            " 1. 0. 0. 0. 0. 1. 1. 0. 0. 0. 1. 0. 1. 1. 0. 0. 1. 0. 0. 1. 1. 0. 0. 1.\n",
            " 0. 0. 1. 0. 0. 0. 0. 0. 0. 0. 1. 1. 1. 0. 0. 0. 0. 0. 0. 1. 1. 0. 0. 1.\n",
            " 0. 0. 1. 0. 1. 1. 1. 0. 0. 1. 1. 1. 0. 1. 0. 1. 0. 1. 0. 0. 0. 0. 1. 0.]\n"
          ],
          "name": "stdout"
        }
      ]
    },
    {
      "cell_type": "code",
      "metadata": {
        "id": "pyqMSTC8VCWv",
        "colab_type": "code",
        "colab": {
          "base_uri": "https://localhost:8080/",
          "height": 34
        },
        "outputId": "3216c837-0a7a-485d-bf9d-bc986113518a"
      },
      "source": [
        "# Create first network with Keras\n",
        "from keras.models import Sequential\n",
        "from keras.layers import Dense"
      ],
      "execution_count": 7,
      "outputs": [
        {
          "output_type": "stream",
          "text": [
            "Using TensorFlow backend.\n"
          ],
          "name": "stderr"
        }
      ]
    },
    {
      "cell_type": "code",
      "metadata": {
        "id": "yNvMp6N5V4iV",
        "colab_type": "code",
        "colab": {
          "base_uri": "https://localhost:8080/",
          "height": 154
        },
        "outputId": "33adbf91-d5e6-4587-e0a4-54fe179e04e7"
      },
      "source": [
        "#create model \n",
        "model = Sequential()\n",
        "model.add(Dense(12,input_dim=8,activation='relu'))\n",
        "model.add(Dense(8,activation='relu'))\n",
        "model.add(Dense(8,activation='relu'))\n",
        "model.add(Dense(8,activation='relu'))\n",
        "model.add(Dense(1,activation='sigmoid'))"
      ],
      "execution_count": 8,
      "outputs": [
        {
          "output_type": "stream",
          "text": [
            "WARNING: Logging before flag parsing goes to stderr.\n",
            "W0817 02:49:21.665487 140670996563840 deprecation_wrapper.py:119] From /usr/local/lib/python3.6/dist-packages/keras/backend/tensorflow_backend.py:74: The name tf.get_default_graph is deprecated. Please use tf.compat.v1.get_default_graph instead.\n",
            "\n",
            "W0817 02:49:21.685045 140670996563840 deprecation_wrapper.py:119] From /usr/local/lib/python3.6/dist-packages/keras/backend/tensorflow_backend.py:517: The name tf.placeholder is deprecated. Please use tf.compat.v1.placeholder instead.\n",
            "\n",
            "W0817 02:49:21.687260 140670996563840 deprecation_wrapper.py:119] From /usr/local/lib/python3.6/dist-packages/keras/backend/tensorflow_backend.py:4138: The name tf.random_uniform is deprecated. Please use tf.random.uniform instead.\n",
            "\n"
          ],
          "name": "stderr"
        }
      ]
    },
    {
      "cell_type": "code",
      "metadata": {
        "id": "7dd-VECSZKy-",
        "colab_type": "code",
        "colab": {
          "base_uri": "https://localhost:8080/",
          "height": 302
        },
        "outputId": "46d47cee-5fce-42dc-e110-49bb90beb581"
      },
      "source": [
        "model.summary()"
      ],
      "execution_count": 9,
      "outputs": [
        {
          "output_type": "stream",
          "text": [
            "_________________________________________________________________\n",
            "Layer (type)                 Output Shape              Param #   \n",
            "=================================================================\n",
            "dense_1 (Dense)              (None, 12)                108       \n",
            "_________________________________________________________________\n",
            "dense_2 (Dense)              (None, 8)                 104       \n",
            "_________________________________________________________________\n",
            "dense_3 (Dense)              (None, 8)                 72        \n",
            "_________________________________________________________________\n",
            "dense_4 (Dense)              (None, 8)                 72        \n",
            "_________________________________________________________________\n",
            "dense_5 (Dense)              (None, 1)                 9         \n",
            "=================================================================\n",
            "Total params: 365\n",
            "Trainable params: 365\n",
            "Non-trainable params: 0\n",
            "_________________________________________________________________\n"
          ],
          "name": "stdout"
        }
      ]
    },
    {
      "cell_type": "code",
      "metadata": {
        "id": "Bth76BEAZJMn",
        "colab_type": "code",
        "colab": {
          "base_uri": "https://localhost:8080/",
          "height": 1000
        },
        "outputId": "5424e9ba-3ff3-417f-85bb-496c12f33014"
      },
      "source": [
        "# Compile model\n",
        "model.compile(loss='binary_crossentropy', optimizer='adam', metrics=['accuracy']) # Fit the model\n",
        "model.fit(X, Y, nb_epoch=150, batch_size=10)"
      ],
      "execution_count": 10,
      "outputs": [
        {
          "output_type": "stream",
          "text": [
            "W0817 02:49:21.769753 140670996563840 deprecation_wrapper.py:119] From /usr/local/lib/python3.6/dist-packages/keras/optimizers.py:790: The name tf.train.Optimizer is deprecated. Please use tf.compat.v1.train.Optimizer instead.\n",
            "\n",
            "W0817 02:49:21.793667 140670996563840 deprecation_wrapper.py:119] From /usr/local/lib/python3.6/dist-packages/keras/backend/tensorflow_backend.py:3376: The name tf.log is deprecated. Please use tf.math.log instead.\n",
            "\n",
            "W0817 02:49:21.799900 140670996563840 deprecation.py:323] From /usr/local/lib/python3.6/dist-packages/tensorflow/python/ops/nn_impl.py:180: add_dispatch_support.<locals>.wrapper (from tensorflow.python.ops.array_ops) is deprecated and will be removed in a future version.\n",
            "Instructions for updating:\n",
            "Use tf.where in 2.0, which has the same broadcast rule as np.where\n",
            "/usr/local/lib/python3.6/dist-packages/ipykernel_launcher.py:2: UserWarning: The `nb_epoch` argument in `fit` has been renamed `epochs`.\n",
            "  \n",
            "W0817 02:49:22.048127 140670996563840 deprecation_wrapper.py:119] From /usr/local/lib/python3.6/dist-packages/keras/backend/tensorflow_backend.py:986: The name tf.assign_add is deprecated. Please use tf.compat.v1.assign_add instead.\n",
            "\n"
          ],
          "name": "stderr"
        },
        {
          "output_type": "stream",
          "text": [
            "Epoch 1/150\n",
            "768/768 [==============================] - 2s 2ms/step - loss: 2.3982 - acc: 0.4544\n",
            "Epoch 2/150\n",
            "768/768 [==============================] - 0s 395us/step - loss: 1.0670 - acc: 0.5612\n",
            "Epoch 3/150\n",
            "768/768 [==============================] - 0s 378us/step - loss: 0.7965 - acc: 0.6081\n",
            "Epoch 4/150\n",
            "768/768 [==============================] - 0s 422us/step - loss: 0.7072 - acc: 0.6576\n",
            "Epoch 5/150\n",
            "768/768 [==============================] - 0s 404us/step - loss: 0.6632 - acc: 0.6471\n",
            "Epoch 6/150\n",
            "768/768 [==============================] - 0s 401us/step - loss: 0.6471 - acc: 0.6497\n",
            "Epoch 7/150\n",
            "768/768 [==============================] - 0s 413us/step - loss: 0.6366 - acc: 0.6602\n",
            "Epoch 8/150\n",
            "768/768 [==============================] - 0s 382us/step - loss: 0.6122 - acc: 0.6810\n",
            "Epoch 9/150\n",
            "768/768 [==============================] - 0s 400us/step - loss: 0.6089 - acc: 0.6758\n",
            "Epoch 10/150\n",
            "768/768 [==============================] - 0s 405us/step - loss: 0.6078 - acc: 0.6719\n",
            "Epoch 11/150\n",
            "768/768 [==============================] - 0s 400us/step - loss: 0.6001 - acc: 0.6719\n",
            "Epoch 12/150\n",
            "768/768 [==============================] - 0s 388us/step - loss: 0.5957 - acc: 0.6628\n",
            "Epoch 13/150\n",
            "768/768 [==============================] - 0s 391us/step - loss: 0.5936 - acc: 0.6914\n",
            "Epoch 14/150\n",
            "768/768 [==============================] - 0s 408us/step - loss: 0.5968 - acc: 0.6862\n",
            "Epoch 15/150\n",
            "768/768 [==============================] - 0s 387us/step - loss: 0.5892 - acc: 0.6901\n",
            "Epoch 16/150\n",
            "768/768 [==============================] - 0s 387us/step - loss: 0.5958 - acc: 0.6784\n",
            "Epoch 17/150\n",
            "768/768 [==============================] - 0s 400us/step - loss: 0.5825 - acc: 0.6888\n",
            "Epoch 18/150\n",
            "768/768 [==============================] - 0s 391us/step - loss: 0.5774 - acc: 0.6862\n",
            "Epoch 19/150\n",
            "768/768 [==============================] - 0s 405us/step - loss: 0.5805 - acc: 0.6940\n",
            "Epoch 20/150\n",
            "768/768 [==============================] - 0s 411us/step - loss: 0.5684 - acc: 0.7018\n",
            "Epoch 21/150\n",
            "768/768 [==============================] - 0s 382us/step - loss: 0.5739 - acc: 0.6862\n",
            "Epoch 22/150\n",
            "768/768 [==============================] - 0s 376us/step - loss: 0.5713 - acc: 0.6914\n",
            "Epoch 23/150\n",
            "768/768 [==============================] - 0s 398us/step - loss: 0.5707 - acc: 0.6953\n",
            "Epoch 24/150\n",
            "768/768 [==============================] - 0s 419us/step - loss: 0.5650 - acc: 0.6979\n",
            "Epoch 25/150\n",
            "768/768 [==============================] - 0s 390us/step - loss: 0.5611 - acc: 0.7057\n",
            "Epoch 26/150\n",
            "768/768 [==============================] - 0s 372us/step - loss: 0.5601 - acc: 0.7044\n",
            "Epoch 27/150\n",
            "768/768 [==============================] - 0s 393us/step - loss: 0.5613 - acc: 0.7031\n",
            "Epoch 28/150\n",
            "768/768 [==============================] - 0s 395us/step - loss: 0.5624 - acc: 0.7044\n",
            "Epoch 29/150\n",
            "768/768 [==============================] - 0s 400us/step - loss: 0.5521 - acc: 0.7135\n",
            "Epoch 30/150\n",
            "768/768 [==============================] - 0s 383us/step - loss: 0.5513 - acc: 0.7148\n",
            "Epoch 31/150\n",
            "768/768 [==============================] - 0s 407us/step - loss: 0.5533 - acc: 0.7135\n",
            "Epoch 32/150\n",
            "768/768 [==============================] - 0s 388us/step - loss: 0.5502 - acc: 0.7305\n",
            "Epoch 33/150\n",
            "768/768 [==============================] - 0s 381us/step - loss: 0.5521 - acc: 0.7018\n",
            "Epoch 34/150\n",
            "768/768 [==============================] - 0s 406us/step - loss: 0.5469 - acc: 0.7187\n",
            "Epoch 35/150\n",
            "768/768 [==============================] - 0s 403us/step - loss: 0.5461 - acc: 0.7279\n",
            "Epoch 36/150\n",
            "768/768 [==============================] - 0s 399us/step - loss: 0.5486 - acc: 0.7174\n",
            "Epoch 37/150\n",
            "768/768 [==============================] - 0s 425us/step - loss: 0.5374 - acc: 0.7487\n",
            "Epoch 38/150\n",
            "768/768 [==============================] - 0s 402us/step - loss: 0.5421 - acc: 0.7331\n",
            "Epoch 39/150\n",
            "768/768 [==============================] - 0s 391us/step - loss: 0.5423 - acc: 0.7422\n",
            "Epoch 40/150\n",
            "768/768 [==============================] - 0s 392us/step - loss: 0.5457 - acc: 0.7292\n",
            "Epoch 41/150\n",
            "768/768 [==============================] - 0s 426us/step - loss: 0.5345 - acc: 0.7474\n",
            "Epoch 42/150\n",
            "768/768 [==============================] - 0s 403us/step - loss: 0.5303 - acc: 0.7500\n",
            "Epoch 43/150\n",
            "768/768 [==============================] - 0s 395us/step - loss: 0.5317 - acc: 0.7474\n",
            "Epoch 44/150\n",
            "768/768 [==============================] - 0s 403us/step - loss: 0.5244 - acc: 0.7396\n",
            "Epoch 45/150\n",
            "768/768 [==============================] - 0s 379us/step - loss: 0.5250 - acc: 0.7435\n",
            "Epoch 46/150\n",
            "768/768 [==============================] - 0s 382us/step - loss: 0.5243 - acc: 0.7539\n",
            "Epoch 47/150\n",
            "768/768 [==============================] - 0s 396us/step - loss: 0.5225 - acc: 0.7539\n",
            "Epoch 48/150\n",
            "768/768 [==============================] - 0s 390us/step - loss: 0.5162 - acc: 0.7435\n",
            "Epoch 49/150\n",
            "768/768 [==============================] - 0s 399us/step - loss: 0.5209 - acc: 0.7604\n",
            "Epoch 50/150\n",
            "768/768 [==============================] - 0s 397us/step - loss: 0.5112 - acc: 0.7695\n",
            "Epoch 51/150\n",
            "768/768 [==============================] - 0s 400us/step - loss: 0.5220 - acc: 0.7409\n",
            "Epoch 52/150\n",
            "768/768 [==============================] - 0s 395us/step - loss: 0.5093 - acc: 0.7591\n",
            "Epoch 53/150\n",
            "768/768 [==============================] - 0s 406us/step - loss: 0.5102 - acc: 0.7604\n",
            "Epoch 54/150\n",
            "768/768 [==============================] - 0s 413us/step - loss: 0.5026 - acc: 0.7630\n",
            "Epoch 55/150\n",
            "768/768 [==============================] - 0s 401us/step - loss: 0.5012 - acc: 0.7656\n",
            "Epoch 56/150\n",
            "768/768 [==============================] - 0s 400us/step - loss: 0.5048 - acc: 0.7565\n",
            "Epoch 57/150\n",
            "768/768 [==============================] - 0s 404us/step - loss: 0.4993 - acc: 0.7708\n",
            "Epoch 58/150\n",
            "768/768 [==============================] - 0s 384us/step - loss: 0.4971 - acc: 0.7682\n",
            "Epoch 59/150\n",
            "768/768 [==============================] - 0s 378us/step - loss: 0.4900 - acc: 0.7682\n",
            "Epoch 60/150\n",
            "768/768 [==============================] - 0s 411us/step - loss: 0.4940 - acc: 0.7656\n",
            "Epoch 61/150\n",
            "768/768 [==============================] - 0s 407us/step - loss: 0.4885 - acc: 0.7708\n",
            "Epoch 62/150\n",
            "768/768 [==============================] - 0s 400us/step - loss: 0.4870 - acc: 0.7734\n",
            "Epoch 63/150\n",
            "768/768 [==============================] - 0s 390us/step - loss: 0.4926 - acc: 0.7695\n",
            "Epoch 64/150\n",
            "768/768 [==============================] - 0s 392us/step - loss: 0.4855 - acc: 0.7734\n",
            "Epoch 65/150\n",
            "768/768 [==============================] - 0s 384us/step - loss: 0.4827 - acc: 0.7708\n",
            "Epoch 66/150\n",
            "768/768 [==============================] - 0s 394us/step - loss: 0.4807 - acc: 0.7682\n",
            "Epoch 67/150\n",
            "768/768 [==============================] - 0s 408us/step - loss: 0.4825 - acc: 0.7734\n",
            "Epoch 68/150\n",
            "768/768 [==============================] - 0s 408us/step - loss: 0.4785 - acc: 0.7708\n",
            "Epoch 69/150\n",
            "768/768 [==============================] - 0s 384us/step - loss: 0.4835 - acc: 0.7695\n",
            "Epoch 70/150\n",
            "768/768 [==============================] - 0s 382us/step - loss: 0.4749 - acc: 0.7943\n",
            "Epoch 71/150\n",
            "768/768 [==============================] - 0s 404us/step - loss: 0.4825 - acc: 0.7826\n",
            "Epoch 72/150\n",
            "768/768 [==============================] - 0s 408us/step - loss: 0.4802 - acc: 0.7617\n",
            "Epoch 73/150\n",
            "768/768 [==============================] - 0s 390us/step - loss: 0.4849 - acc: 0.7591\n",
            "Epoch 74/150\n",
            "768/768 [==============================] - 0s 395us/step - loss: 0.4754 - acc: 0.7721\n",
            "Epoch 75/150\n",
            "768/768 [==============================] - 0s 413us/step - loss: 0.4846 - acc: 0.7721\n",
            "Epoch 76/150\n",
            "768/768 [==============================] - 0s 404us/step - loss: 0.4726 - acc: 0.7747\n",
            "Epoch 77/150\n",
            "768/768 [==============================] - 0s 410us/step - loss: 0.4811 - acc: 0.7617\n",
            "Epoch 78/150\n",
            "768/768 [==============================] - 0s 403us/step - loss: 0.4794 - acc: 0.7656\n",
            "Epoch 79/150\n",
            "768/768 [==============================] - 0s 405us/step - loss: 0.4820 - acc: 0.7799\n",
            "Epoch 80/150\n",
            "768/768 [==============================] - 0s 414us/step - loss: 0.4781 - acc: 0.7695\n",
            "Epoch 81/150\n",
            "768/768 [==============================] - 0s 386us/step - loss: 0.4750 - acc: 0.7760\n",
            "Epoch 82/150\n",
            "768/768 [==============================] - 0s 392us/step - loss: 0.4683 - acc: 0.7878\n",
            "Epoch 83/150\n",
            "768/768 [==============================] - 0s 380us/step - loss: 0.4726 - acc: 0.7604\n",
            "Epoch 84/150\n",
            "768/768 [==============================] - 0s 400us/step - loss: 0.4678 - acc: 0.7708\n",
            "Epoch 85/150\n",
            "768/768 [==============================] - 0s 381us/step - loss: 0.4718 - acc: 0.7813\n",
            "Epoch 86/150\n",
            "768/768 [==============================] - 0s 393us/step - loss: 0.4705 - acc: 0.7656\n",
            "Epoch 87/150\n",
            "768/768 [==============================] - 0s 407us/step - loss: 0.4637 - acc: 0.7943\n",
            "Epoch 88/150\n",
            "768/768 [==============================] - 0s 400us/step - loss: 0.4650 - acc: 0.7760\n",
            "Epoch 89/150\n",
            "768/768 [==============================] - 0s 416us/step - loss: 0.4607 - acc: 0.7943\n",
            "Epoch 90/150\n",
            "768/768 [==============================] - 0s 390us/step - loss: 0.4707 - acc: 0.7878\n",
            "Epoch 91/150\n",
            "768/768 [==============================] - 0s 430us/step - loss: 0.4644 - acc: 0.7943\n",
            "Epoch 92/150\n",
            "768/768 [==============================] - 0s 412us/step - loss: 0.4680 - acc: 0.7747\n",
            "Epoch 93/150\n",
            "768/768 [==============================] - 0s 382us/step - loss: 0.4628 - acc: 0.7747\n",
            "Epoch 94/150\n",
            "768/768 [==============================] - 0s 407us/step - loss: 0.4660 - acc: 0.7865\n",
            "Epoch 95/150\n",
            "768/768 [==============================] - 0s 399us/step - loss: 0.4553 - acc: 0.7878\n",
            "Epoch 96/150\n",
            "768/768 [==============================] - 0s 402us/step - loss: 0.4619 - acc: 0.7786\n",
            "Epoch 97/150\n",
            "768/768 [==============================] - 0s 393us/step - loss: 0.4643 - acc: 0.7799\n",
            "Epoch 98/150\n",
            "768/768 [==============================] - 0s 386us/step - loss: 0.4574 - acc: 0.7891\n",
            "Epoch 99/150\n",
            "768/768 [==============================] - 0s 372us/step - loss: 0.4599 - acc: 0.7812\n",
            "Epoch 100/150\n",
            "768/768 [==============================] - 0s 397us/step - loss: 0.4581 - acc: 0.7852\n",
            "Epoch 101/150\n",
            "768/768 [==============================] - 0s 430us/step - loss: 0.4595 - acc: 0.7773\n",
            "Epoch 102/150\n",
            "768/768 [==============================] - 0s 408us/step - loss: 0.4581 - acc: 0.7773\n",
            "Epoch 103/150\n",
            "768/768 [==============================] - 0s 386us/step - loss: 0.4595 - acc: 0.7786\n",
            "Epoch 104/150\n",
            "768/768 [==============================] - 0s 401us/step - loss: 0.4534 - acc: 0.7865\n",
            "Epoch 105/150\n",
            "768/768 [==============================] - 0s 384us/step - loss: 0.4517 - acc: 0.7786\n",
            "Epoch 106/150\n",
            "768/768 [==============================] - 0s 383us/step - loss: 0.4527 - acc: 0.7839\n",
            "Epoch 107/150\n",
            "768/768 [==============================] - 0s 384us/step - loss: 0.4521 - acc: 0.7865\n",
            "Epoch 108/150\n",
            "768/768 [==============================] - 0s 400us/step - loss: 0.4627 - acc: 0.7891\n",
            "Epoch 109/150\n",
            "768/768 [==============================] - 0s 401us/step - loss: 0.4665 - acc: 0.7812\n",
            "Epoch 110/150\n",
            "768/768 [==============================] - 0s 379us/step - loss: 0.4608 - acc: 0.7760\n",
            "Epoch 111/150\n",
            "768/768 [==============================] - 0s 389us/step - loss: 0.4597 - acc: 0.7865\n",
            "Epoch 112/150\n",
            "768/768 [==============================] - 0s 373us/step - loss: 0.4585 - acc: 0.7826\n",
            "Epoch 113/150\n",
            "768/768 [==============================] - 0s 412us/step - loss: 0.4641 - acc: 0.7773\n",
            "Epoch 114/150\n",
            "768/768 [==============================] - 0s 406us/step - loss: 0.4576 - acc: 0.7760\n",
            "Epoch 115/150\n",
            "768/768 [==============================] - 0s 387us/step - loss: 0.4516 - acc: 0.7917\n",
            "Epoch 116/150\n",
            "768/768 [==============================] - 0s 394us/step - loss: 0.4546 - acc: 0.7839\n",
            "Epoch 117/150\n",
            "768/768 [==============================] - 0s 419us/step - loss: 0.4555 - acc: 0.7852\n",
            "Epoch 118/150\n",
            "768/768 [==============================] - 0s 395us/step - loss: 0.4506 - acc: 0.7760\n",
            "Epoch 119/150\n",
            "768/768 [==============================] - 0s 403us/step - loss: 0.4556 - acc: 0.7891\n",
            "Epoch 120/150\n",
            "768/768 [==============================] - 0s 378us/step - loss: 0.4589 - acc: 0.7721\n",
            "Epoch 121/150\n",
            "768/768 [==============================] - 0s 402us/step - loss: 0.4516 - acc: 0.7812\n",
            "Epoch 122/150\n",
            "768/768 [==============================] - 0s 421us/step - loss: 0.4560 - acc: 0.7812\n",
            "Epoch 123/150\n",
            "768/768 [==============================] - 0s 375us/step - loss: 0.4504 - acc: 0.7812\n",
            "Epoch 124/150\n",
            "768/768 [==============================] - 0s 406us/step - loss: 0.4484 - acc: 0.7865\n",
            "Epoch 125/150\n",
            "768/768 [==============================] - 0s 386us/step - loss: 0.4512 - acc: 0.7878\n",
            "Epoch 126/150\n",
            "768/768 [==============================] - 0s 395us/step - loss: 0.4486 - acc: 0.7904\n",
            "Epoch 127/150\n",
            "768/768 [==============================] - 0s 391us/step - loss: 0.4606 - acc: 0.7734\n",
            "Epoch 128/150\n",
            "768/768 [==============================] - 0s 402us/step - loss: 0.4541 - acc: 0.7812\n",
            "Epoch 129/150\n",
            "768/768 [==============================] - 0s 399us/step - loss: 0.4502 - acc: 0.7773\n",
            "Epoch 130/150\n",
            "768/768 [==============================] - 0s 381us/step - loss: 0.4481 - acc: 0.7865\n",
            "Epoch 131/150\n",
            "768/768 [==============================] - 0s 401us/step - loss: 0.4460 - acc: 0.7917\n",
            "Epoch 132/150\n",
            "768/768 [==============================] - 0s 400us/step - loss: 0.4563 - acc: 0.7878\n",
            "Epoch 133/150\n",
            "768/768 [==============================] - 0s 377us/step - loss: 0.4482 - acc: 0.7930\n",
            "Epoch 134/150\n",
            "768/768 [==============================] - 0s 411us/step - loss: 0.4580 - acc: 0.7930\n",
            "Epoch 135/150\n",
            "768/768 [==============================] - 0s 402us/step - loss: 0.4526 - acc: 0.7799\n",
            "Epoch 136/150\n",
            "768/768 [==============================] - 0s 401us/step - loss: 0.4495 - acc: 0.7812\n",
            "Epoch 137/150\n",
            "768/768 [==============================] - 0s 403us/step - loss: 0.4486 - acc: 0.7891\n",
            "Epoch 138/150\n",
            "768/768 [==============================] - 0s 396us/step - loss: 0.4476 - acc: 0.7982\n",
            "Epoch 139/150\n",
            "768/768 [==============================] - 0s 400us/step - loss: 0.4476 - acc: 0.7995\n",
            "Epoch 140/150\n",
            "768/768 [==============================] - 0s 399us/step - loss: 0.4501 - acc: 0.7813\n",
            "Epoch 141/150\n",
            "768/768 [==============================] - 0s 410us/step - loss: 0.4431 - acc: 0.7839\n",
            "Epoch 142/150\n",
            "768/768 [==============================] - 0s 370us/step - loss: 0.4430 - acc: 0.7891\n",
            "Epoch 143/150\n",
            "768/768 [==============================] - 0s 387us/step - loss: 0.4457 - acc: 0.7826\n",
            "Epoch 144/150\n",
            "768/768 [==============================] - 0s 449us/step - loss: 0.4439 - acc: 0.7969\n",
            "Epoch 145/150\n",
            "768/768 [==============================] - 0s 393us/step - loss: 0.4388 - acc: 0.7891\n",
            "Epoch 146/150\n",
            "768/768 [==============================] - 0s 382us/step - loss: 0.4436 - acc: 0.7969\n",
            "Epoch 147/150\n",
            "768/768 [==============================] - 0s 376us/step - loss: 0.4482 - acc: 0.7852\n",
            "Epoch 148/150\n",
            "768/768 [==============================] - 0s 413us/step - loss: 0.4465 - acc: 0.7747\n",
            "Epoch 149/150\n",
            "768/768 [==============================] - 0s 382us/step - loss: 0.4365 - acc: 0.7826\n",
            "Epoch 150/150\n",
            "768/768 [==============================] - 0s 400us/step - loss: 0.4465 - acc: 0.7891\n"
          ],
          "name": "stdout"
        },
        {
          "output_type": "execute_result",
          "data": {
            "text/plain": [
              "<keras.callbacks.History at 0x7ff03a3744a8>"
            ]
          },
          "metadata": {
            "tags": []
          },
          "execution_count": 10
        }
      ]
    },
    {
      "cell_type": "code",
      "metadata": {
        "id": "nHL7nroSZscN",
        "colab_type": "code",
        "colab": {
          "base_uri": "https://localhost:8080/",
          "height": 50
        },
        "outputId": "e5801b0b-c89d-47b7-99f1-70213cac2704"
      },
      "source": [
        "# evaluate the model\n",
        "scores = model.evaluate(X, Y)\n",
        "print(\"%s: %.2f%%\" % (model.metrics_names[1], scores[1]*100))"
      ],
      "execution_count": 11,
      "outputs": [
        {
          "output_type": "stream",
          "text": [
            "768/768 [==============================] - 0s 93us/step\n",
            "acc: 78.12%\n"
          ],
          "name": "stdout"
        }
      ]
    }
  ]
}