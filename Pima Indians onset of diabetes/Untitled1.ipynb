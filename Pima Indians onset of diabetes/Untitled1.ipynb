{
  "nbformat": 4,
  "nbformat_minor": 0,
  "metadata": {
    "colab": {
      "name": "Untitled1.ipynb",
      "version": "0.3.2",
      "provenance": [],
      "include_colab_link": true
    },
    "kernelspec": {
      "name": "python3",
      "display_name": "Python 3"
    },
    "accelerator": "GPU"
  },
  "cells": [
    {
      "cell_type": "markdown",
      "metadata": {
        "id": "view-in-github",
        "colab_type": "text"
      },
      "source": [
        "<a href=\"https://colab.research.google.com/github/handsomekiwi/JupyterPractice/blob/master/Pima%20Indians%20onset%20of%20diabetes/Untitled1.ipynb\" target=\"_parent\"><img src=\"https://colab.research.google.com/assets/colab-badge.svg\" alt=\"Open In Colab\"/></a>"
      ]
    },
    {
      "cell_type": "code",
      "metadata": {
        "id": "UnsdIw8wkL5c",
        "colab_type": "code",
        "colab": {}
      },
      "source": [
        "import numpy as np\n",
        "import matplotlib.pyplot as plt"
      ],
      "execution_count": 0,
      "outputs": []
    },
    {
      "cell_type": "code",
      "metadata": {
        "id": "EsBcWEo7lLez",
        "colab_type": "code",
        "colab": {}
      },
      "source": [
        "%matplotlib inline  \n",
        "#內嵌繪圖\n"
      ],
      "execution_count": 0,
      "outputs": []
    },
    {
      "cell_type": "code",
      "metadata": {
        "id": "vazDxJv4lqph",
        "colab_type": "code",
        "colab": {}
      },
      "source": [
        "# load pima indians dataset\n",
        "dataset = np.loadtxt(\"https://raw.githubusercontent.com/handsomekiwi/JupyterPractice/master/Pima%20Indians%20onset%20of%20diabetes/pima-indians-diabetes.csv\", delimiter=\",\")"
      ],
      "execution_count": 0,
      "outputs": []
    },
    {
      "cell_type": "code",
      "metadata": {
        "id": "UCnwUGYKSEJc",
        "colab_type": "code",
        "colab": {}
      },
      "source": [
        "# split into input (X) and output (Y) variables\n",
        "X = dataset[:,0:8]\n",
        "Y = dataset[:,8]"
      ],
      "execution_count": 0,
      "outputs": []
    },
    {
      "cell_type": "code",
      "metadata": {
        "id": "fEpUFYClSF6A",
        "colab_type": "code",
        "outputId": "0da1062b-05e1-44ff-91f2-c8ed386f1fee",
        "colab": {
          "base_uri": "https://localhost:8080/",
          "height": 134
        }
      },
      "source": [
        "X"
      ],
      "execution_count": 8,
      "outputs": [
        {
          "output_type": "execute_result",
          "data": {
            "text/plain": [
              "array([[  6.   , 148.   ,  72.   , ...,  33.6  ,   0.627,  50.   ],\n",
              "       [  1.   ,  85.   ,  66.   , ...,  26.6  ,   0.351,  31.   ],\n",
              "       [  8.   , 183.   ,  64.   , ...,  23.3  ,   0.672,  32.   ],\n",
              "       ...,\n",
              "       [  5.   , 121.   ,  72.   , ...,  26.2  ,   0.245,  30.   ],\n",
              "       [  1.   , 126.   ,  60.   , ...,  30.1  ,   0.349,  47.   ],\n",
              "       [  1.   ,  93.   ,  70.   , ...,  30.4  ,   0.315,  23.   ]])"
            ]
          },
          "metadata": {
            "tags": []
          },
          "execution_count": 8
        }
      ]
    },
    {
      "cell_type": "code",
      "metadata": {
        "id": "LR85Lk0TSIdi",
        "colab_type": "code",
        "outputId": "5e907bbf-e5ad-437c-f5e1-81f3a0a67836",
        "colab": {
          "base_uri": "https://localhost:8080/",
          "height": 790
        }
      },
      "source": [
        "Y"
      ],
      "execution_count": 9,
      "outputs": [
        {
          "output_type": "execute_result",
          "data": {
            "text/plain": [
              "array([1., 0., 1., 0., 1., 0., 1., 0., 1., 1., 0., 1., 0., 1., 1., 1., 1.,\n",
              "       1., 0., 1., 0., 0., 1., 1., 1., 1., 1., 0., 0., 0., 0., 1., 0., 0.,\n",
              "       0., 0., 0., 1., 1., 1., 0., 0., 0., 1., 0., 1., 0., 0., 1., 0., 0.,\n",
              "       0., 0., 1., 0., 0., 1., 0., 0., 0., 0., 1., 0., 0., 1., 0., 1., 0.,\n",
              "       0., 0., 1., 0., 1., 0., 0., 0., 0., 0., 1., 0., 0., 0., 0., 0., 1.,\n",
              "       0., 0., 0., 1., 0., 0., 0., 0., 1., 0., 0., 0., 0., 0., 1., 1., 0.,\n",
              "       0., 0., 0., 0., 0., 0., 0., 1., 1., 1., 0., 0., 1., 1., 1., 0., 0.,\n",
              "       0., 1., 0., 0., 0., 1., 1., 0., 0., 1., 1., 1., 1., 1., 0., 0., 0.,\n",
              "       0., 0., 0., 0., 0., 0., 0., 1., 0., 0., 0., 0., 0., 0., 0., 0., 1.,\n",
              "       0., 1., 1., 0., 0., 0., 1., 0., 0., 0., 0., 1., 1., 0., 0., 0., 0.,\n",
              "       1., 1., 0., 0., 0., 1., 0., 1., 0., 1., 0., 0., 0., 0., 0., 1., 1.,\n",
              "       1., 1., 1., 0., 0., 1., 1., 0., 1., 0., 1., 1., 1., 0., 0., 0., 0.,\n",
              "       0., 0., 1., 1., 0., 1., 0., 0., 0., 1., 1., 1., 1., 0., 1., 1., 1.,\n",
              "       1., 0., 0., 0., 0., 0., 1., 0., 0., 1., 1., 0., 0., 0., 1., 1., 1.,\n",
              "       1., 0., 0., 0., 1., 1., 0., 1., 0., 0., 0., 0., 0., 0., 0., 0., 1.,\n",
              "       1., 0., 0., 0., 1., 0., 1., 0., 0., 1., 0., 1., 0., 0., 1., 1., 0.,\n",
              "       0., 0., 0., 0., 1., 0., 0., 0., 1., 0., 0., 1., 1., 0., 0., 1., 0.,\n",
              "       0., 0., 1., 1., 1., 0., 0., 1., 0., 1., 0., 1., 1., 0., 1., 0., 0.,\n",
              "       1., 0., 1., 1., 0., 0., 1., 0., 1., 0., 0., 1., 0., 1., 0., 1., 1.,\n",
              "       1., 0., 0., 1., 0., 1., 0., 0., 0., 1., 0., 0., 0., 0., 1., 1., 1.,\n",
              "       0., 0., 0., 0., 0., 0., 0., 0., 0., 1., 0., 0., 0., 0., 0., 1., 1.,\n",
              "       1., 0., 1., 1., 0., 0., 1., 0., 0., 1., 0., 0., 1., 1., 0., 0., 0.,\n",
              "       0., 1., 0., 0., 1., 0., 0., 0., 0., 0., 0., 0., 1., 1., 1., 0., 0.,\n",
              "       1., 0., 0., 1., 0., 0., 1., 0., 1., 1., 0., 1., 0., 1., 0., 1., 0.,\n",
              "       1., 1., 0., 0., 0., 0., 1., 1., 0., 1., 0., 1., 0., 0., 0., 0., 1.,\n",
              "       1., 0., 1., 0., 1., 0., 0., 0., 0., 0., 1., 0., 0., 0., 0., 1., 0.,\n",
              "       0., 1., 1., 1., 0., 0., 1., 0., 0., 1., 0., 0., 0., 1., 0., 0., 1.,\n",
              "       0., 0., 0., 0., 0., 0., 0., 0., 0., 1., 0., 0., 0., 0., 0., 0., 0.,\n",
              "       1., 0., 0., 0., 1., 0., 0., 0., 1., 1., 0., 0., 0., 0., 0., 0., 0.,\n",
              "       1., 0., 0., 0., 0., 1., 0., 0., 0., 1., 0., 0., 0., 1., 0., 0., 0.,\n",
              "       1., 0., 0., 0., 0., 1., 1., 0., 0., 0., 0., 0., 0., 1., 0., 0., 0.,\n",
              "       0., 0., 0., 0., 0., 0., 0., 0., 1., 0., 0., 0., 1., 1., 1., 1., 0.,\n",
              "       0., 1., 1., 0., 0., 0., 0., 0., 0., 0., 0., 0., 0., 0., 0., 0., 1.,\n",
              "       1., 0., 0., 0., 0., 0., 0., 0., 1., 0., 0., 0., 0., 0., 0., 0., 1.,\n",
              "       0., 1., 1., 0., 0., 0., 1., 0., 1., 0., 1., 0., 1., 0., 1., 0., 0.,\n",
              "       1., 0., 0., 1., 0., 0., 0., 0., 1., 1., 0., 1., 0., 0., 0., 0., 1.,\n",
              "       1., 0., 1., 0., 0., 0., 1., 1., 0., 0., 0., 0., 0., 0., 0., 0., 0.,\n",
              "       0., 1., 0., 0., 0., 0., 1., 0., 0., 1., 0., 0., 0., 1., 0., 0., 0.,\n",
              "       1., 1., 1., 0., 0., 0., 0., 0., 0., 1., 0., 0., 0., 1., 0., 1., 1.,\n",
              "       1., 1., 0., 1., 1., 0., 0., 0., 0., 0., 0., 0., 1., 1., 0., 1., 0.,\n",
              "       0., 1., 0., 1., 0., 0., 0., 0., 0., 1., 0., 1., 0., 1., 0., 1., 1.,\n",
              "       0., 0., 0., 0., 1., 1., 0., 0., 0., 1., 0., 1., 1., 0., 0., 1., 0.,\n",
              "       0., 1., 1., 0., 0., 1., 0., 0., 1., 0., 0., 0., 0., 0., 0., 0., 1.,\n",
              "       1., 1., 0., 0., 0., 0., 0., 0., 1., 1., 0., 0., 1., 0., 0., 1., 0.,\n",
              "       1., 1., 1., 0., 0., 1., 1., 1., 0., 1., 0., 1., 0., 1., 0., 0., 0.,\n",
              "       0., 1., 0.])"
            ]
          },
          "metadata": {
            "tags": []
          },
          "execution_count": 9
        }
      ]
    },
    {
      "cell_type": "code",
      "metadata": {
        "id": "pyqMSTC8VCWv",
        "colab_type": "code",
        "outputId": "f01b8ea3-f6d5-48f1-ea43-a466ce97505a",
        "colab": {
          "base_uri": "https://localhost:8080/",
          "height": 34
        }
      },
      "source": [
        "# Create first network with Keras\n",
        "from keras.models import Sequential\n",
        "from keras.layers import Dense"
      ],
      "execution_count": 10,
      "outputs": [
        {
          "output_type": "stream",
          "text": [
            "Using TensorFlow backend.\n"
          ],
          "name": "stderr"
        }
      ]
    },
    {
      "cell_type": "code",
      "metadata": {
        "id": "H9eBVihS0AqN",
        "colab_type": "code",
        "colab": {}
      },
      "source": [
        "# fix random seed for reproducibility\n",
        "seed = 7\n",
        "np.random.seed(seed)"
      ],
      "execution_count": 0,
      "outputs": []
    },
    {
      "cell_type": "code",
      "metadata": {
        "id": "yNvMp6N5V4iV",
        "colab_type": "code",
        "outputId": "500775a7-7e3d-4da8-c2d8-d9656683929b",
        "colab": {
          "base_uri": "https://localhost:8080/",
          "height": 154
        }
      },
      "source": [
        "#create model \n",
        "model = Sequential()\n",
        "model.add(Dense(12,input_dim=8,activation='relu'))\n",
        "model.add(Dense(8,activation='relu'))\n",
        "model.add(Dense(8,activation='relu'))\n",
        "model.add(Dense(8,activation='relu'))\n",
        "model.add(Dense(1,activation='sigmoid'))"
      ],
      "execution_count": 13,
      "outputs": [
        {
          "output_type": "stream",
          "text": [
            "WARNING: Logging before flag parsing goes to stderr.\n",
            "W0818 08:21:33.662390 140234770515840 deprecation_wrapper.py:119] From /usr/local/lib/python3.6/dist-packages/keras/backend/tensorflow_backend.py:74: The name tf.get_default_graph is deprecated. Please use tf.compat.v1.get_default_graph instead.\n",
            "\n",
            "W0818 08:21:33.704867 140234770515840 deprecation_wrapper.py:119] From /usr/local/lib/python3.6/dist-packages/keras/backend/tensorflow_backend.py:517: The name tf.placeholder is deprecated. Please use tf.compat.v1.placeholder instead.\n",
            "\n",
            "W0818 08:21:33.711766 140234770515840 deprecation_wrapper.py:119] From /usr/local/lib/python3.6/dist-packages/keras/backend/tensorflow_backend.py:4138: The name tf.random_uniform is deprecated. Please use tf.random.uniform instead.\n",
            "\n"
          ],
          "name": "stderr"
        }
      ]
    },
    {
      "cell_type": "code",
      "metadata": {
        "id": "7dd-VECSZKy-",
        "colab_type": "code",
        "outputId": "9bd710ff-a4eb-467d-a847-766f65e65941",
        "colab": {
          "base_uri": "https://localhost:8080/",
          "height": 302
        }
      },
      "source": [
        "model.summary()"
      ],
      "execution_count": 14,
      "outputs": [
        {
          "output_type": "stream",
          "text": [
            "_________________________________________________________________\n",
            "Layer (type)                 Output Shape              Param #   \n",
            "=================================================================\n",
            "dense_1 (Dense)              (None, 12)                108       \n",
            "_________________________________________________________________\n",
            "dense_2 (Dense)              (None, 8)                 104       \n",
            "_________________________________________________________________\n",
            "dense_3 (Dense)              (None, 8)                 72        \n",
            "_________________________________________________________________\n",
            "dense_4 (Dense)              (None, 8)                 72        \n",
            "_________________________________________________________________\n",
            "dense_5 (Dense)              (None, 1)                 9         \n",
            "=================================================================\n",
            "Total params: 365\n",
            "Trainable params: 365\n",
            "Non-trainable params: 0\n",
            "_________________________________________________________________\n"
          ],
          "name": "stdout"
        }
      ]
    },
    {
      "cell_type": "code",
      "metadata": {
        "id": "Bth76BEAZJMn",
        "colab_type": "code",
        "outputId": "de57ff80-cfe7-426c-82af-0d188ddf1f38",
        "colab": {
          "base_uri": "https://localhost:8080/",
          "height": 1000
        }
      },
      "source": [
        "# Compile model\n",
        "model.compile(loss='binary_crossentropy', optimizer='adam', metrics=['accuracy']) # Fit the model\n",
        "model.fit(X, Y,validation_split=0.33, nb_epoch=150, batch_size=10)"
      ],
      "execution_count": 19,
      "outputs": [
        {
          "output_type": "stream",
          "text": [
            "/usr/local/lib/python3.6/dist-packages/ipykernel_launcher.py:2: UserWarning: The `nb_epoch` argument in `fit` has been renamed `epochs`.\n",
            "  \n"
          ],
          "name": "stderr"
        },
        {
          "output_type": "stream",
          "text": [
            "Train on 514 samples, validate on 254 samples\n",
            "Epoch 1/150\n",
            "514/514 [==============================] - 1s 1ms/step - loss: 0.4479 - acc: 0.7588 - val_loss: 0.3745 - val_acc: 0.8307\n",
            "Epoch 2/150\n",
            "514/514 [==============================] - 0s 488us/step - loss: 0.4421 - acc: 0.7802 - val_loss: 0.3442 - val_acc: 0.8504\n",
            "Epoch 3/150\n",
            "514/514 [==============================] - 0s 466us/step - loss: 0.4314 - acc: 0.7918 - val_loss: 0.3490 - val_acc: 0.8465\n",
            "Epoch 4/150\n",
            "514/514 [==============================] - 0s 463us/step - loss: 0.4257 - acc: 0.7821 - val_loss: 0.3469 - val_acc: 0.8543\n",
            "Epoch 5/150\n",
            "514/514 [==============================] - 0s 450us/step - loss: 0.4152 - acc: 0.7821 - val_loss: 0.3893 - val_acc: 0.8268\n",
            "Epoch 6/150\n",
            "514/514 [==============================] - 0s 447us/step - loss: 0.4485 - acc: 0.7802 - val_loss: 0.3701 - val_acc: 0.8228\n",
            "Epoch 7/150\n",
            "514/514 [==============================] - 0s 474us/step - loss: 0.4243 - acc: 0.7918 - val_loss: 0.3751 - val_acc: 0.8386\n",
            "Epoch 8/150\n",
            "514/514 [==============================] - 0s 450us/step - loss: 0.4344 - acc: 0.7782 - val_loss: 0.3678 - val_acc: 0.8307\n",
            "Epoch 9/150\n",
            "514/514 [==============================] - 0s 456us/step - loss: 0.4354 - acc: 0.7879 - val_loss: 0.3957 - val_acc: 0.8110\n",
            "Epoch 10/150\n",
            "514/514 [==============================] - 0s 465us/step - loss: 0.4225 - acc: 0.7840 - val_loss: 0.3642 - val_acc: 0.8425\n",
            "Epoch 11/150\n",
            "514/514 [==============================] - 0s 468us/step - loss: 0.4279 - acc: 0.7996 - val_loss: 0.3766 - val_acc: 0.8386\n",
            "Epoch 12/150\n",
            "514/514 [==============================] - 0s 459us/step - loss: 0.4178 - acc: 0.7957 - val_loss: 0.3891 - val_acc: 0.8307\n",
            "Epoch 13/150\n",
            "514/514 [==============================] - 0s 453us/step - loss: 0.4474 - acc: 0.7763 - val_loss: 0.3875 - val_acc: 0.8228\n",
            "Epoch 14/150\n",
            "514/514 [==============================] - 0s 455us/step - loss: 0.4258 - acc: 0.7802 - val_loss: 0.3658 - val_acc: 0.8268\n",
            "Epoch 15/150\n",
            "514/514 [==============================] - 0s 499us/step - loss: 0.4202 - acc: 0.7782 - val_loss: 0.4019 - val_acc: 0.8228\n",
            "Epoch 16/150\n",
            "514/514 [==============================] - 0s 456us/step - loss: 0.4294 - acc: 0.7879 - val_loss: 0.3776 - val_acc: 0.8346\n",
            "Epoch 17/150\n",
            "514/514 [==============================] - 0s 457us/step - loss: 0.4187 - acc: 0.7996 - val_loss: 0.4147 - val_acc: 0.8189\n",
            "Epoch 18/150\n",
            "514/514 [==============================] - 0s 456us/step - loss: 0.4276 - acc: 0.7918 - val_loss: 0.3786 - val_acc: 0.8386\n",
            "Epoch 19/150\n",
            "514/514 [==============================] - 0s 470us/step - loss: 0.4135 - acc: 0.8074 - val_loss: 0.3942 - val_acc: 0.8071\n",
            "Epoch 20/150\n",
            "514/514 [==============================] - 0s 501us/step - loss: 0.4198 - acc: 0.7957 - val_loss: 0.3824 - val_acc: 0.8346\n",
            "Epoch 21/150\n",
            "514/514 [==============================] - 0s 499us/step - loss: 0.4189 - acc: 0.8035 - val_loss: 0.3937 - val_acc: 0.8071\n",
            "Epoch 22/150\n",
            "514/514 [==============================] - 0s 495us/step - loss: 0.4238 - acc: 0.7782 - val_loss: 0.3821 - val_acc: 0.8346\n",
            "Epoch 23/150\n",
            "514/514 [==============================] - 0s 478us/step - loss: 0.4146 - acc: 0.7860 - val_loss: 0.3978 - val_acc: 0.8110\n",
            "Epoch 24/150\n",
            "514/514 [==============================] - 0s 506us/step - loss: 0.4197 - acc: 0.7821 - val_loss: 0.3854 - val_acc: 0.8465\n",
            "Epoch 25/150\n",
            "514/514 [==============================] - 0s 538us/step - loss: 0.4198 - acc: 0.8016 - val_loss: 0.4147 - val_acc: 0.8268\n",
            "Epoch 26/150\n",
            "514/514 [==============================] - 0s 480us/step - loss: 0.4231 - acc: 0.7977 - val_loss: 0.4418 - val_acc: 0.8031\n",
            "Epoch 27/150\n",
            "514/514 [==============================] - 0s 492us/step - loss: 0.4374 - acc: 0.7802 - val_loss: 0.3901 - val_acc: 0.8189\n",
            "Epoch 28/150\n",
            "514/514 [==============================] - 0s 448us/step - loss: 0.4196 - acc: 0.7860 - val_loss: 0.3826 - val_acc: 0.8150\n",
            "Epoch 29/150\n",
            "514/514 [==============================] - 0s 439us/step - loss: 0.4317 - acc: 0.7763 - val_loss: 0.3975 - val_acc: 0.8268\n",
            "Epoch 30/150\n",
            "514/514 [==============================] - 0s 459us/step - loss: 0.4210 - acc: 0.7977 - val_loss: 0.3796 - val_acc: 0.8228\n",
            "Epoch 31/150\n",
            "514/514 [==============================] - 0s 437us/step - loss: 0.4214 - acc: 0.7977 - val_loss: 0.3993 - val_acc: 0.8307\n",
            "Epoch 32/150\n",
            "514/514 [==============================] - 0s 475us/step - loss: 0.4204 - acc: 0.7860 - val_loss: 0.3918 - val_acc: 0.8189\n",
            "Epoch 33/150\n",
            "514/514 [==============================] - 0s 446us/step - loss: 0.4159 - acc: 0.7996 - val_loss: 0.4007 - val_acc: 0.8150\n",
            "Epoch 34/150\n",
            "514/514 [==============================] - 0s 457us/step - loss: 0.4163 - acc: 0.8074 - val_loss: 0.4016 - val_acc: 0.8071\n",
            "Epoch 35/150\n",
            "514/514 [==============================] - 0s 463us/step - loss: 0.4285 - acc: 0.7996 - val_loss: 0.4018 - val_acc: 0.8110\n",
            "Epoch 36/150\n",
            "514/514 [==============================] - 0s 474us/step - loss: 0.4228 - acc: 0.7977 - val_loss: 0.4026 - val_acc: 0.8110\n",
            "Epoch 37/150\n",
            "514/514 [==============================] - 0s 457us/step - loss: 0.4126 - acc: 0.7840 - val_loss: 0.4002 - val_acc: 0.8110\n",
            "Epoch 38/150\n",
            "514/514 [==============================] - 0s 442us/step - loss: 0.4143 - acc: 0.8074 - val_loss: 0.4187 - val_acc: 0.7992\n",
            "Epoch 39/150\n",
            "514/514 [==============================] - 0s 450us/step - loss: 0.4443 - acc: 0.7665 - val_loss: 0.3925 - val_acc: 0.8268\n",
            "Epoch 40/150\n",
            "514/514 [==============================] - 0s 451us/step - loss: 0.4182 - acc: 0.7938 - val_loss: 0.4018 - val_acc: 0.8346\n",
            "Epoch 41/150\n",
            "514/514 [==============================] - 0s 491us/step - loss: 0.4193 - acc: 0.7938 - val_loss: 0.4108 - val_acc: 0.8189\n",
            "Epoch 42/150\n",
            "514/514 [==============================] - 0s 445us/step - loss: 0.4124 - acc: 0.8074 - val_loss: 0.3906 - val_acc: 0.8150\n",
            "Epoch 43/150\n",
            "514/514 [==============================] - 0s 461us/step - loss: 0.4135 - acc: 0.8016 - val_loss: 0.3919 - val_acc: 0.8189\n",
            "Epoch 44/150\n",
            "514/514 [==============================] - 0s 448us/step - loss: 0.4168 - acc: 0.7860 - val_loss: 0.4135 - val_acc: 0.8110\n",
            "Epoch 45/150\n",
            "514/514 [==============================] - 0s 468us/step - loss: 0.4158 - acc: 0.7977 - val_loss: 0.4193 - val_acc: 0.8031\n",
            "Epoch 46/150\n",
            "514/514 [==============================] - 0s 455us/step - loss: 0.4220 - acc: 0.8016 - val_loss: 0.4266 - val_acc: 0.7953\n",
            "Epoch 47/150\n",
            "514/514 [==============================] - 0s 490us/step - loss: 0.4256 - acc: 0.7899 - val_loss: 0.4211 - val_acc: 0.8031\n",
            "Epoch 48/150\n",
            "514/514 [==============================] - 0s 486us/step - loss: 0.4225 - acc: 0.7879 - val_loss: 0.3925 - val_acc: 0.8307\n",
            "Epoch 49/150\n",
            "514/514 [==============================] - 0s 503us/step - loss: 0.4195 - acc: 0.7996 - val_loss: 0.4049 - val_acc: 0.8228\n",
            "Epoch 50/150\n",
            "514/514 [==============================] - 0s 476us/step - loss: 0.4186 - acc: 0.8054 - val_loss: 0.3937 - val_acc: 0.8189\n",
            "Epoch 51/150\n",
            "514/514 [==============================] - 0s 472us/step - loss: 0.4235 - acc: 0.8152 - val_loss: 0.3962 - val_acc: 0.8268\n",
            "Epoch 52/150\n",
            "514/514 [==============================] - 0s 475us/step - loss: 0.4248 - acc: 0.8054 - val_loss: 0.4037 - val_acc: 0.8228\n",
            "Epoch 53/150\n",
            "514/514 [==============================] - 0s 493us/step - loss: 0.4279 - acc: 0.7860 - val_loss: 0.3944 - val_acc: 0.8386\n",
            "Epoch 54/150\n",
            "514/514 [==============================] - 0s 447us/step - loss: 0.4102 - acc: 0.7977 - val_loss: 0.4242 - val_acc: 0.8150\n",
            "Epoch 55/150\n",
            "514/514 [==============================] - 0s 460us/step - loss: 0.4191 - acc: 0.7977 - val_loss: 0.4050 - val_acc: 0.8150\n",
            "Epoch 56/150\n",
            "514/514 [==============================] - 0s 446us/step - loss: 0.4179 - acc: 0.7938 - val_loss: 0.4054 - val_acc: 0.7953\n",
            "Epoch 57/150\n",
            "514/514 [==============================] - 0s 449us/step - loss: 0.4100 - acc: 0.8035 - val_loss: 0.4508 - val_acc: 0.8110\n",
            "Epoch 58/150\n",
            "514/514 [==============================] - 0s 487us/step - loss: 0.4245 - acc: 0.7860 - val_loss: 0.4097 - val_acc: 0.8150\n",
            "Epoch 59/150\n",
            "514/514 [==============================] - 0s 447us/step - loss: 0.4131 - acc: 0.7957 - val_loss: 0.4191 - val_acc: 0.8189\n",
            "Epoch 60/150\n",
            "514/514 [==============================] - 0s 457us/step - loss: 0.4136 - acc: 0.8074 - val_loss: 0.4071 - val_acc: 0.8228\n",
            "Epoch 61/150\n",
            "514/514 [==============================] - 0s 441us/step - loss: 0.4213 - acc: 0.8016 - val_loss: 0.4117 - val_acc: 0.7953\n",
            "Epoch 62/150\n",
            "514/514 [==============================] - 0s 463us/step - loss: 0.4150 - acc: 0.8054 - val_loss: 0.4057 - val_acc: 0.8228\n",
            "Epoch 63/150\n",
            "514/514 [==============================] - 0s 456us/step - loss: 0.4115 - acc: 0.7938 - val_loss: 0.4100 - val_acc: 0.8071\n",
            "Epoch 64/150\n",
            "514/514 [==============================] - 0s 462us/step - loss: 0.4407 - acc: 0.7918 - val_loss: 0.4096 - val_acc: 0.7992\n",
            "Epoch 65/150\n",
            "514/514 [==============================] - 0s 441us/step - loss: 0.4399 - acc: 0.7802 - val_loss: 0.4656 - val_acc: 0.7835\n",
            "Epoch 66/150\n",
            "514/514 [==============================] - 0s 480us/step - loss: 0.4164 - acc: 0.7996 - val_loss: 0.5035 - val_acc: 0.7756\n",
            "Epoch 67/150\n",
            "514/514 [==============================] - 0s 437us/step - loss: 0.4531 - acc: 0.7840 - val_loss: 0.4030 - val_acc: 0.8110\n",
            "Epoch 68/150\n",
            "514/514 [==============================] - 0s 440us/step - loss: 0.4121 - acc: 0.8016 - val_loss: 0.4235 - val_acc: 0.7913\n",
            "Epoch 69/150\n",
            "514/514 [==============================] - 0s 480us/step - loss: 0.4211 - acc: 0.8016 - val_loss: 0.4066 - val_acc: 0.8071\n",
            "Epoch 70/150\n",
            "514/514 [==============================] - 0s 479us/step - loss: 0.4075 - acc: 0.8035 - val_loss: 0.4132 - val_acc: 0.8110\n",
            "Epoch 71/150\n",
            "514/514 [==============================] - 0s 433us/step - loss: 0.4232 - acc: 0.7996 - val_loss: 0.4647 - val_acc: 0.8071\n",
            "Epoch 72/150\n",
            "514/514 [==============================] - 0s 447us/step - loss: 0.4211 - acc: 0.8074 - val_loss: 0.4378 - val_acc: 0.8150\n",
            "Epoch 73/150\n",
            "514/514 [==============================] - 0s 449us/step - loss: 0.4438 - acc: 0.7860 - val_loss: 0.4224 - val_acc: 0.7756\n",
            "Epoch 74/150\n",
            "514/514 [==============================] - 0s 449us/step - loss: 0.4091 - acc: 0.8113 - val_loss: 0.4689 - val_acc: 0.7756\n",
            "Epoch 75/150\n",
            "514/514 [==============================] - 0s 470us/step - loss: 0.4174 - acc: 0.7879 - val_loss: 0.4374 - val_acc: 0.7953\n",
            "Epoch 76/150\n",
            "514/514 [==============================] - 0s 439us/step - loss: 0.4158 - acc: 0.7957 - val_loss: 0.4102 - val_acc: 0.8150\n",
            "Epoch 77/150\n",
            "514/514 [==============================] - 0s 450us/step - loss: 0.4077 - acc: 0.7977 - val_loss: 0.4357 - val_acc: 0.8071\n",
            "Epoch 78/150\n",
            "514/514 [==============================] - 0s 442us/step - loss: 0.4218 - acc: 0.7918 - val_loss: 0.4328 - val_acc: 0.8031\n",
            "Epoch 79/150\n",
            "514/514 [==============================] - 0s 463us/step - loss: 0.4129 - acc: 0.8074 - val_loss: 0.4388 - val_acc: 0.7874\n",
            "Epoch 80/150\n",
            "514/514 [==============================] - 0s 442us/step - loss: 0.4115 - acc: 0.8016 - val_loss: 0.4371 - val_acc: 0.8031\n",
            "Epoch 81/150\n",
            "514/514 [==============================] - 0s 439us/step - loss: 0.4048 - acc: 0.8113 - val_loss: 0.4197 - val_acc: 0.7992\n",
            "Epoch 82/150\n",
            "514/514 [==============================] - 0s 444us/step - loss: 0.4076 - acc: 0.7996 - val_loss: 0.4685 - val_acc: 0.7953\n",
            "Epoch 83/150\n",
            "514/514 [==============================] - 0s 444us/step - loss: 0.4186 - acc: 0.7977 - val_loss: 0.4168 - val_acc: 0.8031\n",
            "Epoch 84/150\n",
            "514/514 [==============================] - 0s 469us/step - loss: 0.4047 - acc: 0.8035 - val_loss: 0.4179 - val_acc: 0.8189\n",
            "Epoch 85/150\n",
            "514/514 [==============================] - 0s 458us/step - loss: 0.4094 - acc: 0.8016 - val_loss: 0.4360 - val_acc: 0.8031\n",
            "Epoch 86/150\n",
            "514/514 [==============================] - 0s 455us/step - loss: 0.4095 - acc: 0.7957 - val_loss: 0.4200 - val_acc: 0.8071\n",
            "Epoch 87/150\n",
            "514/514 [==============================] - 0s 444us/step - loss: 0.4097 - acc: 0.7977 - val_loss: 0.4272 - val_acc: 0.7992\n",
            "Epoch 88/150\n",
            "514/514 [==============================] - 0s 464us/step - loss: 0.4122 - acc: 0.8093 - val_loss: 0.4166 - val_acc: 0.7992\n",
            "Epoch 89/150\n",
            "514/514 [==============================] - 0s 451us/step - loss: 0.4037 - acc: 0.8152 - val_loss: 0.4285 - val_acc: 0.7913\n",
            "Epoch 90/150\n",
            "514/514 [==============================] - 0s 445us/step - loss: 0.4118 - acc: 0.8016 - val_loss: 0.4460 - val_acc: 0.8031\n",
            "Epoch 91/150\n",
            "514/514 [==============================] - 0s 448us/step - loss: 0.4090 - acc: 0.7957 - val_loss: 0.4529 - val_acc: 0.8189\n",
            "Epoch 92/150\n",
            "514/514 [==============================] - 0s 464us/step - loss: 0.4116 - acc: 0.8035 - val_loss: 0.4128 - val_acc: 0.8110\n",
            "Epoch 93/150\n",
            "514/514 [==============================] - 0s 438us/step - loss: 0.4103 - acc: 0.8113 - val_loss: 0.4411 - val_acc: 0.7756\n",
            "Epoch 94/150\n",
            "514/514 [==============================] - 0s 451us/step - loss: 0.4131 - acc: 0.7996 - val_loss: 0.4183 - val_acc: 0.8031\n",
            "Epoch 95/150\n",
            "514/514 [==============================] - 0s 445us/step - loss: 0.4109 - acc: 0.7996 - val_loss: 0.4320 - val_acc: 0.7953\n",
            "Epoch 96/150\n",
            "514/514 [==============================] - 0s 453us/step - loss: 0.4112 - acc: 0.7996 - val_loss: 0.4401 - val_acc: 0.7953\n",
            "Epoch 97/150\n",
            "514/514 [==============================] - 0s 482us/step - loss: 0.4045 - acc: 0.8035 - val_loss: 0.4575 - val_acc: 0.7913\n",
            "Epoch 98/150\n",
            "514/514 [==============================] - 0s 458us/step - loss: 0.4120 - acc: 0.7957 - val_loss: 0.4337 - val_acc: 0.8071\n",
            "Epoch 99/150\n",
            "514/514 [==============================] - 0s 450us/step - loss: 0.4048 - acc: 0.8093 - val_loss: 0.4752 - val_acc: 0.7953\n",
            "Epoch 100/150\n",
            "514/514 [==============================] - 0s 456us/step - loss: 0.4222 - acc: 0.7957 - val_loss: 0.4749 - val_acc: 0.8031\n",
            "Epoch 101/150\n",
            "514/514 [==============================] - 0s 465us/step - loss: 0.4222 - acc: 0.7899 - val_loss: 0.4353 - val_acc: 0.7835\n",
            "Epoch 102/150\n",
            "514/514 [==============================] - 0s 444us/step - loss: 0.4195 - acc: 0.7821 - val_loss: 0.4292 - val_acc: 0.7992\n",
            "Epoch 103/150\n",
            "514/514 [==============================] - 0s 434us/step - loss: 0.4005 - acc: 0.8035 - val_loss: 0.4539 - val_acc: 0.7874\n",
            "Epoch 104/150\n",
            "514/514 [==============================] - 0s 454us/step - loss: 0.3987 - acc: 0.8171 - val_loss: 0.4383 - val_acc: 0.7992\n",
            "Epoch 105/150\n",
            "514/514 [==============================] - 0s 481us/step - loss: 0.4040 - acc: 0.8054 - val_loss: 0.4665 - val_acc: 0.7874\n",
            "Epoch 106/150\n",
            "514/514 [==============================] - 0s 451us/step - loss: 0.4322 - acc: 0.7938 - val_loss: 0.4398 - val_acc: 0.8110\n",
            "Epoch 107/150\n",
            "514/514 [==============================] - 0s 450us/step - loss: 0.4021 - acc: 0.8035 - val_loss: 0.4264 - val_acc: 0.7913\n",
            "Epoch 108/150\n",
            "514/514 [==============================] - 0s 454us/step - loss: 0.4125 - acc: 0.8035 - val_loss: 0.4273 - val_acc: 0.8071\n",
            "Epoch 109/150\n",
            "514/514 [==============================] - 0s 446us/step - loss: 0.4044 - acc: 0.8132 - val_loss: 0.4205 - val_acc: 0.7913\n",
            "Epoch 110/150\n",
            "514/514 [==============================] - 0s 466us/step - loss: 0.3982 - acc: 0.8152 - val_loss: 0.4191 - val_acc: 0.8071\n",
            "Epoch 111/150\n",
            "514/514 [==============================] - 0s 441us/step - loss: 0.4028 - acc: 0.7977 - val_loss: 0.4605 - val_acc: 0.7992\n",
            "Epoch 112/150\n",
            "514/514 [==============================] - 0s 466us/step - loss: 0.3929 - acc: 0.8191 - val_loss: 0.4599 - val_acc: 0.7953\n",
            "Epoch 113/150\n",
            "514/514 [==============================] - 0s 442us/step - loss: 0.4134 - acc: 0.8074 - val_loss: 0.4440 - val_acc: 0.7992\n",
            "Epoch 114/150\n",
            "514/514 [==============================] - 0s 489us/step - loss: 0.4105 - acc: 0.7918 - val_loss: 0.4532 - val_acc: 0.7835\n",
            "Epoch 115/150\n",
            "514/514 [==============================] - 0s 432us/step - loss: 0.4077 - acc: 0.7938 - val_loss: 0.4437 - val_acc: 0.7953\n",
            "Epoch 116/150\n",
            "514/514 [==============================] - 0s 447us/step - loss: 0.4094 - acc: 0.7957 - val_loss: 0.4381 - val_acc: 0.8071\n",
            "Epoch 117/150\n",
            "514/514 [==============================] - 0s 461us/step - loss: 0.3962 - acc: 0.8093 - val_loss: 0.4813 - val_acc: 0.7992\n",
            "Epoch 118/150\n",
            "514/514 [==============================] - 0s 450us/step - loss: 0.4059 - acc: 0.8074 - val_loss: 0.4409 - val_acc: 0.7992\n",
            "Epoch 119/150\n",
            "514/514 [==============================] - 0s 449us/step - loss: 0.3964 - acc: 0.8035 - val_loss: 0.4656 - val_acc: 0.7756\n",
            "Epoch 120/150\n",
            "514/514 [==============================] - 0s 441us/step - loss: 0.3958 - acc: 0.8035 - val_loss: 0.4607 - val_acc: 0.7874\n",
            "Epoch 121/150\n",
            "514/514 [==============================] - 0s 463us/step - loss: 0.4165 - acc: 0.8016 - val_loss: 0.4379 - val_acc: 0.7835\n",
            "Epoch 122/150\n",
            "514/514 [==============================] - 0s 458us/step - loss: 0.4131 - acc: 0.8074 - val_loss: 0.4565 - val_acc: 0.7913\n",
            "Epoch 123/150\n",
            "514/514 [==============================] - 0s 483us/step - loss: 0.3954 - acc: 0.8093 - val_loss: 0.4595 - val_acc: 0.7913\n",
            "Epoch 124/150\n",
            "514/514 [==============================] - 0s 460us/step - loss: 0.4094 - acc: 0.7996 - val_loss: 0.4332 - val_acc: 0.8031\n",
            "Epoch 125/150\n",
            "514/514 [==============================] - 0s 439us/step - loss: 0.4046 - acc: 0.8035 - val_loss: 0.4545 - val_acc: 0.7598\n",
            "Epoch 126/150\n",
            "514/514 [==============================] - 0s 451us/step - loss: 0.4080 - acc: 0.8035 - val_loss: 0.4423 - val_acc: 0.7913\n",
            "Epoch 127/150\n",
            "514/514 [==============================] - 0s 471us/step - loss: 0.4108 - acc: 0.7938 - val_loss: 0.4709 - val_acc: 0.7795\n",
            "Epoch 128/150\n",
            "514/514 [==============================] - 0s 454us/step - loss: 0.4075 - acc: 0.7996 - val_loss: 0.4529 - val_acc: 0.7913\n",
            "Epoch 129/150\n",
            "514/514 [==============================] - 0s 439us/step - loss: 0.4115 - acc: 0.7899 - val_loss: 0.4694 - val_acc: 0.8031\n",
            "Epoch 130/150\n",
            "514/514 [==============================] - 0s 475us/step - loss: 0.3933 - acc: 0.8054 - val_loss: 0.4713 - val_acc: 0.7913\n",
            "Epoch 131/150\n",
            "514/514 [==============================] - 0s 456us/step - loss: 0.3955 - acc: 0.8191 - val_loss: 0.4497 - val_acc: 0.7913\n",
            "Epoch 132/150\n",
            "514/514 [==============================] - 0s 469us/step - loss: 0.4076 - acc: 0.8171 - val_loss: 0.4665 - val_acc: 0.7992\n",
            "Epoch 133/150\n",
            "514/514 [==============================] - 0s 443us/step - loss: 0.4167 - acc: 0.7977 - val_loss: 0.4776 - val_acc: 0.7835\n",
            "Epoch 134/150\n",
            "514/514 [==============================] - 0s 458us/step - loss: 0.4180 - acc: 0.7977 - val_loss: 0.4400 - val_acc: 0.7756\n",
            "Epoch 135/150\n",
            "514/514 [==============================] - 0s 445us/step - loss: 0.4122 - acc: 0.8074 - val_loss: 0.4521 - val_acc: 0.7874\n",
            "Epoch 136/150\n",
            "514/514 [==============================] - 0s 478us/step - loss: 0.4005 - acc: 0.8054 - val_loss: 0.4623 - val_acc: 0.7795\n",
            "Epoch 137/150\n",
            "514/514 [==============================] - 0s 472us/step - loss: 0.3866 - acc: 0.8210 - val_loss: 0.4762 - val_acc: 0.7835\n",
            "Epoch 138/150\n",
            "514/514 [==============================] - 0s 452us/step - loss: 0.3996 - acc: 0.8171 - val_loss: 0.4634 - val_acc: 0.7677\n",
            "Epoch 139/150\n",
            "514/514 [==============================] - 0s 442us/step - loss: 0.4046 - acc: 0.7957 - val_loss: 0.4779 - val_acc: 0.7756\n",
            "Epoch 140/150\n",
            "514/514 [==============================] - 0s 459us/step - loss: 0.3937 - acc: 0.8093 - val_loss: 0.4966 - val_acc: 0.7638\n",
            "Epoch 141/150\n",
            "514/514 [==============================] - 0s 442us/step - loss: 0.3960 - acc: 0.8054 - val_loss: 0.5077 - val_acc: 0.7795\n",
            "Epoch 142/150\n",
            "514/514 [==============================] - 0s 445us/step - loss: 0.4032 - acc: 0.8016 - val_loss: 0.5080 - val_acc: 0.7913\n",
            "Epoch 143/150\n",
            "514/514 [==============================] - 0s 447us/step - loss: 0.3872 - acc: 0.8288 - val_loss: 0.5071 - val_acc: 0.7677\n",
            "Epoch 144/150\n",
            "514/514 [==============================] - 0s 450us/step - loss: 0.3996 - acc: 0.7996 - val_loss: 0.4584 - val_acc: 0.7874\n",
            "Epoch 145/150\n",
            "514/514 [==============================] - 0s 460us/step - loss: 0.3906 - acc: 0.8171 - val_loss: 0.5348 - val_acc: 0.7795\n",
            "Epoch 146/150\n",
            "514/514 [==============================] - 0s 467us/step - loss: 0.3996 - acc: 0.8074 - val_loss: 0.4736 - val_acc: 0.7480\n",
            "Epoch 147/150\n",
            "514/514 [==============================] - 0s 439us/step - loss: 0.4038 - acc: 0.8113 - val_loss: 0.4564 - val_acc: 0.7913\n",
            "Epoch 148/150\n",
            "514/514 [==============================] - 0s 444us/step - loss: 0.4009 - acc: 0.8093 - val_loss: 0.4539 - val_acc: 0.7992\n",
            "Epoch 149/150\n",
            "514/514 [==============================] - 0s 478us/step - loss: 0.4007 - acc: 0.8210 - val_loss: 0.5437 - val_acc: 0.7520\n",
            "Epoch 150/150\n",
            "514/514 [==============================] - 0s 454us/step - loss: 0.4259 - acc: 0.7879 - val_loss: 0.5330 - val_acc: 0.7638\n"
          ],
          "name": "stdout"
        },
        {
          "output_type": "execute_result",
          "data": {
            "text/plain": [
              "<keras.callbacks.History at 0x7f8a904a94a8>"
            ]
          },
          "metadata": {
            "tags": []
          },
          "execution_count": 19
        }
      ]
    },
    {
      "cell_type": "code",
      "metadata": {
        "id": "nHL7nroSZscN",
        "colab_type": "code",
        "outputId": "88961b29-b6ff-4725-b7de-caf67017b35d",
        "colab": {
          "base_uri": "https://localhost:8080/",
          "height": 50
        }
      },
      "source": [
        "# evaluate the model\n",
        "scores = model.evaluate(X, Y)\n",
        "print(\"%s: %.2f%%\" % (model.metrics_names[1], scores[1]*100))"
      ],
      "execution_count": 20,
      "outputs": [
        {
          "output_type": "stream",
          "text": [
            "768/768 [==============================] - 0s 65us/step\n",
            "acc: 79.43%\n"
          ],
          "name": "stdout"
        }
      ]
    }
  ]
}