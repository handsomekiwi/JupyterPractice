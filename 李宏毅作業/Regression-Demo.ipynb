{
  "nbformat": 4,
  "nbformat_minor": 0,
  "metadata": {
    "kernelspec": {
      "display_name": "Python 2",
      "language": "python",
      "name": "python2"
    },
    "language_info": {
      "codemirror_mode": {
        "name": "ipython",
        "version": 2
      },
      "file_extension": ".py",
      "mimetype": "text/x-python",
      "name": "python",
      "nbconvert_exporter": "python",
      "pygments_lexer": "ipython2",
      "version": "2.7.11"
    },
    "colab": {
      "name": "Regression-Demo.ipynb",
      "version": "0.3.2",
      "provenance": []
    }
  },
  "cells": [
    {
      "cell_type": "code",
      "metadata": {
        "id": "xSmO7ry9cH1l",
        "colab_type": "code",
        "colab": {
          "base_uri": "https://localhost:8080/",
          "height": 657
        },
        "outputId": "77b9420a-3792-4660-813b-2a00e31d6374"
      },
      "source": [
        "import matplotlib\n",
        "import matplotlib.pyplot as plt\n",
        "matplotlib.use('Agg')\n",
        "%matplotlib inline\n",
        "import random as random\n",
        "import numpy as np\n",
        "import csv"
      ],
      "execution_count": 1,
      "outputs": [
        {
          "output_type": "stream",
          "text": [
            "/usr/local/lib/python2.7/dist-packages/ipykernel_launcher.py:3: UserWarning: \n",
            "This call to matplotlib.use() has no effect because the backend has already\n",
            "been chosen; matplotlib.use() must be called *before* pylab, matplotlib.pyplot,\n",
            "or matplotlib.backends is imported for the first time.\n",
            "\n",
            "The backend was *originally* set to 'module://ipykernel.pylab.backend_inline' by the following code:\n",
            "  File \"/usr/lib/python2.7/runpy.py\", line 174, in _run_module_as_main\n",
            "    \"__main__\", fname, loader, pkg_name)\n",
            "  File \"/usr/lib/python2.7/runpy.py\", line 72, in _run_code\n",
            "    exec code in run_globals\n",
            "  File \"/usr/local/lib/python2.7/dist-packages/ipykernel_launcher.py\", line 16, in <module>\n",
            "    app.launch_new_instance()\n",
            "  File \"/usr/local/lib/python2.7/dist-packages/traitlets/config/application.py\", line 657, in launch_instance\n",
            "    app.initialize(argv)\n",
            "  File \"</usr/local/lib/python2.7/dist-packages/decorator.pyc:decorator-gen-121>\", line 2, in initialize\n",
            "  File \"/usr/local/lib/python2.7/dist-packages/traitlets/config/application.py\", line 87, in catch_config_error\n",
            "    return method(app, *args, **kwargs)\n",
            "  File \"/usr/local/lib/python2.7/dist-packages/ipykernel/kernelapp.py\", line 462, in initialize\n",
            "    self.init_gui_pylab()\n",
            "  File \"/usr/local/lib/python2.7/dist-packages/ipykernel/kernelapp.py\", line 403, in init_gui_pylab\n",
            "    InteractiveShellApp.init_gui_pylab(self)\n",
            "  File \"/usr/local/lib/python2.7/dist-packages/IPython/core/shellapp.py\", line 213, in init_gui_pylab\n",
            "    r = enable(key)\n",
            "  File \"/usr/local/lib/python2.7/dist-packages/IPython/core/interactiveshell.py\", line 2950, in enable_matplotlib\n",
            "    pt.activate_matplotlib(backend)\n",
            "  File \"/usr/local/lib/python2.7/dist-packages/IPython/core/pylabtools.py\", line 309, in activate_matplotlib\n",
            "    matplotlib.pyplot.switch_backend(backend)\n",
            "  File \"/usr/local/lib/python2.7/dist-packages/matplotlib/pyplot.py\", line 231, in switch_backend\n",
            "    matplotlib.use(newbackend, warn=False, force=True)\n",
            "  File \"/usr/local/lib/python2.7/dist-packages/matplotlib/__init__.py\", line 1422, in use\n",
            "    reload(sys.modules['matplotlib.backends'])\n",
            "  File \"/usr/local/lib/python2.7/dist-packages/matplotlib/backends/__init__.py\", line 17, in <module>\n",
            "    line for line in traceback.format_stack()\n",
            "\n",
            "\n",
            "  This is separate from the ipykernel package so we can avoid doing imports until\n"
          ],
          "name": "stderr"
        }
      ]
    },
    {
      "cell_type": "code",
      "metadata": {
        "id": "SoG5P8OccH15",
        "colab_type": "code",
        "colab": {}
      },
      "source": [
        "x_data = [ 338.,  333.,  328. , 207. , 226.  , 25. , 179. ,  60. , 208.,  606.]\n",
        "y_data = [  640.  , 633. ,  619.  , 393.  , 428. ,   27.  , 193.  ,  66. ,  226. , 1591.]"
      ],
      "execution_count": 0,
      "outputs": []
    },
    {
      "cell_type": "code",
      "metadata": {
        "id": "sfI_n7IUcH2C",
        "colab_type": "code",
        "colab": {}
      },
      "source": [
        "x = np.arange(-200,-100,1) #bias\n",
        "y = np.arange(-5,5,0.1) #weight\n",
        "Z =  np.zeros((len(x), len(y)))\n",
        "X, Y = np.meshgrid(x, y)\n",
        "for i in range(len(x)):\n",
        "    for j in range(len(y)):\n",
        "\t\tb = x[i]\n",
        "\t\tw = y[j]\n",
        "\t\tZ[j][i] = 0\n",
        "\t\tfor n in range(len(x_data)):\n",
        "\t\t\tZ[j][i] = Z[j][i] +  (y_data[n] - b - w*x_data[n])**2\n",
        "\t\tZ[j][i] = Z[j][i]/len(x_data)"
      ],
      "execution_count": 0,
      "outputs": []
    },
    {
      "cell_type": "code",
      "metadata": {
        "id": "IR9VjPiJcH2J",
        "colab_type": "code",
        "colab": {
          "base_uri": "https://localhost:8080/",
          "height": 289
        },
        "outputId": "3ce46c75-7131-4f28-a476-779a135126f2"
      },
      "source": [
        "# ydata = b + w * xdata \n",
        "b = -120 # initial b\n",
        "w = -4 # initial w\n",
        "lr = 1 # learning rate\n",
        "iteration = 100000\n",
        "\n",
        "b_lr = 0.0\n",
        "w_lr = 0.0\n",
        "\n",
        "# Store initial values for plotting.\n",
        "b_history = [b]\n",
        "w_history = [w]\n",
        "\n",
        "# Iterations\n",
        "for i in range(iteration):\n",
        "    \n",
        "    b_grad = 0.0\n",
        "    w_grad = 0.0\n",
        "    for n in range(len(x_data)):        \n",
        "        b_grad = b_grad  - 2.0*(y_data[n] - b - w*x_data[n])*1.0\n",
        "        w_grad = w_grad  - 2.0*(y_data[n] - b - w*x_data[n])*x_data[n]\n",
        "    \n",
        "    b_lr = b_lr + b_grad**2\n",
        "    w_lr = w_lr + w_grad**2\n",
        "    \n",
        "    # Update parameters.\n",
        "    b = b - lr/np.sqrt(b_lr) * b_grad \n",
        "    w = w - lr/np.sqrt(w_lr) * w_grad\n",
        "    \n",
        "    # Store parameters for plotting\n",
        "    b_history.append(b)\n",
        "    w_history.append(w)\n",
        "\n",
        "# plot the figure\n",
        "plt.contourf(x,y,Z, 50, alpha=0.5, cmap=plt.get_cmap('jet'))\n",
        "plt.plot([-188.4], [2.67], 'x', ms=12, markeredgewidth=3, color='orange')\n",
        "plt.plot(b_history, w_history, 'o-', ms=3, lw=1.5, color='black')\n",
        "plt.xlim(-200,-100)\n",
        "plt.ylim(-5,5)\n",
        "plt.xlabel(r'$b$', fontsize=16)\n",
        "plt.ylabel(r'$w$', fontsize=16)\n",
        "plt.show()"
      ],
      "execution_count": 4,
      "outputs": [
        {
          "output_type": "display_data",
          "data": {
            "image/png": "[encoded data removed]",
            "text/plain": [
              "<Figure size 432x288 with 1 Axes>"
            ]
          },
          "metadata": {
            "tags": []
          }
        }
      ]
    }
  ]
}