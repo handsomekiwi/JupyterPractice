{
  "nbformat": 4,
  "nbformat_minor": 0,
  "metadata": {
    "kernelspec": {
      "display_name": "Python 2",
      "language": "python",
      "name": "python2"
    },
    "language_info": {
      "codemirror_mode": {
        "name": "ipython",
        "version": 2
      },
      "file_extension": ".py",
      "mimetype": "text/x-python",
      "name": "python",
      "nbconvert_exporter": "python",
      "pygments_lexer": "ipython2",
      "version": "2.7.11"
    },
    "colab": {
      "name": "Regression-Demo.ipynb",
      "version": "0.3.2",
      "provenance": []
    }
  },
  "cells": [
    {
      "cell_type": "code",
      "metadata": {
        "id": "xSmO7ry9cH1l",
        "colab_type": "code",
        "colab": {}
      },
      "source": [
        "import matplotlib\n",
        "import matplotlib.pyplot as plt\n",
        "#matplotlib.use('Agg')\n",
        "%matplotlib inline\n",
        "import random as random\n",
        "import numpy as np\n",
        "import csv"
      ],
      "execution_count": 0,
      "outputs": []
    },
    {
      "cell_type": "markdown",
      "metadata": {
        "id": "mKXJZgFc4QYs",
        "colab_type": "text"
      },
      "source": [
        "现在假设有10个x_data和y_data，x和y之间的关系是y_data=b+w*x_data。b，w都是参数，是需要学习出来的。现在我们来练习用梯度下降找到b和w。"
      ]
    },
    {
      "cell_type": "code",
      "metadata": {
        "id": "SoG5P8OccH15",
        "colab_type": "code",
        "colab": {}
      },
      "source": [
        "#假設X,Y有十筆\n",
        "x_data = [ 338.,  333.,  328. , 207. , 226.  , 25. , 179. ,  60. , 208.,  606.]\n",
        "y_data = [  640.  , 633. ,  619.  , 393.  , 428. ,   27.  , 193.  ,  66. ,  226. , 1591.]\n",
        "#y_data = b+ w*xdata 用gd把g和w找出來"
      ],
      "execution_count": 0,
      "outputs": []
    },
    {
      "cell_type": "code",
      "metadata": {
        "id": "Jluvd4px4uOX",
        "colab_type": "code",
        "colab": {
          "base_uri": "https://localhost:8080/",
          "height": 337
        },
        "outputId": "063992af-e942-49e6-ee6d-5b82462148c7"
      },
      "source": [
        "x = np.arange(-200,-100,1) #bias\n",
        "y = np.arange(-5,5,0.1) #weight\n",
        "Z =  np.zeros((len(x), len(y))) #弄一個100*100的Z存隨機的B 和 W 的 LOSS\n",
        "print(\"x =\")\n",
        "print(x)\n",
        "print(\"z =\")\n",
        "print(Z)\n",
        "print(Z.shape)"
      ],
      "execution_count": 9,
      "outputs": [
        {
          "output_type": "stream",
          "text": [
            "x =\n",
            "[-200 -199 -198 -197 -196 -195 -194 -193 -192 -191 -190 -189 -188 -187\n",
            " -186 -185 -184 -183 -182 -181 -180 -179 -178 -177 -176 -175 -174 -173\n",
            " -172 -171 -170 -169 -168 -167 -166 -165 -164 -163 -162 -161 -160 -159\n",
            " -158 -157 -156 -155 -154 -153 -152 -151 -150 -149 -148 -147 -146 -145\n",
            " -144 -143 -142 -141 -140 -139 -138 -137 -136 -135 -134 -133 -132 -131\n",
            " -130 -129 -128 -127 -126 -125 -124 -123 -122 -121 -120 -119 -118 -117\n",
            " -116 -115 -114 -113 -112 -111 -110 -109 -108 -107 -106 -105 -104 -103\n",
            " -102 -101]\n",
            "z =\n",
            "[[0. 0. 0. ... 0. 0. 0.]\n",
            " [0. 0. 0. ... 0. 0. 0.]\n",
            " [0. 0. 0. ... 0. 0. 0.]\n",
            " ...\n",
            " [0. 0. 0. ... 0. 0. 0.]\n",
            " [0. 0. 0. ... 0. 0. 0.]\n",
            " [0. 0. 0. ... 0. 0. 0.]]\n",
            "(100, 100)\n"
          ],
          "name": "stdout"
        }
      ]
    },
    {
      "cell_type": "code",
      "metadata": {
        "id": "lIArk7fl8CrX",
        "colab_type": "code",
        "colab": {
          "base_uri": "https://localhost:8080/",
          "height": 301
        },
        "outputId": "8dd4afd2-27da-4b23-8e7c-c3839c0daa3a"
      },
      "source": [
        "X, Y = np.meshgrid(x, y)#產生網格矩陣 x =行數 y=列數\n",
        "print(X)\n",
        "print(X.shape)\n",
        "print(Y)\n",
        "print(Y.shape)"
      ],
      "execution_count": 10,
      "outputs": [
        {
          "output_type": "stream",
          "text": [
            "[[-200 -199 -198 ... -103 -102 -101]\n",
            " [-200 -199 -198 ... -103 -102 -101]\n",
            " [-200 -199 -198 ... -103 -102 -101]\n",
            " ...\n",
            " [-200 -199 -198 ... -103 -102 -101]\n",
            " [-200 -199 -198 ... -103 -102 -101]\n",
            " [-200 -199 -198 ... -103 -102 -101]]\n",
            "(100, 100)\n",
            "[[-5.  -5.  -5.  ... -5.  -5.  -5. ]\n",
            " [-4.9 -4.9 -4.9 ... -4.9 -4.9 -4.9]\n",
            " [-4.8 -4.8 -4.8 ... -4.8 -4.8 -4.8]\n",
            " ...\n",
            " [ 4.7  4.7  4.7 ...  4.7  4.7  4.7]\n",
            " [ 4.8  4.8  4.8 ...  4.8  4.8  4.8]\n",
            " [ 4.9  4.9  4.9 ...  4.9  4.9  4.9]]\n",
            "(100, 100)\n"
          ],
          "name": "stdout"
        }
      ]
    },
    {
      "cell_type": "code",
      "metadata": {
        "colab_type": "code",
        "outputId": "8972aa8c-0f5a-4c17-e312-1e2178db3740",
        "id": "re6NtDktOVzw",
        "colab": {
          "base_uri": "https://localhost:8080/",
          "height": 35
        }
      },
      "source": [
        "count=0\n",
        "for i in range(100):\n",
        "  for j in range(100):\n",
        "    count=count+1\n",
        "print(count)"
      ],
      "execution_count": 11,
      "outputs": [
        {
          "output_type": "stream",
          "text": [
            "10000\n"
          ],
          "name": "stdout"
        }
      ]
    },
    {
      "cell_type": "code",
      "metadata": {
        "id": "sfI_n7IUcH2C",
        "colab_type": "code",
        "colab": {
          "base_uri": "https://localhost:8080/",
          "height": 248
        },
        "outputId": "51ef5082-7e3f-47d2-c638-318325208a08"
      },
      "source": [
        "#loss\n",
        " \n",
        "# 雙層for循環，計算方差和的平均\n",
        "#y_data = b+ w*xdata\n",
        "for i in range(len(x)):\n",
        "  for j in range(len(y)):\n",
        "    b = x[i]\n",
        "    w = y[j]   \n",
        "    Z[j][i] = 0 \n",
        "    for n in range(len(x_data)):#x_data =10\n",
        "      Z[j][i] = Z[j][i] +  (y_data[n] - b - w*x_data[n])**2#現在b w是隨機初始的      \n",
        "      if(i==0 and j==0):\n",
        "        print(Z[j][i])\n",
        "    if(i==0 and j==0):\n",
        "      print(\"\\n\")\n",
        "    Z[j][i] = Z[j][i]/len(x_data)#10筆做平均\n",
        "    if(i==0 and j==0):\n",
        "        print(Z[j][i])   "
      ],
      "execution_count": 12,
      "outputs": [
        {
          "output_type": "stream",
          "text": [
            "6400900.0\n",
            "12640904.0\n",
            "18687585.0\n",
            "21337969.0\n",
            "24428533.0\n",
            "24552437.0\n",
            "26211381.0\n",
            "26531737.0\n",
            "28680893.0\n",
            "51922934.0\n",
            "\n",
            "\n",
            "5192293.4\n"
          ],
          "name": "stdout"
        }
      ]
    },
    {
      "cell_type": "code",
      "metadata": {
        "id": "IR9VjPiJcH2J",
        "colab_type": "code",
        "outputId": "950e850f-8363-496e-f3e8-c1e381bb8723",
        "colab": {
          "base_uri": "https://localhost:8080/",
          "height": 289
        }
      },
      "source": [
        "# ydata = b + w * xdata # linear regression\n",
        "b = -120 # initial b\n",
        "w = -4 # initial w\n",
        "lr = 0.0000001 # learning rate\n",
        "iteration = 100000#在每個iteration，計算b,w對loss的偏微分\n",
        "\n",
        "\n",
        "\n",
        "# Store initial values for plotting.\n",
        "b_history = [b]\n",
        "w_history = [w]\n",
        "\n",
        "# Iterations\n",
        "for i in range(iteration):\n",
        "    \n",
        "    b_grad = 0.0#b的偏微分\n",
        "    w_grad = 0.0\n",
        "    for n in range(len(x_data)):#x_data =10\n",
        "      # 計算w和b的偏導數\n",
        "        b_grad = b_grad  - 2.0*(y_data[n] - b - w*x_data[n])*1.0\n",
        "        w_grad = w_grad  - 2.0*(y_data[n] - b - w*x_data[n])*x_data[n]\n",
        "    \n",
        "\n",
        "    # Update parameters.\n",
        "    b = b - lr * b_grad \n",
        "    w = w - lr * w_grad\n",
        "    # Store parameters for plotting# 每更新一次存儲更新的w和b\n",
        "    b_history.append(b)\n",
        "    w_history.append(w)\n",
        "\n",
        "# plot the figure\n",
        "# contour函數畫等高線圖\n",
        "# contourf函數對等高線間的填充區域進行填充（使用不同的顏色），並將不會再繪製等高線（顯然不同的顏色分界就表示等高線本身）\n",
        "# 即以等高線區間色塊形式顯示\n",
        "# alpha=0.5表示透明度50%。50代表的是顯示等高線的密集程度，數值越大，畫的等高線數就越多。\n",
        "# cmap即color map\n",
        "plt.contourf(x,y,Z, 50, alpha=0.5, cmap=plt.get_cmap('jet'))\n",
        "plt.plot([-188.4], [2.67], 'x', ms=12, markeredgewidth=3, color='orange')\n",
        "# plt.plot(x,y,format_string,**kwargs) x軸數據，y軸數據，format_string控制曲線的格式字串,format_string有顏色字符，風格字符和標記字符\n",
        "# 'x'表示x形標記，color='orange'爲橙色，markeredgewidth爲標記的線段的寬度，ms爲markersize標記大小，lw爲linewidth線寬\n",
        "plt.plot(b_history, w_history, 'o-', ms=3, lw=1.5, color='black')\n",
        "plt.xlim(-200,-100)# 設置x軸刻度範圍-200到-100\n",
        "\n",
        "plt.ylim(-5,5)\n",
        "plt.xlabel(r'$b$', fontsize=16)# 設置x軸和y軸的標籤和標籤的大小\n",
        "\n",
        "plt.ylabel(r'$w$', fontsize=16)\n",
        "plt.show()"
      ],
      "execution_count": 45,
      "outputs": [
        {
          "output_type": "display_data",
          "data": {
            "image/png": "[encoded data removed]",
            "text/plain": [
              "<Figure size 432x288 with 1 Axes>"
            ]
          },
          "metadata": {
            "tags": []
          }
        }
      ]
    }
  ]
}