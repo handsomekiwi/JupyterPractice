{
  "nbformat": 4,
  "nbformat_minor": 0,
  "metadata": {
    "colab": {
      "name": "Untitled1.ipynb",
      "version": "0.3.2",
      "provenance": [],
      "collapsed_sections": [],
      "include_colab_link": true
    },
    "kernelspec": {
      "name": "python2",
      "display_name": "Python 2"
    }
  },
  "cells": [
    {
      "cell_type": "markdown",
      "metadata": {
        "id": "view-in-github",
        "colab_type": "text"
      },
      "source": [
        "<a href=\"https://colab.research.google.com/github/handsomekiwi/JupyterPractice/blob/master/IRIS/IRIS.ipynb\" target=\"_parent\"><img src=\"https://colab.research.google.com/assets/colab-badge.svg\" alt=\"Open In Colab\"/></a>"
      ]
    },
    {
      "cell_type": "code",
      "metadata": {
        "id": "QC6StjRhFjrz",
        "colab_type": "code",
        "outputId": "0f1bd595-f042-49f2-eba4-d6c8924ff52c",
        "colab": {
          "base_uri": "https://localhost:8080/",
          "height": 195
        }
      },
      "source": [
        "import pandas as pd\n",
        "# load dataset\n",
        "dataframe = pd.read_csv(\"https://raw.githubusercontent.com/handsomekiwi/JupyterPractice/master/IRIS/IRIS.csv\", header=None)\n",
        "#dataframe. add tab to find function\n",
        "dataframe.head() #.head gives the first 5 row\n"
      ],
      "execution_count": 3,
      "outputs": [
        {
          "output_type": "execute_result",
          "data": {
            "text/html": [
              "<div>\n",
              "<style scoped>\n",
              "    .dataframe tbody tr th:only-of-type {\n",
              "        vertical-align: middle;\n",
              "    }\n",
              "\n",
              "    .dataframe tbody tr th {\n",
              "        vertical-align: top;\n",
              "    }\n",
              "\n",
              "    .dataframe thead th {\n",
              "        text-align: right;\n",
              "    }\n",
              "</style>\n",
              "<table border=\"1\" class=\"dataframe\">\n",
              "  <thead>\n",
              "    <tr style=\"text-align: right;\">\n",
              "      <th></th>\n",
              "      <th>0</th>\n",
              "      <th>1</th>\n",
              "      <th>2</th>\n",
              "      <th>3</th>\n",
              "      <th>4</th>\n",
              "    </tr>\n",
              "  </thead>\n",
              "  <tbody>\n",
              "    <tr>\n",
              "      <th>0</th>\n",
              "      <td>sepal_length</td>\n",
              "      <td>sepal_width</td>\n",
              "      <td>petal_length</td>\n",
              "      <td>petal_width</td>\n",
              "      <td>species</td>\n",
              "    </tr>\n",
              "    <tr>\n",
              "      <th>1</th>\n",
              "      <td>5.1</td>\n",
              "      <td>3.5</td>\n",
              "      <td>1.4</td>\n",
              "      <td>0.2</td>\n",
              "      <td>Iris-setosa</td>\n",
              "    </tr>\n",
              "    <tr>\n",
              "      <th>2</th>\n",
              "      <td>4.9</td>\n",
              "      <td>3</td>\n",
              "      <td>1.4</td>\n",
              "      <td>0.2</td>\n",
              "      <td>Iris-setosa</td>\n",
              "    </tr>\n",
              "    <tr>\n",
              "      <th>3</th>\n",
              "      <td>4.7</td>\n",
              "      <td>3.2</td>\n",
              "      <td>1.3</td>\n",
              "      <td>0.2</td>\n",
              "      <td>Iris-setosa</td>\n",
              "    </tr>\n",
              "    <tr>\n",
              "      <th>4</th>\n",
              "      <td>4.6</td>\n",
              "      <td>3.1</td>\n",
              "      <td>1.5</td>\n",
              "      <td>0.2</td>\n",
              "      <td>Iris-setosa</td>\n",
              "    </tr>\n",
              "  </tbody>\n",
              "</table>\n",
              "</div>"
            ],
            "text/plain": [
              "              0            1             2            3            4\n",
              "0  sepal_length  sepal_width  petal_length  petal_width      species\n",
              "1           5.1          3.5           1.4          0.2  Iris-setosa\n",
              "2           4.9            3           1.4          0.2  Iris-setosa\n",
              "3           4.7          3.2           1.3          0.2  Iris-setosa\n",
              "4           4.6          3.1           1.5          0.2  Iris-setosa"
            ]
          },
          "metadata": {
            "tags": []
          },
          "execution_count": 3
        }
      ]
    },
    {
      "cell_type": "code",
      "metadata": {
        "id": "MqakbZQlEcYT",
        "colab_type": "code",
        "outputId": "99802b3e-615e-4c13-dfa7-cc6e00aa677a",
        "colab": {
          "base_uri": "https://localhost:8080/",
          "height": 101
        }
      },
      "source": [
        "dataset = dataframe.values\n",
        "import numpy as np\n",
        "dataset = np.delete(dataset, (0), axis=0)\n",
        "dataset[0:5]\n"
      ],
      "execution_count": 12,
      "outputs": [
        {
          "output_type": "execute_result",
          "data": {
            "text/plain": [
              "array([['5.1', '3.5', '1.4', '0.2', 'Iris-setosa'],\n",
              "       ['4.9', '3', '1.4', '0.2', 'Iris-setosa'],\n",
              "       ['4.7', '3.2', '1.3', '0.2', 'Iris-setosa'],\n",
              "       ['4.6', '3.1', '1.5', '0.2', 'Iris-setosa'],\n",
              "       ['5', '3.6', '1.4', '0.2', 'Iris-setosa']], dtype=object)"
            ]
          },
          "metadata": {
            "tags": []
          },
          "execution_count": 12
        }
      ]
    },
    {
      "cell_type": "code",
      "metadata": {
        "id": "znKj-_OEJc8Z",
        "colab_type": "code",
        "outputId": "6cca1c37-edd1-4421-b0fa-380481b46026",
        "colab": {
          "base_uri": "https://localhost:8080/",
          "height": 101
        }
      },
      "source": [
        "X_input = dataset[:,0:4].astype(float)\n",
        "X_input[0:5]"
      ],
      "execution_count": 27,
      "outputs": [
        {
          "output_type": "execute_result",
          "data": {
            "text/plain": [
              "array([[5.1, 3.5, 1.4, 0.2],\n",
              "       [4.9, 3. , 1.4, 0.2],\n",
              "       [4.7, 3.2, 1.3, 0.2],\n",
              "       [4.6, 3.1, 1.5, 0.2],\n",
              "       [5. , 3.6, 1.4, 0.2]])"
            ]
          },
          "metadata": {
            "tags": []
          },
          "execution_count": 27
        }
      ]
    },
    {
      "cell_type": "code",
      "metadata": {
        "id": "Rt7AbDNOJkMp",
        "colab_type": "code",
        "outputId": "2895ee1f-bd80-4b70-f4ee-2c3bde1c39fc",
        "colab": {
          "base_uri": "https://localhost:8080/",
          "height": 790
        }
      },
      "source": [
        "Y_answer = dataset[:,4]\n",
        "Y_answer"
      ],
      "execution_count": 29,
      "outputs": [
        {
          "output_type": "execute_result",
          "data": {
            "text/plain": [
              "array(['Iris-setosa', 'Iris-setosa', 'Iris-setosa', 'Iris-setosa',\n",
              "       'Iris-setosa', 'Iris-setosa', 'Iris-setosa', 'Iris-setosa',\n",
              "       'Iris-setosa', 'Iris-setosa', 'Iris-setosa', 'Iris-setosa',\n",
              "       'Iris-setosa', 'Iris-setosa', 'Iris-setosa', 'Iris-setosa',\n",
              "       'Iris-setosa', 'Iris-setosa', 'Iris-setosa', 'Iris-setosa',\n",
              "       'Iris-setosa', 'Iris-setosa', 'Iris-setosa', 'Iris-setosa',\n",
              "       'Iris-setosa', 'Iris-setosa', 'Iris-setosa', 'Iris-setosa',\n",
              "       'Iris-setosa', 'Iris-setosa', 'Iris-setosa', 'Iris-setosa',\n",
              "       'Iris-setosa', 'Iris-setosa', 'Iris-setosa', 'Iris-setosa',\n",
              "       'Iris-setosa', 'Iris-setosa', 'Iris-setosa', 'Iris-setosa',\n",
              "       'Iris-setosa', 'Iris-setosa', 'Iris-setosa', 'Iris-setosa',\n",
              "       'Iris-setosa', 'Iris-setosa', 'Iris-setosa', 'Iris-setosa',\n",
              "       'Iris-setosa', 'Iris-setosa', 'Iris-versicolor', 'Iris-versicolor',\n",
              "       'Iris-versicolor', 'Iris-versicolor', 'Iris-versicolor',\n",
              "       'Iris-versicolor', 'Iris-versicolor', 'Iris-versicolor',\n",
              "       'Iris-versicolor', 'Iris-versicolor', 'Iris-versicolor',\n",
              "       'Iris-versicolor', 'Iris-versicolor', 'Iris-versicolor',\n",
              "       'Iris-versicolor', 'Iris-versicolor', 'Iris-versicolor',\n",
              "       'Iris-versicolor', 'Iris-versicolor', 'Iris-versicolor',\n",
              "       'Iris-versicolor', 'Iris-versicolor', 'Iris-versicolor',\n",
              "       'Iris-versicolor', 'Iris-versicolor', 'Iris-versicolor',\n",
              "       'Iris-versicolor', 'Iris-versicolor', 'Iris-versicolor',\n",
              "       'Iris-versicolor', 'Iris-versicolor', 'Iris-versicolor',\n",
              "       'Iris-versicolor', 'Iris-versicolor', 'Iris-versicolor',\n",
              "       'Iris-versicolor', 'Iris-versicolor', 'Iris-versicolor',\n",
              "       'Iris-versicolor', 'Iris-versicolor', 'Iris-versicolor',\n",
              "       'Iris-versicolor', 'Iris-versicolor', 'Iris-versicolor',\n",
              "       'Iris-versicolor', 'Iris-versicolor', 'Iris-versicolor',\n",
              "       'Iris-versicolor', 'Iris-versicolor', 'Iris-versicolor',\n",
              "       'Iris-virginica', 'Iris-virginica', 'Iris-virginica',\n",
              "       'Iris-virginica', 'Iris-virginica', 'Iris-virginica',\n",
              "       'Iris-virginica', 'Iris-virginica', 'Iris-virginica',\n",
              "       'Iris-virginica', 'Iris-virginica', 'Iris-virginica',\n",
              "       'Iris-virginica', 'Iris-virginica', 'Iris-virginica',\n",
              "       'Iris-virginica', 'Iris-virginica', 'Iris-virginica',\n",
              "       'Iris-virginica', 'Iris-virginica', 'Iris-virginica',\n",
              "       'Iris-virginica', 'Iris-virginica', 'Iris-virginica',\n",
              "       'Iris-virginica', 'Iris-virginica', 'Iris-virginica',\n",
              "       'Iris-virginica', 'Iris-virginica', 'Iris-virginica',\n",
              "       'Iris-virginica', 'Iris-virginica', 'Iris-virginica',\n",
              "       'Iris-virginica', 'Iris-virginica', 'Iris-virginica',\n",
              "       'Iris-virginica', 'Iris-virginica', 'Iris-virginica',\n",
              "       'Iris-virginica', 'Iris-virginica', 'Iris-virginica',\n",
              "       'Iris-virginica', 'Iris-virginica', 'Iris-virginica',\n",
              "       'Iris-virginica', 'Iris-virginica', 'Iris-virginica',\n",
              "       'Iris-virginica', 'Iris-virginica'], dtype=object)"
            ]
          },
          "metadata": {
            "tags": []
          },
          "execution_count": 29
        }
      ]
    },
    {
      "cell_type": "code",
      "metadata": {
        "id": "IziWYczFJpP5",
        "colab_type": "code",
        "outputId": "b9cd991b-31cb-4dcc-8239-b4f06370e8b5",
        "colab": {
          "base_uri": "https://localhost:8080/",
          "height": 134
        }
      },
      "source": [
        "from sklearn.preprocessing import LabelEncoder\n",
        "# encode class values as integers\n",
        "encoder = LabelEncoder()\n",
        "encoder.fit(Y)\n",
        "encoded_Y = encoder.transform(Y)\n",
        "encoded_Y"
      ],
      "execution_count": 39,
      "outputs": [
        {
          "output_type": "execute_result",
          "data": {
            "text/plain": [
              "array([0, 0, 0, 0, 0, 0, 0, 0, 0, 0, 0, 0, 0, 0, 0, 0, 0, 0, 0, 0, 0, 0,\n",
              "       0, 0, 0, 0, 0, 0, 0, 0, 0, 0, 0, 0, 0, 0, 0, 0, 0, 0, 0, 0, 0, 0,\n",
              "       0, 0, 0, 0, 0, 0, 1, 1, 1, 1, 1, 1, 1, 1, 1, 1, 1, 1, 1, 1, 1, 1,\n",
              "       1, 1, 1, 1, 1, 1, 1, 1, 1, 1, 1, 1, 1, 1, 1, 1, 1, 1, 1, 1, 1, 1,\n",
              "       1, 1, 1, 1, 1, 1, 1, 1, 1, 1, 1, 1, 2, 2, 2, 2, 2, 2, 2, 2, 2, 2,\n",
              "       2, 2, 2, 2, 2, 2, 2, 2, 2, 2, 2, 2, 2, 2, 2, 2, 2, 2, 2, 2, 2, 2,\n",
              "       2, 2, 2, 2, 2, 2, 2, 2, 2, 2, 2, 2, 2, 2, 2, 2, 2, 2])"
            ]
          },
          "metadata": {
            "tags": []
          },
          "execution_count": 39
        }
      ]
    },
    {
      "cell_type": "code",
      "metadata": {
        "id": "DWsftsAuJxKh",
        "colab_type": "code",
        "outputId": "ad329351-d17d-4f8d-da43-7dd45f57e722",
        "colab": {
          "base_uri": "https://localhost:8080/",
          "height": 1000
        }
      },
      "source": [
        "from keras import utils as np_utils\n",
        "# convert integers to dummy variables (i.e. one hot encoded)\n",
        "dummy_y = np_utils.to_categorical(encoded_Y)\n",
        "dummy_y"
      ],
      "execution_count": 40,
      "outputs": [
        {
          "output_type": "execute_result",
          "data": {
            "text/plain": [
              "array([[1., 0., 0.],\n",
              "       [1., 0., 0.],\n",
              "       [1., 0., 0.],\n",
              "       [1., 0., 0.],\n",
              "       [1., 0., 0.],\n",
              "       [1., 0., 0.],\n",
              "       [1., 0., 0.],\n",
              "       [1., 0., 0.],\n",
              "       [1., 0., 0.],\n",
              "       [1., 0., 0.],\n",
              "       [1., 0., 0.],\n",
              "       [1., 0., 0.],\n",
              "       [1., 0., 0.],\n",
              "       [1., 0., 0.],\n",
              "       [1., 0., 0.],\n",
              "       [1., 0., 0.],\n",
              "       [1., 0., 0.],\n",
              "       [1., 0., 0.],\n",
              "       [1., 0., 0.],\n",
              "       [1., 0., 0.],\n",
              "       [1., 0., 0.],\n",
              "       [1., 0., 0.],\n",
              "       [1., 0., 0.],\n",
              "       [1., 0., 0.],\n",
              "       [1., 0., 0.],\n",
              "       [1., 0., 0.],\n",
              "       [1., 0., 0.],\n",
              "       [1., 0., 0.],\n",
              "       [1., 0., 0.],\n",
              "       [1., 0., 0.],\n",
              "       [1., 0., 0.],\n",
              "       [1., 0., 0.],\n",
              "       [1., 0., 0.],\n",
              "       [1., 0., 0.],\n",
              "       [1., 0., 0.],\n",
              "       [1., 0., 0.],\n",
              "       [1., 0., 0.],\n",
              "       [1., 0., 0.],\n",
              "       [1., 0., 0.],\n",
              "       [1., 0., 0.],\n",
              "       [1., 0., 0.],\n",
              "       [1., 0., 0.],\n",
              "       [1., 0., 0.],\n",
              "       [1., 0., 0.],\n",
              "       [1., 0., 0.],\n",
              "       [1., 0., 0.],\n",
              "       [1., 0., 0.],\n",
              "       [1., 0., 0.],\n",
              "       [1., 0., 0.],\n",
              "       [1., 0., 0.],\n",
              "       [0., 1., 0.],\n",
              "       [0., 1., 0.],\n",
              "       [0., 1., 0.],\n",
              "       [0., 1., 0.],\n",
              "       [0., 1., 0.],\n",
              "       [0., 1., 0.],\n",
              "       [0., 1., 0.],\n",
              "       [0., 1., 0.],\n",
              "       [0., 1., 0.],\n",
              "       [0., 1., 0.],\n",
              "       [0., 1., 0.],\n",
              "       [0., 1., 0.],\n",
              "       [0., 1., 0.],\n",
              "       [0., 1., 0.],\n",
              "       [0., 1., 0.],\n",
              "       [0., 1., 0.],\n",
              "       [0., 1., 0.],\n",
              "       [0., 1., 0.],\n",
              "       [0., 1., 0.],\n",
              "       [0., 1., 0.],\n",
              "       [0., 1., 0.],\n",
              "       [0., 1., 0.],\n",
              "       [0., 1., 0.],\n",
              "       [0., 1., 0.],\n",
              "       [0., 1., 0.],\n",
              "       [0., 1., 0.],\n",
              "       [0., 1., 0.],\n",
              "       [0., 1., 0.],\n",
              "       [0., 1., 0.],\n",
              "       [0., 1., 0.],\n",
              "       [0., 1., 0.],\n",
              "       [0., 1., 0.],\n",
              "       [0., 1., 0.],\n",
              "       [0., 1., 0.],\n",
              "       [0., 1., 0.],\n",
              "       [0., 1., 0.],\n",
              "       [0., 1., 0.],\n",
              "       [0., 1., 0.],\n",
              "       [0., 1., 0.],\n",
              "       [0., 1., 0.],\n",
              "       [0., 1., 0.],\n",
              "       [0., 1., 0.],\n",
              "       [0., 1., 0.],\n",
              "       [0., 1., 0.],\n",
              "       [0., 1., 0.],\n",
              "       [0., 1., 0.],\n",
              "       [0., 1., 0.],\n",
              "       [0., 1., 0.],\n",
              "       [0., 1., 0.],\n",
              "       [0., 1., 0.],\n",
              "       [0., 0., 1.],\n",
              "       [0., 0., 1.],\n",
              "       [0., 0., 1.],\n",
              "       [0., 0., 1.],\n",
              "       [0., 0., 1.],\n",
              "       [0., 0., 1.],\n",
              "       [0., 0., 1.],\n",
              "       [0., 0., 1.],\n",
              "       [0., 0., 1.],\n",
              "       [0., 0., 1.],\n",
              "       [0., 0., 1.],\n",
              "       [0., 0., 1.],\n",
              "       [0., 0., 1.],\n",
              "       [0., 0., 1.],\n",
              "       [0., 0., 1.],\n",
              "       [0., 0., 1.],\n",
              "       [0., 0., 1.],\n",
              "       [0., 0., 1.],\n",
              "       [0., 0., 1.],\n",
              "       [0., 0., 1.],\n",
              "       [0., 0., 1.],\n",
              "       [0., 0., 1.],\n",
              "       [0., 0., 1.],\n",
              "       [0., 0., 1.],\n",
              "       [0., 0., 1.],\n",
              "       [0., 0., 1.],\n",
              "       [0., 0., 1.],\n",
              "       [0., 0., 1.],\n",
              "       [0., 0., 1.],\n",
              "       [0., 0., 1.],\n",
              "       [0., 0., 1.],\n",
              "       [0., 0., 1.],\n",
              "       [0., 0., 1.],\n",
              "       [0., 0., 1.],\n",
              "       [0., 0., 1.],\n",
              "       [0., 0., 1.],\n",
              "       [0., 0., 1.],\n",
              "       [0., 0., 1.],\n",
              "       [0., 0., 1.],\n",
              "       [0., 0., 1.],\n",
              "       [0., 0., 1.],\n",
              "       [0., 0., 1.],\n",
              "       [0., 0., 1.],\n",
              "       [0., 0., 1.],\n",
              "       [0., 0., 1.],\n",
              "       [0., 0., 1.],\n",
              "       [0., 0., 1.],\n",
              "       [0., 0., 1.],\n",
              "       [0., 0., 1.],\n",
              "       [0., 0., 1.]], dtype=float32)"
            ]
          },
          "metadata": {
            "tags": []
          },
          "execution_count": 40
        }
      ]
    },
    {
      "cell_type": "code",
      "metadata": {
        "id": "lLl-SlvBMp0k",
        "colab_type": "code",
        "colab": {}
      },
      "source": [
        "#understand why use one hot encoding https://www.jianshu.com/p/cb344e1c860a\n",
        "from sklearn import preprocessing\n",
        "encoder = preprocessing.OneHotEncoder()\n",
        "encoder.fit([\n",
        "    [0, 2, 1, 12],\n",
        "    [1, 3, 5, 3],\n",
        "    [2, 3, 2, 12],\n",
        "    [1, 2, 4, 3]\n",
        "])\n",
        "encoded_vector = encoder.transform([[2, 3, 5, 3]]).toarray()\n",
        "print(\"\\n Encoded vector =\", encoded_vector)"
      ],
      "execution_count": 0,
      "outputs": []
    },
    {
      "cell_type": "code",
      "metadata": {
        "id": "yJMS4DkmNvx5",
        "colab_type": "code",
        "colab": {}
      },
      "source": [
        "def baseline_model():\n",
        "  # create model\n",
        "  model = Sequential()\n",
        "  model.add(Dense(8,input_dim = 4 , activation='relu'))\n",
        "  model.add(Dense(3,activation='softmax'))\n",
        "  model.compile(loss='categorical_crossentropy',optimizer='adam',metrics=['accuracy'])\n",
        "  return model   "
      ],
      "execution_count": 0,
      "outputs": []
    },
    {
      "cell_type": "code",
      "metadata": {
        "id": "n-iawwVtHC3v",
        "colab_type": "code",
        "colab": {
          "base_uri": "https://localhost:8080/",
          "height": 202
        },
        "outputId": "de2cc5f9-60aa-4a96-892e-53a8f7fe5502"
      },
      "source": [
        "from keras.models import Sequential\n",
        "from keras.layers import Dense\n",
        "model = baseline_model();\n",
        "model.summary()"
      ],
      "execution_count": 46,
      "outputs": [
        {
          "output_type": "stream",
          "text": [
            "_________________________________________________________________\n",
            "Layer (type)                 Output Shape              Param #   \n",
            "=================================================================\n",
            "dense_11 (Dense)             (None, 8)                 40        \n",
            "_________________________________________________________________\n",
            "dense_12 (Dense)             (None, 3)                 27        \n",
            "=================================================================\n",
            "Total params: 67\n",
            "Trainable params: 67\n",
            "Non-trainable params: 0\n",
            "_________________________________________________________________\n"
          ],
          "name": "stdout"
        }
      ]
    },
    {
      "cell_type": "code",
      "metadata": {
        "id": "v_6620QCHInM",
        "colab_type": "code",
        "colab": {}
      },
      "source": [
        "#4w+1b * 8neurons =40\n",
        "#8w+1b * 3neurons =27"
      ],
      "execution_count": 0,
      "outputs": []
    },
    {
      "cell_type": "code",
      "metadata": {
        "id": "mBIniuaSH_wd",
        "colab_type": "code",
        "colab": {
          "base_uri": "https://localhost:8080/",
          "height": 1000
        },
        "outputId": "664d77cc-340b-4ac0-862f-3040edac1586"
      },
      "source": [
        "history = model.fit(X_input,dummy_y,epochs=90,batch_size=5) #epochs = 最幾次訓練 batch_size =每次處理幾筆資料"
      ],
      "execution_count": 48,
      "outputs": [
        {
          "output_type": "stream",
          "text": [
            "Epoch 1/90\n",
            "150/150 [==============================] - 0s 2ms/step - loss: 6.5979 - acc: 0.3333\n",
            "Epoch 2/90\n",
            "150/150 [==============================] - 0s 260us/step - loss: 5.2255 - acc: 0.3333\n",
            "Epoch 3/90\n",
            "150/150 [==============================] - 0s 273us/step - loss: 4.1167 - acc: 0.3333\n",
            "Epoch 4/90\n",
            "150/150 [==============================] - 0s 270us/step - loss: 3.3791 - acc: 0.3333\n",
            "Epoch 5/90\n",
            "150/150 [==============================] - 0s 292us/step - loss: 2.8328 - acc: 0.3333\n",
            "Epoch 6/90\n",
            "150/150 [==============================] - 0s 276us/step - loss: 2.3920 - acc: 0.3333\n",
            "Epoch 7/90\n",
            "150/150 [==============================] - 0s 293us/step - loss: 2.0339 - acc: 0.3333\n",
            "Epoch 8/90\n",
            "150/150 [==============================] - 0s 287us/step - loss: 1.7357 - acc: 0.3333\n",
            "Epoch 9/90\n",
            "150/150 [==============================] - 0s 206us/step - loss: 1.4780 - acc: 0.3333\n",
            "Epoch 10/90\n",
            "150/150 [==============================] - 0s 276us/step - loss: 1.2705 - acc: 0.3333\n",
            "Epoch 11/90\n",
            "150/150 [==============================] - 0s 287us/step - loss: 1.1086 - acc: 0.3333\n",
            "Epoch 12/90\n",
            "150/150 [==============================] - 0s 311us/step - loss: 0.9774 - acc: 0.3333\n",
            "Epoch 13/90\n",
            "150/150 [==============================] - 0s 291us/step - loss: 0.8800 - acc: 0.3333\n",
            "Epoch 14/90\n",
            "150/150 [==============================] - 0s 273us/step - loss: 0.8049 - acc: 0.3467\n",
            "Epoch 15/90\n",
            "150/150 [==============================] - 0s 274us/step - loss: 0.7466 - acc: 0.4933\n",
            "Epoch 16/90\n",
            "150/150 [==============================] - 0s 285us/step - loss: 0.6980 - acc: 0.6800\n",
            "Epoch 17/90\n",
            "150/150 [==============================] - 0s 304us/step - loss: 0.6617 - acc: 0.7267\n",
            "Epoch 18/90\n",
            "150/150 [==============================] - 0s 264us/step - loss: 0.6305 - acc: 0.7200\n",
            "Epoch 19/90\n",
            "150/150 [==============================] - 0s 269us/step - loss: 0.6047 - acc: 0.7400\n",
            "Epoch 20/90\n",
            "150/150 [==============================] - 0s 310us/step - loss: 0.5831 - acc: 0.7733\n",
            "Epoch 21/90\n",
            "150/150 [==============================] - 0s 280us/step - loss: 0.5639 - acc: 0.7800\n",
            "Epoch 22/90\n",
            "150/150 [==============================] - 0s 289us/step - loss: 0.5469 - acc: 0.8000\n",
            "Epoch 23/90\n",
            "150/150 [==============================] - 0s 260us/step - loss: 0.5364 - acc: 0.8267\n",
            "Epoch 24/90\n",
            "150/150 [==============================] - 0s 288us/step - loss: 0.5207 - acc: 0.7800\n",
            "Epoch 25/90\n",
            "150/150 [==============================] - 0s 282us/step - loss: 0.5096 - acc: 0.7867\n",
            "Epoch 26/90\n",
            "150/150 [==============================] - 0s 285us/step - loss: 0.4982 - acc: 0.7933\n",
            "Epoch 27/90\n",
            "150/150 [==============================] - 0s 302us/step - loss: 0.4867 - acc: 0.8067\n",
            "Epoch 28/90\n",
            "150/150 [==============================] - 0s 280us/step - loss: 0.4749 - acc: 0.8067\n",
            "Epoch 29/90\n",
            "150/150 [==============================] - 0s 262us/step - loss: 0.4659 - acc: 0.8333\n",
            "Epoch 30/90\n",
            "150/150 [==============================] - 0s 289us/step - loss: 0.4579 - acc: 0.8267\n",
            "Epoch 31/90\n",
            "150/150 [==============================] - 0s 259us/step - loss: 0.4525 - acc: 0.8333\n",
            "Epoch 32/90\n",
            "150/150 [==============================] - 0s 280us/step - loss: 0.4478 - acc: 0.8533\n",
            "Epoch 33/90\n",
            "150/150 [==============================] - 0s 237us/step - loss: 0.4435 - acc: 0.8533\n",
            "Epoch 34/90\n",
            "150/150 [==============================] - 0s 226us/step - loss: 0.4403 - acc: 0.8267\n",
            "Epoch 35/90\n",
            "150/150 [==============================] - 0s 243us/step - loss: 0.4344 - acc: 0.8800\n",
            "Epoch 36/90\n",
            "150/150 [==============================] - 0s 239us/step - loss: 0.4302 - acc: 0.8867\n",
            "Epoch 37/90\n",
            "150/150 [==============================] - 0s 250us/step - loss: 0.4251 - acc: 0.8867\n",
            "Epoch 38/90\n",
            "150/150 [==============================] - 0s 256us/step - loss: 0.4221 - acc: 0.8867\n",
            "Epoch 39/90\n",
            "150/150 [==============================] - 0s 272us/step - loss: 0.4164 - acc: 0.8867\n",
            "Epoch 40/90\n",
            "150/150 [==============================] - 0s 316us/step - loss: 0.4129 - acc: 0.8800\n",
            "Epoch 41/90\n",
            "150/150 [==============================] - 0s 264us/step - loss: 0.4085 - acc: 0.9000\n",
            "Epoch 42/90\n",
            "150/150 [==============================] - 0s 240us/step - loss: 0.4043 - acc: 0.8867\n",
            "Epoch 43/90\n",
            "150/150 [==============================] - 0s 238us/step - loss: 0.3995 - acc: 0.8933\n",
            "Epoch 44/90\n",
            "150/150 [==============================] - 0s 237us/step - loss: 0.3957 - acc: 0.9067\n",
            "Epoch 45/90\n",
            "150/150 [==============================] - 0s 255us/step - loss: 0.3917 - acc: 0.8933\n",
            "Epoch 46/90\n",
            "150/150 [==============================] - 0s 339us/step - loss: 0.3876 - acc: 0.8867\n",
            "Epoch 47/90\n",
            "150/150 [==============================] - 0s 237us/step - loss: 0.3836 - acc: 0.9200\n",
            "Epoch 48/90\n",
            "150/150 [==============================] - 0s 254us/step - loss: 0.3799 - acc: 0.9133\n",
            "Epoch 49/90\n",
            "150/150 [==============================] - 0s 241us/step - loss: 0.3751 - acc: 0.9000\n",
            "Epoch 50/90\n",
            "150/150 [==============================] - 0s 226us/step - loss: 0.3706 - acc: 0.9200\n",
            "Epoch 51/90\n",
            "150/150 [==============================] - 0s 266us/step - loss: 0.3675 - acc: 0.8933\n",
            "Epoch 52/90\n",
            "150/150 [==============================] - 0s 247us/step - loss: 0.3658 - acc: 0.9467\n",
            "Epoch 53/90\n",
            "150/150 [==============================] - 0s 262us/step - loss: 0.3590 - acc: 0.9133\n",
            "Epoch 54/90\n",
            "150/150 [==============================] - 0s 263us/step - loss: 0.3546 - acc: 0.9200\n",
            "Epoch 55/90\n",
            "150/150 [==============================] - 0s 348us/step - loss: 0.3504 - acc: 0.9333\n",
            "Epoch 56/90\n",
            "150/150 [==============================] - 0s 241us/step - loss: 0.3471 - acc: 0.9333\n",
            "Epoch 57/90\n",
            "150/150 [==============================] - 0s 229us/step - loss: 0.3434 - acc: 0.9400\n",
            "Epoch 58/90\n",
            "150/150 [==============================] - 0s 244us/step - loss: 0.3413 - acc: 0.9533\n",
            "Epoch 59/90\n",
            "150/150 [==============================] - 0s 228us/step - loss: 0.3360 - acc: 0.9267\n",
            "Epoch 60/90\n",
            "150/150 [==============================] - 0s 262us/step - loss: 0.3326 - acc: 0.9200\n",
            "Epoch 61/90\n",
            "150/150 [==============================] - 0s 231us/step - loss: 0.3296 - acc: 0.9533\n",
            "Epoch 62/90\n",
            "150/150 [==============================] - 0s 255us/step - loss: 0.3276 - acc: 0.9267\n",
            "Epoch 63/90\n",
            "150/150 [==============================] - 0s 261us/step - loss: 0.3225 - acc: 0.9600\n",
            "Epoch 64/90\n",
            "150/150 [==============================] - 0s 251us/step - loss: 0.3182 - acc: 0.9467\n",
            "Epoch 65/90\n",
            "150/150 [==============================] - 0s 235us/step - loss: 0.3161 - acc: 0.9533\n",
            "Epoch 66/90\n",
            "150/150 [==============================] - 0s 286us/step - loss: 0.3120 - acc: 0.9400\n",
            "Epoch 67/90\n",
            "150/150 [==============================] - 0s 250us/step - loss: 0.3078 - acc: 0.9600\n",
            "Epoch 68/90\n",
            "150/150 [==============================] - 0s 244us/step - loss: 0.3071 - acc: 0.9467\n",
            "Epoch 69/90\n",
            "150/150 [==============================] - 0s 263us/step - loss: 0.3014 - acc: 0.9667\n",
            "Epoch 70/90\n",
            "150/150 [==============================] - 0s 263us/step - loss: 0.2988 - acc: 0.9600\n",
            "Epoch 71/90\n",
            "150/150 [==============================] - 0s 314us/step - loss: 0.2961 - acc: 0.9667\n",
            "Epoch 72/90\n",
            "150/150 [==============================] - 0s 246us/step - loss: 0.2928 - acc: 0.9600\n",
            "Epoch 73/90\n",
            "150/150 [==============================] - 0s 246us/step - loss: 0.2883 - acc: 0.9600\n",
            "Epoch 74/90\n",
            "150/150 [==============================] - 0s 258us/step - loss: 0.2854 - acc: 0.9600\n",
            "Epoch 75/90\n",
            "150/150 [==============================] - 0s 226us/step - loss: 0.2825 - acc: 0.9600\n",
            "Epoch 76/90\n",
            "150/150 [==============================] - 0s 302us/step - loss: 0.2807 - acc: 0.9600\n",
            "Epoch 77/90\n",
            "150/150 [==============================] - 0s 286us/step - loss: 0.2761 - acc: 0.9600\n",
            "Epoch 78/90\n",
            "150/150 [==============================] - 0s 284us/step - loss: 0.2738 - acc: 0.9600\n",
            "Epoch 79/90\n",
            "150/150 [==============================] - 0s 264us/step - loss: 0.2714 - acc: 0.9600\n",
            "Epoch 80/90\n",
            "150/150 [==============================] - 0s 267us/step - loss: 0.2681 - acc: 0.9600\n",
            "Epoch 81/90\n",
            "150/150 [==============================] - 0s 254us/step - loss: 0.2662 - acc: 0.9667\n",
            "Epoch 82/90\n",
            "150/150 [==============================] - 0s 253us/step - loss: 0.2627 - acc: 0.9600\n",
            "Epoch 83/90\n",
            "150/150 [==============================] - 0s 251us/step - loss: 0.2592 - acc: 0.9667\n",
            "Epoch 84/90\n",
            "150/150 [==============================] - 0s 238us/step - loss: 0.2576 - acc: 0.9600\n",
            "Epoch 85/90\n",
            "150/150 [==============================] - 0s 292us/step - loss: 0.2537 - acc: 0.9667\n",
            "Epoch 86/90\n",
            "150/150 [==============================] - 0s 240us/step - loss: 0.2513 - acc: 0.9667\n",
            "Epoch 87/90\n",
            "150/150 [==============================] - 0s 244us/step - loss: 0.2487 - acc: 0.9667\n",
            "Epoch 88/90\n",
            "150/150 [==============================] - 0s 268us/step - loss: 0.2458 - acc: 0.9667\n",
            "Epoch 89/90\n",
            "150/150 [==============================] - 0s 257us/step - loss: 0.2434 - acc: 0.9667\n",
            "Epoch 90/90\n",
            "150/150 [==============================] - 0s 263us/step - loss: 0.2403 - acc: 0.9667\n"
          ],
          "name": "stdout"
        }
      ]
    },
    {
      "cell_type": "code",
      "metadata": {
        "id": "Lp8wlK88KiNa",
        "colab_type": "code",
        "colab": {}
      },
      "source": [
        "import matplotlib.pyplot as plt\n",
        "%matplotlib inline"
      ],
      "execution_count": 0,
      "outputs": []
    },
    {
      "cell_type": "code",
      "metadata": {
        "id": "ZmY7xzZSLDAc",
        "colab_type": "code",
        "colab": {
          "base_uri": "https://localhost:8080/",
          "height": 295
        },
        "outputId": "28beeaa6-db6a-4dca-e454-566ed07d629c"
      },
      "source": [
        "#summarize history for accuracy\n",
        "plt.plot(history.history['acc'])\n",
        "plt.title('model accuraccy')\n",
        "plt.ylabel('accuracy')\n",
        "plt.xlabel('epoch')\n",
        "plt.legend(['all'],loc='upper left')\n",
        "plt.savefig('acc.png')\n",
        "plt.show()"
      ],
      "execution_count": 54,
      "outputs": [
        {
          "output_type": "display_data",
          "data": {
            "image/png": "[encoded data removed]",
            "text/plain": [
              "<Figure size 432x288 with 1 Axes>"
            ]
          },
          "metadata": {
            "tags": []
          }
        }
      ]
    },
    {
      "cell_type": "code",
      "metadata": {
        "id": "wx8igrLLLafq",
        "colab_type": "code",
        "colab": {
          "base_uri": "https://localhost:8080/",
          "height": 50
        },
        "outputId": "1b4ad77b-98be-4f95-a749-b4bed21403e2"
      },
      "source": [
        "# evaluate the model\n",
        "scores = model.evaluate(X_input,dummy_y)\n",
        "print(\"%s: %.2f%%\" % (model.metrics_names[1], scores[1]*100))"
      ],
      "execution_count": 56,
      "outputs": [
        {
          "output_type": "stream",
          "text": [
            "150/150 [==============================] - 0s 488us/step\n",
            "acc: 96.67%\n"
          ],
          "name": "stdout"
        }
      ]
    }
  ]
}