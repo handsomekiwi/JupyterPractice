{
  "nbformat": 4,
  "nbformat_minor": 0,
  "metadata": {
    "colab": {
      "name": "Untitled1.ipynb",
      "version": "0.3.2",
      "provenance": [],
      "collapsed_sections": [],
      "include_colab_link": true
    },
    "kernelspec": {
      "name": "python2",
      "display_name": "Python 2"
    }
  },
  "cells": [
    {
      "cell_type": "markdown",
      "metadata": {
        "id": "view-in-github",
        "colab_type": "text"
      },
      "source": [
        "<a href=\"https://colab.research.google.com/github/handsomekiwi/JupyterPractice/blob/master/IRIS/IRIS.ipynb\" target=\"_parent\"><img src=\"https://colab.research.google.com/assets/colab-badge.svg\" alt=\"Open In Colab\"/></a>"
      ]
    },
    {
      "cell_type": "code",
      "metadata": {
        "id": "QC6StjRhFjrz",
        "colab_type": "code",
        "outputId": "0f1bd595-f042-49f2-eba4-d6c8924ff52c",
        "colab": {
          "base_uri": "https://localhost:8080/",
          "height": 195
        }
      },
      "source": [
        "import pandas as pd\n",
        "# load dataset\n",
        "dataframe = pd.read_csv(\"https://raw.githubusercontent.com/handsomekiwi/JupyterPractice/master/IRIS/IRIS.csv\", header=None)\n",
        "#dataframe. add tab to find function\n",
        "dataframe.head() #.head gives the first 5 row\n"
      ],
      "execution_count": 0,
      "outputs": [
        {
          "output_type": "execute_result",
          "data": {
            "text/html": [
              "<div>\n",
              "<style scoped>\n",
              "    .dataframe tbody tr th:only-of-type {\n",
              "        vertical-align: middle;\n",
              "    }\n",
              "\n",
              "    .dataframe tbody tr th {\n",
              "        vertical-align: top;\n",
              "    }\n",
              "\n",
              "    .dataframe thead th {\n",
              "        text-align: right;\n",
              "    }\n",
              "</style>\n",
              "<table border=\"1\" class=\"dataframe\">\n",
              "  <thead>\n",
              "    <tr style=\"text-align: right;\">\n",
              "      <th></th>\n",
              "      <th>0</th>\n",
              "      <th>1</th>\n",
              "      <th>2</th>\n",
              "      <th>3</th>\n",
              "      <th>4</th>\n",
              "    </tr>\n",
              "  </thead>\n",
              "  <tbody>\n",
              "    <tr>\n",
              "      <th>0</th>\n",
              "      <td>sepal_length</td>\n",
              "      <td>sepal_width</td>\n",
              "      <td>petal_length</td>\n",
              "      <td>petal_width</td>\n",
              "      <td>species</td>\n",
              "    </tr>\n",
              "    <tr>\n",
              "      <th>1</th>\n",
              "      <td>5.1</td>\n",
              "      <td>3.5</td>\n",
              "      <td>1.4</td>\n",
              "      <td>0.2</td>\n",
              "      <td>Iris-setosa</td>\n",
              "    </tr>\n",
              "    <tr>\n",
              "      <th>2</th>\n",
              "      <td>4.9</td>\n",
              "      <td>3</td>\n",
              "      <td>1.4</td>\n",
              "      <td>0.2</td>\n",
              "      <td>Iris-setosa</td>\n",
              "    </tr>\n",
              "    <tr>\n",
              "      <th>3</th>\n",
              "      <td>4.7</td>\n",
              "      <td>3.2</td>\n",
              "      <td>1.3</td>\n",
              "      <td>0.2</td>\n",
              "      <td>Iris-setosa</td>\n",
              "    </tr>\n",
              "    <tr>\n",
              "      <th>4</th>\n",
              "      <td>4.6</td>\n",
              "      <td>3.1</td>\n",
              "      <td>1.5</td>\n",
              "      <td>0.2</td>\n",
              "      <td>Iris-setosa</td>\n",
              "    </tr>\n",
              "  </tbody>\n",
              "</table>\n",
              "</div>"
            ],
            "text/plain": [
              "              0            1             2            3            4\n",
              "0  sepal_length  sepal_width  petal_length  petal_width      species\n",
              "1           5.1          3.5           1.4          0.2  Iris-setosa\n",
              "2           4.9            3           1.4          0.2  Iris-setosa\n",
              "3           4.7          3.2           1.3          0.2  Iris-setosa\n",
              "4           4.6          3.1           1.5          0.2  Iris-setosa"
            ]
          },
          "metadata": {
            "tags": []
          },
          "execution_count": 3
        }
      ]
    },
    {
      "cell_type": "code",
      "metadata": {
        "id": "MqakbZQlEcYT",
        "colab_type": "code",
        "outputId": "99802b3e-615e-4c13-dfa7-cc6e00aa677a",
        "colab": {
          "base_uri": "https://localhost:8080/",
          "height": 101
        }
      },
      "source": [
        "dataset = dataframe.values\n",
        "import numpy as np\n",
        "dataset = np.delete(dataset, (0), axis=0)\n",
        "dataset[0:5]\n"
      ],
      "execution_count": 0,
      "outputs": [
        {
          "output_type": "execute_result",
          "data": {
            "text/plain": [
              "array([['5.1', '3.5', '1.4', '0.2', 'Iris-setosa'],\n",
              "       ['4.9', '3', '1.4', '0.2', 'Iris-setosa'],\n",
              "       ['4.7', '3.2', '1.3', '0.2', 'Iris-setosa'],\n",
              "       ['4.6', '3.1', '1.5', '0.2', 'Iris-setosa'],\n",
              "       ['5', '3.6', '1.4', '0.2', 'Iris-setosa']], dtype=object)"
            ]
          },
          "metadata": {
            "tags": []
          },
          "execution_count": 12
        }
      ]
    },
    {
      "cell_type": "code",
      "metadata": {
        "id": "znKj-_OEJc8Z",
        "colab_type": "code",
        "outputId": "6cca1c37-edd1-4421-b0fa-380481b46026",
        "colab": {
          "base_uri": "https://localhost:8080/",
          "height": 101
        }
      },
      "source": [
        "X_input = dataset[:,0:4].astype(float)\n",
        "X_input[0:5]"
      ],
      "execution_count": 0,
      "outputs": [
        {
          "output_type": "execute_result",
          "data": {
            "text/plain": [
              "array([[5.1, 3.5, 1.4, 0.2],\n",
              "       [4.9, 3. , 1.4, 0.2],\n",
              "       [4.7, 3.2, 1.3, 0.2],\n",
              "       [4.6, 3.1, 1.5, 0.2],\n",
              "       [5. , 3.6, 1.4, 0.2]])"
            ]
          },
          "metadata": {
            "tags": []
          },
          "execution_count": 27
        }
      ]
    },
    {
      "cell_type": "code",
      "metadata": {
        "id": "Rt7AbDNOJkMp",
        "colab_type": "code",
        "outputId": "2895ee1f-bd80-4b70-f4ee-2c3bde1c39fc",
        "colab": {
          "base_uri": "https://localhost:8080/",
          "height": 790
        }
      },
      "source": [
        "Y_answer = dataset[:,4]\n",
        "Y_answer"
      ],
      "execution_count": 0,
      "outputs": [
        {
          "output_type": "execute_result",
          "data": {
            "text/plain": [
              "array(['Iris-setosa', 'Iris-setosa', 'Iris-setosa', 'Iris-setosa',\n",
              "       'Iris-setosa', 'Iris-setosa', 'Iris-setosa', 'Iris-setosa',\n",
              "       'Iris-setosa', 'Iris-setosa', 'Iris-setosa', 'Iris-setosa',\n",
              "       'Iris-setosa', 'Iris-setosa', 'Iris-setosa', 'Iris-setosa',\n",
              "       'Iris-setosa', 'Iris-setosa', 'Iris-setosa', 'Iris-setosa',\n",
              "       'Iris-setosa', 'Iris-setosa', 'Iris-setosa', 'Iris-setosa',\n",
              "       'Iris-setosa', 'Iris-setosa', 'Iris-setosa', 'Iris-setosa',\n",
              "       'Iris-setosa', 'Iris-setosa', 'Iris-setosa', 'Iris-setosa',\n",
              "       'Iris-setosa', 'Iris-setosa', 'Iris-setosa', 'Iris-setosa',\n",
              "       'Iris-setosa', 'Iris-setosa', 'Iris-setosa', 'Iris-setosa',\n",
              "       'Iris-setosa', 'Iris-setosa', 'Iris-setosa', 'Iris-setosa',\n",
              "       'Iris-setosa', 'Iris-setosa', 'Iris-setosa', 'Iris-setosa',\n",
              "       'Iris-setosa', 'Iris-setosa', 'Iris-versicolor', 'Iris-versicolor',\n",
              "       'Iris-versicolor', 'Iris-versicolor', 'Iris-versicolor',\n",
              "       'Iris-versicolor', 'Iris-versicolor', 'Iris-versicolor',\n",
              "       'Iris-versicolor', 'Iris-versicolor', 'Iris-versicolor',\n",
              "       'Iris-versicolor', 'Iris-versicolor', 'Iris-versicolor',\n",
              "       'Iris-versicolor', 'Iris-versicolor', 'Iris-versicolor',\n",
              "       'Iris-versicolor', 'Iris-versicolor', 'Iris-versicolor',\n",
              "       'Iris-versicolor', 'Iris-versicolor', 'Iris-versicolor',\n",
              "       'Iris-versicolor', 'Iris-versicolor', 'Iris-versicolor',\n",
              "       'Iris-versicolor', 'Iris-versicolor', 'Iris-versicolor',\n",
              "       'Iris-versicolor', 'Iris-versicolor', 'Iris-versicolor',\n",
              "       'Iris-versicolor', 'Iris-versicolor', 'Iris-versicolor',\n",
              "       'Iris-versicolor', 'Iris-versicolor', 'Iris-versicolor',\n",
              "       'Iris-versicolor', 'Iris-versicolor', 'Iris-versicolor',\n",
              "       'Iris-versicolor', 'Iris-versicolor', 'Iris-versicolor',\n",
              "       'Iris-versicolor', 'Iris-versicolor', 'Iris-versicolor',\n",
              "       'Iris-versicolor', 'Iris-versicolor', 'Iris-versicolor',\n",
              "       'Iris-virginica', 'Iris-virginica', 'Iris-virginica',\n",
              "       'Iris-virginica', 'Iris-virginica', 'Iris-virginica',\n",
              "       'Iris-virginica', 'Iris-virginica', 'Iris-virginica',\n",
              "       'Iris-virginica', 'Iris-virginica', 'Iris-virginica',\n",
              "       'Iris-virginica', 'Iris-virginica', 'Iris-virginica',\n",
              "       'Iris-virginica', 'Iris-virginica', 'Iris-virginica',\n",
              "       'Iris-virginica', 'Iris-virginica', 'Iris-virginica',\n",
              "       'Iris-virginica', 'Iris-virginica', 'Iris-virginica',\n",
              "       'Iris-virginica', 'Iris-virginica', 'Iris-virginica',\n",
              "       'Iris-virginica', 'Iris-virginica', 'Iris-virginica',\n",
              "       'Iris-virginica', 'Iris-virginica', 'Iris-virginica',\n",
              "       'Iris-virginica', 'Iris-virginica', 'Iris-virginica',\n",
              "       'Iris-virginica', 'Iris-virginica', 'Iris-virginica',\n",
              "       'Iris-virginica', 'Iris-virginica', 'Iris-virginica',\n",
              "       'Iris-virginica', 'Iris-virginica', 'Iris-virginica',\n",
              "       'Iris-virginica', 'Iris-virginica', 'Iris-virginica',\n",
              "       'Iris-virginica', 'Iris-virginica'], dtype=object)"
            ]
          },
          "metadata": {
            "tags": []
          },
          "execution_count": 29
        }
      ]
    },
    {
      "cell_type": "code",
      "metadata": {
        "id": "IziWYczFJpP5",
        "colab_type": "code",
        "outputId": "b9cd991b-31cb-4dcc-8239-b4f06370e8b5",
        "colab": {
          "base_uri": "https://localhost:8080/",
          "height": 134
        }
      },
      "source": [
        "from sklearn.preprocessing import LabelEncoder\n",
        "# encode class values as integers\n",
        "encoder = LabelEncoder()\n",
        "encoder.fit(Y)\n",
        "encoded_Y = encoder.transform(Y)\n",
        "encoded_Y"
      ],
      "execution_count": 0,
      "outputs": [
        {
          "output_type": "execute_result",
          "data": {
            "text/plain": [
              "array([0, 0, 0, 0, 0, 0, 0, 0, 0, 0, 0, 0, 0, 0, 0, 0, 0, 0, 0, 0, 0, 0,\n",
              "       0, 0, 0, 0, 0, 0, 0, 0, 0, 0, 0, 0, 0, 0, 0, 0, 0, 0, 0, 0, 0, 0,\n",
              "       0, 0, 0, 0, 0, 0, 1, 1, 1, 1, 1, 1, 1, 1, 1, 1, 1, 1, 1, 1, 1, 1,\n",
              "       1, 1, 1, 1, 1, 1, 1, 1, 1, 1, 1, 1, 1, 1, 1, 1, 1, 1, 1, 1, 1, 1,\n",
              "       1, 1, 1, 1, 1, 1, 1, 1, 1, 1, 1, 1, 2, 2, 2, 2, 2, 2, 2, 2, 2, 2,\n",
              "       2, 2, 2, 2, 2, 2, 2, 2, 2, 2, 2, 2, 2, 2, 2, 2, 2, 2, 2, 2, 2, 2,\n",
              "       2, 2, 2, 2, 2, 2, 2, 2, 2, 2, 2, 2, 2, 2, 2, 2, 2, 2])"
            ]
          },
          "metadata": {
            "tags": []
          },
          "execution_count": 39
        }
      ]
    },
    {
      "cell_type": "code",
      "metadata": {
        "id": "DWsftsAuJxKh",
        "colab_type": "code",
        "outputId": "77f3d4ec-2b6e-4f91-dab4-6227748f50e7",
        "colab": {
          "base_uri": "https://localhost:8080/",
          "height": 1000
        }
      },
      "source": [
        "from keras import utils as np_utils\n",
        "# convert integers to dummy variables (i.e. one hot encoded)\n",
        "dummy_y = np_utils.to_categorical(encoded_Y)\n",
        "dummy_y"
      ],
      "execution_count": 57,
      "outputs": [
        {
          "output_type": "execute_result",
          "data": {
            "text/plain": [
              "array([[1., 0., 0.],\n",
              "       [1., 0., 0.],\n",
              "       [1., 0., 0.],\n",
              "       [1., 0., 0.],\n",
              "       [1., 0., 0.],\n",
              "       [1., 0., 0.],\n",
              "       [1., 0., 0.],\n",
              "       [1., 0., 0.],\n",
              "       [1., 0., 0.],\n",
              "       [1., 0., 0.],\n",
              "       [1., 0., 0.],\n",
              "       [1., 0., 0.],\n",
              "       [1., 0., 0.],\n",
              "       [1., 0., 0.],\n",
              "       [1., 0., 0.],\n",
              "       [1., 0., 0.],\n",
              "       [1., 0., 0.],\n",
              "       [1., 0., 0.],\n",
              "       [1., 0., 0.],\n",
              "       [1., 0., 0.],\n",
              "       [1., 0., 0.],\n",
              "       [1., 0., 0.],\n",
              "       [1., 0., 0.],\n",
              "       [1., 0., 0.],\n",
              "       [1., 0., 0.],\n",
              "       [1., 0., 0.],\n",
              "       [1., 0., 0.],\n",
              "       [1., 0., 0.],\n",
              "       [1., 0., 0.],\n",
              "       [1., 0., 0.],\n",
              "       [1., 0., 0.],\n",
              "       [1., 0., 0.],\n",
              "       [1., 0., 0.],\n",
              "       [1., 0., 0.],\n",
              "       [1., 0., 0.],\n",
              "       [1., 0., 0.],\n",
              "       [1., 0., 0.],\n",
              "       [1., 0., 0.],\n",
              "       [1., 0., 0.],\n",
              "       [1., 0., 0.],\n",
              "       [1., 0., 0.],\n",
              "       [1., 0., 0.],\n",
              "       [1., 0., 0.],\n",
              "       [1., 0., 0.],\n",
              "       [1., 0., 0.],\n",
              "       [1., 0., 0.],\n",
              "       [1., 0., 0.],\n",
              "       [1., 0., 0.],\n",
              "       [1., 0., 0.],\n",
              "       [1., 0., 0.],\n",
              "       [0., 1., 0.],\n",
              "       [0., 1., 0.],\n",
              "       [0., 1., 0.],\n",
              "       [0., 1., 0.],\n",
              "       [0., 1., 0.],\n",
              "       [0., 1., 0.],\n",
              "       [0., 1., 0.],\n",
              "       [0., 1., 0.],\n",
              "       [0., 1., 0.],\n",
              "       [0., 1., 0.],\n",
              "       [0., 1., 0.],\n",
              "       [0., 1., 0.],\n",
              "       [0., 1., 0.],\n",
              "       [0., 1., 0.],\n",
              "       [0., 1., 0.],\n",
              "       [0., 1., 0.],\n",
              "       [0., 1., 0.],\n",
              "       [0., 1., 0.],\n",
              "       [0., 1., 0.],\n",
              "       [0., 1., 0.],\n",
              "       [0., 1., 0.],\n",
              "       [0., 1., 0.],\n",
              "       [0., 1., 0.],\n",
              "       [0., 1., 0.],\n",
              "       [0., 1., 0.],\n",
              "       [0., 1., 0.],\n",
              "       [0., 1., 0.],\n",
              "       [0., 1., 0.],\n",
              "       [0., 1., 0.],\n",
              "       [0., 1., 0.],\n",
              "       [0., 1., 0.],\n",
              "       [0., 1., 0.],\n",
              "       [0., 1., 0.],\n",
              "       [0., 1., 0.],\n",
              "       [0., 1., 0.],\n",
              "       [0., 1., 0.],\n",
              "       [0., 1., 0.],\n",
              "       [0., 1., 0.],\n",
              "       [0., 1., 0.],\n",
              "       [0., 1., 0.],\n",
              "       [0., 1., 0.],\n",
              "       [0., 1., 0.],\n",
              "       [0., 1., 0.],\n",
              "       [0., 1., 0.],\n",
              "       [0., 1., 0.],\n",
              "       [0., 1., 0.],\n",
              "       [0., 1., 0.],\n",
              "       [0., 1., 0.],\n",
              "       [0., 1., 0.],\n",
              "       [0., 1., 0.],\n",
              "       [0., 0., 1.],\n",
              "       [0., 0., 1.],\n",
              "       [0., 0., 1.],\n",
              "       [0., 0., 1.],\n",
              "       [0., 0., 1.],\n",
              "       [0., 0., 1.],\n",
              "       [0., 0., 1.],\n",
              "       [0., 0., 1.],\n",
              "       [0., 0., 1.],\n",
              "       [0., 0., 1.],\n",
              "       [0., 0., 1.],\n",
              "       [0., 0., 1.],\n",
              "       [0., 0., 1.],\n",
              "       [0., 0., 1.],\n",
              "       [0., 0., 1.],\n",
              "       [0., 0., 1.],\n",
              "       [0., 0., 1.],\n",
              "       [0., 0., 1.],\n",
              "       [0., 0., 1.],\n",
              "       [0., 0., 1.],\n",
              "       [0., 0., 1.],\n",
              "       [0., 0., 1.],\n",
              "       [0., 0., 1.],\n",
              "       [0., 0., 1.],\n",
              "       [0., 0., 1.],\n",
              "       [0., 0., 1.],\n",
              "       [0., 0., 1.],\n",
              "       [0., 0., 1.],\n",
              "       [0., 0., 1.],\n",
              "       [0., 0., 1.],\n",
              "       [0., 0., 1.],\n",
              "       [0., 0., 1.],\n",
              "       [0., 0., 1.],\n",
              "       [0., 0., 1.],\n",
              "       [0., 0., 1.],\n",
              "       [0., 0., 1.],\n",
              "       [0., 0., 1.],\n",
              "       [0., 0., 1.],\n",
              "       [0., 0., 1.],\n",
              "       [0., 0., 1.],\n",
              "       [0., 0., 1.],\n",
              "       [0., 0., 1.],\n",
              "       [0., 0., 1.],\n",
              "       [0., 0., 1.],\n",
              "       [0., 0., 1.],\n",
              "       [0., 0., 1.],\n",
              "       [0., 0., 1.],\n",
              "       [0., 0., 1.],\n",
              "       [0., 0., 1.],\n",
              "       [0., 0., 1.]], dtype=float32)"
            ]
          },
          "metadata": {
            "tags": []
          },
          "execution_count": 57
        }
      ]
    },
    {
      "cell_type": "code",
      "metadata": {
        "id": "lLl-SlvBMp0k",
        "colab_type": "code",
        "colab": {}
      },
      "source": [
        "#understand why use one hot encoding https://www.jianshu.com/p/cb344e1c860a\n",
        "from sklearn import preprocessing\n",
        "encoder = preprocessing.OneHotEncoder()\n",
        "encoder.fit([\n",
        "    [0, 2, 1, 12],\n",
        "    [1, 3, 5, 3],\n",
        "    [2, 3, 2, 12],\n",
        "    [1, 2, 4, 3]\n",
        "])\n",
        "encoded_vector = encoder.transform([[2, 3, 5, 3]]).toarray()\n",
        "print(\"\\n Encoded vector =\", encoded_vector)"
      ],
      "execution_count": 0,
      "outputs": []
    },
    {
      "cell_type": "code",
      "metadata": {
        "id": "yJMS4DkmNvx5",
        "colab_type": "code",
        "colab": {}
      },
      "source": [
        "#softmax是做分類問題(所有書區機率加起來等於1) sigmoid是坐二分類的問題(所有輸出機率加起來不一定等於1)\n",
        "def baseline_model():\n",
        "  # create model\n",
        "  model = Sequential()\n",
        "  model.add(Dense(8,input_dim = 4 , activation='relu'))\n",
        "  model.add(Dense(3,activation='softmax'))\n",
        "  test = keras.optimizers.Adam(lr=0.001, beta_1=0.9, beta_2=0.999, epsilon=None, decay=0.0, amsgrad=False)\n",
        "  model.compile(loss='categorical_crossentropy',optimizer=test,metrics=['accuracy'])\n",
        "  return model   "
      ],
      "execution_count": 0,
      "outputs": []
    },
    {
      "cell_type": "code",
      "metadata": {
        "id": "n-iawwVtHC3v",
        "colab_type": "code",
        "outputId": "20d7c512-63d9-4c1a-819b-dfab666604fa",
        "colab": {
          "base_uri": "https://localhost:8080/",
          "height": 204
        }
      },
      "source": [
        "import keras\n",
        "from keras.models import Sequential\n",
        "from keras.layers import Dense\n",
        "model = baseline_model();\n",
        "model.summary()"
      ],
      "execution_count": 65,
      "outputs": [
        {
          "output_type": "stream",
          "text": [
            "_________________________________________________________________\n",
            "Layer (type)                 Output Shape              Param #   \n",
            "=================================================================\n",
            "dense_19 (Dense)             (None, 8)                 40        \n",
            "_________________________________________________________________\n",
            "dense_20 (Dense)             (None, 3)                 27        \n",
            "=================================================================\n",
            "Total params: 67\n",
            "Trainable params: 67\n",
            "Non-trainable params: 0\n",
            "_________________________________________________________________\n"
          ],
          "name": "stdout"
        }
      ]
    },
    {
      "cell_type": "code",
      "metadata": {
        "id": "v_6620QCHInM",
        "colab_type": "code",
        "colab": {}
      },
      "source": [
        "#4w+1b * 8neurons =40\n",
        "#8w+1b * 3neurons =27"
      ],
      "execution_count": 0,
      "outputs": []
    },
    {
      "cell_type": "code",
      "metadata": {
        "id": "mBIniuaSH_wd",
        "colab_type": "code",
        "outputId": "03048978-3901-4f59-cc32-8e7a9668ee88",
        "colab": {
          "base_uri": "https://localhost:8080/",
          "height": 1000
        }
      },
      "source": [
        "history = model.fit(X_input,dummy_y,epochs=90,batch_size=5) #epochs = 最幾次訓練 batch_size =每次處理幾筆資料"
      ],
      "execution_count": 67,
      "outputs": [
        {
          "output_type": "stream",
          "text": [
            "Epoch 1/90\n",
            "150/150 [==============================] - 0s 2ms/step - loss: 3.0569 - acc: 0.3333\n",
            "Epoch 2/90\n",
            "150/150 [==============================] - 0s 237us/step - loss: 2.3743 - acc: 0.3333\n",
            "Epoch 3/90\n",
            "150/150 [==============================] - 0s 226us/step - loss: 1.8723 - acc: 0.3333\n",
            "Epoch 4/90\n",
            "150/150 [==============================] - 0s 239us/step - loss: 1.5258 - acc: 0.3333\n",
            "Epoch 5/90\n",
            "150/150 [==============================] - 0s 257us/step - loss: 1.2799 - acc: 0.4400\n",
            "Epoch 6/90\n",
            "150/150 [==============================] - 0s 218us/step - loss: 1.0849 - acc: 0.6200\n",
            "Epoch 7/90\n",
            "150/150 [==============================] - 0s 226us/step - loss: 0.9422 - acc: 0.6600\n",
            "Epoch 8/90\n",
            "150/150 [==============================] - 0s 248us/step - loss: 0.8494 - acc: 0.6667\n",
            "Epoch 9/90\n",
            "150/150 [==============================] - 0s 240us/step - loss: 0.7848 - acc: 0.6667\n",
            "Epoch 10/90\n",
            "150/150 [==============================] - 0s 309us/step - loss: 0.7445 - acc: 0.6667\n",
            "Epoch 11/90\n",
            "150/150 [==============================] - 0s 277us/step - loss: 0.7112 - acc: 0.6733\n",
            "Epoch 12/90\n",
            "150/150 [==============================] - 0s 297us/step - loss: 0.6861 - acc: 0.7000\n",
            "Epoch 13/90\n",
            "150/150 [==============================] - 0s 271us/step - loss: 0.6641 - acc: 0.7467\n",
            "Epoch 14/90\n",
            "150/150 [==============================] - 0s 325us/step - loss: 0.6446 - acc: 0.7267\n",
            "Epoch 15/90\n",
            "150/150 [==============================] - 0s 294us/step - loss: 0.6278 - acc: 0.7533\n",
            "Epoch 16/90\n",
            "150/150 [==============================] - 0s 293us/step - loss: 0.6095 - acc: 0.7667\n",
            "Epoch 17/90\n",
            "150/150 [==============================] - 0s 277us/step - loss: 0.5944 - acc: 0.7267\n",
            "Epoch 18/90\n",
            "150/150 [==============================] - 0s 274us/step - loss: 0.5803 - acc: 0.7400\n",
            "Epoch 19/90\n",
            "150/150 [==============================] - 0s 263us/step - loss: 0.5675 - acc: 0.7800\n",
            "Epoch 20/90\n",
            "150/150 [==============================] - 0s 283us/step - loss: 0.5560 - acc: 0.7733\n",
            "Epoch 21/90\n",
            "150/150 [==============================] - 0s 272us/step - loss: 0.5461 - acc: 0.7733\n",
            "Epoch 22/90\n",
            "150/150 [==============================] - 0s 300us/step - loss: 0.5353 - acc: 0.7867\n",
            "Epoch 23/90\n",
            "150/150 [==============================] - 0s 269us/step - loss: 0.5263 - acc: 0.7667\n",
            "Epoch 24/90\n",
            "150/150 [==============================] - 0s 285us/step - loss: 0.5193 - acc: 0.7400\n",
            "Epoch 25/90\n",
            "150/150 [==============================] - 0s 272us/step - loss: 0.5122 - acc: 0.8667\n",
            "Epoch 26/90\n",
            "150/150 [==============================] - 0s 433us/step - loss: 0.5046 - acc: 0.7867\n",
            "Epoch 27/90\n",
            "150/150 [==============================] - 0s 263us/step - loss: 0.4950 - acc: 0.8067\n",
            "Epoch 28/90\n",
            "150/150 [==============================] - 0s 270us/step - loss: 0.4914 - acc: 0.7533\n",
            "Epoch 29/90\n",
            "150/150 [==============================] - 0s 258us/step - loss: 0.4819 - acc: 0.8200\n",
            "Epoch 30/90\n",
            "150/150 [==============================] - 0s 265us/step - loss: 0.4785 - acc: 0.8400\n",
            "Epoch 31/90\n",
            "150/150 [==============================] - 0s 279us/step - loss: 0.4731 - acc: 0.8533\n",
            "Epoch 32/90\n",
            "150/150 [==============================] - 0s 258us/step - loss: 0.4688 - acc: 0.8000\n",
            "Epoch 33/90\n",
            "150/150 [==============================] - 0s 233us/step - loss: 0.4654 - acc: 0.8933\n",
            "Epoch 34/90\n",
            "150/150 [==============================] - 0s 246us/step - loss: 0.4560 - acc: 0.9067\n",
            "Epoch 35/90\n",
            "150/150 [==============================] - 0s 270us/step - loss: 0.4518 - acc: 0.8333\n",
            "Epoch 36/90\n",
            "150/150 [==============================] - 0s 280us/step - loss: 0.4480 - acc: 0.8133\n",
            "Epoch 37/90\n",
            "150/150 [==============================] - 0s 294us/step - loss: 0.4435 - acc: 0.8667\n",
            "Epoch 38/90\n",
            "150/150 [==============================] - 0s 236us/step - loss: 0.4393 - acc: 0.8867\n",
            "Epoch 39/90\n",
            "150/150 [==============================] - 0s 247us/step - loss: 0.4367 - acc: 0.8267\n",
            "Epoch 40/90\n",
            "150/150 [==============================] - 0s 264us/step - loss: 0.4314 - acc: 0.9200\n",
            "Epoch 41/90\n",
            "150/150 [==============================] - 0s 243us/step - loss: 0.4270 - acc: 0.9200\n",
            "Epoch 42/90\n",
            "150/150 [==============================] - 0s 240us/step - loss: 0.4250 - acc: 0.8533\n",
            "Epoch 43/90\n",
            "150/150 [==============================] - 0s 261us/step - loss: 0.4194 - acc: 0.9000\n",
            "Epoch 44/90\n",
            "150/150 [==============================] - 0s 257us/step - loss: 0.4180 - acc: 0.8800\n",
            "Epoch 45/90\n",
            "150/150 [==============================] - 0s 256us/step - loss: 0.4140 - acc: 0.9067\n",
            "Epoch 46/90\n",
            "150/150 [==============================] - 0s 292us/step - loss: 0.4108 - acc: 0.9467\n",
            "Epoch 47/90\n",
            "150/150 [==============================] - 0s 248us/step - loss: 0.4051 - acc: 0.9467\n",
            "Epoch 48/90\n",
            "150/150 [==============================] - 0s 240us/step - loss: 0.4030 - acc: 0.9333\n",
            "Epoch 49/90\n",
            "150/150 [==============================] - 0s 244us/step - loss: 0.4015 - acc: 0.9467\n",
            "Epoch 50/90\n",
            "150/150 [==============================] - 0s 246us/step - loss: 0.3979 - acc: 0.8733\n",
            "Epoch 51/90\n",
            "150/150 [==============================] - 0s 263us/step - loss: 0.3939 - acc: 0.9400\n",
            "Epoch 52/90\n",
            "150/150 [==============================] - 0s 267us/step - loss: 0.3885 - acc: 0.9467\n",
            "Epoch 53/90\n",
            "150/150 [==============================] - 0s 272us/step - loss: 0.3859 - acc: 0.9533\n",
            "Epoch 54/90\n",
            "150/150 [==============================] - 0s 238us/step - loss: 0.3826 - acc: 0.9200\n",
            "Epoch 55/90\n",
            "150/150 [==============================] - 0s 241us/step - loss: 0.3800 - acc: 0.9467\n",
            "Epoch 56/90\n",
            "150/150 [==============================] - 0s 256us/step - loss: 0.3749 - acc: 0.9467\n",
            "Epoch 57/90\n",
            "150/150 [==============================] - 0s 282us/step - loss: 0.3735 - acc: 0.9533\n",
            "Epoch 58/90\n",
            "150/150 [==============================] - 0s 272us/step - loss: 0.3678 - acc: 0.9533\n",
            "Epoch 59/90\n",
            "150/150 [==============================] - 0s 300us/step - loss: 0.3665 - acc: 0.9533\n",
            "Epoch 60/90\n",
            "150/150 [==============================] - 0s 251us/step - loss: 0.3614 - acc: 0.9533\n",
            "Epoch 61/90\n",
            "150/150 [==============================] - 0s 248us/step - loss: 0.3583 - acc: 0.9467\n",
            "Epoch 62/90\n",
            "150/150 [==============================] - 0s 249us/step - loss: 0.3559 - acc: 0.9533\n",
            "Epoch 63/90\n",
            "150/150 [==============================] - 0s 268us/step - loss: 0.3573 - acc: 0.9067\n",
            "Epoch 64/90\n",
            "150/150 [==============================] - 0s 248us/step - loss: 0.3467 - acc: 0.9400\n",
            "Epoch 65/90\n",
            "150/150 [==============================] - 0s 269us/step - loss: 0.3455 - acc: 0.9533\n",
            "Epoch 66/90\n",
            "150/150 [==============================] - 0s 267us/step - loss: 0.3430 - acc: 0.9467\n",
            "Epoch 67/90\n",
            "150/150 [==============================] - 0s 257us/step - loss: 0.3379 - acc: 0.9600\n",
            "Epoch 68/90\n",
            "150/150 [==============================] - 0s 267us/step - loss: 0.3385 - acc: 0.9400\n",
            "Epoch 69/90\n",
            "150/150 [==============================] - 0s 285us/step - loss: 0.3304 - acc: 0.9600\n",
            "Epoch 70/90\n",
            "150/150 [==============================] - 0s 268us/step - loss: 0.3300 - acc: 0.9600\n",
            "Epoch 71/90\n",
            "150/150 [==============================] - 0s 253us/step - loss: 0.3245 - acc: 0.9600\n",
            "Epoch 72/90\n",
            "150/150 [==============================] - 0s 257us/step - loss: 0.3230 - acc: 0.9600\n",
            "Epoch 73/90\n",
            "150/150 [==============================] - 0s 236us/step - loss: 0.3187 - acc: 0.9600\n",
            "Epoch 74/90\n",
            "150/150 [==============================] - 0s 250us/step - loss: 0.3156 - acc: 0.9600\n",
            "Epoch 75/90\n",
            "150/150 [==============================] - 0s 271us/step - loss: 0.3116 - acc: 0.9800\n",
            "Epoch 76/90\n",
            "150/150 [==============================] - 0s 225us/step - loss: 0.3083 - acc: 0.9667\n",
            "Epoch 77/90\n",
            "150/150 [==============================] - 0s 227us/step - loss: 0.3051 - acc: 0.9667\n",
            "Epoch 78/90\n",
            "150/150 [==============================] - 0s 261us/step - loss: 0.3019 - acc: 0.9600\n",
            "Epoch 79/90\n",
            "150/150 [==============================] - 0s 278us/step - loss: 0.2996 - acc: 0.9667\n",
            "Epoch 80/90\n",
            "150/150 [==============================] - 0s 246us/step - loss: 0.2978 - acc: 0.9667\n",
            "Epoch 81/90\n",
            "150/150 [==============================] - 0s 275us/step - loss: 0.2917 - acc: 0.9733\n",
            "Epoch 82/90\n",
            "150/150 [==============================] - 0s 262us/step - loss: 0.2898 - acc: 0.9600\n",
            "Epoch 83/90\n",
            "150/150 [==============================] - 0s 260us/step - loss: 0.2854 - acc: 0.9667\n",
            "Epoch 84/90\n",
            "150/150 [==============================] - 0s 262us/step - loss: 0.2874 - acc: 0.9533\n",
            "Epoch 85/90\n",
            "150/150 [==============================] - 0s 259us/step - loss: 0.2814 - acc: 0.9667\n",
            "Epoch 86/90\n",
            "150/150 [==============================] - 0s 278us/step - loss: 0.2769 - acc: 0.9600\n",
            "Epoch 87/90\n",
            "150/150 [==============================] - 0s 319us/step - loss: 0.2730 - acc: 0.9733\n",
            "Epoch 88/90\n",
            "150/150 [==============================] - 0s 264us/step - loss: 0.2700 - acc: 0.9733\n",
            "Epoch 89/90\n",
            "150/150 [==============================] - 0s 264us/step - loss: 0.2664 - acc: 0.9667\n",
            "Epoch 90/90\n",
            "150/150 [==============================] - 0s 247us/step - loss: 0.2650 - acc: 0.9733\n"
          ],
          "name": "stdout"
        }
      ]
    },
    {
      "cell_type": "code",
      "metadata": {
        "id": "Lp8wlK88KiNa",
        "colab_type": "code",
        "colab": {}
      },
      "source": [
        "import matplotlib.pyplot as plt\n",
        "%matplotlib inline"
      ],
      "execution_count": 0,
      "outputs": []
    },
    {
      "cell_type": "code",
      "metadata": {
        "id": "ZmY7xzZSLDAc",
        "colab_type": "code",
        "outputId": "745beda8-7fbd-4012-9f75-c450f9a66ec0",
        "colab": {
          "base_uri": "https://localhost:8080/",
          "height": 295
        }
      },
      "source": [
        "#summarize history for accuracy\n",
        "plt.plot(history.history['acc'])\n",
        "plt.title('model accuraccy')\n",
        "plt.ylabel('accuracy')\n",
        "plt.xlabel('epoch')\n",
        "plt.legend(['all'],loc='upper left')\n",
        "plt.savefig('acc.png')\n",
        "plt.show()"
      ],
      "execution_count": 69,
      "outputs": [
        {
          "output_type": "display_data",
          "data": {
            "image/png": "[encoded data removed]",
            "text/plain": [
              "<Figure size 432x288 with 1 Axes>"
            ]
          },
          "metadata": {
            "tags": []
          }
        }
      ]
    },
    {
      "cell_type": "code",
      "metadata": {
        "id": "wx8igrLLLafq",
        "colab_type": "code",
        "outputId": "f1ef0cad-3685-410d-f35f-3aba9b8600e7",
        "colab": {
          "base_uri": "https://localhost:8080/",
          "height": 51
        }
      },
      "source": [
        "# evaluate the model\n",
        "scores = model.evaluate(X_input,dummy_y)\n",
        "print(\"%s: %.2f%%\" % (model.metrics_names[1], scores[1]*100))"
      ],
      "execution_count": 70,
      "outputs": [
        {
          "output_type": "stream",
          "text": [
            "150/150 [==============================] - 0s 700us/step\n",
            "acc: 96.67%\n"
          ],
          "name": "stdout"
        }
      ]
    }
  ]
}