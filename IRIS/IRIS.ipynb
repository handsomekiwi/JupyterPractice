{
  "nbformat": 4,
  "nbformat_minor": 0,
  "metadata": {
    "colab": {
      "name": "Untitled1.ipynb",
      "version": "0.3.2",
      "provenance": [],
      "collapsed_sections": [],
      "include_colab_link": true
    },
    "kernelspec": {
      "name": "python2",
      "display_name": "Python 2"
    }
  },
  "cells": [
    {
      "cell_type": "markdown",
      "metadata": {
        "id": "view-in-github",
        "colab_type": "text"
      },
      "source": [
        "<a href=\"https://colab.research.google.com/github/handsomekiwi/JupyterPractice/blob/master/IRIS/IRIS.ipynb\" target=\"_parent\"><img src=\"https://colab.research.google.com/assets/colab-badge.svg\" alt=\"Open In Colab\"/></a>"
      ]
    },
    {
      "cell_type": "code",
      "metadata": {
        "id": "QC6StjRhFjrz",
        "colab_type": "code",
        "outputId": "0f1bd595-f042-49f2-eba4-d6c8924ff52c",
        "colab": {
          "base_uri": "https://localhost:8080/",
          "height": 195
        }
      },
      "source": [
        "import pandas as pd\n",
        "# load dataset\n",
        "dataframe = pd.read_csv(\"https://raw.githubusercontent.com/handsomekiwi/JupyterPractice/master/IRIS/IRIS.csv\", header=None)\n",
        "#dataframe. add tab to find function\n",
        "dataframe.head() #.head gives the first 5 row\n"
      ],
      "execution_count": 3,
      "outputs": [
        {
          "output_type": "execute_result",
          "data": {
            "text/html": [
              "<div>\n",
              "<style scoped>\n",
              "    .dataframe tbody tr th:only-of-type {\n",
              "        vertical-align: middle;\n",
              "    }\n",
              "\n",
              "    .dataframe tbody tr th {\n",
              "        vertical-align: top;\n",
              "    }\n",
              "\n",
              "    .dataframe thead th {\n",
              "        text-align: right;\n",
              "    }\n",
              "</style>\n",
              "<table border=\"1\" class=\"dataframe\">\n",
              "  <thead>\n",
              "    <tr style=\"text-align: right;\">\n",
              "      <th></th>\n",
              "      <th>0</th>\n",
              "      <th>1</th>\n",
              "      <th>2</th>\n",
              "      <th>3</th>\n",
              "      <th>4</th>\n",
              "    </tr>\n",
              "  </thead>\n",
              "  <tbody>\n",
              "    <tr>\n",
              "      <th>0</th>\n",
              "      <td>sepal_length</td>\n",
              "      <td>sepal_width</td>\n",
              "      <td>petal_length</td>\n",
              "      <td>petal_width</td>\n",
              "      <td>species</td>\n",
              "    </tr>\n",
              "    <tr>\n",
              "      <th>1</th>\n",
              "      <td>5.1</td>\n",
              "      <td>3.5</td>\n",
              "      <td>1.4</td>\n",
              "      <td>0.2</td>\n",
              "      <td>Iris-setosa</td>\n",
              "    </tr>\n",
              "    <tr>\n",
              "      <th>2</th>\n",
              "      <td>4.9</td>\n",
              "      <td>3</td>\n",
              "      <td>1.4</td>\n",
              "      <td>0.2</td>\n",
              "      <td>Iris-setosa</td>\n",
              "    </tr>\n",
              "    <tr>\n",
              "      <th>3</th>\n",
              "      <td>4.7</td>\n",
              "      <td>3.2</td>\n",
              "      <td>1.3</td>\n",
              "      <td>0.2</td>\n",
              "      <td>Iris-setosa</td>\n",
              "    </tr>\n",
              "    <tr>\n",
              "      <th>4</th>\n",
              "      <td>4.6</td>\n",
              "      <td>3.1</td>\n",
              "      <td>1.5</td>\n",
              "      <td>0.2</td>\n",
              "      <td>Iris-setosa</td>\n",
              "    </tr>\n",
              "  </tbody>\n",
              "</table>\n",
              "</div>"
            ],
            "text/plain": [
              "              0            1             2            3            4\n",
              "0  sepal_length  sepal_width  petal_length  petal_width      species\n",
              "1           5.1          3.5           1.4          0.2  Iris-setosa\n",
              "2           4.9            3           1.4          0.2  Iris-setosa\n",
              "3           4.7          3.2           1.3          0.2  Iris-setosa\n",
              "4           4.6          3.1           1.5          0.2  Iris-setosa"
            ]
          },
          "metadata": {
            "tags": []
          },
          "execution_count": 3
        }
      ]
    },
    {
      "cell_type": "code",
      "metadata": {
        "id": "MqakbZQlEcYT",
        "colab_type": "code",
        "outputId": "99802b3e-615e-4c13-dfa7-cc6e00aa677a",
        "colab": {
          "base_uri": "https://localhost:8080/",
          "height": 101
        }
      },
      "source": [
        "dataset = dataframe.values\n",
        "import numpy as np\n",
        "dataset = np.delete(dataset, (0), axis=0)\n",
        "dataset[0:5]\n"
      ],
      "execution_count": 12,
      "outputs": [
        {
          "output_type": "execute_result",
          "data": {
            "text/plain": [
              "array([['5.1', '3.5', '1.4', '0.2', 'Iris-setosa'],\n",
              "       ['4.9', '3', '1.4', '0.2', 'Iris-setosa'],\n",
              "       ['4.7', '3.2', '1.3', '0.2', 'Iris-setosa'],\n",
              "       ['4.6', '3.1', '1.5', '0.2', 'Iris-setosa'],\n",
              "       ['5', '3.6', '1.4', '0.2', 'Iris-setosa']], dtype=object)"
            ]
          },
          "metadata": {
            "tags": []
          },
          "execution_count": 12
        }
      ]
    },
    {
      "cell_type": "code",
      "metadata": {
        "id": "znKj-_OEJc8Z",
        "colab_type": "code",
        "outputId": "6cca1c37-edd1-4421-b0fa-380481b46026",
        "colab": {
          "base_uri": "https://localhost:8080/",
          "height": 101
        }
      },
      "source": [
        "X_input = dataset[:,0:4].astype(float)\n",
        "X_input[0:5]"
      ],
      "execution_count": 27,
      "outputs": [
        {
          "output_type": "execute_result",
          "data": {
            "text/plain": [
              "array([[5.1, 3.5, 1.4, 0.2],\n",
              "       [4.9, 3. , 1.4, 0.2],\n",
              "       [4.7, 3.2, 1.3, 0.2],\n",
              "       [4.6, 3.1, 1.5, 0.2],\n",
              "       [5. , 3.6, 1.4, 0.2]])"
            ]
          },
          "metadata": {
            "tags": []
          },
          "execution_count": 27
        }
      ]
    },
    {
      "cell_type": "code",
      "metadata": {
        "id": "Rt7AbDNOJkMp",
        "colab_type": "code",
        "outputId": "2895ee1f-bd80-4b70-f4ee-2c3bde1c39fc",
        "colab": {
          "base_uri": "https://localhost:8080/",
          "height": 790
        }
      },
      "source": [
        "Y_answer = dataset[:,4]\n",
        "Y_answer"
      ],
      "execution_count": 29,
      "outputs": [
        {
          "output_type": "execute_result",
          "data": {
            "text/plain": [
              "array(['Iris-setosa', 'Iris-setosa', 'Iris-setosa', 'Iris-setosa',\n",
              "       'Iris-setosa', 'Iris-setosa', 'Iris-setosa', 'Iris-setosa',\n",
              "       'Iris-setosa', 'Iris-setosa', 'Iris-setosa', 'Iris-setosa',\n",
              "       'Iris-setosa', 'Iris-setosa', 'Iris-setosa', 'Iris-setosa',\n",
              "       'Iris-setosa', 'Iris-setosa', 'Iris-setosa', 'Iris-setosa',\n",
              "       'Iris-setosa', 'Iris-setosa', 'Iris-setosa', 'Iris-setosa',\n",
              "       'Iris-setosa', 'Iris-setosa', 'Iris-setosa', 'Iris-setosa',\n",
              "       'Iris-setosa', 'Iris-setosa', 'Iris-setosa', 'Iris-setosa',\n",
              "       'Iris-setosa', 'Iris-setosa', 'Iris-setosa', 'Iris-setosa',\n",
              "       'Iris-setosa', 'Iris-setosa', 'Iris-setosa', 'Iris-setosa',\n",
              "       'Iris-setosa', 'Iris-setosa', 'Iris-setosa', 'Iris-setosa',\n",
              "       'Iris-setosa', 'Iris-setosa', 'Iris-setosa', 'Iris-setosa',\n",
              "       'Iris-setosa', 'Iris-setosa', 'Iris-versicolor', 'Iris-versicolor',\n",
              "       'Iris-versicolor', 'Iris-versicolor', 'Iris-versicolor',\n",
              "       'Iris-versicolor', 'Iris-versicolor', 'Iris-versicolor',\n",
              "       'Iris-versicolor', 'Iris-versicolor', 'Iris-versicolor',\n",
              "       'Iris-versicolor', 'Iris-versicolor', 'Iris-versicolor',\n",
              "       'Iris-versicolor', 'Iris-versicolor', 'Iris-versicolor',\n",
              "       'Iris-versicolor', 'Iris-versicolor', 'Iris-versicolor',\n",
              "       'Iris-versicolor', 'Iris-versicolor', 'Iris-versicolor',\n",
              "       'Iris-versicolor', 'Iris-versicolor', 'Iris-versicolor',\n",
              "       'Iris-versicolor', 'Iris-versicolor', 'Iris-versicolor',\n",
              "       'Iris-versicolor', 'Iris-versicolor', 'Iris-versicolor',\n",
              "       'Iris-versicolor', 'Iris-versicolor', 'Iris-versicolor',\n",
              "       'Iris-versicolor', 'Iris-versicolor', 'Iris-versicolor',\n",
              "       'Iris-versicolor', 'Iris-versicolor', 'Iris-versicolor',\n",
              "       'Iris-versicolor', 'Iris-versicolor', 'Iris-versicolor',\n",
              "       'Iris-versicolor', 'Iris-versicolor', 'Iris-versicolor',\n",
              "       'Iris-versicolor', 'Iris-versicolor', 'Iris-versicolor',\n",
              "       'Iris-virginica', 'Iris-virginica', 'Iris-virginica',\n",
              "       'Iris-virginica', 'Iris-virginica', 'Iris-virginica',\n",
              "       'Iris-virginica', 'Iris-virginica', 'Iris-virginica',\n",
              "       'Iris-virginica', 'Iris-virginica', 'Iris-virginica',\n",
              "       'Iris-virginica', 'Iris-virginica', 'Iris-virginica',\n",
              "       'Iris-virginica', 'Iris-virginica', 'Iris-virginica',\n",
              "       'Iris-virginica', 'Iris-virginica', 'Iris-virginica',\n",
              "       'Iris-virginica', 'Iris-virginica', 'Iris-virginica',\n",
              "       'Iris-virginica', 'Iris-virginica', 'Iris-virginica',\n",
              "       'Iris-virginica', 'Iris-virginica', 'Iris-virginica',\n",
              "       'Iris-virginica', 'Iris-virginica', 'Iris-virginica',\n",
              "       'Iris-virginica', 'Iris-virginica', 'Iris-virginica',\n",
              "       'Iris-virginica', 'Iris-virginica', 'Iris-virginica',\n",
              "       'Iris-virginica', 'Iris-virginica', 'Iris-virginica',\n",
              "       'Iris-virginica', 'Iris-virginica', 'Iris-virginica',\n",
              "       'Iris-virginica', 'Iris-virginica', 'Iris-virginica',\n",
              "       'Iris-virginica', 'Iris-virginica'], dtype=object)"
            ]
          },
          "metadata": {
            "tags": []
          },
          "execution_count": 29
        }
      ]
    },
    {
      "cell_type": "code",
      "metadata": {
        "id": "IziWYczFJpP5",
        "colab_type": "code",
        "outputId": "b9cd991b-31cb-4dcc-8239-b4f06370e8b5",
        "colab": {
          "base_uri": "https://localhost:8080/",
          "height": 134
        }
      },
      "source": [
        "from sklearn.preprocessing import LabelEncoder\n",
        "# encode class values as integers\n",
        "encoder = LabelEncoder()\n",
        "encoder.fit(Y)\n",
        "encoded_Y = encoder.transform(Y)\n",
        "encoded_Y"
      ],
      "execution_count": 39,
      "outputs": [
        {
          "output_type": "execute_result",
          "data": {
            "text/plain": [
              "array([0, 0, 0, 0, 0, 0, 0, 0, 0, 0, 0, 0, 0, 0, 0, 0, 0, 0, 0, 0, 0, 0,\n",
              "       0, 0, 0, 0, 0, 0, 0, 0, 0, 0, 0, 0, 0, 0, 0, 0, 0, 0, 0, 0, 0, 0,\n",
              "       0, 0, 0, 0, 0, 0, 1, 1, 1, 1, 1, 1, 1, 1, 1, 1, 1, 1, 1, 1, 1, 1,\n",
              "       1, 1, 1, 1, 1, 1, 1, 1, 1, 1, 1, 1, 1, 1, 1, 1, 1, 1, 1, 1, 1, 1,\n",
              "       1, 1, 1, 1, 1, 1, 1, 1, 1, 1, 1, 1, 2, 2, 2, 2, 2, 2, 2, 2, 2, 2,\n",
              "       2, 2, 2, 2, 2, 2, 2, 2, 2, 2, 2, 2, 2, 2, 2, 2, 2, 2, 2, 2, 2, 2,\n",
              "       2, 2, 2, 2, 2, 2, 2, 2, 2, 2, 2, 2, 2, 2, 2, 2, 2, 2])"
            ]
          },
          "metadata": {
            "tags": []
          },
          "execution_count": 39
        }
      ]
    },
    {
      "cell_type": "code",
      "metadata": {
        "id": "DWsftsAuJxKh",
        "colab_type": "code",
        "outputId": "ad329351-d17d-4f8d-da43-7dd45f57e722",
        "colab": {
          "base_uri": "https://localhost:8080/",
          "height": 1000
        }
      },
      "source": [
        "from keras import utils as np_utils\n",
        "# convert integers to dummy variables (i.e. one hot encoded)\n",
        "dummy_y = np_utils.to_categorical(encoded_Y)\n",
        "dummy_y"
      ],
      "execution_count": 40,
      "outputs": [
        {
          "output_type": "execute_result",
          "data": {
            "text/plain": [
              "array([[1., 0., 0.],\n",
              "       [1., 0., 0.],\n",
              "       [1., 0., 0.],\n",
              "       [1., 0., 0.],\n",
              "       [1., 0., 0.],\n",
              "       [1., 0., 0.],\n",
              "       [1., 0., 0.],\n",
              "       [1., 0., 0.],\n",
              "       [1., 0., 0.],\n",
              "       [1., 0., 0.],\n",
              "       [1., 0., 0.],\n",
              "       [1., 0., 0.],\n",
              "       [1., 0., 0.],\n",
              "       [1., 0., 0.],\n",
              "       [1., 0., 0.],\n",
              "       [1., 0., 0.],\n",
              "       [1., 0., 0.],\n",
              "       [1., 0., 0.],\n",
              "       [1., 0., 0.],\n",
              "       [1., 0., 0.],\n",
              "       [1., 0., 0.],\n",
              "       [1., 0., 0.],\n",
              "       [1., 0., 0.],\n",
              "       [1., 0., 0.],\n",
              "       [1., 0., 0.],\n",
              "       [1., 0., 0.],\n",
              "       [1., 0., 0.],\n",
              "       [1., 0., 0.],\n",
              "       [1., 0., 0.],\n",
              "       [1., 0., 0.],\n",
              "       [1., 0., 0.],\n",
              "       [1., 0., 0.],\n",
              "       [1., 0., 0.],\n",
              "       [1., 0., 0.],\n",
              "       [1., 0., 0.],\n",
              "       [1., 0., 0.],\n",
              "       [1., 0., 0.],\n",
              "       [1., 0., 0.],\n",
              "       [1., 0., 0.],\n",
              "       [1., 0., 0.],\n",
              "       [1., 0., 0.],\n",
              "       [1., 0., 0.],\n",
              "       [1., 0., 0.],\n",
              "       [1., 0., 0.],\n",
              "       [1., 0., 0.],\n",
              "       [1., 0., 0.],\n",
              "       [1., 0., 0.],\n",
              "       [1., 0., 0.],\n",
              "       [1., 0., 0.],\n",
              "       [1., 0., 0.],\n",
              "       [0., 1., 0.],\n",
              "       [0., 1., 0.],\n",
              "       [0., 1., 0.],\n",
              "       [0., 1., 0.],\n",
              "       [0., 1., 0.],\n",
              "       [0., 1., 0.],\n",
              "       [0., 1., 0.],\n",
              "       [0., 1., 0.],\n",
              "       [0., 1., 0.],\n",
              "       [0., 1., 0.],\n",
              "       [0., 1., 0.],\n",
              "       [0., 1., 0.],\n",
              "       [0., 1., 0.],\n",
              "       [0., 1., 0.],\n",
              "       [0., 1., 0.],\n",
              "       [0., 1., 0.],\n",
              "       [0., 1., 0.],\n",
              "       [0., 1., 0.],\n",
              "       [0., 1., 0.],\n",
              "       [0., 1., 0.],\n",
              "       [0., 1., 0.],\n",
              "       [0., 1., 0.],\n",
              "       [0., 1., 0.],\n",
              "       [0., 1., 0.],\n",
              "       [0., 1., 0.],\n",
              "       [0., 1., 0.],\n",
              "       [0., 1., 0.],\n",
              "       [0., 1., 0.],\n",
              "       [0., 1., 0.],\n",
              "       [0., 1., 0.],\n",
              "       [0., 1., 0.],\n",
              "       [0., 1., 0.],\n",
              "       [0., 1., 0.],\n",
              "       [0., 1., 0.],\n",
              "       [0., 1., 0.],\n",
              "       [0., 1., 0.],\n",
              "       [0., 1., 0.],\n",
              "       [0., 1., 0.],\n",
              "       [0., 1., 0.],\n",
              "       [0., 1., 0.],\n",
              "       [0., 1., 0.],\n",
              "       [0., 1., 0.],\n",
              "       [0., 1., 0.],\n",
              "       [0., 1., 0.],\n",
              "       [0., 1., 0.],\n",
              "       [0., 1., 0.],\n",
              "       [0., 1., 0.],\n",
              "       [0., 1., 0.],\n",
              "       [0., 1., 0.],\n",
              "       [0., 1., 0.],\n",
              "       [0., 0., 1.],\n",
              "       [0., 0., 1.],\n",
              "       [0., 0., 1.],\n",
              "       [0., 0., 1.],\n",
              "       [0., 0., 1.],\n",
              "       [0., 0., 1.],\n",
              "       [0., 0., 1.],\n",
              "       [0., 0., 1.],\n",
              "       [0., 0., 1.],\n",
              "       [0., 0., 1.],\n",
              "       [0., 0., 1.],\n",
              "       [0., 0., 1.],\n",
              "       [0., 0., 1.],\n",
              "       [0., 0., 1.],\n",
              "       [0., 0., 1.],\n",
              "       [0., 0., 1.],\n",
              "       [0., 0., 1.],\n",
              "       [0., 0., 1.],\n",
              "       [0., 0., 1.],\n",
              "       [0., 0., 1.],\n",
              "       [0., 0., 1.],\n",
              "       [0., 0., 1.],\n",
              "       [0., 0., 1.],\n",
              "       [0., 0., 1.],\n",
              "       [0., 0., 1.],\n",
              "       [0., 0., 1.],\n",
              "       [0., 0., 1.],\n",
              "       [0., 0., 1.],\n",
              "       [0., 0., 1.],\n",
              "       [0., 0., 1.],\n",
              "       [0., 0., 1.],\n",
              "       [0., 0., 1.],\n",
              "       [0., 0., 1.],\n",
              "       [0., 0., 1.],\n",
              "       [0., 0., 1.],\n",
              "       [0., 0., 1.],\n",
              "       [0., 0., 1.],\n",
              "       [0., 0., 1.],\n",
              "       [0., 0., 1.],\n",
              "       [0., 0., 1.],\n",
              "       [0., 0., 1.],\n",
              "       [0., 0., 1.],\n",
              "       [0., 0., 1.],\n",
              "       [0., 0., 1.],\n",
              "       [0., 0., 1.],\n",
              "       [0., 0., 1.],\n",
              "       [0., 0., 1.],\n",
              "       [0., 0., 1.],\n",
              "       [0., 0., 1.],\n",
              "       [0., 0., 1.]], dtype=float32)"
            ]
          },
          "metadata": {
            "tags": []
          },
          "execution_count": 40
        }
      ]
    },
    {
      "cell_type": "code",
      "metadata": {
        "id": "lLl-SlvBMp0k",
        "colab_type": "code",
        "colab": {}
      },
      "source": [
        "#understand why use one hot encoding https://www.jianshu.com/p/cb344e1c860a\n",
        "from sklearn import preprocessing\n",
        "encoder = preprocessing.OneHotEncoder()\n",
        "encoder.fit([\n",
        "    [0, 2, 1, 12],\n",
        "    [1, 3, 5, 3],\n",
        "    [2, 3, 2, 12],\n",
        "    [1, 2, 4, 3]\n",
        "])\n",
        "encoded_vector = encoder.transform([[2, 3, 5, 3]]).toarray()\n",
        "print(\"\\n Encoded vector =\", encoded_vector)"
      ],
      "execution_count": 0,
      "outputs": []
    },
    {
      "cell_type": "code",
      "metadata": {
        "id": "yJMS4DkmNvx5",
        "colab_type": "code",
        "colab": {}
      },
      "source": [
        "def baseline_model():\n",
        "  # create model\n",
        "  model = Sequential()\n",
        "  model.add(Dense(8,input_dim = 4 , activation='relu'))\n",
        "  model.add(Dense(3,activation='sigmoid'))\n",
        "  model.compile(loss='categorical_crossentropy',optimizer='adam',metrics=['accuracy'])\n",
        "  return model   "
      ],
      "execution_count": 0,
      "outputs": []
    },
    {
      "cell_type": "code",
      "metadata": {
        "id": "n-iawwVtHC3v",
        "colab_type": "code",
        "colab": {
          "base_uri": "https://localhost:8080/",
          "height": 202
        },
        "outputId": "b368ba33-5b49-4359-ae3c-5b9858da5b16"
      },
      "source": [
        "from keras.models import Sequential\n",
        "from keras.layers import Dense\n",
        "model = baseline_model();\n",
        "model.summary()"
      ],
      "execution_count": 42,
      "outputs": [
        {
          "output_type": "stream",
          "text": [
            "_________________________________________________________________\n",
            "Layer (type)                 Output Shape              Param #   \n",
            "=================================================================\n",
            "dense_9 (Dense)              (None, 8)                 40        \n",
            "_________________________________________________________________\n",
            "dense_10 (Dense)             (None, 3)                 27        \n",
            "=================================================================\n",
            "Total params: 67\n",
            "Trainable params: 67\n",
            "Non-trainable params: 0\n",
            "_________________________________________________________________\n"
          ],
          "name": "stdout"
        }
      ]
    },
    {
      "cell_type": "code",
      "metadata": {
        "id": "v_6620QCHInM",
        "colab_type": "code",
        "colab": {}
      },
      "source": [
        "#4w+1b * 8neurons =40\n",
        "#8w+1b * 3neurons =27"
      ],
      "execution_count": 0,
      "outputs": []
    },
    {
      "cell_type": "code",
      "metadata": {
        "id": "mBIniuaSH_wd",
        "colab_type": "code",
        "colab": {
          "base_uri": "https://localhost:8080/",
          "height": 1000
        },
        "outputId": "3c6b441b-9dd1-4409-c7d8-5d65abeaddb8"
      },
      "source": [
        "history = model.fit(X_input,dummy_y,epochs=100,batch_size=5) #epochs = 最幾次訓練 batch_size =每次處理幾筆資料"
      ],
      "execution_count": 43,
      "outputs": [
        {
          "output_type": "stream",
          "text": [
            "W0820 03:51:37.656918 140307285108608 deprecation.py:323] From /usr/local/lib/python2.7/dist-packages/tensorflow/python/ops/math_grad.py:1250: where (from tensorflow.python.ops.array_ops) is deprecated and will be removed in a future version.\n",
            "Instructions for updating:\n",
            "Use tf.where in 2.0, which has the same broadcast rule as np.where\n",
            "W0820 03:51:37.708607 140307285108608 deprecation_wrapper.py:119] From /usr/local/lib/python2.7/dist-packages/keras/backend/tensorflow_backend.py:986: The name tf.assign_add is deprecated. Please use tf.compat.v1.assign_add instead.\n",
            "\n"
          ],
          "name": "stderr"
        },
        {
          "output_type": "stream",
          "text": [
            "Epoch 1/100\n",
            "150/150 [==============================] - 1s 6ms/step - loss: 1.0803 - acc: 0.3333 \n",
            "Epoch 2/100\n",
            "150/150 [==============================] - 0s 223us/step - loss: 1.0529 - acc: 0.3333\n",
            "Epoch 3/100\n",
            "150/150 [==============================] - 0s 211us/step - loss: 1.0247 - acc: 0.3333\n",
            "Epoch 4/100\n",
            "150/150 [==============================] - 0s 215us/step - loss: 1.0011 - acc: 0.3333\n",
            "Epoch 5/100\n",
            "150/150 [==============================] - 0s 232us/step - loss: 0.9805 - acc: 0.3333\n",
            "Epoch 6/100\n",
            "150/150 [==============================] - 0s 227us/step - loss: 0.9607 - acc: 0.3333\n",
            "Epoch 7/100\n",
            "150/150 [==============================] - 0s 232us/step - loss: 0.9399 - acc: 0.3333\n",
            "Epoch 8/100\n",
            "150/150 [==============================] - 0s 237us/step - loss: 0.9177 - acc: 0.3333\n",
            "Epoch 9/100\n",
            "150/150 [==============================] - 0s 221us/step - loss: 0.8938 - acc: 0.3333\n",
            "Epoch 10/100\n",
            "150/150 [==============================] - 0s 233us/step - loss: 0.8696 - acc: 0.3333\n",
            "Epoch 11/100\n",
            "150/150 [==============================] - 0s 228us/step - loss: 0.8462 - acc: 0.3333\n",
            "Epoch 12/100\n",
            "150/150 [==============================] - 0s 223us/step - loss: 0.8245 - acc: 0.3333\n",
            "Epoch 13/100\n",
            "150/150 [==============================] - 0s 216us/step - loss: 0.8045 - acc: 0.3400\n",
            "Epoch 14/100\n",
            "150/150 [==============================] - 0s 236us/step - loss: 0.7834 - acc: 0.4333\n",
            "Epoch 15/100\n",
            "150/150 [==============================] - 0s 250us/step - loss: 0.7151 - acc: 0.6267\n",
            "Epoch 16/100\n",
            "150/150 [==============================] - 0s 242us/step - loss: 0.5636 - acc: 0.6667\n",
            "Epoch 17/100\n",
            "150/150 [==============================] - 0s 237us/step - loss: 0.5015 - acc: 0.6667\n",
            "Epoch 18/100\n",
            "150/150 [==============================] - 0s 268us/step - loss: 0.4685 - acc: 0.6667\n",
            "Epoch 19/100\n",
            "150/150 [==============================] - 0s 265us/step - loss: 0.4506 - acc: 0.6667\n",
            "Epoch 20/100\n",
            "150/150 [==============================] - 0s 249us/step - loss: 0.4358 - acc: 0.6667\n",
            "Epoch 21/100\n",
            "150/150 [==============================] - 0s 228us/step - loss: 0.4261 - acc: 0.6667\n",
            "Epoch 22/100\n",
            "150/150 [==============================] - 0s 276us/step - loss: 0.4183 - acc: 0.6667\n",
            "Epoch 23/100\n",
            "150/150 [==============================] - 0s 280us/step - loss: 0.4129 - acc: 0.6667\n",
            "Epoch 24/100\n",
            "150/150 [==============================] - 0s 280us/step - loss: 0.4066 - acc: 0.6667\n",
            "Epoch 25/100\n",
            "150/150 [==============================] - 0s 276us/step - loss: 0.4015 - acc: 0.6667\n",
            "Epoch 26/100\n",
            "150/150 [==============================] - 0s 295us/step - loss: 0.3971 - acc: 0.6667\n",
            "Epoch 27/100\n",
            "150/150 [==============================] - 0s 279us/step - loss: 0.3930 - acc: 0.6667\n",
            "Epoch 28/100\n",
            "150/150 [==============================] - 0s 249us/step - loss: 0.3899 - acc: 0.6667\n",
            "Epoch 29/100\n",
            "150/150 [==============================] - 0s 271us/step - loss: 0.3863 - acc: 0.6667\n",
            "Epoch 30/100\n",
            "150/150 [==============================] - 0s 226us/step - loss: 0.3827 - acc: 0.6667\n",
            "Epoch 31/100\n",
            "150/150 [==============================] - 0s 234us/step - loss: 0.3792 - acc: 0.6667\n",
            "Epoch 32/100\n",
            "150/150 [==============================] - 0s 249us/step - loss: 0.3758 - acc: 0.6667\n",
            "Epoch 33/100\n",
            "150/150 [==============================] - 0s 250us/step - loss: 0.3740 - acc: 0.6667\n",
            "Epoch 34/100\n",
            "150/150 [==============================] - 0s 271us/step - loss: 0.3704 - acc: 0.6667\n",
            "Epoch 35/100\n",
            "150/150 [==============================] - 0s 266us/step - loss: 0.3682 - acc: 0.6667\n",
            "Epoch 36/100\n",
            "150/150 [==============================] - 0s 239us/step - loss: 0.3656 - acc: 0.6667\n",
            "Epoch 37/100\n",
            "150/150 [==============================] - 0s 241us/step - loss: 0.3634 - acc: 0.6667\n",
            "Epoch 38/100\n",
            "150/150 [==============================] - 0s 293us/step - loss: 0.3620 - acc: 0.6667\n",
            "Epoch 39/100\n",
            "150/150 [==============================] - 0s 284us/step - loss: 0.3594 - acc: 0.6667\n",
            "Epoch 40/100\n",
            "150/150 [==============================] - 0s 233us/step - loss: 0.3580 - acc: 0.6667\n",
            "Epoch 41/100\n",
            "150/150 [==============================] - 0s 241us/step - loss: 0.3552 - acc: 0.6667\n",
            "Epoch 42/100\n",
            "150/150 [==============================] - 0s 256us/step - loss: 0.3551 - acc: 0.6667\n",
            "Epoch 43/100\n",
            "150/150 [==============================] - 0s 237us/step - loss: 0.3511 - acc: 0.6667\n",
            "Epoch 44/100\n",
            "150/150 [==============================] - 0s 272us/step - loss: 0.3502 - acc: 0.6667\n",
            "Epoch 45/100\n",
            "150/150 [==============================] - 0s 232us/step - loss: 0.3485 - acc: 0.6667\n",
            "Epoch 46/100\n",
            "150/150 [==============================] - 0s 224us/step - loss: 0.3479 - acc: 0.6667\n",
            "Epoch 47/100\n",
            "150/150 [==============================] - 0s 217us/step - loss: 0.3451 - acc: 0.6667\n",
            "Epoch 48/100\n",
            "150/150 [==============================] - 0s 248us/step - loss: 0.3440 - acc: 0.6667\n",
            "Epoch 49/100\n",
            "150/150 [==============================] - 0s 248us/step - loss: 0.3426 - acc: 0.6667\n",
            "Epoch 50/100\n",
            "150/150 [==============================] - 0s 218us/step - loss: 0.3413 - acc: 0.6667\n",
            "Epoch 51/100\n",
            "150/150 [==============================] - 0s 226us/step - loss: 0.3385 - acc: 0.6667\n",
            "Epoch 52/100\n",
            "150/150 [==============================] - 0s 220us/step - loss: 0.3371 - acc: 0.6667\n",
            "Epoch 53/100\n",
            "150/150 [==============================] - 0s 223us/step - loss: 0.3356 - acc: 0.6667\n",
            "Epoch 54/100\n",
            "150/150 [==============================] - 0s 214us/step - loss: 0.3340 - acc: 0.6667\n",
            "Epoch 55/100\n",
            "150/150 [==============================] - 0s 232us/step - loss: 0.3333 - acc: 0.6667\n",
            "Epoch 56/100\n",
            "150/150 [==============================] - 0s 223us/step - loss: 0.3322 - acc: 0.6667\n",
            "Epoch 57/100\n",
            "150/150 [==============================] - 0s 224us/step - loss: 0.3299 - acc: 0.6667\n",
            "Epoch 58/100\n",
            "150/150 [==============================] - 0s 242us/step - loss: 0.3288 - acc: 0.6667\n",
            "Epoch 59/100\n",
            "150/150 [==============================] - 0s 219us/step - loss: 0.3274 - acc: 0.6667\n",
            "Epoch 60/100\n",
            "150/150 [==============================] - 0s 248us/step - loss: 0.3275 - acc: 0.6667\n",
            "Epoch 61/100\n",
            "150/150 [==============================] - 0s 232us/step - loss: 0.3253 - acc: 0.6667\n",
            "Epoch 62/100\n",
            "150/150 [==============================] - 0s 228us/step - loss: 0.3247 - acc: 0.6667\n",
            "Epoch 63/100\n",
            "150/150 [==============================] - 0s 231us/step - loss: 0.3246 - acc: 0.6667\n",
            "Epoch 64/100\n",
            "150/150 [==============================] - 0s 221us/step - loss: 0.3227 - acc: 0.6667\n",
            "Epoch 65/100\n",
            "150/150 [==============================] - 0s 234us/step - loss: 0.3208 - acc: 0.6667\n",
            "Epoch 66/100\n",
            "150/150 [==============================] - 0s 241us/step - loss: 0.3203 - acc: 0.6667\n",
            "Epoch 67/100\n",
            "150/150 [==============================] - 0s 229us/step - loss: 0.3187 - acc: 0.6667\n",
            "Epoch 68/100\n",
            "150/150 [==============================] - 0s 252us/step - loss: 0.3185 - acc: 0.6667\n",
            "Epoch 69/100\n",
            "150/150 [==============================] - 0s 229us/step - loss: 0.3167 - acc: 0.6667\n",
            "Epoch 70/100\n",
            "150/150 [==============================] - 0s 239us/step - loss: 0.3170 - acc: 0.6667\n",
            "Epoch 71/100\n",
            "150/150 [==============================] - 0s 235us/step - loss: 0.3168 - acc: 0.6667\n",
            "Epoch 72/100\n",
            "150/150 [==============================] - 0s 248us/step - loss: 0.3168 - acc: 0.6667\n",
            "Epoch 73/100\n",
            "150/150 [==============================] - 0s 242us/step - loss: 0.3135 - acc: 0.6667\n",
            "Epoch 74/100\n",
            "150/150 [==============================] - 0s 246us/step - loss: 0.3136 - acc: 0.6667\n",
            "Epoch 75/100\n",
            "150/150 [==============================] - 0s 229us/step - loss: 0.3125 - acc: 0.6667\n",
            "Epoch 76/100\n",
            "150/150 [==============================] - 0s 268us/step - loss: 0.3111 - acc: 0.6667\n",
            "Epoch 77/100\n",
            "150/150 [==============================] - 0s 232us/step - loss: 0.3112 - acc: 0.6667\n",
            "Epoch 78/100\n",
            "150/150 [==============================] - 0s 230us/step - loss: 0.3103 - acc: 0.6667\n",
            "Epoch 79/100\n",
            "150/150 [==============================] - 0s 241us/step - loss: 0.3090 - acc: 0.6667\n",
            "Epoch 80/100\n",
            "150/150 [==============================] - 0s 227us/step - loss: 0.3084 - acc: 0.6667\n",
            "Epoch 81/100\n",
            "150/150 [==============================] - 0s 236us/step - loss: 0.3073 - acc: 0.6667\n",
            "Epoch 82/100\n",
            "150/150 [==============================] - 0s 239us/step - loss: 0.3079 - acc: 0.6667\n",
            "Epoch 83/100\n",
            "150/150 [==============================] - 0s 232us/step - loss: 0.3056 - acc: 0.6667\n",
            "Epoch 84/100\n",
            "150/150 [==============================] - 0s 244us/step - loss: 0.3058 - acc: 0.6667\n",
            "Epoch 85/100\n",
            "150/150 [==============================] - 0s 233us/step - loss: 0.3050 - acc: 0.6667\n",
            "Epoch 86/100\n",
            "150/150 [==============================] - 0s 245us/step - loss: 0.3038 - acc: 0.6667\n",
            "Epoch 87/100\n",
            "150/150 [==============================] - 0s 235us/step - loss: 0.3029 - acc: 0.6667\n",
            "Epoch 88/100\n",
            "150/150 [==============================] - 0s 243us/step - loss: 0.3025 - acc: 0.6667\n",
            "Epoch 89/100\n",
            "150/150 [==============================] - 0s 231us/step - loss: 0.3018 - acc: 0.6667\n",
            "Epoch 90/100\n",
            "150/150 [==============================] - 0s 244us/step - loss: 0.3012 - acc: 0.6667\n",
            "Epoch 91/100\n",
            "150/150 [==============================] - 0s 227us/step - loss: 0.3007 - acc: 0.6667\n",
            "Epoch 92/100\n",
            "150/150 [==============================] - 0s 267us/step - loss: 0.3001 - acc: 0.6667\n",
            "Epoch 93/100\n",
            "150/150 [==============================] - 0s 277us/step - loss: 0.2994 - acc: 0.6667\n",
            "Epoch 94/100\n",
            "150/150 [==============================] - 0s 243us/step - loss: 0.2988 - acc: 0.6667\n",
            "Epoch 95/100\n",
            "150/150 [==============================] - 0s 235us/step - loss: 0.2984 - acc: 0.6667\n",
            "Epoch 96/100\n",
            "150/150 [==============================] - 0s 253us/step - loss: 0.2983 - acc: 0.6667\n",
            "Epoch 97/100\n",
            "150/150 [==============================] - 0s 240us/step - loss: 0.2982 - acc: 0.6667\n",
            "Epoch 98/100\n",
            "150/150 [==============================] - 0s 299us/step - loss: 0.2988 - acc: 0.6667\n",
            "Epoch 99/100\n",
            "150/150 [==============================] - 0s 246us/step - loss: 0.2967 - acc: 0.6667\n",
            "Epoch 100/100\n",
            "150/150 [==============================] - 0s 262us/step - loss: 0.2964 - acc: 0.6667\n"
          ],
          "name": "stdout"
        }
      ]
    }
  ]
}