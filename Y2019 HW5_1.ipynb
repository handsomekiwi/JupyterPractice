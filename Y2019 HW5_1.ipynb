{
  "nbformat": 4,
  "nbformat_minor": 0,
  "metadata": {
    "colab": {
      "name": "Untitled9.ipynb",
      "version": "0.3.2",
      "provenance": [],
      "include_colab_link": true
    },
    "kernelspec": {
      "name": "python3",
      "display_name": "Python 3"
    }
  },
  "cells": [
    {
      "cell_type": "markdown",
      "metadata": {
        "id": "view-in-github",
        "colab_type": "text"
      },
      "source": [
        "<a href=\"https://colab.research.google.com/github/handsomekiwi/JupyterPractice/blob/master/Y2019%20HW5_1.ipynb\" target=\"_parent\"><img src=\"https://colab.research.google.com/assets/colab-badge.svg\" alt=\"Open In Colab\"/></a>"
      ]
    },
    {
      "cell_type": "code",
      "metadata": {
        "id": "5ydDRc41M7gX",
        "colab_type": "code",
        "colab": {}
      },
      "source": [
        "from __future__ import absolute_import\n",
        "from __future__ import division\n",
        "from __future__ import print_function\n",
        "\n",
        "import numpy as np\n",
        "import matplotlib.pyplot as plt\n",
        "from mpl_toolkits.mplot3d import Axes3D\n",
        "from matplotlib import cm"
      ],
      "execution_count": 0,
      "outputs": []
    },
    {
      "cell_type": "code",
      "metadata": {
        "id": "9TN5gFCMM-_T",
        "colab_type": "code",
        "colab": {
          "base_uri": "https://localhost:8080/",
          "height": 323
        },
        "outputId": "91be2f37-b9f5-4826-dbde-a79e63962d5a"
      },
      "source": [
        "def draw_plane(A, b):\n",
        "    xx, yy = np.meshgrid(np.arange(-10,10.1,0.1), np.arange(-10,10.1,0.1))\n",
        "    plt3d = plt.figure().gca(projection='3d')\n",
        "    for i in range(3):\n",
        "      a, c, d, e = A[i][0], A[i][1], A[i][2], b[i]\n",
        "      zz = (-a*xx - c*yy + e) / d\n",
        "      plt3d.plot_surface(xx, yy, zz, alpha=0.5, cmap=cm.coolwarm)\n",
        "    ax = plt.gca()\n",
        "    #z = np.linalg.solve(A, b)\n",
        "    #ax.scatter(z[0] , z[1] , z[2],  color='red')\n",
        "    plt.show()\n",
        "\n",
        "def show_properties(A, b):\n",
        "    print('  rank(A):', np.linalg.matrix_rank(A)) #若矩陣 A 的秩為 2，則其線性獨立的行向量為 2，且其線性獨立的列向量也為2\n",
        "是 2\n",
        "    print('  rank([A, b]):', np.linalg.matrix_rank(np.hstack((A,b))))\n",
        "    if np.linalg.matrix_rank(A) == 3:\n",
        "      z = np.linalg.solve(A,b)\n",
        "      print('  residual: {:.2f}'.format(np.linalg.norm(A.dot(z)-b))) # ||A*z-b||\n",
        "      print('  solution:', z)\n",
        "    print('  cond(A): {:.2e}'.format(np.linalg.cond(A)))\n",
        "\n",
        "if __name__ == '__main__':#若此py檔當作模塊被導入時，這個就不會執行\n",
        "  print('Exercise 1.1')\n",
        "  A = np.array([[3, 2, -1], [6, -1, 3], [1, 10, -2]])\n",
        "  b = np.array([[-7], [-4], [2]])\n",
        "  #draw_plane(A, b)\n",
        "  show_properties(A, b)\n",
        "  print()\n",
        "\n",
        "  print('Exercise 1.2')\n",
        "  A = np.array([[4, -1, 3], [21, -4, 18], [-9, 1, -9]])\n",
        "  b = np.array([[5], [7], [-8]])\n",
        "  #draw_plane(A, b)\n",
        "  show_properties(A, b)\n",
        "  print()\n",
        "\n",
        "  print('Exercise 1.3')\n",
        "  A = np.array([[7, -4, 1], [3, 2, -1], [5, 12, -5]])\n",
        "  b = np.array([[-15], [-5], [-5]])\n",
        "  #draw_plane(A, b)\n",
        "  show_properties(A, b)"
      ],
      "execution_count": 3,
      "outputs": [
        {
          "output_type": "stream",
          "text": [
            "Exercise 1.1\n",
            "  rank(A): 3\n",
            "  rank([A, b]): 3\n",
            "  residual: 0.00\n",
            "  solution: [[-2.]\n",
            " [ 1.]\n",
            " [ 3.]]\n",
            "  cond(A): 6.93e+00\n",
            "\n",
            "Exercise 1.2\n",
            "  rank(A): 2\n",
            "  rank([A, b]): 3\n",
            "  cond(A): 8.56e+16\n",
            "\n",
            "Exercise 1.3\n",
            "  rank(A): 2\n",
            "  rank([A, b]): 2\n",
            "  cond(A): 6.54e+16\n"
          ],
          "name": "stdout"
        }
      ]
    }
  ]
}