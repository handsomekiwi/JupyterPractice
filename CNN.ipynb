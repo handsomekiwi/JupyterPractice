{
  "nbformat": 4,
  "nbformat_minor": 0,
  "metadata": {
    "kernelspec": {
      "display_name": "Python 3",
      "language": "python",
      "name": "python3"
    },
    "language_info": {
      "codemirror_mode": {
        "name": "ipython",
        "version": 3
      },
      "file_extension": ".py",
      "mimetype": "text/x-python",
      "name": "python",
      "nbconvert_exporter": "python",
      "pygments_lexer": "ipython3",
      "version": "3.7.3"
    },
    "colab": {
      "name": "CNN.ipynb",
      "version": "0.3.2",
      "provenance": [],
      "include_colab_link": true
    }
  },
  "cells": [
    {
      "cell_type": "markdown",
      "metadata": {
        "id": "view-in-github",
        "colab_type": "text"
      },
      "source": [
        "<a href=\"https://colab.research.google.com/github/handsomekiwi/JupyterPractice/blob/master/CNN.ipynb\" target=\"_parent\"><img src=\"https://colab.research.google.com/assets/colab-badge.svg\" alt=\"Open In Colab\"/></a>"
      ]
    },
    {
      "cell_type": "code",
      "metadata": {
        "id": "JJdFeQc51uLj",
        "colab_type": "code",
        "colab": {},
        "outputId": "539de86a-6b87-447b-d64e-fc721a754284"
      },
      "source": [
        "import keras "
      ],
      "execution_count": 0,
      "outputs": [
        {
          "output_type": "stream",
          "text": [
            "Using TensorFlow backend.\n"
          ],
          "name": "stderr"
        }
      ]
    },
    {
      "cell_type": "code",
      "metadata": {
        "id": "YzMr2mbd1uLu",
        "colab_type": "code",
        "colab": {},
        "outputId": "b21f7194-bce6-465b-e1d0-9d8b7c674589"
      },
      "source": [
        "%env KERAS_BACKEND=tensorflow"
      ],
      "execution_count": 0,
      "outputs": [
        {
          "output_type": "stream",
          "text": [
            "env: KERAS_BACKEND=tensorflow\n"
          ],
          "name": "stdout"
        }
      ]
    },
    {
      "cell_type": "code",
      "metadata": {
        "id": "nbStFd7c1uL4",
        "colab_type": "code",
        "colab": {}
      },
      "source": [
        "%matplotlib inline\n",
        "import numpy as np\n",
        "# matplotlib.pyplot provide a MATLAB_like way of plotting\n",
        "import matplotlib.pyplot as plt "
      ],
      "execution_count": 0,
      "outputs": []
    },
    {
      "cell_type": "code",
      "metadata": {
        "id": "rajuYixZ1uL8",
        "colab_type": "code",
        "colab": {}
      },
      "source": [
        "from keras.datasets  import mnist"
      ],
      "execution_count": 0,
      "outputs": []
    },
    {
      "cell_type": "code",
      "metadata": {
        "id": "ZNAmKov21uMB",
        "colab_type": "code",
        "colab": {}
      },
      "source": [
        "(x_train,y_train),(x_test,y_test)=mnist.load_data()"
      ],
      "execution_count": 0,
      "outputs": []
    },
    {
      "cell_type": "code",
      "metadata": {
        "id": "x72HpucF1uMF",
        "colab_type": "code",
        "colab": {},
        "outputId": "b58f63b7-9865-45e8-b512-cf0505d590df"
      },
      "source": [
        "len(x_train)"
      ],
      "execution_count": 0,
      "outputs": [
        {
          "output_type": "execute_result",
          "data": {
            "text/plain": [
              "60000"
            ]
          },
          "metadata": {
            "tags": []
          },
          "execution_count": 6
        }
      ]
    },
    {
      "cell_type": "code",
      "metadata": {
        "id": "xDldbDF61uMK",
        "colab_type": "code",
        "colab": {},
        "outputId": "abbb3eed-0fc5-4233-fddb-612edacaf812"
      },
      "source": [
        "x_train[9487].shape\n"
      ],
      "execution_count": 0,
      "outputs": [
        {
          "output_type": "execute_result",
          "data": {
            "text/plain": [
              "(28, 28)"
            ]
          },
          "metadata": {
            "tags": []
          },
          "execution_count": 7
        }
      ]
    },
    {
      "cell_type": "markdown",
      "metadata": {
        "id": "VmeI8CqT1uMP",
        "colab_type": "text"
      },
      "source": [
        "2.2 輸入格式整理\n",
        "如果你還記得, 我們每筆輸入資料都是 28x28 的陣列, CNN 其實就是吃「圖」的, 所以基本上不用像之前把每筆資料拉平。「但。是。」平常的圖都有 R, G, B 三個 channels, 每個 channel 都是一個矩陣, 也就是一張圖可能是三個矩陣! 我們是灰階, 也就是只有一個 channel。但這件事也要明確的告訴 Keras。\n",
        "\n",
        "換句話說, 我們的輸入每筆資料型式要從 (28, 28) 換成 (28, 28, 1)!"
      ]
    },
    {
      "cell_type": "code",
      "metadata": {
        "id": "C_v94xwv1uMR",
        "colab_type": "code",
        "colab": {}
      },
      "source": [
        "x_train = x_train.reshape(60000,28,28,1)\n",
        "x_test = x_test.reshape(10000,28,28,1)\n"
      ],
      "execution_count": 0,
      "outputs": []
    },
    {
      "cell_type": "code",
      "metadata": {
        "id": "BvXNzZXV1uMV",
        "colab_type": "code",
        "colab": {},
        "outputId": "06739683-c8b0-4067-d7af-ecae1e4eecd6"
      },
      "source": [
        "x_train[9487].shape"
      ],
      "execution_count": 0,
      "outputs": [
        {
          "output_type": "execute_result",
          "data": {
            "text/plain": [
              "(28, 28, 1)"
            ]
          },
          "metadata": {
            "tags": []
          },
          "execution_count": 9
        }
      ]
    },
    {
      "cell_type": "code",
      "metadata": {
        "id": "aWXtUpvl1uMZ",
        "colab_type": "code",
        "colab": {}
      },
      "source": [
        "X=x_train[9487][:,:,0]"
      ],
      "execution_count": 0,
      "outputs": []
    },
    {
      "cell_type": "code",
      "metadata": {
        "id": "wv_eh3Za1uMf",
        "colab_type": "code",
        "colab": {},
        "outputId": "7cebc85c-bddd-4a01-f20a-944c586cd01c"
      },
      "source": [
        "plt.imshow(X,cmap='Greys')\n"
      ],
      "execution_count": 0,
      "outputs": [
        {
          "output_type": "execute_result",
          "data": {
            "text/plain": [
              "<matplotlib.image.AxesImage at 0x28e4788b2e8>"
            ]
          },
          "metadata": {
            "tags": []
          },
          "execution_count": 11
        },
        {
          "output_type": "display_data",
          "data": {
            "image/png": "[encoded data removed]",
            "text/plain": [
              "<Figure size 432x288 with 1 Axes>"
            ]
          },
          "metadata": {
            "tags": [],
            "needs_background": "light"
          }
        }
      ]
    },
    {
      "cell_type": "markdown",
      "metadata": {
        "id": "HTx_GgHN1uMl",
        "colab_type": "text"
      },
      "source": [
        "2.3輸出格式整理\n",
        "\n",
        "和上次一樣，我們用標準1-hot方式處理"
      ]
    },
    {
      "cell_type": "code",
      "metadata": {
        "id": "BbVBWEV_1uMm",
        "colab_type": "code",
        "colab": {}
      },
      "source": [
        "from keras.utils import np_utils"
      ],
      "execution_count": 0,
      "outputs": []
    },
    {
      "cell_type": "code",
      "metadata": {
        "id": "3XUosQ3L1uMr",
        "colab_type": "code",
        "colab": {}
      },
      "source": [
        "y_train = np_utils.to_categorical(y_train,10)\n",
        "y_test = np_utils.to_categorical(y_test,10)"
      ],
      "execution_count": 0,
      "outputs": []
    },
    {
      "cell_type": "markdown",
      "metadata": {
        "id": "WMLCkCao1uMw",
        "colab_type": "text"
      },
      "source": [
        "## 3.打造你的CNN\n",
        "3.1 決定神經網路架構，讀入相關套件\n",
        "CNN我們一樣要決定用幾層的CNN、然後是不是每次都要做MAX-pooling，再來就是拉平、送入標準神經網路<br />\n",
        "做3次convolution,每次都接max-pooling<br />\n",
        "filter大小都是3乘3,max-pooling都用2乘2為一小區塊<br />\n",
        "CNN一個小技巧是每層的FILTERS數目是越來越多。做完convolution之後，我們要拉平，再送入一個標準的神經網路，這個神經網路設計是這樣:\n",
        "只有1個hidden layer,使用200個神經元\n"
      ]
    },
    {
      "cell_type": "code",
      "metadata": {
        "id": "zFW8nHjF1uMy",
        "colab_type": "code",
        "colab": {}
      },
      "source": [
        "from keras.models import Sequential\n",
        "from keras.layers import Dense,Activation,Flatten\n",
        "from keras.layers import Conv2D,MaxPooling2D\n",
        "from keras.optimizers import SGD"
      ],
      "execution_count": 0,
      "outputs": []
    },
    {
      "cell_type": "code",
      "metadata": {
        "id": "GM00FPAI1uM4",
        "colab_type": "code",
        "colab": {},
        "outputId": "692033ff-21b1-4db9-d6d2-4a29b77f4361"
      },
      "source": [
        "model = Sequential()"
      ],
      "execution_count": 0,
      "outputs": [
        {
          "output_type": "stream",
          "text": [
            "WARNING: Logging before flag parsing goes to stderr.\n",
            "W0816 17:56:31.201586  7428 deprecation_wrapper.py:119] From C:\\Users\\kiwi\\Anaconda3\\lib\\site-packages\\keras\\backend\\tensorflow_backend.py:74: The name tf.get_default_graph is deprecated. Please use tf.compat.v1.get_default_graph instead.\n",
            "\n"
          ],
          "name": "stderr"
        }
      ]
    },
    {
      "cell_type": "code",
      "metadata": {
        "id": "BDFW8V_y1uM9",
        "colab_type": "code",
        "colab": {},
        "outputId": "cf34ba4c-eae2-4ef2-fd76-f77ca62e4db5"
      },
      "source": [
        "model.add(Conv2D(32,(3,3),padding='same',input_shape=(28,28,1)))\n",
        "model.add(Activation('relu'))"
      ],
      "execution_count": 0,
      "outputs": [
        {
          "output_type": "stream",
          "text": [
            "W0816 17:56:31.615479  7428 deprecation_wrapper.py:119] From C:\\Users\\kiwi\\Anaconda3\\lib\\site-packages\\keras\\backend\\tensorflow_backend.py:517: The name tf.placeholder is deprecated. Please use tf.compat.v1.placeholder instead.\n",
            "\n",
            "W0816 17:56:31.868829  7428 deprecation_wrapper.py:119] From C:\\Users\\kiwi\\Anaconda3\\lib\\site-packages\\keras\\backend\\tensorflow_backend.py:4138: The name tf.random_uniform is deprecated. Please use tf.random.uniform instead.\n",
            "\n"
          ],
          "name": "stderr"
        }
      ]
    },
    {
      "cell_type": "markdown",
      "metadata": {
        "id": "VkBjaxQX1uNC",
        "colab_type": "text"
      },
      "source": [
        "padding =same指的是conv2d後輸出還是28*28 32個kernel"
      ]
    },
    {
      "cell_type": "code",
      "metadata": {
        "id": "p9wFMCO01uNH",
        "colab_type": "code",
        "colab": {},
        "outputId": "68d1907c-1b2c-444b-b92b-1405690133bc"
      },
      "source": [
        "model.add(MaxPooling2D(pool_size=(2,2)))"
      ],
      "execution_count": 0,
      "outputs": [
        {
          "output_type": "stream",
          "text": [
            "W0816 17:56:31.990475  7428 deprecation_wrapper.py:119] From C:\\Users\\kiwi\\Anaconda3\\lib\\site-packages\\keras\\backend\\tensorflow_backend.py:3976: The name tf.nn.max_pool is deprecated. Please use tf.nn.max_pool2d instead.\n",
            "\n"
          ],
          "name": "stderr"
        }
      ]
    },
    {
      "cell_type": "code",
      "metadata": {
        "id": "gd3i6c_I1uNM",
        "colab_type": "code",
        "colab": {}
      },
      "source": [
        "#input_shape不用 kernal會越來越多(經驗法則)\n",
        "model.add(Conv2D(64,(3,3),padding='same'))\n",
        "model.add(Activation('relu'))"
      ],
      "execution_count": 0,
      "outputs": []
    },
    {
      "cell_type": "code",
      "metadata": {
        "id": "G9Itht7Y1uNS",
        "colab_type": "code",
        "colab": {}
      },
      "source": [
        "model.add(MaxPooling2D(pool_size=(2,2)))"
      ],
      "execution_count": 0,
      "outputs": []
    },
    {
      "cell_type": "code",
      "metadata": {
        "id": "t9xwPbrO1uNc",
        "colab_type": "code",
        "colab": {}
      },
      "source": [
        "model.add(Conv2D(128,(3,3),padding='same'))\n",
        "model.add(Activation('relu'))\n",
        "model.add(MaxPooling2D(pool_size=(2,2)))"
      ],
      "execution_count": 0,
      "outputs": []
    },
    {
      "cell_type": "code",
      "metadata": {
        "id": "R3BPmtW21uNp",
        "colab_type": "code",
        "colab": {}
      },
      "source": [
        "#送到dense以前要拉成一維的向量\n",
        "model.add(Flatten())\n",
        "model.add(Dense(200))\n",
        "model.add(Activation('relu'))"
      ],
      "execution_count": 0,
      "outputs": []
    },
    {
      "cell_type": "code",
      "metadata": {
        "id": "jxwDahID1uN6",
        "colab_type": "code",
        "colab": {}
      },
      "source": [
        "model.add(Dense(10))\n",
        "model.add(Activation('softmax'))"
      ],
      "execution_count": 0,
      "outputs": []
    },
    {
      "cell_type": "markdown",
      "metadata": {
        "id": "UzRqabip1uOJ",
        "colab_type": "text"
      },
      "source": [
        "3. 改變 loss function\n",
        "大家記得 loss function 就是看我們和目標差多遠。我們最常用的「平均平方差」並不一定是唯一、甚至「最好」的。分類問題我們更常用 \"categorical crossentropy\", 在 Keras 中要使用很方便, 就這樣下指令:"
      ]
    },
    {
      "cell_type": "code",
      "metadata": {
        "id": "6SiKB4bj1uOL",
        "colab_type": "code",
        "colab": {},
        "outputId": "d0d82c6b-3283-4b56-8977-1f78f611efa6"
      },
      "source": [
        "model.compile(loss='mse',optimizer=SGD(lr=0.05),metrics=['accuracy'])"
      ],
      "execution_count": 0,
      "outputs": [
        {
          "output_type": "stream",
          "text": [
            "W0816 17:56:32.875817  7428 deprecation_wrapper.py:119] From C:\\Users\\kiwi\\Anaconda3\\lib\\site-packages\\keras\\optimizers.py:790: The name tf.train.Optimizer is deprecated. Please use tf.compat.v1.train.Optimizer instead.\n",
            "\n"
          ],
          "name": "stderr"
        }
      ]
    },
    {
      "cell_type": "markdown",
      "metadata": {
        "id": "R9FhG9jC1uOW",
        "colab_type": "text"
      },
      "source": [
        "檢視我們的神經網路"
      ]
    },
    {
      "cell_type": "code",
      "metadata": {
        "id": "n1_GBjHe1uOZ",
        "colab_type": "code",
        "colab": {},
        "outputId": "682c1f49-acc7-430e-e78a-76f2a497b4d7"
      },
      "source": [
        "model.summary()"
      ],
      "execution_count": 0,
      "outputs": [
        {
          "output_type": "stream",
          "text": [
            "_________________________________________________________________\n",
            "Layer (type)                 Output Shape              Param #   \n",
            "=================================================================\n",
            "conv2d_1 (Conv2D)            (None, 28, 28, 32)        320       \n",
            "_________________________________________________________________\n",
            "activation_1 (Activation)    (None, 28, 28, 32)        0         \n",
            "_________________________________________________________________\n",
            "max_pooling2d_1 (MaxPooling2 (None, 14, 14, 32)        0         \n",
            "_________________________________________________________________\n",
            "conv2d_2 (Conv2D)            (None, 14, 14, 64)        18496     \n",
            "_________________________________________________________________\n",
            "activation_2 (Activation)    (None, 14, 14, 64)        0         \n",
            "_________________________________________________________________\n",
            "max_pooling2d_2 (MaxPooling2 (None, 7, 7, 64)          0         \n",
            "_________________________________________________________________\n",
            "conv2d_3 (Conv2D)            (None, 7, 7, 128)         73856     \n",
            "_________________________________________________________________\n",
            "activation_3 (Activation)    (None, 7, 7, 128)         0         \n",
            "_________________________________________________________________\n",
            "max_pooling2d_3 (MaxPooling2 (None, 3, 3, 128)         0         \n",
            "_________________________________________________________________\n",
            "flatten_1 (Flatten)          (None, 1152)              0         \n",
            "_________________________________________________________________\n",
            "dense_1 (Dense)              (None, 200)               230600    \n",
            "_________________________________________________________________\n",
            "activation_4 (Activation)    (None, 200)               0         \n",
            "_________________________________________________________________\n",
            "dense_2 (Dense)              (None, 10)                2010      \n",
            "_________________________________________________________________\n",
            "activation_5 (Activation)    (None, 10)                0         \n",
            "=================================================================\n",
            "Total params: 325,282\n",
            "Trainable params: 325,282\n",
            "Non-trainable params: 0\n",
            "_________________________________________________________________\n"
          ],
          "name": "stdout"
        }
      ]
    },
    {
      "cell_type": "code",
      "metadata": {
        "id": "pRLEJpeb1uOk",
        "colab_type": "code",
        "colab": {},
        "outputId": "f5d6f607-43f5-46e6-dccc-68a94697900e"
      },
      "source": [
        "#320\n",
        "(3*3+1)*32"
      ],
      "execution_count": 0,
      "outputs": [
        {
          "output_type": "execute_result",
          "data": {
            "text/plain": [
              "320"
            ]
          },
          "metadata": {
            "tags": []
          },
          "execution_count": 25
        }
      ]
    },
    {
      "cell_type": "code",
      "metadata": {
        "scrolled": false,
        "id": "BD32VcRp1uOu",
        "colab_type": "code",
        "colab": {},
        "outputId": "fc847fcc-3cc6-4f07-fcd3-eb82b49e7bf4"
      },
      "source": [
        "model.fit(x_train,y_train,batch_size=100,epochs=20)"
      ],
      "execution_count": 0,
      "outputs": [
        {
          "output_type": "stream",
          "text": [
            "W0816 17:56:34.290144  7428 deprecation_wrapper.py:119] From C:\\Users\\kiwi\\Anaconda3\\lib\\site-packages\\keras\\backend\\tensorflow_backend.py:986: The name tf.assign_add is deprecated. Please use tf.compat.v1.assign_add instead.\n",
            "\n",
            "W0816 17:56:34.337018  7428 deprecation_wrapper.py:119] From C:\\Users\\kiwi\\Anaconda3\\lib\\site-packages\\keras\\backend\\tensorflow_backend.py:973: The name tf.assign is deprecated. Please use tf.compat.v1.assign instead.\n",
            "\n"
          ],
          "name": "stderr"
        },
        {
          "output_type": "stream",
          "text": [
            "Epoch 1/20\n",
            "60000/60000 [==============================] - 26s 440us/step - loss: 0.1564 - acc: 0.1911\n",
            "Epoch 2/20\n",
            "60000/60000 [==============================] - 4s 74us/step - loss: 0.0095 - acc: 0.9366\n",
            "Epoch 3/20\n",
            "60000/60000 [==============================] - 5s 76us/step - loss: 0.0044 - acc: 0.9718\n",
            "Epoch 4/20\n",
            "60000/60000 [==============================] - 5s 76us/step - loss: 0.0031 - acc: 0.9800\n",
            "Epoch 5/20\n",
            "60000/60000 [==============================] - 4s 74us/step - loss: 0.0026 - acc: 0.9839\n",
            "Epoch 6/20\n",
            "60000/60000 [==============================] - 4s 74us/step - loss: 0.0021 - acc: 0.9868\n",
            "Epoch 7/20\n",
            "60000/60000 [==============================] - 4s 75us/step - loss: 0.0018 - acc: 0.9891\n",
            "Epoch 8/20\n",
            "60000/60000 [==============================] - 5s 77us/step - loss: 0.0015 - acc: 0.9906\n",
            "Epoch 9/20\n",
            "60000/60000 [==============================] - 4s 74us/step - loss: 0.0013 - acc: 0.9922\n",
            "Epoch 10/20\n",
            "60000/60000 [==============================] - 5s 76us/step - loss: 0.0011 - acc: 0.9935\n",
            "Epoch 11/20\n",
            "60000/60000 [==============================] - 5s 78us/step - loss: 0.0010 - acc: 0.9944\n",
            "Epoch 12/20\n",
            "60000/60000 [==============================] - 5s 78us/step - loss: 8.7933e-04 - acc: 0.9951\n",
            "Epoch 13/20\n",
            "60000/60000 [==============================] - 5s 75us/step - loss: 7.8240e-04 - acc: 0.9957\n",
            "Epoch 14/20\n",
            "60000/60000 [==============================] - 4s 73us/step - loss: 6.9371e-04 - acc: 0.9963\n",
            "Epoch 15/20\n",
            "60000/60000 [==============================] - 5s 75us/step - loss: 6.3037e-04 - acc: 0.9967\n",
            "Epoch 16/20\n",
            "60000/60000 [==============================] - 4s 72us/step - loss: 5.7090e-04 - acc: 0.9971\n",
            "Epoch 17/20\n",
            "60000/60000 [==============================] - 4s 72us/step - loss: 5.3429e-04 - acc: 0.9973\n",
            "Epoch 18/20\n",
            "60000/60000 [==============================] - 4s 74us/step - loss: 4.8263e-04 - acc: 0.9976\n",
            "Epoch 19/20\n",
            "60000/60000 [==============================] - 4s 74us/step - loss: 4.5116e-04 - acc: 0.9977\n",
            "Epoch 20/20\n",
            "60000/60000 [==============================] - 5s 76us/step - loss: 4.2344e-04 - acc: 0.9978\n"
          ],
          "name": "stdout"
        },
        {
          "output_type": "execute_result",
          "data": {
            "text/plain": [
              "<keras.callbacks.History at 0x28e48dafda0>"
            ]
          },
          "metadata": {
            "tags": []
          },
          "execution_count": 26
        }
      ]
    },
    {
      "cell_type": "markdown",
      "metadata": {
        "id": "mj8bc1NI1uO3",
        "colab_type": "text"
      },
      "source": [
        "CNN為classification tasks，因此有global min value 和local min value的問題"
      ]
    },
    {
      "cell_type": "markdown",
      "metadata": {
        "id": "Dcp1JDNN1uO6",
        "colab_type": "text"
      },
      "source": [
        "5.結果測試\n"
      ]
    },
    {
      "cell_type": "code",
      "metadata": {
        "id": "jcCoeEdv1uO8",
        "colab_type": "code",
        "colab": {},
        "outputId": "bd07e307-43d0-464b-bd10-23ebe81166a0"
      },
      "source": [
        "score = model.evaluate(x_test,y_test)"
      ],
      "execution_count": 0,
      "outputs": [
        {
          "output_type": "stream",
          "text": [
            "10000/10000 [==============================] - 1s 81us/step\n"
          ],
          "name": "stdout"
        }
      ]
    },
    {
      "cell_type": "code",
      "metadata": {
        "id": "sE5rT5FM1uPG",
        "colab_type": "code",
        "colab": {},
        "outputId": "5a22dfcd-2baf-4d43-a57a-504055a33813"
      },
      "source": [
        "print('loss: ', score[0])#看loss不能看出甚麼東西\n",
        "print('accuracy', score[1])"
      ],
      "execution_count": 0,
      "outputs": [
        {
          "output_type": "stream",
          "text": [
            "loss:  0.0019663327919444474\n",
            "accuracy 0.9876\n"
          ],
          "name": "stdout"
        }
      ]
    },
    {
      "cell_type": "code",
      "metadata": {
        "id": "NoNUT-ul1uPU",
        "colab_type": "code",
        "colab": {}
      },
      "source": [
        "model_json = model.to_json()\n",
        "open('handwriting_model_cnn.json', 'w').write(model_json)\n",
        "model.save_weights('handwritin_model-cnn.h5')"
      ],
      "execution_count": 0,
      "outputs": []
    },
    {
      "cell_type": "markdown",
      "metadata": {
        "id": "uZ0cFRjB1uPi",
        "colab_type": "text"
      },
      "source": [
        "我們用另一個方式: 每次選 5 個顯示, 看是不是有正確辨識。"
      ]
    },
    {
      "cell_type": "code",
      "metadata": {
        "id": "OzYeyLwo1uPk",
        "colab_type": "code",
        "colab": {}
      },
      "source": [
        "predict = model.predict_classes(x_test)"
      ],
      "execution_count": 0,
      "outputs": []
    },
    {
      "cell_type": "code",
      "metadata": {
        "id": "Ol586RPN1uPx",
        "colab_type": "code",
        "colab": {},
        "outputId": "8b077584-1453-48a4-8c28-f30c46b19b86"
      },
      "source": [
        "pick = np.random.randint(1,9999, 5)\n",
        "\n",
        "for i in range(5):\n",
        "    plt.subplot(1,5,i+1)\n",
        "    plt.imshow(x_test[pick[i]].reshape(28,28), cmap='Greys')\n",
        "    plt.title(predict[pick[i]])\n",
        "    plt.axis(\"off\")"
      ],
      "execution_count": 0,
      "outputs": [
        {
          "output_type": "display_data",
          "data": {
            "image/png": "[encoded data removed]",
            "text/plain": [
              "<Figure size 432x288 with 5 Axes>"
            ]
          },
          "metadata": {
            "tags": [],
            "needs_background": "light"
          }
        }
      ]
    },
    {
      "cell_type": "code",
      "metadata": {
        "id": "0x_fr8Q41uQA",
        "colab_type": "code",
        "colab": {}
      },
      "source": [
        ""
      ],
      "execution_count": 0,
      "outputs": []
    }
  ]
}