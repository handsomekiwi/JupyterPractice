{
  "nbformat": 4,
  "nbformat_minor": 0,
  "metadata": {
    "kernelspec": {
      "display_name": "Python 3",
      "language": "python",
      "name": "python3"
    },
    "language_info": {
      "codemirror_mode": {
        "name": "ipython",
        "version": 3
      },
      "file_extension": ".py",
      "mimetype": "text/x-python",
      "name": "python",
      "nbconvert_exporter": "python",
      "pygments_lexer": "ipython3",
      "version": "3.7.3"
    },
    "colab": {
      "name": "NN.ipynb",
      "version": "0.3.2",
      "provenance": []
    }
  },
  "cells": [
    {
      "cell_type": "code",
      "metadata": {
        "id": "cjxhM_wt_hnf",
        "colab_type": "code",
        "colab": {
          "base_uri": "https://localhost:8080/",
          "height": 35
        },
        "outputId": "232ea08c-ed67-4724-cea1-dfb604506a8f"
      },
      "source": [
        "import keras"
      ],
      "execution_count": 1,
      "outputs": [
        {
          "output_type": "stream",
          "text": [
            "Using TensorFlow backend.\n"
          ],
          "name": "stderr"
        }
      ]
    },
    {
      "cell_type": "markdown",
      "metadata": {
        "id": "4xl0OCzO_hn1",
        "colab_type": "text"
      },
      "source": [
        "目前，Keras 有三个后端实现可用: TensorFlow 后端，Theano 后端，CNTK 后端。\n",
        "\n",
        "TensorFlow 是由 Google 开发的一个开源符号级张量操作框架。\n",
        "Theano 是由蒙特利尔大学的 LISA Lab 开发的一个开源符号级张量操作框架。\n",
        "CNTK 是由微软开发的一个深度学习开源工具包。\n",
        "Cell Type->Markdown是能在這個筆記本中做註解"
      ]
    },
    {
      "cell_type": "code",
      "metadata": {
        "id": "W1_XyITZ_hn4",
        "colab_type": "code",
        "colab": {
          "base_uri": "https://localhost:8080/",
          "height": 35
        },
        "outputId": "aac2ed6b-a6b4-4c54-fd74-cd7ce66c8129"
      },
      "source": [
        "%env KERAS_NACKEND=tensorflow"
      ],
      "execution_count": 2,
      "outputs": [
        {
          "output_type": "stream",
          "text": [
            "env: KERAS_NACKEND=tensorflow\n"
          ],
          "name": "stdout"
        }
      ]
    },
    {
      "cell_type": "markdown",
      "metadata": {
        "id": "2BjrUJB4_hoB",
        "colab_type": "text"
      },
      "source": [
        "%env 可以用來設定環境變數"
      ]
    },
    {
      "cell_type": "code",
      "metadata": {
        "id": "4tsNRalv_hoD",
        "colab_type": "code",
        "colab": {}
      },
      "source": [
        "%matplotlib inline\n",
        "import numpy as np\n",
        "import matplotlib.pyplot as plt"
      ],
      "execution_count": 0,
      "outputs": []
    },
    {
      "cell_type": "code",
      "metadata": {
        "id": "YiS1TUVD_hoO",
        "colab_type": "code",
        "colab": {}
      },
      "source": [
        "from keras.datasets import mnist"
      ],
      "execution_count": 0,
      "outputs": []
    },
    {
      "cell_type": "markdown",
      "metadata": {
        "id": "RvW-Iq8__hoY",
        "colab_type": "text"
      },
      "source": [
        "讀入MNIST資料庫\n",
        "此資料庫有一堆0-9的手寫數字圖庫。有6w筆訓練資料，1萬筆測試資料。他是NIST數據庫的簡化版，MNIST可以說是Deep Learning最有名的範例，他被Deep learning大師 Hinton稱為(機器學習的果蠅)\n",
        "x為輸入，y為答案\n"
      ]
    },
    {
      "cell_type": "code",
      "metadata": {
        "id": "ZIv2a0Mb_hob",
        "colab_type": "code",
        "colab": {
          "base_uri": "https://localhost:8080/",
          "height": 52
        },
        "outputId": "ffb9ec09-a18f-405a-cefd-e24285ef22cf"
      },
      "source": [
        "(x_train,y_train),(x_test,y_test)=mnist.load_data()\n"
      ],
      "execution_count": 5,
      "outputs": [
        {
          "output_type": "stream",
          "text": [
            "Downloading data from https://s3.amazonaws.com/img-datasets/mnist.npz\n",
            "11493376/11490434 [==============================] - 1s 0us/step\n"
          ],
          "name": "stdout"
        }
      ]
    },
    {
      "cell_type": "code",
      "metadata": {
        "id": "KkwzNi2r_hoj",
        "colab_type": "code",
        "colab": {
          "base_uri": "https://localhost:8080/",
          "height": 35
        },
        "outputId": "0877e2e2-aa09-46c2-a4f5-2afee080312e"
      },
      "source": [
        "len(x_train)"
      ],
      "execution_count": 6,
      "outputs": [
        {
          "output_type": "execute_result",
          "data": {
            "text/plain": [
              "60000"
            ]
          },
          "metadata": {
            "tags": []
          },
          "execution_count": 6
        }
      ]
    },
    {
      "cell_type": "code",
      "metadata": {
        "id": "dZuwJOtT_hor",
        "colab_type": "code",
        "colab": {
          "base_uri": "https://localhost:8080/",
          "height": 35
        },
        "outputId": "d2249bae-b9c6-4bac-e950-f57080f12a81"
      },
      "source": [
        "len(y_train)\n"
      ],
      "execution_count": 7,
      "outputs": [
        {
          "output_type": "execute_result",
          "data": {
            "text/plain": [
              "60000"
            ]
          },
          "metadata": {
            "tags": []
          },
          "execution_count": 7
        }
      ]
    },
    {
      "cell_type": "code",
      "metadata": {
        "id": "maVvkA0l_ho1",
        "colab_type": "code",
        "colab": {
          "base_uri": "https://localhost:8080/",
          "height": 35
        },
        "outputId": "26b53555-6d6f-47c6-b786-a147ec5026e0"
      },
      "source": [
        "x_train[9487].shape"
      ],
      "execution_count": 8,
      "outputs": [
        {
          "output_type": "execute_result",
          "data": {
            "text/plain": [
              "(28, 28)"
            ]
          },
          "metadata": {
            "tags": []
          },
          "execution_count": 8
        }
      ]
    },
    {
      "cell_type": "markdown",
      "metadata": {
        "id": "vy3oBBpX_ho_",
        "colab_type": "text"
      },
      "source": [
        "每筆輸入x就是一個手寫的0-9中一個數字的圖檔，大小為28*28。而輸出y當然就是正確答案。來看編號9487訓練資料的大小"
      ]
    },
    {
      "cell_type": "code",
      "metadata": {
        "id": "pj6WgX1C_hpC",
        "colab_type": "code",
        "colab": {
          "base_uri": "https://localhost:8080/",
          "height": 1000
        },
        "outputId": "5aa3a2e9-dbe9-4af3-9932-27242794ec49"
      },
      "source": [
        "x_train[9487]\n"
      ],
      "execution_count": 9,
      "outputs": [
        {
          "output_type": "execute_result",
          "data": {
            "text/plain": [
              "array([[  0,   0,   0,   0,   0,   0,   0,   0,   0,   0,   0,   0,   0,\n",
              "          0,   0,   0,   0,   0,   0,   0,   0,   0,   0,   0,   0,   0,\n",
              "          0,   0],\n",
              "       [  0,   0,   0,   0,   0,   0,   0,   0,   0,   0,   0,   0,   0,\n",
              "          0,   0,   0,   0,   0,   0,   0,   0,   0,   0,   0,   0,   0,\n",
              "          0,   0],\n",
              "       [  0,   0,   0,   0,   0,   0,   0,   0,   0,   0,   0,   0,   0,\n",
              "          0,   0,   0,   0,   0,   0,   0,   0,   0,   0,   0,   0,   0,\n",
              "          0,   0],\n",
              "       [  0,   0,   0,   0,   0,   0,   0,   0,   0,   0,   0,   0,   0,\n",
              "          0,   0,   0,   0,   0,   0,   0,   0,   0,   0,   0,   0,   0,\n",
              "          0,   0],\n",
              "       [  0,   0,   0,   0,   0,   0,   0,   0,   0,   0,   0,   0, 240,\n",
              "        253, 165,   0,   0,   0,   0,   0,   0,   0,   0,   0,   0,   0,\n",
              "          0,   0],\n",
              "       [  0,   0,   0,   0,   0,   0,   0,   0,   0,   0,   0,  32, 241,\n",
              "        252, 252,   0,   0,   0,   0,   0,   0,   0,   0,   0,   0,   0,\n",
              "          0,   0],\n",
              "       [  0,   0,   0,   0,   0,   0,   0,   0,   0,   0,   2, 141, 252,\n",
              "        252, 252,  98,   0,   0,   0,   0,   0,   0,   0,   0,   0,   0,\n",
              "          0,   0],\n",
              "       [  0,   0,   0,   0,   0,   0,   0,   0,   0,   0,  30, 252, 252,\n",
              "        252, 252, 149,   0,   0,   0,   0,   0,   0,   0,   0,   0,   0,\n",
              "          0,   0],\n",
              "       [  0,   0,   0,   0,   0,   0,   0,   0,   0,   0,  21, 217, 252,\n",
              "        252, 252, 149,   0,   0,   0,   0,   0,   0,   0,   0,   0,   0,\n",
              "          0,   0],\n",
              "       [  0,   0,   0,   0,   0,   0,   0,   0,   0,   0,   0, 134, 252,\n",
              "        252, 252, 223,  31,   0,   0,   0,   0,   0,   0,   0,   0,   0,\n",
              "          0,   0],\n",
              "       [  0,   0,   0,   0,   0,   0,   0,   0,   0,   0,   0, 134, 252,\n",
              "        252, 252, 253,  44,   0,   0,   0,   0,   0,   0,   0,   0,   0,\n",
              "          0,   0],\n",
              "       [  0,   0,   0,   0,   0,   0,   0,   0,   0,   0,   0,   8, 239,\n",
              "        252, 252, 253,  44,   0,   0,   0,   0,   0,   0,   0,   0,   0,\n",
              "          0,   0],\n",
              "       [  0,   0,   0,   0,   0,   0,   0,   0,   0,   0,   0,   0, 238,\n",
              "        252, 252, 253,  44,   0,   0,   0,   0,   0,   0,   0,   0,   0,\n",
              "          0,   0],\n",
              "       [  0,   0,   0,   0,   0,   0,   0,   0,   0,   0,   0,   0, 238,\n",
              "        252, 252, 253,  44,   0,   0,   0,   0,   0,   0,   0,   0,   0,\n",
              "          0,   0],\n",
              "       [  0,   0,   0,   0,   0,   0,   0,   0,   0,   0,   0,   0, 178,\n",
              "        253, 253, 255, 106,   0,   0,   0,   0,   0,   0,   0,   0,   0,\n",
              "          0,   0],\n",
              "       [  0,   0,   0,   0,   0,   0,   0,   0,   0,   0,   0,   0,  90,\n",
              "        252, 252, 253, 206,  21,   0,   0,   0,   0,   0,   0,   0,   0,\n",
              "          0,   0],\n",
              "       [  0,   0,   0,   0,   0,   0,   0,   0,   0,   0,   0,   0,  90,\n",
              "        252, 252, 253, 252,  88,   0,   0,   0,   0,   0,   0,   0,   0,\n",
              "          0,   0],\n",
              "       [  0,   0,   0,   0,   0,   0,   0,   0,   0,   0,   0,   0,  90,\n",
              "        252, 252, 253, 252,  88,   0,   0,   0,   0,   0,   0,   0,   0,\n",
              "          0,   0],\n",
              "       [  0,   0,   0,   0,   0,   0,   0,   0,   0,   0,   0,   0,  63,\n",
              "        234, 252, 253, 252, 220,   0,   0,   0,   0,   0,   0,   0,   0,\n",
              "          0,   0],\n",
              "       [  0,   0,   0,   0,   0,   0,   0,   0,   0,   0,   0,   0,   0,\n",
              "        176, 252, 253, 252, 237,   0,   0,   0,   0,   0,   0,   0,   0,\n",
              "          0,   0],\n",
              "       [  0,   0,   0,   0,   0,   0,   0,   0,   0,   0,   0,   0,   0,\n",
              "         45, 252, 253, 252, 245,  71,   0,   0,   0,   0,   0,   0,   0,\n",
              "          0,   0],\n",
              "       [  0,   0,   0,   0,   0,   0,   0,   0,   0,   0,   0,   0,   0,\n",
              "         29, 215, 253, 252, 237,   8,   0,   0,   0,   0,   0,   0,   0,\n",
              "          0,   0],\n",
              "       [  0,   0,   0,   0,   0,   0,   0,   0,   0,   0,   0,   0,   0,\n",
              "          0, 149, 253, 252, 237,   0,   0,   0,   0,   0,   0,   0,   0,\n",
              "          0,   0],\n",
              "       [  0,   0,   0,   0,   0,   0,   0,   0,   0,   0,   0,   0,   0,\n",
              "          0,  61, 165, 252, 237,   0,   0,   0,   0,   0,   0,   0,   0,\n",
              "          0,   0],\n",
              "       [  0,   0,   0,   0,   0,   0,   0,   0,   0,   0,   0,   0,   0,\n",
              "          0,   0,   0,   0,   0,   0,   0,   0,   0,   0,   0,   0,   0,\n",
              "          0,   0],\n",
              "       [  0,   0,   0,   0,   0,   0,   0,   0,   0,   0,   0,   0,   0,\n",
              "          0,   0,   0,   0,   0,   0,   0,   0,   0,   0,   0,   0,   0,\n",
              "          0,   0],\n",
              "       [  0,   0,   0,   0,   0,   0,   0,   0,   0,   0,   0,   0,   0,\n",
              "          0,   0,   0,   0,   0,   0,   0,   0,   0,   0,   0,   0,   0,\n",
              "          0,   0],\n",
              "       [  0,   0,   0,   0,   0,   0,   0,   0,   0,   0,   0,   0,   0,\n",
              "          0,   0,   0,   0,   0,   0,   0,   0,   0,   0,   0,   0,   0,\n",
              "          0,   0]], dtype=uint8)"
            ]
          },
          "metadata": {
            "tags": []
          },
          "execution_count": 9
        }
      ]
    },
    {
      "cell_type": "code",
      "metadata": {
        "id": "Vb6vRTWH_hpU",
        "colab_type": "code",
        "colab": {
          "base_uri": "https://localhost:8080/",
          "height": 287
        },
        "outputId": "31d180ff-e67a-4791-c5a0-86a5cd7a0f8c"
      },
      "source": [
        "plt.imshow(x_train[9487],cmap='Greys')"
      ],
      "execution_count": 10,
      "outputs": [
        {
          "output_type": "execute_result",
          "data": {
            "text/plain": [
              "<matplotlib.image.AxesImage at 0x7f0620d95dd8>"
            ]
          },
          "metadata": {
            "tags": []
          },
          "execution_count": 10
        },
        {
          "output_type": "display_data",
          "data": {
            "image/png": "[encoded data removed]",
            "text/plain": [
              "<Figure size 432x288 with 1 Axes>"
            ]
          },
          "metadata": {
            "tags": []
          }
        }
      ]
    },
    {
      "cell_type": "code",
      "metadata": {
        "id": "Y7oB0jJi_hpi",
        "colab_type": "code",
        "colab": {
          "base_uri": "https://localhost:8080/",
          "height": 35
        },
        "outputId": "646e09b0-9f9b-453b-86e7-65e4da729d29"
      },
      "source": [
        "y_train[9487]"
      ],
      "execution_count": 11,
      "outputs": [
        {
          "output_type": "execute_result",
          "data": {
            "text/plain": [
              "1"
            ]
          },
          "metadata": {
            "tags": []
          },
          "execution_count": 11
        }
      ]
    },
    {
      "cell_type": "markdown",
      "metadata": {
        "id": "9_U4a2Sg_hpr",
        "colab_type": "text"
      },
      "source": [
        "2.3輸入格式整理\n",
        "我們現在要用標準神經網路學手寫辨識，原來的每筆數據為28*28矩陣，但標準神經網路只能輸入平向量，也就是每次要28*28=784長的向量。因此我們要用reshape調整一下"
      ]
    },
    {
      "cell_type": "code",
      "metadata": {
        "id": "GzrOZYSh_hpu",
        "colab_type": "code",
        "colab": {}
      },
      "source": [
        "x_train = x_train.reshape(60000,784)"
      ],
      "execution_count": 0,
      "outputs": []
    },
    {
      "cell_type": "code",
      "metadata": {
        "id": "zoaIcxZ4_hp5",
        "colab_type": "code",
        "colab": {
          "base_uri": "https://localhost:8080/",
          "height": 35
        },
        "outputId": "e112e1b9-a4ae-403e-c5d9-f600086f2c5b"
      },
      "source": [
        "x_train.shape"
      ],
      "execution_count": 13,
      "outputs": [
        {
          "output_type": "execute_result",
          "data": {
            "text/plain": [
              "(60000, 784)"
            ]
          },
          "metadata": {
            "tags": []
          },
          "execution_count": 13
        }
      ]
    },
    {
      "cell_type": "code",
      "metadata": {
        "id": "naphVw5e_hqC",
        "colab_type": "code",
        "colab": {}
      },
      "source": [
        "x_test = x_test.reshape(10000,784)"
      ],
      "execution_count": 0,
      "outputs": []
    },
    {
      "cell_type": "code",
      "metadata": {
        "id": "BBObarD0_hqJ",
        "colab_type": "code",
        "colab": {
          "base_uri": "https://localhost:8080/",
          "height": 35
        },
        "outputId": "34a45634-75a9-4a72-e5d5-18360c8d0fe3"
      },
      "source": [
        "x_test.shape"
      ],
      "execution_count": 15,
      "outputs": [
        {
          "output_type": "execute_result",
          "data": {
            "text/plain": [
              "(10000, 784)"
            ]
          },
          "metadata": {
            "tags": []
          },
          "execution_count": 15
        }
      ]
    },
    {
      "cell_type": "markdown",
      "metadata": {
        "id": "hTG2Q2S8_hqT",
        "colab_type": "text"
      },
      "source": [
        "2.4輸出格式整理\n",
        "我們可能會想，我們想學的函數是f: R^784->R\n",
        "但神經網路總有誤差 所以可能會得到f(x)=0.5\n",
        "那這意思是可能是0，也有可能是1\n",
        "於是我們會做\"1-hot encoding\",也就是\n",
        "1 ->[0,1,0,0,0,0,0,0,0,0]\n",
        "Keras其實已幫我們準備好套件了"
      ]
    },
    {
      "cell_type": "code",
      "metadata": {
        "id": "3vHeThBg_hqW",
        "colab_type": "code",
        "colab": {}
      },
      "source": [
        "from keras.utils import np_utils"
      ],
      "execution_count": 0,
      "outputs": []
    },
    {
      "cell_type": "code",
      "metadata": {
        "id": "T6FkaYg__hqe",
        "colab_type": "code",
        "colab": {}
      },
      "source": [
        "y_train = np_utils.to_categorical(y_train,10)"
      ],
      "execution_count": 0,
      "outputs": []
    },
    {
      "cell_type": "code",
      "metadata": {
        "id": "wwnRkxL8_hqm",
        "colab_type": "code",
        "colab": {}
      },
      "source": [
        "y_test= np_utils.to_categorical(y_test,10)"
      ],
      "execution_count": 0,
      "outputs": []
    },
    {
      "cell_type": "code",
      "metadata": {
        "id": "ICPoLBmd_hqw",
        "colab_type": "code",
        "colab": {
          "base_uri": "https://localhost:8080/",
          "height": 35
        },
        "outputId": "4b3d12d2-3e38-4499-bf1f-373e83c5730b"
      },
      "source": [
        "y_train[9487]"
      ],
      "execution_count": 19,
      "outputs": [
        {
          "output_type": "execute_result",
          "data": {
            "text/plain": [
              "array([0., 1., 0., 0., 0., 0., 0., 0., 0., 0.], dtype=float32)"
            ]
          },
          "metadata": {
            "tags": []
          },
          "execution_count": 19
        }
      ]
    },
    {
      "cell_type": "markdown",
      "metadata": {
        "id": "Fq-hdRgA_hq_",
        "colab_type": "text"
      },
      "source": [
        "3.打造地一個神經網路\n",
        "我們決定了我們的函數是f:R^784->R^10\n",
        "我們還要決定要幾個隱藏層，每層要幾個神經元，用哪個機方函數就可以了\n",
        "3.1決定神經網路架構、讀入相關套件\n",
        "假設我們要這麼做\n",
        "使用2個hidden layers\n",
        "每個hidden layer用500個神經元\n",
        "activation function指名用sigmoid\n",
        "於是從keras把相關套件讀入"
      ]
    },
    {
      "cell_type": "code",
      "metadata": {
        "id": "d-vFAkgi_hrF",
        "colab_type": "code",
        "colab": {}
      },
      "source": [
        "from keras.models import Sequential\n",
        "from keras.layers import Dense, Activation\n",
        "from keras.optimizers import SGD"
      ],
      "execution_count": 0,
      "outputs": []
    },
    {
      "cell_type": "markdown",
      "metadata": {
        "id": "-MGhqpou_hrP",
        "colab_type": "text"
      },
      "source": [
        "dense就是你常用的的全连接层"
      ]
    },
    {
      "cell_type": "markdown",
      "metadata": {
        "id": "hT9UtB1d_hrR",
        "colab_type": "text"
      },
      "source": [
        "3.2建構我們的神經網路\n",
        "和以前做迴歸或機器學習一樣，我們就打開一個函數學習機，標準一層一層傳遞的神經網路叫sequential,於是我們打開一個空的神經網路"
      ]
    },
    {
      "cell_type": "code",
      "metadata": {
        "id": "fEJ8MvrW_hrU",
        "colab_type": "code",
        "colab": {
          "base_uri": "https://localhost:8080/",
          "height": 90
        },
        "outputId": "03cbac8a-2070-4fea-840f-c970ca5600ef"
      },
      "source": [
        "model = Sequential()"
      ],
      "execution_count": 21,
      "outputs": [
        {
          "output_type": "stream",
          "text": [
            "WARNING: Logging before flag parsing goes to stderr.\n",
            "W0826 12:55:05.543166 139665265489792 deprecation_wrapper.py:119] From /usr/local/lib/python3.6/dist-packages/keras/backend/tensorflow_backend.py:74: The name tf.get_default_graph is deprecated. Please use tf.compat.v1.get_default_graph instead.\n",
            "\n"
          ],
          "name": "stderr"
        }
      ]
    },
    {
      "cell_type": "markdown",
      "metadata": {
        "id": "-r8if7iq_hrd",
        "colab_type": "text"
      },
      "source": [
        "我們每次用add去加一層，從一個隱藏層開始。而第一個隱藏層因為Keras當然猜不到輸入有幾個features,所以我們要告訴他"
      ]
    },
    {
      "cell_type": "code",
      "metadata": {
        "id": "wt-oV1ix_hri",
        "colab_type": "code",
        "colab": {
          "base_uri": "https://localhost:8080/",
          "height": 108
        },
        "outputId": "2e113ef7-ee91-4daa-a4c3-997ca33d65cb"
      },
      "source": [
        "model.add(Dense(500,input_dim=784))\n"
      ],
      "execution_count": 22,
      "outputs": [
        {
          "output_type": "stream",
          "text": [
            "W0826 12:55:05.601846 139665265489792 deprecation_wrapper.py:119] From /usr/local/lib/python3.6/dist-packages/keras/backend/tensorflow_backend.py:517: The name tf.placeholder is deprecated. Please use tf.compat.v1.placeholder instead.\n",
            "\n",
            "W0826 12:55:05.616751 139665265489792 deprecation_wrapper.py:119] From /usr/local/lib/python3.6/dist-packages/keras/backend/tensorflow_backend.py:4138: The name tf.random_uniform is deprecated. Please use tf.random.uniform instead.\n",
            "\n"
          ],
          "name": "stderr"
        }
      ]
    },
    {
      "cell_type": "code",
      "metadata": {
        "id": "xhr8GmNw_hrr",
        "colab_type": "code",
        "colab": {}
      },
      "source": [
        "model.add(Activation('sigmoid'))\n"
      ],
      "execution_count": 0,
      "outputs": []
    },
    {
      "cell_type": "markdown",
      "metadata": {
        "id": "35RgKUNE_hrz",
        "colab_type": "text"
      },
      "source": [
        "第二層hidden layer 因為前面輸出是500，所以只要一個參數引入"
      ]
    },
    {
      "cell_type": "code",
      "metadata": {
        "id": "GLIVLYFv_hr1",
        "colab_type": "code",
        "colab": {}
      },
      "source": [
        "model.add(Dense(500))\n",
        "model.add(Activation('sigmoid'))"
      ],
      "execution_count": 0,
      "outputs": []
    },
    {
      "cell_type": "markdown",
      "metadata": {
        "id": "CmTGoOCb_hr8",
        "colab_type": "text"
      },
      "source": [
        "輸出有10個數字，所以齣齣的神經元是10\n",
        "我們希望輸出加起來等於1，那這裡用softmax當activation 函數就ok"
      ]
    },
    {
      "cell_type": "code",
      "metadata": {
        "id": "RWi2tuIe_hr-",
        "colab_type": "code",
        "colab": {}
      },
      "source": [
        "model.add(Dense(10))\n",
        "model.add(Activation('softmax'))"
      ],
      "execution_count": 0,
      "outputs": []
    },
    {
      "cell_type": "markdown",
      "metadata": {
        "id": "RN378i4P_hsF",
        "colab_type": "text"
      },
      "source": [
        "至此我們神經網路做完了"
      ]
    },
    {
      "cell_type": "markdown",
      "metadata": {
        "id": "ph8JEvmR_hsI",
        "colab_type": "text"
      },
      "source": [
        "3.3組裝\n",
        "\n",
        "和之前比較不一樣的是我們還要做compile才能正式把我們的神經網路建好，你可以發現我們還需要做幾件事:\n",
        "\n",
        "決定使用的loss function,一般是mse\n",
        "\n",
        "決定optimizer,我們用標準的SGD\n",
        "\n",
        "設learning rate\n",
        "\n",
        "為了一邊訓練一邊看結果，我們加設\n",
        "\n",
        "metrics=['accuracy']"
      ]
    },
    {
      "cell_type": "code",
      "metadata": {
        "id": "Io7Uysxx_hsK",
        "colab_type": "code",
        "colab": {
          "base_uri": "https://localhost:8080/",
          "height": 72
        },
        "outputId": "ba9b0963-becf-4f20-9e0b-be9f56b76902"
      },
      "source": [
        "model.compile(loss='mse',optimizer=SGD(lr=0.1),metrics=['accuracy'])"
      ],
      "execution_count": 26,
      "outputs": [
        {
          "output_type": "stream",
          "text": [
            "W0826 12:55:05.748629 139665265489792 deprecation_wrapper.py:119] From /usr/local/lib/python3.6/dist-packages/keras/optimizers.py:790: The name tf.train.Optimizer is deprecated. Please use tf.compat.v1.train.Optimizer instead.\n",
            "\n"
          ],
          "name": "stderr"
        }
      ]
    },
    {
      "cell_type": "markdown",
      "metadata": {
        "id": "2OMh0GE4_hsV",
        "colab_type": "text"
      },
      "source": [
        "檢視我們的神經網路"
      ]
    },
    {
      "cell_type": "code",
      "metadata": {
        "id": "l0bwb3oN_hsX",
        "colab_type": "code",
        "colab": {
          "base_uri": "https://localhost:8080/",
          "height": 355
        },
        "outputId": "5d378f40-7c90-4c34-9b63-02f830c6901b"
      },
      "source": [
        "model.summary()"
      ],
      "execution_count": 27,
      "outputs": [
        {
          "output_type": "stream",
          "text": [
            "_________________________________________________________________\n",
            "Layer (type)                 Output Shape              Param #   \n",
            "=================================================================\n",
            "dense_1 (Dense)              (None, 500)               392500    \n",
            "_________________________________________________________________\n",
            "activation_1 (Activation)    (None, 500)               0         \n",
            "_________________________________________________________________\n",
            "dense_2 (Dense)              (None, 500)               250500    \n",
            "_________________________________________________________________\n",
            "activation_2 (Activation)    (None, 500)               0         \n",
            "_________________________________________________________________\n",
            "dense_3 (Dense)              (None, 10)                5010      \n",
            "_________________________________________________________________\n",
            "activation_3 (Activation)    (None, 10)                0         \n",
            "=================================================================\n",
            "Total params: 648,010\n",
            "Trainable params: 648,010\n",
            "Non-trainable params: 0\n",
            "_________________________________________________________________\n"
          ],
          "name": "stdout"
        }
      ]
    },
    {
      "cell_type": "code",
      "metadata": {
        "id": "w6pIEKKM_hse",
        "colab_type": "code",
        "colab": {
          "base_uri": "https://localhost:8080/",
          "height": 35
        },
        "outputId": "6f945de4-9a88-41a1-9815-203681338fe3"
      },
      "source": [
        "#392500\n",
        "784*500+500\n"
      ],
      "execution_count": 28,
      "outputs": [
        {
          "output_type": "execute_result",
          "data": {
            "text/plain": [
              "392500"
            ]
          },
          "metadata": {
            "tags": []
          },
          "execution_count": 28
        }
      ]
    },
    {
      "cell_type": "code",
      "metadata": {
        "id": "mJJVsVlN_hsm",
        "colab_type": "code",
        "colab": {
          "base_uri": "https://localhost:8080/",
          "height": 35
        },
        "outputId": "71468c4c-078b-421a-898d-cea914c30df2"
      },
      "source": [
        "#250500 b=500\n",
        "500*500+500"
      ],
      "execution_count": 29,
      "outputs": [
        {
          "output_type": "execute_result",
          "data": {
            "text/plain": [
              "250500"
            ]
          },
          "metadata": {
            "tags": []
          },
          "execution_count": 29
        }
      ]
    },
    {
      "cell_type": "code",
      "metadata": {
        "id": "BzIYsV91_hsx",
        "colab_type": "code",
        "colab": {
          "base_uri": "https://localhost:8080/",
          "height": 35
        },
        "outputId": "13714c8a-9932-4dc4-f6ea-bf5adcddcbab"
      },
      "source": [
        "#500\n",
        "500*10+10"
      ],
      "execution_count": 30,
      "outputs": [
        {
          "output_type": "execute_result",
          "data": {
            "text/plain": [
              "5010"
            ]
          },
          "metadata": {
            "tags": []
          },
          "execution_count": 30
        }
      ]
    },
    {
      "cell_type": "markdown",
      "metadata": {
        "id": "nUrTeJR0_htA",
        "colab_type": "text"
      },
      "source": [
        "5.訓練你的第一個神經網路\n",
        "\n",
        "現在訓練時，不能像以前一樣沒頭沒腦的把訓練資料送進去，這裡我們還有兩件事要做\n",
        "\n",
        "一次要訓練幾筆資料(batch_size),我們就100筆調一次參數\n",
        "\n",
        "這6萬筆資料一共要訓練幾次(epochs)，我們訓練個20次試試"
      ]
    },
    {
      "cell_type": "code",
      "metadata": {
        "id": "96x5f-Rm_htG",
        "colab_type": "code",
        "colab": {
          "base_uri": "https://localhost:8080/",
          "height": 837
        },
        "outputId": "49af106c-44b8-4d8d-b702-0f7145821704"
      },
      "source": [
        "model.fit(x_train,y_train,batch_size=100,epochs=20)"
      ],
      "execution_count": 31,
      "outputs": [
        {
          "output_type": "stream",
          "text": [
            "W0826 12:55:05.998699 139665265489792 deprecation_wrapper.py:119] From /usr/local/lib/python3.6/dist-packages/keras/backend/tensorflow_backend.py:986: The name tf.assign_add is deprecated. Please use tf.compat.v1.assign_add instead.\n",
            "\n",
            "W0826 12:55:06.026197 139665265489792 deprecation_wrapper.py:119] From /usr/local/lib/python3.6/dist-packages/keras/backend/tensorflow_backend.py:973: The name tf.assign is deprecated. Please use tf.compat.v1.assign instead.\n",
            "\n"
          ],
          "name": "stderr"
        },
        {
          "output_type": "stream",
          "text": [
            "Epoch 1/20\n",
            "60000/60000 [==============================] - 8s 138us/step - loss: 0.0812 - acc: 0.3831\n",
            "Epoch 2/20\n",
            "60000/60000 [==============================] - 8s 128us/step - loss: 0.0613 - acc: 0.6238\n",
            "Epoch 3/20\n",
            "60000/60000 [==============================] - 8s 130us/step - loss: 0.0444 - acc: 0.7637\n",
            "Epoch 4/20\n",
            "60000/60000 [==============================] - 8s 128us/step - loss: 0.0324 - acc: 0.8514\n",
            "Epoch 5/20\n",
            "60000/60000 [==============================] - 8s 128us/step - loss: 0.0251 - acc: 0.8765\n",
            "Epoch 6/20\n",
            "60000/60000 [==============================] - 8s 127us/step - loss: 0.0210 - acc: 0.8899\n",
            "Epoch 7/20\n",
            "60000/60000 [==============================] - 8s 126us/step - loss: 0.0184 - acc: 0.8991\n",
            "Epoch 8/20\n",
            "60000/60000 [==============================] - 7s 123us/step - loss: 0.0166 - acc: 0.9065\n",
            "Epoch 9/20\n",
            "60000/60000 [==============================] - 8s 126us/step - loss: 0.0153 - acc: 0.9120\n",
            "Epoch 10/20\n",
            "60000/60000 [==============================] - 8s 128us/step - loss: 0.0143 - acc: 0.9168\n",
            "Epoch 11/20\n",
            "60000/60000 [==============================] - 8s 132us/step - loss: 0.0135 - acc: 0.9213\n",
            "Epoch 12/20\n",
            "60000/60000 [==============================] - 8s 129us/step - loss: 0.0128 - acc: 0.9252\n",
            "Epoch 13/20\n",
            "60000/60000 [==============================] - 8s 128us/step - loss: 0.0122 - acc: 0.9288\n",
            "Epoch 14/20\n",
            "60000/60000 [==============================] - 8s 126us/step - loss: 0.0117 - acc: 0.9317\n",
            "Epoch 15/20\n",
            "60000/60000 [==============================] - 8s 126us/step - loss: 0.0112 - acc: 0.9345\n",
            "Epoch 16/20\n",
            "60000/60000 [==============================] - 8s 126us/step - loss: 0.0107 - acc: 0.9370\n",
            "Epoch 17/20\n",
            "60000/60000 [==============================] - 8s 126us/step - loss: 0.0104 - acc: 0.9388\n",
            "Epoch 18/20\n",
            "60000/60000 [==============================] - 8s 127us/step - loss: 0.0100 - acc: 0.9410\n",
            "Epoch 19/20\n",
            "60000/60000 [==============================] - 7s 121us/step - loss: 0.0097 - acc: 0.9436\n",
            "Epoch 20/20\n",
            "60000/60000 [==============================] - 8s 126us/step - loss: 0.0094 - acc: 0.9448\n"
          ],
          "name": "stdout"
        },
        {
          "output_type": "execute_result",
          "data": {
            "text/plain": [
              "<keras.callbacks.History at 0x7f0636eb31d0>"
            ]
          },
          "metadata": {
            "tags": []
          },
          "execution_count": 31
        }
      ]
    },
    {
      "cell_type": "markdown",
      "metadata": {
        "id": "moay9Klh_htQ",
        "colab_type": "text"
      },
      "source": [
        "我們用一個比較炫的方式來看訓練成果"
      ]
    },
    {
      "cell_type": "code",
      "metadata": {
        "id": "Fyjpk2s7_htS",
        "colab_type": "code",
        "colab": {}
      },
      "source": [
        "from ipywidgets import interact_manual"
      ],
      "execution_count": 0,
      "outputs": []
    },
    {
      "cell_type": "markdown",
      "metadata": {
        "id": "BlEeaSCO_htb",
        "colab_type": "text"
      },
      "source": [
        "predict_classes會讓我們keras選10個輸出機率最大的那類"
      ]
    },
    {
      "cell_type": "code",
      "metadata": {
        "id": "0wJnkiJw_hte",
        "colab_type": "code",
        "colab": {}
      },
      "source": [
        "predict = model.predict_classes(x_test)"
      ],
      "execution_count": 0,
      "outputs": []
    },
    {
      "cell_type": "code",
      "metadata": {
        "id": "ic5bUxtM_htv",
        "colab_type": "code",
        "colab": {}
      },
      "source": [
        "def test(測試):\n",
        "    plt.imshow(x_test[測試].reshape(28,28),cmap=\"Greys\")\n",
        "    print(\"神經網路判斷為:\",predict[測試])"
      ],
      "execution_count": 0,
      "outputs": []
    },
    {
      "cell_type": "code",
      "metadata": {
        "id": "6eLpggqb_ht4",
        "colab_type": "code",
        "colab": {
          "base_uri": "https://localhost:8080/",
          "height": 17
        },
        "outputId": "d65ed2c4-56a5-40bb-eb2a-43e20ddae6ed"
      },
      "source": [
        "interact_manual(test,測試=(0,9999));"
      ],
      "execution_count": 35,
      "outputs": [
        {
          "output_type": "display_data",
          "data": {
            "application/vnd.jupyter.widget-view+json": {
              "model_id": "3aed16b141c44a2389165ae4aab9c39d",
              "version_minor": 0,
              "version_major": 2
            },
            "text/plain": [
              "interactive(children=(IntSlider(value=4999, description='測試', max=9999), Button(description='Run Interact', st…"
            ]
          },
          "metadata": {
            "tags": []
          }
        }
      ]
    },
    {
      "cell_type": "markdown",
      "metadata": {
        "id": "Mn497Cb2_ht_",
        "colab_type": "text"
      },
      "source": [
        "把神經網路存起來\n",
        "\n",
        "之前沒裝pyh5要在終端機下安裝:\n",
        "\n",
        "conda install h5py"
      ]
    },
    {
      "cell_type": "code",
      "metadata": {
        "id": "1UDdhSwL_huC",
        "colab_type": "code",
        "colab": {}
      },
      "source": [
        "model_json =model.to_json()\n",
        "open('handwrite_model.json','w').write(model_json)\n",
        "model.save_weights('handwriting model weights.h5')"
      ],
      "execution_count": 0,
      "outputs": []
    },
    {
      "cell_type": "code",
      "metadata": {
        "id": "dK-04JqV_huK",
        "colab_type": "code",
        "colab": {}
      },
      "source": [
        ""
      ],
      "execution_count": 0,
      "outputs": []
    }
  ]
}