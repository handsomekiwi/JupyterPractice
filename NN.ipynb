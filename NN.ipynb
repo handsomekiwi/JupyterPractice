{
 "cells": [
  {
   "cell_type": "code",
   "execution_count": 1,
   "metadata": {
    "slideshow": {
     "slide_type": "-"
    }
   },
   "outputs": [
    {
     "name": "stderr",
     "output_type": "stream",
     "text": [
      "Using TensorFlow backend.\n"
     ]
    }
   ],
   "source": [
    "import keras"
   ]
  },
  {
   "cell_type": "markdown",
   "metadata": {},
   "source": [
    "目前，Keras 有三个后端实现可用: TensorFlow 后端，Theano 后端，CNTK 后端。\n",
    "\n",
    "TensorFlow 是由 Google 开发的一个开源符号级张量操作框架。\n",
    "Theano 是由蒙特利尔大学的 LISA Lab 开发的一个开源符号级张量操作框架。\n",
    "CNTK 是由微软开发的一个深度学习开源工具包。\n",
    "Cell Type->Markdown是能在這個筆記本中做註解"
   ]
  },
  {
   "cell_type": "code",
   "execution_count": null,
   "metadata": {},
   "outputs": [],
   "source": [
    "%env KERAS_NACKEND=tensorflow"
   ]
  },
  {
   "cell_type": "markdown",
   "metadata": {},
   "source": [
    "%env 可以用來設定環境變數"
   ]
  },
  {
   "cell_type": "code",
   "execution_count": null,
   "metadata": {},
   "outputs": [],
   "source": [
    "%matplotlib inline\n",
    "import numpy as np\n",
    "import matplotlib.pyplot as plt"
   ]
  },
  {
   "cell_type": "code",
   "execution_count": null,
   "metadata": {},
   "outputs": [],
   "source": [
    "from keras.datasets import mnist"
   ]
  },
  {
   "cell_type": "markdown",
   "metadata": {},
   "source": [
    "讀入MNIST資料庫\n",
    "此資料庫有一堆0-9的手寫數字圖庫。有6w筆訓練資料，1萬筆測試資料。他是NIST數據庫的簡化版，MNIST可以說是Deep Learning最有名的範例，他被Deep learning大師 Hinton稱為(機器學習的果蠅)\n",
    "x為輸入，y為答案\n"
   ]
  },
  {
   "cell_type": "code",
   "execution_count": null,
   "metadata": {},
   "outputs": [],
   "source": [
    "(x_train,y_train),(x_test,y_test)=mnist.load_data()\n"
   ]
  },
  {
   "cell_type": "code",
   "execution_count": null,
   "metadata": {},
   "outputs": [],
   "source": [
    "len(x_train)"
   ]
  },
  {
   "cell_type": "code",
   "execution_count": null,
   "metadata": {},
   "outputs": [],
   "source": [
    "len(y_train)\n"
   ]
  },
  {
   "cell_type": "code",
   "execution_count": null,
   "metadata": {},
   "outputs": [],
   "source": [
    "x_train[9487].shape"
   ]
  },
  {
   "cell_type": "markdown",
   "metadata": {},
   "source": [
    "每筆輸入x就是一個手寫的0-9中一個數字的圖檔，大小為28*28。而輸出y當然就是正確答案。來看編號9487訓練資料的大小"
   ]
  },
  {
   "cell_type": "code",
   "execution_count": null,
   "metadata": {},
   "outputs": [],
   "source": [
    "x_train[9487]\n"
   ]
  },
  {
   "cell_type": "code",
   "execution_count": null,
   "metadata": {},
   "outputs": [],
   "source": [
    "plt.imshow(x_train[9487],cmap='Greys')"
   ]
  },
  {
   "cell_type": "code",
   "execution_count": null,
   "metadata": {},
   "outputs": [],
   "source": [
    "y_train[9487]"
   ]
  },
  {
   "cell_type": "markdown",
   "metadata": {},
   "source": [
    "2.3輸入格式整理\n",
    "我們現在要用標準神經網路學手寫辨識，原來的每筆數據為28*28矩陣，但標準神經網路只能輸入平向量，也就是每次要28*28=784長的向量。因此我們要用reshape調整一下"
   ]
  },
  {
   "cell_type": "code",
   "execution_count": null,
   "metadata": {},
   "outputs": [],
   "source": [
    "x_train = x_train.reshape(60000,784)"
   ]
  },
  {
   "cell_type": "code",
   "execution_count": null,
   "metadata": {},
   "outputs": [],
   "source": [
    "x_train.shape"
   ]
  },
  {
   "cell_type": "code",
   "execution_count": null,
   "metadata": {},
   "outputs": [],
   "source": [
    "x_test = x_test.reshape(10000,784)"
   ]
  },
  {
   "cell_type": "code",
   "execution_count": null,
   "metadata": {},
   "outputs": [],
   "source": [
    "x_test.shape"
   ]
  },
  {
   "cell_type": "markdown",
   "metadata": {},
   "source": [
    "2.4輸出格式整理\n",
    "我們可能會想，我們想學的函數是f: R^784->R\n",
    "但神經網路總有誤差 所以可能會得到f(x)=0.5\n",
    "那這意思是可能是0，也有可能是1\n",
    "於是我們會做\"1-hot encoding\",也就是\n",
    "1 ->[0,1,0,0,0,0,0,0,0,0]\n",
    "Keras其實已幫我們準備好套件了"
   ]
  },
  {
   "cell_type": "code",
   "execution_count": null,
   "metadata": {},
   "outputs": [],
   "source": [
    "from keras.utils import np_utils"
   ]
  },
  {
   "cell_type": "code",
   "execution_count": null,
   "metadata": {},
   "outputs": [],
   "source": [
    "y_train = np_utils.to_categorical(y_train,10)"
   ]
  },
  {
   "cell_type": "code",
   "execution_count": null,
   "metadata": {},
   "outputs": [],
   "source": [
    "y_test= np_utils.to_categorical(y_test,10)"
   ]
  },
  {
   "cell_type": "code",
   "execution_count": null,
   "metadata": {},
   "outputs": [],
   "source": [
    "y_train[9487]"
   ]
  },
  {
   "cell_type": "markdown",
   "metadata": {},
   "source": [
    "3.打造地一個神經網路\n",
    "我們決定了我們的函數是f:R^784->R^10\n",
    "我們還要決定要幾個隱藏層，每層要幾個神經元，用哪個機方函數就可以了\n",
    "3.1決定神經網路架構、讀入相關套件\n",
    "假設我們要這麼做\n",
    "使用2個hidden layers\n",
    "每個hidden layer用500個神經元\n",
    "activation function指名用sigmoid\n",
    "於是從keras把相關套件讀入"
   ]
  },
  {
   "cell_type": "code",
   "execution_count": null,
   "metadata": {},
   "outputs": [],
   "source": [
    "from keras.models import Sequential\n",
    "from keras.layers import Dense, Activation\n",
    "from keras.optimizers import SGD"
   ]
  },
  {
   "cell_type": "markdown",
   "metadata": {},
   "source": [
    "dense就是你常用的的全连接层"
   ]
  },
  {
   "cell_type": "markdown",
   "metadata": {},
   "source": [
    "3.2建構我們的神經網路\n",
    "和以前做迴歸或機器學習一樣，我們就打開一個函數學習機，標準一層一層傳遞的神經網路叫sequential,於是我們打開一個空的神經網路"
   ]
  },
  {
   "cell_type": "code",
   "execution_count": null,
   "metadata": {},
   "outputs": [],
   "source": [
    "model = Sequential()"
   ]
  },
  {
   "cell_type": "markdown",
   "metadata": {},
   "source": [
    "我們每次用add去加一層，從一個隱藏層開始。而第一個隱藏層因為Keras當然猜不到輸入有幾個features,所以我們要告訴他"
   ]
  },
  {
   "cell_type": "code",
   "execution_count": null,
   "metadata": {},
   "outputs": [],
   "source": [
    "model.add(Dense(500,input_dim=784))\n"
   ]
  },
  {
   "cell_type": "code",
   "execution_count": null,
   "metadata": {},
   "outputs": [],
   "source": [
    "model.add(Activation('sigmoid'))\n"
   ]
  },
  {
   "cell_type": "markdown",
   "metadata": {},
   "source": [
    "第二層hidden layer 因為前面輸出是500，所以只要一個參數引入"
   ]
  },
  {
   "cell_type": "code",
   "execution_count": null,
   "metadata": {},
   "outputs": [],
   "source": [
    "model.add(Dense(500))\n",
    "model.add(Activation('sigmoid'))"
   ]
  },
  {
   "cell_type": "markdown",
   "metadata": {},
   "source": [
    "輸出有10個數字，所以齣齣的神經元是10\n",
    "我們希望輸出加起來等於1，那這裡用softmax當activation 函數就ok"
   ]
  },
  {
   "cell_type": "code",
   "execution_count": null,
   "metadata": {},
   "outputs": [],
   "source": [
    "model.add(Dense(10))\n",
    "model.add(Activation('softmax'))"
   ]
  },
  {
   "cell_type": "markdown",
   "metadata": {},
   "source": [
    "至此我們神經網路做完了"
   ]
  },
  {
   "cell_type": "markdown",
   "metadata": {},
   "source": [
    "3.3組裝\n",
    "\n",
    "和之前比較不一樣的是我們還要做compile才能正式把我們的神經網路建好，你可以發現我們還需要做幾件事:\n",
    "\n",
    "決定使用的loss function,一般是mse\n",
    "\n",
    "決定optimizer,我們用標準的SGD\n",
    "\n",
    "設learning rate\n",
    "\n",
    "為了一邊訓練一邊看結果，我們加設\n",
    "\n",
    "metrics=['accuracy']"
   ]
  },
  {
   "cell_type": "code",
   "execution_count": null,
   "metadata": {},
   "outputs": [],
   "source": [
    "model.compile(loss='mse',optimizer=SGD(lr=0.1),metrics=['accuracy'])"
   ]
  },
  {
   "cell_type": "markdown",
   "metadata": {},
   "source": [
    "檢視我們的神經網路"
   ]
  },
  {
   "cell_type": "code",
   "execution_count": null,
   "metadata": {},
   "outputs": [],
   "source": [
    "model.summary()"
   ]
  },
  {
   "cell_type": "code",
   "execution_count": null,
   "metadata": {},
   "outputs": [],
   "source": [
    "#392500\n",
    "784*500+500\n"
   ]
  },
  {
   "cell_type": "code",
   "execution_count": null,
   "metadata": {},
   "outputs": [],
   "source": [
    "#250500 b=500\n",
    "500*500+500"
   ]
  },
  {
   "cell_type": "code",
   "execution_count": null,
   "metadata": {},
   "outputs": [],
   "source": [
    "#500\n",
    "500*10+10"
   ]
  },
  {
   "cell_type": "markdown",
   "metadata": {},
   "source": [
    "5.訓練你的第一個神經網路\n",
    "\n",
    "現在訓練時，不能像以前一樣沒頭沒腦的把訓練資料送進去，這裡我們還有兩件事要做\n",
    "\n",
    "一次要訓練幾筆資料(batch_size),我們就100筆調一次參數\n",
    "\n",
    "這6萬筆資料一共要訓練幾次(epochs)，我們訓練個20次試試"
   ]
  },
  {
   "cell_type": "code",
   "execution_count": null,
   "metadata": {},
   "outputs": [],
   "source": [
    "model.fit(x_train,y_train,batch_size=100,epochs=20)"
   ]
  },
  {
   "cell_type": "markdown",
   "metadata": {},
   "source": [
    "我們用一個比較炫的方式來看訓練成果"
   ]
  },
  {
   "cell_type": "code",
   "execution_count": null,
   "metadata": {},
   "outputs": [],
   "source": [
    "from ipywidgets import interact_manual"
   ]
  },
  {
   "cell_type": "markdown",
   "metadata": {},
   "source": [
    "predict_classes會讓我們keras選10個輸出機率最大的那類"
   ]
  },
  {
   "cell_type": "code",
   "execution_count": null,
   "metadata": {},
   "outputs": [],
   "source": [
    "predict = model.predict_classes(x_test)"
   ]
  },
  {
   "cell_type": "code",
   "execution_count": null,
   "metadata": {},
   "outputs": [],
   "source": [
    "def test(測試):\n",
    "    plt.imshow(x_test[測試].reshape(28,28),cmap=\"Greys\")\n",
    "    print(\"神經網路判斷為:\",predict[測試])"
   ]
  },
  {
   "cell_type": "code",
   "execution_count": null,
   "metadata": {},
   "outputs": [],
   "source": [
    "interact_manual(test,測試=(0,9999));"
   ]
  },
  {
   "cell_type": "markdown",
   "metadata": {},
   "source": [
    "把神經網路存起來\n",
    "\n",
    "之前沒裝pyh5要在終端機下安裝:\n",
    "\n",
    "conda install h5py"
   ]
  },
  {
   "cell_type": "code",
   "execution_count": null,
   "metadata": {},
   "outputs": [],
   "source": [
    "model_json =model.to_json()\n",
    "open('handwrite_model.json','w').write(model_json)\n",
    "model.save_weights('handwriting model weights.h5')"
   ]
  },
  {
   "cell_type": "code",
   "execution_count": null,
   "metadata": {},
   "outputs": [],
   "source": []
  }
 ],
 "metadata": {
  "kernelspec": {
   "display_name": "Python 3",
   "language": "python",
   "name": "python3"
  },
  "language_info": {
   "codemirror_mode": {
    "name": "ipython",
    "version": 3
   },
   "file_extension": ".py",
   "mimetype": "text/x-python",
   "name": "python",
   "nbconvert_exporter": "python",
   "pygments_lexer": "ipython3",
   "version": "3.7.3"
  }
 },
 "nbformat": 4,
 "nbformat_minor": 2
}
